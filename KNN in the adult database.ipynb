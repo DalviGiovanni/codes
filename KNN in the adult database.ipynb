{
 "cells": [
  {
   "cell_type": "markdown",
   "id": "90b85001",
   "metadata": {
    "papermill": {
     "duration": 0.025627,
     "end_time": "2022-10-31T02:06:02.936717",
     "exception": false,
     "start_time": "2022-10-31T02:06:02.911090",
     "status": "completed"
    },
    "tags": []
   },
   "source": [
    "Primeiro, importemos algumas bibliotecas úteis:"
   ]
  },
  {
   "cell_type": "code",
   "execution_count": 1,
   "id": "fdb8931e",
   "metadata": {
    "execution": {
     "iopub.execute_input": "2022-10-31T02:06:02.982678Z",
     "iopub.status.busy": "2022-10-31T02:06:02.981574Z",
     "iopub.status.idle": "2022-10-31T02:06:04.103427Z",
     "shell.execute_reply": "2022-10-31T02:06:04.102028Z"
    },
    "papermill": {
     "duration": 1.148575,
     "end_time": "2022-10-31T02:06:04.106712",
     "exception": false,
     "start_time": "2022-10-31T02:06:02.958137",
     "status": "completed"
    },
    "tags": []
   },
   "outputs": [],
   "source": [
    "import pandas as pd\n",
    "import numpy as np\n",
    "import matplotlib.pyplot as plt\n",
    "from sklearn.neighbors import KNeighborsClassifier\n",
    "from sklearn.model_selection import cross_val_score\n",
    "from statistics import mean"
   ]
  },
  {
   "cell_type": "markdown",
   "id": "7eeeb030",
   "metadata": {
    "papermill": {
     "duration": 0.022684,
     "end_time": "2022-10-31T02:06:04.153151",
     "exception": false,
     "start_time": "2022-10-31T02:06:04.130467",
     "status": "completed"
    },
    "tags": []
   },
   "source": [
    "Vamos importar os dados da base adult:"
   ]
  },
  {
   "cell_type": "code",
   "execution_count": 2,
   "id": "46d0993d",
   "metadata": {
    "execution": {
     "iopub.execute_input": "2022-10-31T02:06:04.198416Z",
     "iopub.status.busy": "2022-10-31T02:06:04.197722Z",
     "iopub.status.idle": "2022-10-31T02:06:05.099007Z",
     "shell.execute_reply": "2022-10-31T02:06:05.098012Z"
    },
    "papermill": {
     "duration": 0.927458,
     "end_time": "2022-10-31T02:06:05.102041",
     "exception": false,
     "start_time": "2022-10-31T02:06:04.174583",
     "status": "completed"
    },
    "tags": []
   },
   "outputs": [],
   "source": [
    "treino_adult = pd.read_csv(\"/kaggle/input/adult-pmr3508/train_data.csv\",\n",
    "        sep=r'\\s*,\\s*',\n",
    "        engine='python',\n",
    "        na_values=\"?\")\n",
    "\n",
    "teste_adult = pd.read_csv(\"/kaggle/input/adult-pmr3508/test_data.csv\",\n",
    "        sep=r'\\s*,\\s*',\n",
    "        engine='python',\n",
    "        na_values=\"?\")\n",
    "\n",
    "Y_exemplo = pd.read_csv(\"/kaggle/input/adult-pmr3508/sample_submission.csv\",\n",
    "        sep=r'\\s*,\\s*',\n",
    "        engine='python',\n",
    "        na_values=\"?\")"
   ]
  },
  {
   "cell_type": "markdown",
   "id": "0f5a69a6",
   "metadata": {
    "papermill": {
     "duration": 0.033439,
     "end_time": "2022-10-31T02:06:05.158117",
     "exception": false,
     "start_time": "2022-10-31T02:06:05.124678",
     "status": "completed"
    },
    "tags": []
   },
   "source": [
    "Vamos ver como são as base de dados:"
   ]
  },
  {
   "cell_type": "code",
   "execution_count": 3,
   "id": "bb716512",
   "metadata": {
    "execution": {
     "iopub.execute_input": "2022-10-31T02:06:05.205043Z",
     "iopub.status.busy": "2022-10-31T02:06:05.203990Z",
     "iopub.status.idle": "2022-10-31T02:06:05.233238Z",
     "shell.execute_reply": "2022-10-31T02:06:05.232006Z"
    },
    "papermill": {
     "duration": 0.055662,
     "end_time": "2022-10-31T02:06:05.236576",
     "exception": false,
     "start_time": "2022-10-31T02:06:05.180914",
     "status": "completed"
    },
    "tags": []
   },
   "outputs": [
    {
     "data": {
      "text/html": [
       "<div>\n",
       "<style scoped>\n",
       "    .dataframe tbody tr th:only-of-type {\n",
       "        vertical-align: middle;\n",
       "    }\n",
       "\n",
       "    .dataframe tbody tr th {\n",
       "        vertical-align: top;\n",
       "    }\n",
       "\n",
       "    .dataframe thead th {\n",
       "        text-align: right;\n",
       "    }\n",
       "</style>\n",
       "<table border=\"1\" class=\"dataframe\">\n",
       "  <thead>\n",
       "    <tr style=\"text-align: right;\">\n",
       "      <th></th>\n",
       "      <th>Id</th>\n",
       "      <th>age</th>\n",
       "      <th>workclass</th>\n",
       "      <th>fnlwgt</th>\n",
       "      <th>education</th>\n",
       "      <th>education.num</th>\n",
       "      <th>marital.status</th>\n",
       "      <th>occupation</th>\n",
       "      <th>relationship</th>\n",
       "      <th>race</th>\n",
       "      <th>sex</th>\n",
       "      <th>capital.gain</th>\n",
       "      <th>capital.loss</th>\n",
       "      <th>hours.per.week</th>\n",
       "      <th>native.country</th>\n",
       "      <th>income</th>\n",
       "    </tr>\n",
       "  </thead>\n",
       "  <tbody>\n",
       "    <tr>\n",
       "      <th>0</th>\n",
       "      <td>16280</td>\n",
       "      <td>34</td>\n",
       "      <td>Private</td>\n",
       "      <td>204991</td>\n",
       "      <td>Some-college</td>\n",
       "      <td>10</td>\n",
       "      <td>Divorced</td>\n",
       "      <td>Exec-managerial</td>\n",
       "      <td>Own-child</td>\n",
       "      <td>White</td>\n",
       "      <td>Male</td>\n",
       "      <td>0</td>\n",
       "      <td>0</td>\n",
       "      <td>44</td>\n",
       "      <td>United-States</td>\n",
       "      <td>&lt;=50K</td>\n",
       "    </tr>\n",
       "    <tr>\n",
       "      <th>1</th>\n",
       "      <td>16281</td>\n",
       "      <td>58</td>\n",
       "      <td>Local-gov</td>\n",
       "      <td>310085</td>\n",
       "      <td>10th</td>\n",
       "      <td>6</td>\n",
       "      <td>Married-civ-spouse</td>\n",
       "      <td>Transport-moving</td>\n",
       "      <td>Husband</td>\n",
       "      <td>White</td>\n",
       "      <td>Male</td>\n",
       "      <td>0</td>\n",
       "      <td>0</td>\n",
       "      <td>40</td>\n",
       "      <td>United-States</td>\n",
       "      <td>&lt;=50K</td>\n",
       "    </tr>\n",
       "    <tr>\n",
       "      <th>2</th>\n",
       "      <td>16282</td>\n",
       "      <td>25</td>\n",
       "      <td>Private</td>\n",
       "      <td>146117</td>\n",
       "      <td>Some-college</td>\n",
       "      <td>10</td>\n",
       "      <td>Never-married</td>\n",
       "      <td>Machine-op-inspct</td>\n",
       "      <td>Not-in-family</td>\n",
       "      <td>White</td>\n",
       "      <td>Male</td>\n",
       "      <td>0</td>\n",
       "      <td>0</td>\n",
       "      <td>42</td>\n",
       "      <td>United-States</td>\n",
       "      <td>&lt;=50K</td>\n",
       "    </tr>\n",
       "    <tr>\n",
       "      <th>3</th>\n",
       "      <td>16283</td>\n",
       "      <td>24</td>\n",
       "      <td>Private</td>\n",
       "      <td>138938</td>\n",
       "      <td>Some-college</td>\n",
       "      <td>10</td>\n",
       "      <td>Divorced</td>\n",
       "      <td>Adm-clerical</td>\n",
       "      <td>Not-in-family</td>\n",
       "      <td>White</td>\n",
       "      <td>Female</td>\n",
       "      <td>0</td>\n",
       "      <td>0</td>\n",
       "      <td>40</td>\n",
       "      <td>United-States</td>\n",
       "      <td>&lt;=50K</td>\n",
       "    </tr>\n",
       "    <tr>\n",
       "      <th>4</th>\n",
       "      <td>16284</td>\n",
       "      <td>57</td>\n",
       "      <td>Self-emp-inc</td>\n",
       "      <td>258883</td>\n",
       "      <td>HS-grad</td>\n",
       "      <td>9</td>\n",
       "      <td>Married-civ-spouse</td>\n",
       "      <td>Transport-moving</td>\n",
       "      <td>Husband</td>\n",
       "      <td>White</td>\n",
       "      <td>Male</td>\n",
       "      <td>5178</td>\n",
       "      <td>0</td>\n",
       "      <td>60</td>\n",
       "      <td>Hungary</td>\n",
       "      <td>&gt;50K</td>\n",
       "    </tr>\n",
       "  </tbody>\n",
       "</table>\n",
       "</div>"
      ],
      "text/plain": [
       "      Id  age     workclass  fnlwgt     education  education.num  \\\n",
       "0  16280   34       Private  204991  Some-college             10   \n",
       "1  16281   58     Local-gov  310085          10th              6   \n",
       "2  16282   25       Private  146117  Some-college             10   \n",
       "3  16283   24       Private  138938  Some-college             10   \n",
       "4  16284   57  Self-emp-inc  258883       HS-grad              9   \n",
       "\n",
       "       marital.status         occupation   relationship   race     sex  \\\n",
       "0            Divorced    Exec-managerial      Own-child  White    Male   \n",
       "1  Married-civ-spouse   Transport-moving        Husband  White    Male   \n",
       "2       Never-married  Machine-op-inspct  Not-in-family  White    Male   \n",
       "3            Divorced       Adm-clerical  Not-in-family  White  Female   \n",
       "4  Married-civ-spouse   Transport-moving        Husband  White    Male   \n",
       "\n",
       "   capital.gain  capital.loss  hours.per.week native.country income  \n",
       "0             0             0              44  United-States  <=50K  \n",
       "1             0             0              40  United-States  <=50K  \n",
       "2             0             0              42  United-States  <=50K  \n",
       "3             0             0              40  United-States  <=50K  \n",
       "4          5178             0              60        Hungary   >50K  "
      ]
     },
     "execution_count": 3,
     "metadata": {},
     "output_type": "execute_result"
    }
   ],
   "source": [
    "treino_adult.head()"
   ]
  },
  {
   "cell_type": "code",
   "execution_count": 4,
   "id": "777c2107",
   "metadata": {
    "execution": {
     "iopub.execute_input": "2022-10-31T02:06:05.283734Z",
     "iopub.status.busy": "2022-10-31T02:06:05.283279Z",
     "iopub.status.idle": "2022-10-31T02:06:05.289765Z",
     "shell.execute_reply": "2022-10-31T02:06:05.288866Z"
    },
    "papermill": {
     "duration": 0.033867,
     "end_time": "2022-10-31T02:06:05.291916",
     "exception": false,
     "start_time": "2022-10-31T02:06:05.258049",
     "status": "completed"
    },
    "tags": []
   },
   "outputs": [
    {
     "data": {
      "text/plain": [
       "(32560, 16)"
      ]
     },
     "execution_count": 4,
     "metadata": {},
     "output_type": "execute_result"
    }
   ],
   "source": [
    "treino_adult.shape\n"
   ]
  },
  {
   "cell_type": "code",
   "execution_count": 5,
   "id": "8d64990b",
   "metadata": {
    "execution": {
     "iopub.execute_input": "2022-10-31T02:06:05.338434Z",
     "iopub.status.busy": "2022-10-31T02:06:05.337390Z",
     "iopub.status.idle": "2022-10-31T02:06:05.355491Z",
     "shell.execute_reply": "2022-10-31T02:06:05.354241Z"
    },
    "papermill": {
     "duration": 0.044084,
     "end_time": "2022-10-31T02:06:05.358337",
     "exception": false,
     "start_time": "2022-10-31T02:06:05.314253",
     "status": "completed"
    },
    "tags": []
   },
   "outputs": [
    {
     "data": {
      "text/html": [
       "<div>\n",
       "<style scoped>\n",
       "    .dataframe tbody tr th:only-of-type {\n",
       "        vertical-align: middle;\n",
       "    }\n",
       "\n",
       "    .dataframe tbody tr th {\n",
       "        vertical-align: top;\n",
       "    }\n",
       "\n",
       "    .dataframe thead th {\n",
       "        text-align: right;\n",
       "    }\n",
       "</style>\n",
       "<table border=\"1\" class=\"dataframe\">\n",
       "  <thead>\n",
       "    <tr style=\"text-align: right;\">\n",
       "      <th></th>\n",
       "      <th>Id</th>\n",
       "      <th>age</th>\n",
       "      <th>workclass</th>\n",
       "      <th>fnlwgt</th>\n",
       "      <th>education</th>\n",
       "      <th>education.num</th>\n",
       "      <th>marital.status</th>\n",
       "      <th>occupation</th>\n",
       "      <th>relationship</th>\n",
       "      <th>race</th>\n",
       "      <th>sex</th>\n",
       "      <th>capital.gain</th>\n",
       "      <th>capital.loss</th>\n",
       "      <th>hours.per.week</th>\n",
       "      <th>native.country</th>\n",
       "    </tr>\n",
       "  </thead>\n",
       "  <tbody>\n",
       "    <tr>\n",
       "      <th>0</th>\n",
       "      <td>0</td>\n",
       "      <td>25</td>\n",
       "      <td>Private</td>\n",
       "      <td>120596</td>\n",
       "      <td>Bachelors</td>\n",
       "      <td>13</td>\n",
       "      <td>Never-married</td>\n",
       "      <td>Prof-specialty</td>\n",
       "      <td>Not-in-family</td>\n",
       "      <td>White</td>\n",
       "      <td>Male</td>\n",
       "      <td>0</td>\n",
       "      <td>0</td>\n",
       "      <td>44</td>\n",
       "      <td>United-States</td>\n",
       "    </tr>\n",
       "    <tr>\n",
       "      <th>1</th>\n",
       "      <td>1</td>\n",
       "      <td>64</td>\n",
       "      <td>State-gov</td>\n",
       "      <td>152537</td>\n",
       "      <td>Bachelors</td>\n",
       "      <td>13</td>\n",
       "      <td>Married-civ-spouse</td>\n",
       "      <td>Exec-managerial</td>\n",
       "      <td>Husband</td>\n",
       "      <td>White</td>\n",
       "      <td>Male</td>\n",
       "      <td>0</td>\n",
       "      <td>0</td>\n",
       "      <td>45</td>\n",
       "      <td>United-States</td>\n",
       "    </tr>\n",
       "    <tr>\n",
       "      <th>2</th>\n",
       "      <td>2</td>\n",
       "      <td>31</td>\n",
       "      <td>Private</td>\n",
       "      <td>100135</td>\n",
       "      <td>Masters</td>\n",
       "      <td>14</td>\n",
       "      <td>Divorced</td>\n",
       "      <td>Exec-managerial</td>\n",
       "      <td>Not-in-family</td>\n",
       "      <td>White</td>\n",
       "      <td>Female</td>\n",
       "      <td>0</td>\n",
       "      <td>0</td>\n",
       "      <td>40</td>\n",
       "      <td>United-States</td>\n",
       "    </tr>\n",
       "    <tr>\n",
       "      <th>3</th>\n",
       "      <td>3</td>\n",
       "      <td>45</td>\n",
       "      <td>Private</td>\n",
       "      <td>189123</td>\n",
       "      <td>HS-grad</td>\n",
       "      <td>9</td>\n",
       "      <td>Never-married</td>\n",
       "      <td>Machine-op-inspct</td>\n",
       "      <td>Own-child</td>\n",
       "      <td>White</td>\n",
       "      <td>Male</td>\n",
       "      <td>0</td>\n",
       "      <td>0</td>\n",
       "      <td>40</td>\n",
       "      <td>United-States</td>\n",
       "    </tr>\n",
       "    <tr>\n",
       "      <th>4</th>\n",
       "      <td>4</td>\n",
       "      <td>64</td>\n",
       "      <td>Self-emp-inc</td>\n",
       "      <td>487751</td>\n",
       "      <td>Bachelors</td>\n",
       "      <td>13</td>\n",
       "      <td>Married-civ-spouse</td>\n",
       "      <td>Exec-managerial</td>\n",
       "      <td>Husband</td>\n",
       "      <td>White</td>\n",
       "      <td>Male</td>\n",
       "      <td>0</td>\n",
       "      <td>0</td>\n",
       "      <td>50</td>\n",
       "      <td>United-States</td>\n",
       "    </tr>\n",
       "  </tbody>\n",
       "</table>\n",
       "</div>"
      ],
      "text/plain": [
       "   Id  age     workclass  fnlwgt  education  education.num  \\\n",
       "0   0   25       Private  120596  Bachelors             13   \n",
       "1   1   64     State-gov  152537  Bachelors             13   \n",
       "2   2   31       Private  100135    Masters             14   \n",
       "3   3   45       Private  189123    HS-grad              9   \n",
       "4   4   64  Self-emp-inc  487751  Bachelors             13   \n",
       "\n",
       "       marital.status         occupation   relationship   race     sex  \\\n",
       "0       Never-married     Prof-specialty  Not-in-family  White    Male   \n",
       "1  Married-civ-spouse    Exec-managerial        Husband  White    Male   \n",
       "2            Divorced    Exec-managerial  Not-in-family  White  Female   \n",
       "3       Never-married  Machine-op-inspct      Own-child  White    Male   \n",
       "4  Married-civ-spouse    Exec-managerial        Husband  White    Male   \n",
       "\n",
       "   capital.gain  capital.loss  hours.per.week native.country  \n",
       "0             0             0              44  United-States  \n",
       "1             0             0              45  United-States  \n",
       "2             0             0              40  United-States  \n",
       "3             0             0              40  United-States  \n",
       "4             0             0              50  United-States  "
      ]
     },
     "execution_count": 5,
     "metadata": {},
     "output_type": "execute_result"
    }
   ],
   "source": [
    "teste_adult.head()"
   ]
  },
  {
   "cell_type": "code",
   "execution_count": 6,
   "id": "2bb1c3eb",
   "metadata": {
    "execution": {
     "iopub.execute_input": "2022-10-31T02:06:05.404686Z",
     "iopub.status.busy": "2022-10-31T02:06:05.404213Z",
     "iopub.status.idle": "2022-10-31T02:06:05.411145Z",
     "shell.execute_reply": "2022-10-31T02:06:05.410158Z"
    },
    "papermill": {
     "duration": 0.032942,
     "end_time": "2022-10-31T02:06:05.413401",
     "exception": false,
     "start_time": "2022-10-31T02:06:05.380459",
     "status": "completed"
    },
    "tags": []
   },
   "outputs": [
    {
     "data": {
      "text/plain": [
       "(16280, 15)"
      ]
     },
     "execution_count": 6,
     "metadata": {},
     "output_type": "execute_result"
    }
   ],
   "source": [
    "teste_adult.shape"
   ]
  },
  {
   "cell_type": "markdown",
   "id": "18bfa192",
   "metadata": {
    "papermill": {
     "duration": 0.021222,
     "end_time": "2022-10-31T02:06:05.456573",
     "exception": false,
     "start_time": "2022-10-31T02:06:05.435351",
     "status": "completed"
    },
    "tags": []
   },
   "source": [
    "Vamos produzir um histograma da variável idade, dessa forma podemos buscar por outliers ou analisar possíveis más distribuições de dados."
   ]
  },
  {
   "cell_type": "code",
   "execution_count": 7,
   "id": "ecc05dc2",
   "metadata": {
    "execution": {
     "iopub.execute_input": "2022-10-31T02:06:05.502206Z",
     "iopub.status.busy": "2022-10-31T02:06:05.501519Z",
     "iopub.status.idle": "2022-10-31T02:06:05.937494Z",
     "shell.execute_reply": "2022-10-31T02:06:05.936467Z"
    },
    "papermill": {
     "duration": 0.461636,
     "end_time": "2022-10-31T02:06:05.939832",
     "exception": false,
     "start_time": "2022-10-31T02:06:05.478196",
     "status": "completed"
    },
    "tags": []
   },
   "outputs": [
    {
     "data": {
      "text/plain": [
       "(array([2410., 3160., 2461., 3429., 3465., 2583., 3197., 2965., 1828.,\n",
       "        2139., 1558., 1033.,  996.,  599.,  269.,  227.,  120.,   54.,\n",
       "          20.,   47.]),\n",
       " array([17.  , 20.65, 24.3 , 27.95, 31.6 , 35.25, 38.9 , 42.55, 46.2 ,\n",
       "        49.85, 53.5 , 57.15, 60.8 , 64.45, 68.1 , 71.75, 75.4 , 79.05,\n",
       "        82.7 , 86.35, 90.  ]),\n",
       " <BarContainer object of 20 artists>)"
      ]
     },
     "execution_count": 7,
     "metadata": {},
     "output_type": "execute_result"
    },
    {
     "data": {
      "image/png": "[encoded data removed]",
      "text/plain": [
       "<Figure size 432x288 with 1 Axes>"
      ]
     },
     "metadata": {
      "needs_background": "light"
     },
     "output_type": "display_data"
    }
   ],
   "source": [
    "plt.xlabel('Idades')\n",
    "plt.ylabel('Número de Ocorrências')\n",
    "plt.title('Histograma das idades')\n",
    "plt.hist(treino_adult[\"age\"],20)"
   ]
  },
  {
   "cell_type": "markdown",
   "id": "102cfc6d",
   "metadata": {
    "papermill": {
     "duration": 0.022219,
     "end_time": "2022-10-31T02:06:05.985081",
     "exception": false,
     "start_time": "2022-10-31T02:06:05.962862",
     "status": "completed"
    },
    "tags": []
   },
   "source": [
    "Não há nenhum dado absurdo, como uma idade de 150 ou negativa. Contudo, há maior incidência de menores idades, isso causará impacto nos resultados, pois alguns estudos correlacionam maior experiência no mercado de trabalho com maiores salários. A distribuição encontrada dialoga bem com a estrutura etária da população de países desenvolvidos nos anos 90 e parece correta."
   ]
  },
  {
   "cell_type": "markdown",
   "id": "47d76d00",
   "metadata": {
    "papermill": {
     "duration": 0.022201,
     "end_time": "2022-10-31T02:06:06.030468",
     "exception": false,
     "start_time": "2022-10-31T02:06:06.008267",
     "status": "completed"
    },
    "tags": []
   },
   "source": [
    "Agora vamos analisar o número de anos de estudo e, novamente, procurar possíveis erros:"
   ]
  },
  {
   "cell_type": "code",
   "execution_count": 8,
   "id": "0d0c214f",
   "metadata": {
    "execution": {
     "iopub.execute_input": "2022-10-31T02:06:06.079610Z",
     "iopub.status.busy": "2022-10-31T02:06:06.078151Z",
     "iopub.status.idle": "2022-10-31T02:06:06.358497Z",
     "shell.execute_reply": "2022-10-31T02:06:06.357571Z"
    },
    "papermill": {
     "duration": 0.308973,
     "end_time": "2022-10-31T02:06:06.361976",
     "exception": false,
     "start_time": "2022-10-31T02:06:06.053003",
     "status": "completed"
    },
    "tags": []
   },
   "outputs": [
    {
     "data": {
      "text/plain": [
       "(array([   51.,   168.,   333.,   646.,   514.,   933.,  1175.,   433.,\n",
       "        10501.,  7291.,  1382.,  1067.,  5354.,  1723.,   576.,   413.]),\n",
       " array([ 1.    ,  1.9375,  2.875 ,  3.8125,  4.75  ,  5.6875,  6.625 ,\n",
       "         7.5625,  8.5   ,  9.4375, 10.375 , 11.3125, 12.25  , 13.1875,\n",
       "        14.125 , 15.0625, 16.    ]),\n",
       " <BarContainer object of 16 artists>)"
      ]
     },
     "execution_count": 8,
     "metadata": {},
     "output_type": "execute_result"
    },
    {
     "data": {
      "image/png": "[encoded data removed]",
      "text/plain": [
       "<Figure size 432x288 with 1 Axes>"
      ]
     },
     "metadata": {
      "needs_background": "light"
     },
     "output_type": "display_data"
    }
   ],
   "source": [
    "plt.xlabel('Anos de Estudo')\n",
    "plt.ylabel('Número de Ocorrências')\n",
    "plt.title('Histograma dos anos de estudo')\n",
    "plt.hist(treino_adult[\"education.num\"],16)"
   ]
  },
  {
   "cell_type": "markdown",
   "id": "2f17ae2c",
   "metadata": {
    "papermill": {
     "duration": 0.023398,
     "end_time": "2022-10-31T02:06:06.412593",
     "exception": false,
     "start_time": "2022-10-31T02:06:06.389195",
     "status": "completed"
    },
    "tags": []
   },
   "source": [
    "Vemos uma clara tendência a maiores anos de estudo, isso é esperado em países desenvolvidos, assim há bem maior número de pessoas com 9 ou mais anos de estudo."
   ]
  },
  {
   "cell_type": "markdown",
   "id": "3deafc19",
   "metadata": {
    "papermill": {
     "duration": 0.023354,
     "end_time": "2022-10-31T02:06:06.459921",
     "exception": false,
     "start_time": "2022-10-31T02:06:06.436567",
     "status": "completed"
    },
    "tags": []
   },
   "source": [
    "Agora vamos analisar os dados concernentes a horas trabalhadas por semana, uma visão preliminar da tabela parece indicar maior tendência a 40 horas semanais."
   ]
  },
  {
   "cell_type": "code",
   "execution_count": 9,
   "id": "1fe27145",
   "metadata": {
    "execution": {
     "iopub.execute_input": "2022-10-31T02:06:06.508534Z",
     "iopub.status.busy": "2022-10-31T02:06:06.508052Z",
     "iopub.status.idle": "2022-10-31T02:06:06.782123Z",
     "shell.execute_reply": "2022-10-31T02:06:06.780752Z"
    },
    "papermill": {
     "duration": 0.301798,
     "end_time": "2022-10-31T02:06:06.785146",
     "exception": false,
     "start_time": "2022-10-31T02:06:06.483348",
     "status": "completed"
    },
    "tags": []
   },
   "outputs": [
    {
     "data": {
      "text/plain": [
       "(array([  205.,   531.,   645.,  1547.,  1015.,  1302.,  1635., 16099.,\n",
       "         2442.,   677.,  3036.,   841.,  1519.,   277.,   365.,    83.,\n",
       "          182.,    20.,    34.,   105.]),\n",
       " array([ 1. ,  5.9, 10.8, 15.7, 20.6, 25.5, 30.4, 35.3, 40.2, 45.1, 50. ,\n",
       "        54.9, 59.8, 64.7, 69.6, 74.5, 79.4, 84.3, 89.2, 94.1, 99. ]),\n",
       " <BarContainer object of 20 artists>)"
      ]
     },
     "execution_count": 9,
     "metadata": {},
     "output_type": "execute_result"
    },
    {
     "data": {
      "image/png": "[encoded data removed]",
      "text/plain": [
       "<Figure size 432x288 with 1 Axes>"
      ]
     },
     "metadata": {
      "needs_background": "light"
     },
     "output_type": "display_data"
    }
   ],
   "source": [
    "plt.xlabel('Horas trabalhadas')\n",
    "plt.ylabel('Número de Ocorrências')\n",
    "plt.title('Horas de Trabalho semanais')\n",
    "plt.hist(treino_adult[\"hours.per.week\"],20)"
   ]
  },
  {
   "cell_type": "markdown",
   "id": "d9cbbbc3",
   "metadata": {
    "papermill": {
     "duration": 0.024822,
     "end_time": "2022-10-31T02:06:06.833555",
     "exception": false,
     "start_time": "2022-10-31T02:06:06.808733",
     "status": "completed"
    },
    "tags": []
   },
   "source": [
    "Existem alguns dados um pouco estranhos, com um indivíduo trabalhando quase 100 h semanais, vamos ver esse dado mais de perto."
   ]
  },
  {
   "cell_type": "code",
   "execution_count": 10,
   "id": "c5f271b9",
   "metadata": {
    "execution": {
     "iopub.execute_input": "2022-10-31T02:06:06.882423Z",
     "iopub.status.busy": "2022-10-31T02:06:06.881930Z",
     "iopub.status.idle": "2022-10-31T02:06:06.893773Z",
     "shell.execute_reply": "2022-10-31T02:06:06.892479Z"
    },
    "papermill": {
     "duration": 0.038995,
     "end_time": "2022-10-31T02:06:06.896084",
     "exception": false,
     "start_time": "2022-10-31T02:06:06.857089",
     "status": "completed"
    },
    "tags": []
   },
   "outputs": [
    {
     "data": {
      "text/plain": [
       "99"
      ]
     },
     "execution_count": 10,
     "metadata": {},
     "output_type": "execute_result"
    }
   ],
   "source": [
    "max(treino_adult[\"hours.per.week\"])"
   ]
  },
  {
   "cell_type": "markdown",
   "id": "ec15bf62",
   "metadata": {
    "papermill": {
     "duration": 0.024463,
     "end_time": "2022-10-31T02:06:06.944517",
     "exception": false,
     "start_time": "2022-10-31T02:06:06.920054",
     "status": "completed"
    },
    "tags": []
   },
   "source": [
    "Apesar de estranho, esse dado não pode ser considerado um outlier, pois é, de fato, possível trabalhar 99 h semanais, dessa forma não retirarei tal dado."
   ]
  },
  {
   "cell_type": "markdown",
   "id": "4e85f0eb",
   "metadata": {
    "papermill": {
     "duration": 0.023413,
     "end_time": "2022-10-31T02:06:06.991935",
     "exception": false,
     "start_time": "2022-10-31T02:06:06.968522",
     "status": "completed"
    },
    "tags": []
   },
   "source": [
    "Vamos passar a engenharia de dados. Primeiro com o país:"
   ]
  },
  {
   "cell_type": "code",
   "execution_count": 11,
   "id": "a5082b6e",
   "metadata": {
    "execution": {
     "iopub.execute_input": "2022-10-31T02:06:07.042952Z",
     "iopub.status.busy": "2022-10-31T02:06:07.042504Z",
     "iopub.status.idle": "2022-10-31T02:06:07.056982Z",
     "shell.execute_reply": "2022-10-31T02:06:07.055465Z"
    },
    "papermill": {
     "duration": 0.043218,
     "end_time": "2022-10-31T02:06:07.059732",
     "exception": false,
     "start_time": "2022-10-31T02:06:07.016514",
     "status": "completed"
    },
    "scrolled": true,
    "tags": []
   },
   "outputs": [
    {
     "data": {
      "text/plain": [
       "United-States                 29169\n",
       "Mexico                          643\n",
       "Philippines                     198\n",
       "Germany                         137\n",
       "Canada                          121\n",
       "Puerto-Rico                     114\n",
       "El-Salvador                     106\n",
       "India                           100\n",
       "Cuba                             95\n",
       "England                          90\n",
       "Jamaica                          81\n",
       "South                            80\n",
       "China                            75\n",
       "Italy                            73\n",
       "Dominican-Republic               70\n",
       "Vietnam                          67\n",
       "Guatemala                        64\n",
       "Japan                            62\n",
       "Poland                           60\n",
       "Columbia                         59\n",
       "Taiwan                           51\n",
       "Haiti                            44\n",
       "Iran                             43\n",
       "Portugal                         37\n",
       "Nicaragua                        34\n",
       "Peru                             31\n",
       "France                           29\n",
       "Greece                           29\n",
       "Ecuador                          28\n",
       "Ireland                          24\n",
       "Hong                             20\n",
       "Cambodia                         19\n",
       "Trinadad&Tobago                  19\n",
       "Thailand                         18\n",
       "Laos                             18\n",
       "Yugoslavia                       16\n",
       "Outlying-US(Guam-USVI-etc)       14\n",
       "Hungary                          13\n",
       "Honduras                         13\n",
       "Scotland                         12\n",
       "Holand-Netherlands                1\n",
       "Name: native.country, dtype: int64"
      ]
     },
     "execution_count": 11,
     "metadata": {},
     "output_type": "execute_result"
    }
   ],
   "source": [
    "treino_adult[\"native.country\"].value_counts()"
   ]
  },
  {
   "cell_type": "markdown",
   "id": "0e979a2d",
   "metadata": {
    "papermill": {
     "duration": 0.023507,
     "end_time": "2022-10-31T02:06:07.107476",
     "exception": false,
     "start_time": "2022-10-31T02:06:07.083969",
     "status": "completed"
    },
    "tags": []
   },
   "source": [
    "Precisamos tentar quantificar quanto seu país de origem influencia na sua renda. Podemos fazer uma divisão baseada em países parecidos aos Estados Unidos e países mais distintos, em relação à renda. Ou seja, unirei os dados relativos à United-States, Germany, Canada, England, Italy, Japan, Portugal, France, Ireland, Hong, Outlying-US, Scotland e Holand-Netherlands, aos quais atribuirei valor 1 e aos outros atribuirei valor 0, inclusive caso não se saiba o país de origem. A ideia seria dividir os países entre desenvolvidos e em desenvolvimento."
   ]
  },
  {
   "cell_type": "markdown",
   "id": "dbb60961",
   "metadata": {
    "papermill": {
     "duration": 0.023319,
     "end_time": "2022-10-31T02:06:07.154360",
     "exception": false,
     "start_time": "2022-10-31T02:06:07.131041",
     "status": "completed"
    },
    "tags": []
   },
   "source": [
    "Primeiro façamos isso para a base de treino:"
   ]
  },
  {
   "cell_type": "code",
   "execution_count": 12,
   "id": "2102e494",
   "metadata": {
    "execution": {
     "iopub.execute_input": "2022-10-31T02:06:07.203433Z",
     "iopub.status.busy": "2022-10-31T02:06:07.202935Z",
     "iopub.status.idle": "2022-10-31T02:06:20.372264Z",
     "shell.execute_reply": "2022-10-31T02:06:20.371108Z"
    },
    "papermill": {
     "duration": 13.19781,
     "end_time": "2022-10-31T02:06:20.375749",
     "exception": false,
     "start_time": "2022-10-31T02:06:07.177939",
     "status": "completed"
    },
    "tags": []
   },
   "outputs": [
    {
     "name": "stderr",
     "output_type": "stream",
     "text": [
      "/opt/conda/lib/python3.7/site-packages/ipykernel_launcher.py:4: SettingWithCopyWarning: \n",
      "A value is trying to be set on a copy of a slice from a DataFrame\n",
      "\n",
      "See the caveats in the documentation: https://pandas.pydata.org/pandas-docs/stable/user_guide/indexing.html#returning-a-view-versus-a-copy\n",
      "  after removing the cwd from sys.path.\n",
      "/opt/conda/lib/python3.7/site-packages/ipykernel_launcher.py:6: SettingWithCopyWarning: \n",
      "A value is trying to be set on a copy of a slice from a DataFrame\n",
      "\n",
      "See the caveats in the documentation: https://pandas.pydata.org/pandas-docs/stable/user_guide/indexing.html#returning-a-view-versus-a-copy\n",
      "  \n"
     ]
    }
   ],
   "source": [
    "n=0\n",
    "for x in treino_adult[\"native.country\"]:\n",
    "    if x in {'United-States', 'Germany', 'Canada', 'England', 'Italy', 'Japan', 'Portugal', 'France', 'Ireland', 'Hong','Outlying-US(Guam-USVI-etc)', 'Scotland','Holand-Netherlands'}:\n",
    "        treino_adult['native.country'][n] = 1\n",
    "    else:\n",
    "        treino_adult['native.country'][n] = 0\n",
    "    n=n+1"
   ]
  },
  {
   "cell_type": "code",
   "execution_count": 13,
   "id": "cee165ea",
   "metadata": {
    "execution": {
     "iopub.execute_input": "2022-10-31T02:06:20.426013Z",
     "iopub.status.busy": "2022-10-31T02:06:20.425064Z",
     "iopub.status.idle": "2022-10-31T02:06:20.443164Z",
     "shell.execute_reply": "2022-10-31T02:06:20.441967Z"
    },
    "papermill": {
     "duration": 0.04579,
     "end_time": "2022-10-31T02:06:20.445749",
     "exception": false,
     "start_time": "2022-10-31T02:06:20.399959",
     "status": "completed"
    },
    "tags": []
   },
   "outputs": [
    {
     "data": {
      "text/html": [
       "<div>\n",
       "<style scoped>\n",
       "    .dataframe tbody tr th:only-of-type {\n",
       "        vertical-align: middle;\n",
       "    }\n",
       "\n",
       "    .dataframe tbody tr th {\n",
       "        vertical-align: top;\n",
       "    }\n",
       "\n",
       "    .dataframe thead th {\n",
       "        text-align: right;\n",
       "    }\n",
       "</style>\n",
       "<table border=\"1\" class=\"dataframe\">\n",
       "  <thead>\n",
       "    <tr style=\"text-align: right;\">\n",
       "      <th></th>\n",
       "      <th>Id</th>\n",
       "      <th>age</th>\n",
       "      <th>workclass</th>\n",
       "      <th>fnlwgt</th>\n",
       "      <th>education</th>\n",
       "      <th>education.num</th>\n",
       "      <th>marital.status</th>\n",
       "      <th>occupation</th>\n",
       "      <th>relationship</th>\n",
       "      <th>race</th>\n",
       "      <th>sex</th>\n",
       "      <th>capital.gain</th>\n",
       "      <th>capital.loss</th>\n",
       "      <th>hours.per.week</th>\n",
       "      <th>native.country</th>\n",
       "      <th>income</th>\n",
       "    </tr>\n",
       "  </thead>\n",
       "  <tbody>\n",
       "    <tr>\n",
       "      <th>0</th>\n",
       "      <td>16280</td>\n",
       "      <td>34</td>\n",
       "      <td>Private</td>\n",
       "      <td>204991</td>\n",
       "      <td>Some-college</td>\n",
       "      <td>10</td>\n",
       "      <td>Divorced</td>\n",
       "      <td>Exec-managerial</td>\n",
       "      <td>Own-child</td>\n",
       "      <td>White</td>\n",
       "      <td>Male</td>\n",
       "      <td>0</td>\n",
       "      <td>0</td>\n",
       "      <td>44</td>\n",
       "      <td>1</td>\n",
       "      <td>&lt;=50K</td>\n",
       "    </tr>\n",
       "    <tr>\n",
       "      <th>1</th>\n",
       "      <td>16281</td>\n",
       "      <td>58</td>\n",
       "      <td>Local-gov</td>\n",
       "      <td>310085</td>\n",
       "      <td>10th</td>\n",
       "      <td>6</td>\n",
       "      <td>Married-civ-spouse</td>\n",
       "      <td>Transport-moving</td>\n",
       "      <td>Husband</td>\n",
       "      <td>White</td>\n",
       "      <td>Male</td>\n",
       "      <td>0</td>\n",
       "      <td>0</td>\n",
       "      <td>40</td>\n",
       "      <td>1</td>\n",
       "      <td>&lt;=50K</td>\n",
       "    </tr>\n",
       "    <tr>\n",
       "      <th>2</th>\n",
       "      <td>16282</td>\n",
       "      <td>25</td>\n",
       "      <td>Private</td>\n",
       "      <td>146117</td>\n",
       "      <td>Some-college</td>\n",
       "      <td>10</td>\n",
       "      <td>Never-married</td>\n",
       "      <td>Machine-op-inspct</td>\n",
       "      <td>Not-in-family</td>\n",
       "      <td>White</td>\n",
       "      <td>Male</td>\n",
       "      <td>0</td>\n",
       "      <td>0</td>\n",
       "      <td>42</td>\n",
       "      <td>1</td>\n",
       "      <td>&lt;=50K</td>\n",
       "    </tr>\n",
       "    <tr>\n",
       "      <th>3</th>\n",
       "      <td>16283</td>\n",
       "      <td>24</td>\n",
       "      <td>Private</td>\n",
       "      <td>138938</td>\n",
       "      <td>Some-college</td>\n",
       "      <td>10</td>\n",
       "      <td>Divorced</td>\n",
       "      <td>Adm-clerical</td>\n",
       "      <td>Not-in-family</td>\n",
       "      <td>White</td>\n",
       "      <td>Female</td>\n",
       "      <td>0</td>\n",
       "      <td>0</td>\n",
       "      <td>40</td>\n",
       "      <td>1</td>\n",
       "      <td>&lt;=50K</td>\n",
       "    </tr>\n",
       "    <tr>\n",
       "      <th>4</th>\n",
       "      <td>16284</td>\n",
       "      <td>57</td>\n",
       "      <td>Self-emp-inc</td>\n",
       "      <td>258883</td>\n",
       "      <td>HS-grad</td>\n",
       "      <td>9</td>\n",
       "      <td>Married-civ-spouse</td>\n",
       "      <td>Transport-moving</td>\n",
       "      <td>Husband</td>\n",
       "      <td>White</td>\n",
       "      <td>Male</td>\n",
       "      <td>5178</td>\n",
       "      <td>0</td>\n",
       "      <td>60</td>\n",
       "      <td>0</td>\n",
       "      <td>&gt;50K</td>\n",
       "    </tr>\n",
       "  </tbody>\n",
       "</table>\n",
       "</div>"
      ],
      "text/plain": [
       "      Id  age     workclass  fnlwgt     education  education.num  \\\n",
       "0  16280   34       Private  204991  Some-college             10   \n",
       "1  16281   58     Local-gov  310085          10th              6   \n",
       "2  16282   25       Private  146117  Some-college             10   \n",
       "3  16283   24       Private  138938  Some-college             10   \n",
       "4  16284   57  Self-emp-inc  258883       HS-grad              9   \n",
       "\n",
       "       marital.status         occupation   relationship   race     sex  \\\n",
       "0            Divorced    Exec-managerial      Own-child  White    Male   \n",
       "1  Married-civ-spouse   Transport-moving        Husband  White    Male   \n",
       "2       Never-married  Machine-op-inspct  Not-in-family  White    Male   \n",
       "3            Divorced       Adm-clerical  Not-in-family  White  Female   \n",
       "4  Married-civ-spouse   Transport-moving        Husband  White    Male   \n",
       "\n",
       "   capital.gain  capital.loss  hours.per.week native.country income  \n",
       "0             0             0              44              1  <=50K  \n",
       "1             0             0              40              1  <=50K  \n",
       "2             0             0              42              1  <=50K  \n",
       "3             0             0              40              1  <=50K  \n",
       "4          5178             0              60              0   >50K  "
      ]
     },
     "execution_count": 13,
     "metadata": {},
     "output_type": "execute_result"
    }
   ],
   "source": [
    "treino_adult.head()"
   ]
  },
  {
   "cell_type": "markdown",
   "id": "aba8c61e",
   "metadata": {
    "papermill": {
     "duration": 0.02444,
     "end_time": "2022-10-31T02:06:20.493959",
     "exception": false,
     "start_time": "2022-10-31T02:06:20.469519",
     "status": "completed"
    },
    "tags": []
   },
   "source": [
    "A seguir façamos o mesmo processo para a base de teste:"
   ]
  },
  {
   "cell_type": "code",
   "execution_count": 14,
   "id": "f161e43b",
   "metadata": {
    "execution": {
     "iopub.execute_input": "2022-10-31T02:06:20.544096Z",
     "iopub.status.busy": "2022-10-31T02:06:20.543212Z",
     "iopub.status.idle": "2022-10-31T02:06:25.932149Z",
     "shell.execute_reply": "2022-10-31T02:06:25.930521Z"
    },
    "papermill": {
     "duration": 5.417315,
     "end_time": "2022-10-31T02:06:25.935070",
     "exception": false,
     "start_time": "2022-10-31T02:06:20.517755",
     "status": "completed"
    },
    "tags": []
   },
   "outputs": [
    {
     "name": "stderr",
     "output_type": "stream",
     "text": [
      "/opt/conda/lib/python3.7/site-packages/ipykernel_launcher.py:4: SettingWithCopyWarning: \n",
      "A value is trying to be set on a copy of a slice from a DataFrame\n",
      "\n",
      "See the caveats in the documentation: https://pandas.pydata.org/pandas-docs/stable/user_guide/indexing.html#returning-a-view-versus-a-copy\n",
      "  after removing the cwd from sys.path.\n",
      "/opt/conda/lib/python3.7/site-packages/ipykernel_launcher.py:6: SettingWithCopyWarning: \n",
      "A value is trying to be set on a copy of a slice from a DataFrame\n",
      "\n",
      "See the caveats in the documentation: https://pandas.pydata.org/pandas-docs/stable/user_guide/indexing.html#returning-a-view-versus-a-copy\n",
      "  \n"
     ]
    }
   ],
   "source": [
    "n=0\n",
    "for x in teste_adult[\"native.country\"]:\n",
    "    if x in {'United-States', 'Germany', 'Canada', 'England', 'Italy', 'Japan', 'Portugal', 'France', 'Ireland', 'Hong','Outlying-US(Guam-USVI-etc)', 'Scotland','Holand-Netherlands'}:\n",
    "        teste_adult['native.country'][n] = 1\n",
    "    else:\n",
    "        teste_adult['native.country'][n] = 0\n",
    "    n=n+1"
   ]
  },
  {
   "cell_type": "code",
   "execution_count": 15,
   "id": "e0493fc3",
   "metadata": {
    "execution": {
     "iopub.execute_input": "2022-10-31T02:06:25.987329Z",
     "iopub.status.busy": "2022-10-31T02:06:25.986862Z",
     "iopub.status.idle": "2022-10-31T02:06:26.004808Z",
     "shell.execute_reply": "2022-10-31T02:06:26.003622Z"
    },
    "papermill": {
     "duration": 0.04698,
     "end_time": "2022-10-31T02:06:26.007329",
     "exception": false,
     "start_time": "2022-10-31T02:06:25.960349",
     "status": "completed"
    },
    "tags": []
   },
   "outputs": [
    {
     "data": {
      "text/html": [
       "<div>\n",
       "<style scoped>\n",
       "    .dataframe tbody tr th:only-of-type {\n",
       "        vertical-align: middle;\n",
       "    }\n",
       "\n",
       "    .dataframe tbody tr th {\n",
       "        vertical-align: top;\n",
       "    }\n",
       "\n",
       "    .dataframe thead th {\n",
       "        text-align: right;\n",
       "    }\n",
       "</style>\n",
       "<table border=\"1\" class=\"dataframe\">\n",
       "  <thead>\n",
       "    <tr style=\"text-align: right;\">\n",
       "      <th></th>\n",
       "      <th>Id</th>\n",
       "      <th>age</th>\n",
       "      <th>workclass</th>\n",
       "      <th>fnlwgt</th>\n",
       "      <th>education</th>\n",
       "      <th>education.num</th>\n",
       "      <th>marital.status</th>\n",
       "      <th>occupation</th>\n",
       "      <th>relationship</th>\n",
       "      <th>race</th>\n",
       "      <th>sex</th>\n",
       "      <th>capital.gain</th>\n",
       "      <th>capital.loss</th>\n",
       "      <th>hours.per.week</th>\n",
       "      <th>native.country</th>\n",
       "    </tr>\n",
       "  </thead>\n",
       "  <tbody>\n",
       "    <tr>\n",
       "      <th>0</th>\n",
       "      <td>0</td>\n",
       "      <td>25</td>\n",
       "      <td>Private</td>\n",
       "      <td>120596</td>\n",
       "      <td>Bachelors</td>\n",
       "      <td>13</td>\n",
       "      <td>Never-married</td>\n",
       "      <td>Prof-specialty</td>\n",
       "      <td>Not-in-family</td>\n",
       "      <td>White</td>\n",
       "      <td>Male</td>\n",
       "      <td>0</td>\n",
       "      <td>0</td>\n",
       "      <td>44</td>\n",
       "      <td>1</td>\n",
       "    </tr>\n",
       "    <tr>\n",
       "      <th>1</th>\n",
       "      <td>1</td>\n",
       "      <td>64</td>\n",
       "      <td>State-gov</td>\n",
       "      <td>152537</td>\n",
       "      <td>Bachelors</td>\n",
       "      <td>13</td>\n",
       "      <td>Married-civ-spouse</td>\n",
       "      <td>Exec-managerial</td>\n",
       "      <td>Husband</td>\n",
       "      <td>White</td>\n",
       "      <td>Male</td>\n",
       "      <td>0</td>\n",
       "      <td>0</td>\n",
       "      <td>45</td>\n",
       "      <td>1</td>\n",
       "    </tr>\n",
       "    <tr>\n",
       "      <th>2</th>\n",
       "      <td>2</td>\n",
       "      <td>31</td>\n",
       "      <td>Private</td>\n",
       "      <td>100135</td>\n",
       "      <td>Masters</td>\n",
       "      <td>14</td>\n",
       "      <td>Divorced</td>\n",
       "      <td>Exec-managerial</td>\n",
       "      <td>Not-in-family</td>\n",
       "      <td>White</td>\n",
       "      <td>Female</td>\n",
       "      <td>0</td>\n",
       "      <td>0</td>\n",
       "      <td>40</td>\n",
       "      <td>1</td>\n",
       "    </tr>\n",
       "    <tr>\n",
       "      <th>3</th>\n",
       "      <td>3</td>\n",
       "      <td>45</td>\n",
       "      <td>Private</td>\n",
       "      <td>189123</td>\n",
       "      <td>HS-grad</td>\n",
       "      <td>9</td>\n",
       "      <td>Never-married</td>\n",
       "      <td>Machine-op-inspct</td>\n",
       "      <td>Own-child</td>\n",
       "      <td>White</td>\n",
       "      <td>Male</td>\n",
       "      <td>0</td>\n",
       "      <td>0</td>\n",
       "      <td>40</td>\n",
       "      <td>1</td>\n",
       "    </tr>\n",
       "    <tr>\n",
       "      <th>4</th>\n",
       "      <td>4</td>\n",
       "      <td>64</td>\n",
       "      <td>Self-emp-inc</td>\n",
       "      <td>487751</td>\n",
       "      <td>Bachelors</td>\n",
       "      <td>13</td>\n",
       "      <td>Married-civ-spouse</td>\n",
       "      <td>Exec-managerial</td>\n",
       "      <td>Husband</td>\n",
       "      <td>White</td>\n",
       "      <td>Male</td>\n",
       "      <td>0</td>\n",
       "      <td>0</td>\n",
       "      <td>50</td>\n",
       "      <td>1</td>\n",
       "    </tr>\n",
       "  </tbody>\n",
       "</table>\n",
       "</div>"
      ],
      "text/plain": [
       "   Id  age     workclass  fnlwgt  education  education.num  \\\n",
       "0   0   25       Private  120596  Bachelors             13   \n",
       "1   1   64     State-gov  152537  Bachelors             13   \n",
       "2   2   31       Private  100135    Masters             14   \n",
       "3   3   45       Private  189123    HS-grad              9   \n",
       "4   4   64  Self-emp-inc  487751  Bachelors             13   \n",
       "\n",
       "       marital.status         occupation   relationship   race     sex  \\\n",
       "0       Never-married     Prof-specialty  Not-in-family  White    Male   \n",
       "1  Married-civ-spouse    Exec-managerial        Husband  White    Male   \n",
       "2            Divorced    Exec-managerial  Not-in-family  White  Female   \n",
       "3       Never-married  Machine-op-inspct      Own-child  White    Male   \n",
       "4  Married-civ-spouse    Exec-managerial        Husband  White    Male   \n",
       "\n",
       "   capital.gain  capital.loss  hours.per.week native.country  \n",
       "0             0             0              44              1  \n",
       "1             0             0              45              1  \n",
       "2             0             0              40              1  \n",
       "3             0             0              40              1  \n",
       "4             0             0              50              1  "
      ]
     },
     "execution_count": 15,
     "metadata": {},
     "output_type": "execute_result"
    }
   ],
   "source": [
    "teste_adult.head()"
   ]
  },
  {
   "cell_type": "markdown",
   "id": "26d3d892",
   "metadata": {
    "papermill": {
     "duration": 0.024571,
     "end_time": "2022-10-31T02:06:26.056346",
     "exception": false,
     "start_time": "2022-10-31T02:06:26.031775",
     "status": "completed"
    },
    "tags": []
   },
   "source": [
    "Vamos analisar as possibilidades da variável 'race':"
   ]
  },
  {
   "cell_type": "code",
   "execution_count": 16,
   "id": "1e59c005",
   "metadata": {
    "execution": {
     "iopub.execute_input": "2022-10-31T02:06:26.108786Z",
     "iopub.status.busy": "2022-10-31T02:06:26.108269Z",
     "iopub.status.idle": "2022-10-31T02:06:26.118762Z",
     "shell.execute_reply": "2022-10-31T02:06:26.117762Z"
    },
    "papermill": {
     "duration": 0.040147,
     "end_time": "2022-10-31T02:06:26.121115",
     "exception": false,
     "start_time": "2022-10-31T02:06:26.080968",
     "status": "completed"
    },
    "tags": []
   },
   "outputs": [
    {
     "data": {
      "text/plain": [
       "White                 27815\n",
       "Black                  3124\n",
       "Asian-Pac-Islander     1039\n",
       "Amer-Indian-Eskimo      311\n",
       "Other                   271\n",
       "Name: race, dtype: int64"
      ]
     },
     "execution_count": 16,
     "metadata": {},
     "output_type": "execute_result"
    }
   ],
   "source": [
    "treino_adult[\"race\"].value_counts()"
   ]
  },
  {
   "cell_type": "markdown",
   "id": "18c7c6a5",
   "metadata": {
    "papermill": {
     "duration": 0.024201,
     "end_time": "2022-10-31T02:06:26.170186",
     "exception": false,
     "start_time": "2022-10-31T02:06:26.145985",
     "status": "completed"
    },
    "tags": []
   },
   "source": [
    "Agora analisemos a saída da variável 'sex':"
   ]
  },
  {
   "cell_type": "code",
   "execution_count": 17,
   "id": "2a48526c",
   "metadata": {
    "execution": {
     "iopub.execute_input": "2022-10-31T02:06:26.221494Z",
     "iopub.status.busy": "2022-10-31T02:06:26.220606Z",
     "iopub.status.idle": "2022-10-31T02:06:26.231716Z",
     "shell.execute_reply": "2022-10-31T02:06:26.230618Z"
    },
    "papermill": {
     "duration": 0.039065,
     "end_time": "2022-10-31T02:06:26.234048",
     "exception": false,
     "start_time": "2022-10-31T02:06:26.194983",
     "status": "completed"
    },
    "tags": []
   },
   "outputs": [
    {
     "data": {
      "text/plain": [
       "Male      21789\n",
       "Female    10771\n",
       "Name: sex, dtype: int64"
      ]
     },
     "execution_count": 17,
     "metadata": {},
     "output_type": "execute_result"
    }
   ],
   "source": [
    "treino_adult[\"sex\"].value_counts()"
   ]
  },
  {
   "cell_type": "markdown",
   "id": "b069b3bf",
   "metadata": {
    "papermill": {
     "duration": 0.024717,
     "end_time": "2022-10-31T02:06:26.283858",
     "exception": false,
     "start_time": "2022-10-31T02:06:26.259141",
     "status": "completed"
    },
    "tags": []
   },
   "source": [
    "Vamos substituir os valores Male por 0 e Female por 1:"
   ]
  },
  {
   "cell_type": "markdown",
   "id": "6e027d8e",
   "metadata": {
    "papermill": {
     "duration": 0.024107,
     "end_time": "2022-10-31T02:06:26.332606",
     "exception": false,
     "start_time": "2022-10-31T02:06:26.308499",
     "status": "completed"
    },
    "tags": []
   },
   "source": [
    "Primeiro na base de treino:"
   ]
  },
  {
   "cell_type": "code",
   "execution_count": 18,
   "id": "6f2abb2a",
   "metadata": {
    "execution": {
     "iopub.execute_input": "2022-10-31T02:06:26.384454Z",
     "iopub.status.busy": "2022-10-31T02:06:26.383975Z",
     "iopub.status.idle": "2022-10-31T02:06:38.880427Z",
     "shell.execute_reply": "2022-10-31T02:06:38.879253Z"
    },
    "papermill": {
     "duration": 12.526285,
     "end_time": "2022-10-31T02:06:38.883448",
     "exception": false,
     "start_time": "2022-10-31T02:06:26.357163",
     "status": "completed"
    },
    "tags": []
   },
   "outputs": [
    {
     "name": "stderr",
     "output_type": "stream",
     "text": [
      "/opt/conda/lib/python3.7/site-packages/ipykernel_launcher.py:4: SettingWithCopyWarning: \n",
      "A value is trying to be set on a copy of a slice from a DataFrame\n",
      "\n",
      "See the caveats in the documentation: https://pandas.pydata.org/pandas-docs/stable/user_guide/indexing.html#returning-a-view-versus-a-copy\n",
      "  after removing the cwd from sys.path.\n",
      "/opt/conda/lib/python3.7/site-packages/ipykernel_launcher.py:6: SettingWithCopyWarning: \n",
      "A value is trying to be set on a copy of a slice from a DataFrame\n",
      "\n",
      "See the caveats in the documentation: https://pandas.pydata.org/pandas-docs/stable/user_guide/indexing.html#returning-a-view-versus-a-copy\n",
      "  \n"
     ]
    }
   ],
   "source": [
    "n=0\n",
    "for x in treino_adult[\"sex\"]:\n",
    "    if x == 'Male':\n",
    "        treino_adult[\"sex\"][n] = 0\n",
    "    else:\n",
    "        treino_adult[\"sex\"][n] = 1\n",
    "    n=n+1"
   ]
  },
  {
   "cell_type": "markdown",
   "id": "a92f9723",
   "metadata": {
    "papermill": {
     "duration": 0.024119,
     "end_time": "2022-10-31T02:06:38.932550",
     "exception": false,
     "start_time": "2022-10-31T02:06:38.908431",
     "status": "completed"
    },
    "tags": []
   },
   "source": [
    "Agora na base de teste:"
   ]
  },
  {
   "cell_type": "code",
   "execution_count": 19,
   "id": "1a678859",
   "metadata": {
    "execution": {
     "iopub.execute_input": "2022-10-31T02:06:38.985594Z",
     "iopub.status.busy": "2022-10-31T02:06:38.984039Z",
     "iopub.status.idle": "2022-10-31T02:06:44.301769Z",
     "shell.execute_reply": "2022-10-31T02:06:44.300342Z"
    },
    "papermill": {
     "duration": 5.347306,
     "end_time": "2022-10-31T02:06:44.304513",
     "exception": false,
     "start_time": "2022-10-31T02:06:38.957207",
     "status": "completed"
    },
    "tags": []
   },
   "outputs": [
    {
     "name": "stderr",
     "output_type": "stream",
     "text": [
      "/opt/conda/lib/python3.7/site-packages/ipykernel_launcher.py:4: SettingWithCopyWarning: \n",
      "A value is trying to be set on a copy of a slice from a DataFrame\n",
      "\n",
      "See the caveats in the documentation: https://pandas.pydata.org/pandas-docs/stable/user_guide/indexing.html#returning-a-view-versus-a-copy\n",
      "  after removing the cwd from sys.path.\n",
      "/opt/conda/lib/python3.7/site-packages/ipykernel_launcher.py:6: SettingWithCopyWarning: \n",
      "A value is trying to be set on a copy of a slice from a DataFrame\n",
      "\n",
      "See the caveats in the documentation: https://pandas.pydata.org/pandas-docs/stable/user_guide/indexing.html#returning-a-view-versus-a-copy\n",
      "  \n"
     ]
    }
   ],
   "source": [
    "n=0\n",
    "for x in teste_adult[\"sex\"]:\n",
    "    if x == 'Male':\n",
    "        teste_adult[\"sex\"][n] = 0\n",
    "    else:\n",
    "        teste_adult[\"sex\"][n] = 1\n",
    "    n=n+1"
   ]
  },
  {
   "cell_type": "markdown",
   "id": "00d3927b",
   "metadata": {
    "papermill": {
     "duration": 0.025599,
     "end_time": "2022-10-31T02:06:44.355493",
     "exception": false,
     "start_time": "2022-10-31T02:06:44.329894",
     "status": "completed"
    },
    "tags": []
   },
   "source": [
    "Vamos observar se está tudo correto nas bases:"
   ]
  },
  {
   "cell_type": "code",
   "execution_count": 20,
   "id": "92ec9812",
   "metadata": {
    "execution": {
     "iopub.execute_input": "2022-10-31T02:06:44.410245Z",
     "iopub.status.busy": "2022-10-31T02:06:44.409787Z",
     "iopub.status.idle": "2022-10-31T02:06:44.429538Z",
     "shell.execute_reply": "2022-10-31T02:06:44.428122Z"
    },
    "papermill": {
     "duration": 0.049522,
     "end_time": "2022-10-31T02:06:44.431968",
     "exception": false,
     "start_time": "2022-10-31T02:06:44.382446",
     "status": "completed"
    },
    "tags": []
   },
   "outputs": [
    {
     "data": {
      "text/html": [
       "<div>\n",
       "<style scoped>\n",
       "    .dataframe tbody tr th:only-of-type {\n",
       "        vertical-align: middle;\n",
       "    }\n",
       "\n",
       "    .dataframe tbody tr th {\n",
       "        vertical-align: top;\n",
       "    }\n",
       "\n",
       "    .dataframe thead th {\n",
       "        text-align: right;\n",
       "    }\n",
       "</style>\n",
       "<table border=\"1\" class=\"dataframe\">\n",
       "  <thead>\n",
       "    <tr style=\"text-align: right;\">\n",
       "      <th></th>\n",
       "      <th>Id</th>\n",
       "      <th>age</th>\n",
       "      <th>workclass</th>\n",
       "      <th>fnlwgt</th>\n",
       "      <th>education</th>\n",
       "      <th>education.num</th>\n",
       "      <th>marital.status</th>\n",
       "      <th>occupation</th>\n",
       "      <th>relationship</th>\n",
       "      <th>race</th>\n",
       "      <th>sex</th>\n",
       "      <th>capital.gain</th>\n",
       "      <th>capital.loss</th>\n",
       "      <th>hours.per.week</th>\n",
       "      <th>native.country</th>\n",
       "      <th>income</th>\n",
       "    </tr>\n",
       "  </thead>\n",
       "  <tbody>\n",
       "    <tr>\n",
       "      <th>0</th>\n",
       "      <td>16280</td>\n",
       "      <td>34</td>\n",
       "      <td>Private</td>\n",
       "      <td>204991</td>\n",
       "      <td>Some-college</td>\n",
       "      <td>10</td>\n",
       "      <td>Divorced</td>\n",
       "      <td>Exec-managerial</td>\n",
       "      <td>Own-child</td>\n",
       "      <td>White</td>\n",
       "      <td>0</td>\n",
       "      <td>0</td>\n",
       "      <td>0</td>\n",
       "      <td>44</td>\n",
       "      <td>1</td>\n",
       "      <td>&lt;=50K</td>\n",
       "    </tr>\n",
       "    <tr>\n",
       "      <th>1</th>\n",
       "      <td>16281</td>\n",
       "      <td>58</td>\n",
       "      <td>Local-gov</td>\n",
       "      <td>310085</td>\n",
       "      <td>10th</td>\n",
       "      <td>6</td>\n",
       "      <td>Married-civ-spouse</td>\n",
       "      <td>Transport-moving</td>\n",
       "      <td>Husband</td>\n",
       "      <td>White</td>\n",
       "      <td>0</td>\n",
       "      <td>0</td>\n",
       "      <td>0</td>\n",
       "      <td>40</td>\n",
       "      <td>1</td>\n",
       "      <td>&lt;=50K</td>\n",
       "    </tr>\n",
       "    <tr>\n",
       "      <th>2</th>\n",
       "      <td>16282</td>\n",
       "      <td>25</td>\n",
       "      <td>Private</td>\n",
       "      <td>146117</td>\n",
       "      <td>Some-college</td>\n",
       "      <td>10</td>\n",
       "      <td>Never-married</td>\n",
       "      <td>Machine-op-inspct</td>\n",
       "      <td>Not-in-family</td>\n",
       "      <td>White</td>\n",
       "      <td>0</td>\n",
       "      <td>0</td>\n",
       "      <td>0</td>\n",
       "      <td>42</td>\n",
       "      <td>1</td>\n",
       "      <td>&lt;=50K</td>\n",
       "    </tr>\n",
       "    <tr>\n",
       "      <th>3</th>\n",
       "      <td>16283</td>\n",
       "      <td>24</td>\n",
       "      <td>Private</td>\n",
       "      <td>138938</td>\n",
       "      <td>Some-college</td>\n",
       "      <td>10</td>\n",
       "      <td>Divorced</td>\n",
       "      <td>Adm-clerical</td>\n",
       "      <td>Not-in-family</td>\n",
       "      <td>White</td>\n",
       "      <td>1</td>\n",
       "      <td>0</td>\n",
       "      <td>0</td>\n",
       "      <td>40</td>\n",
       "      <td>1</td>\n",
       "      <td>&lt;=50K</td>\n",
       "    </tr>\n",
       "    <tr>\n",
       "      <th>4</th>\n",
       "      <td>16284</td>\n",
       "      <td>57</td>\n",
       "      <td>Self-emp-inc</td>\n",
       "      <td>258883</td>\n",
       "      <td>HS-grad</td>\n",
       "      <td>9</td>\n",
       "      <td>Married-civ-spouse</td>\n",
       "      <td>Transport-moving</td>\n",
       "      <td>Husband</td>\n",
       "      <td>White</td>\n",
       "      <td>0</td>\n",
       "      <td>5178</td>\n",
       "      <td>0</td>\n",
       "      <td>60</td>\n",
       "      <td>0</td>\n",
       "      <td>&gt;50K</td>\n",
       "    </tr>\n",
       "  </tbody>\n",
       "</table>\n",
       "</div>"
      ],
      "text/plain": [
       "      Id  age     workclass  fnlwgt     education  education.num  \\\n",
       "0  16280   34       Private  204991  Some-college             10   \n",
       "1  16281   58     Local-gov  310085          10th              6   \n",
       "2  16282   25       Private  146117  Some-college             10   \n",
       "3  16283   24       Private  138938  Some-college             10   \n",
       "4  16284   57  Self-emp-inc  258883       HS-grad              9   \n",
       "\n",
       "       marital.status         occupation   relationship   race sex  \\\n",
       "0            Divorced    Exec-managerial      Own-child  White   0   \n",
       "1  Married-civ-spouse   Transport-moving        Husband  White   0   \n",
       "2       Never-married  Machine-op-inspct  Not-in-family  White   0   \n",
       "3            Divorced       Adm-clerical  Not-in-family  White   1   \n",
       "4  Married-civ-spouse   Transport-moving        Husband  White   0   \n",
       "\n",
       "   capital.gain  capital.loss  hours.per.week native.country income  \n",
       "0             0             0              44              1  <=50K  \n",
       "1             0             0              40              1  <=50K  \n",
       "2             0             0              42              1  <=50K  \n",
       "3             0             0              40              1  <=50K  \n",
       "4          5178             0              60              0   >50K  "
      ]
     },
     "execution_count": 20,
     "metadata": {},
     "output_type": "execute_result"
    }
   ],
   "source": [
    "treino_adult.head()"
   ]
  },
  {
   "cell_type": "code",
   "execution_count": 21,
   "id": "4b85545d",
   "metadata": {
    "execution": {
     "iopub.execute_input": "2022-10-31T02:06:44.485561Z",
     "iopub.status.busy": "2022-10-31T02:06:44.485092Z",
     "iopub.status.idle": "2022-10-31T02:06:44.502396Z",
     "shell.execute_reply": "2022-10-31T02:06:44.501102Z"
    },
    "papermill": {
     "duration": 0.046692,
     "end_time": "2022-10-31T02:06:44.504699",
     "exception": false,
     "start_time": "2022-10-31T02:06:44.458007",
     "status": "completed"
    },
    "tags": []
   },
   "outputs": [
    {
     "data": {
      "text/html": [
       "<div>\n",
       "<style scoped>\n",
       "    .dataframe tbody tr th:only-of-type {\n",
       "        vertical-align: middle;\n",
       "    }\n",
       "\n",
       "    .dataframe tbody tr th {\n",
       "        vertical-align: top;\n",
       "    }\n",
       "\n",
       "    .dataframe thead th {\n",
       "        text-align: right;\n",
       "    }\n",
       "</style>\n",
       "<table border=\"1\" class=\"dataframe\">\n",
       "  <thead>\n",
       "    <tr style=\"text-align: right;\">\n",
       "      <th></th>\n",
       "      <th>Id</th>\n",
       "      <th>age</th>\n",
       "      <th>workclass</th>\n",
       "      <th>fnlwgt</th>\n",
       "      <th>education</th>\n",
       "      <th>education.num</th>\n",
       "      <th>marital.status</th>\n",
       "      <th>occupation</th>\n",
       "      <th>relationship</th>\n",
       "      <th>race</th>\n",
       "      <th>sex</th>\n",
       "      <th>capital.gain</th>\n",
       "      <th>capital.loss</th>\n",
       "      <th>hours.per.week</th>\n",
       "      <th>native.country</th>\n",
       "    </tr>\n",
       "  </thead>\n",
       "  <tbody>\n",
       "    <tr>\n",
       "      <th>0</th>\n",
       "      <td>0</td>\n",
       "      <td>25</td>\n",
       "      <td>Private</td>\n",
       "      <td>120596</td>\n",
       "      <td>Bachelors</td>\n",
       "      <td>13</td>\n",
       "      <td>Never-married</td>\n",
       "      <td>Prof-specialty</td>\n",
       "      <td>Not-in-family</td>\n",
       "      <td>White</td>\n",
       "      <td>0</td>\n",
       "      <td>0</td>\n",
       "      <td>0</td>\n",
       "      <td>44</td>\n",
       "      <td>1</td>\n",
       "    </tr>\n",
       "    <tr>\n",
       "      <th>1</th>\n",
       "      <td>1</td>\n",
       "      <td>64</td>\n",
       "      <td>State-gov</td>\n",
       "      <td>152537</td>\n",
       "      <td>Bachelors</td>\n",
       "      <td>13</td>\n",
       "      <td>Married-civ-spouse</td>\n",
       "      <td>Exec-managerial</td>\n",
       "      <td>Husband</td>\n",
       "      <td>White</td>\n",
       "      <td>0</td>\n",
       "      <td>0</td>\n",
       "      <td>0</td>\n",
       "      <td>45</td>\n",
       "      <td>1</td>\n",
       "    </tr>\n",
       "    <tr>\n",
       "      <th>2</th>\n",
       "      <td>2</td>\n",
       "      <td>31</td>\n",
       "      <td>Private</td>\n",
       "      <td>100135</td>\n",
       "      <td>Masters</td>\n",
       "      <td>14</td>\n",
       "      <td>Divorced</td>\n",
       "      <td>Exec-managerial</td>\n",
       "      <td>Not-in-family</td>\n",
       "      <td>White</td>\n",
       "      <td>1</td>\n",
       "      <td>0</td>\n",
       "      <td>0</td>\n",
       "      <td>40</td>\n",
       "      <td>1</td>\n",
       "    </tr>\n",
       "    <tr>\n",
       "      <th>3</th>\n",
       "      <td>3</td>\n",
       "      <td>45</td>\n",
       "      <td>Private</td>\n",
       "      <td>189123</td>\n",
       "      <td>HS-grad</td>\n",
       "      <td>9</td>\n",
       "      <td>Never-married</td>\n",
       "      <td>Machine-op-inspct</td>\n",
       "      <td>Own-child</td>\n",
       "      <td>White</td>\n",
       "      <td>0</td>\n",
       "      <td>0</td>\n",
       "      <td>0</td>\n",
       "      <td>40</td>\n",
       "      <td>1</td>\n",
       "    </tr>\n",
       "    <tr>\n",
       "      <th>4</th>\n",
       "      <td>4</td>\n",
       "      <td>64</td>\n",
       "      <td>Self-emp-inc</td>\n",
       "      <td>487751</td>\n",
       "      <td>Bachelors</td>\n",
       "      <td>13</td>\n",
       "      <td>Married-civ-spouse</td>\n",
       "      <td>Exec-managerial</td>\n",
       "      <td>Husband</td>\n",
       "      <td>White</td>\n",
       "      <td>0</td>\n",
       "      <td>0</td>\n",
       "      <td>0</td>\n",
       "      <td>50</td>\n",
       "      <td>1</td>\n",
       "    </tr>\n",
       "  </tbody>\n",
       "</table>\n",
       "</div>"
      ],
      "text/plain": [
       "   Id  age     workclass  fnlwgt  education  education.num  \\\n",
       "0   0   25       Private  120596  Bachelors             13   \n",
       "1   1   64     State-gov  152537  Bachelors             13   \n",
       "2   2   31       Private  100135    Masters             14   \n",
       "3   3   45       Private  189123    HS-grad              9   \n",
       "4   4   64  Self-emp-inc  487751  Bachelors             13   \n",
       "\n",
       "       marital.status         occupation   relationship   race sex  \\\n",
       "0       Never-married     Prof-specialty  Not-in-family  White   0   \n",
       "1  Married-civ-spouse    Exec-managerial        Husband  White   0   \n",
       "2            Divorced    Exec-managerial  Not-in-family  White   1   \n",
       "3       Never-married  Machine-op-inspct      Own-child  White   0   \n",
       "4  Married-civ-spouse    Exec-managerial        Husband  White   0   \n",
       "\n",
       "   capital.gain  capital.loss  hours.per.week native.country  \n",
       "0             0             0              44              1  \n",
       "1             0             0              45              1  \n",
       "2             0             0              40              1  \n",
       "3             0             0              40              1  \n",
       "4             0             0              50              1  "
      ]
     },
     "execution_count": 21,
     "metadata": {},
     "output_type": "execute_result"
    }
   ],
   "source": [
    "teste_adult.head()"
   ]
  },
  {
   "cell_type": "markdown",
   "id": "cc3ffab2",
   "metadata": {
    "papermill": {
     "duration": 0.024933,
     "end_time": "2022-10-31T02:06:44.555039",
     "exception": false,
     "start_time": "2022-10-31T02:06:44.530106",
     "status": "completed"
    },
    "tags": []
   },
   "source": [
    "Tudo parece certo. Agora vamos nos preocupar com a distribuição em relação ao estado civil:"
   ]
  },
  {
   "cell_type": "code",
   "execution_count": 22,
   "id": "6e17faa7",
   "metadata": {
    "execution": {
     "iopub.execute_input": "2022-10-31T02:06:44.608582Z",
     "iopub.status.busy": "2022-10-31T02:06:44.607173Z",
     "iopub.status.idle": "2022-10-31T02:06:44.618749Z",
     "shell.execute_reply": "2022-10-31T02:06:44.617595Z"
    },
    "papermill": {
     "duration": 0.040299,
     "end_time": "2022-10-31T02:06:44.620942",
     "exception": false,
     "start_time": "2022-10-31T02:06:44.580643",
     "status": "completed"
    },
    "tags": []
   },
   "outputs": [
    {
     "data": {
      "text/plain": [
       "Married-civ-spouse       14976\n",
       "Never-married            10682\n",
       "Divorced                  4443\n",
       "Separated                 1025\n",
       "Widowed                    993\n",
       "Married-spouse-absent      418\n",
       "Married-AF-spouse           23\n",
       "Name: marital.status, dtype: int64"
      ]
     },
     "execution_count": 22,
     "metadata": {},
     "output_type": "execute_result"
    }
   ],
   "source": [
    "treino_adult['marital.status'].value_counts()"
   ]
  },
  {
   "cell_type": "markdown",
   "id": "9a3d883b",
   "metadata": {
    "papermill": {
     "duration": 0.025424,
     "end_time": "2022-10-31T02:06:44.671756",
     "exception": false,
     "start_time": "2022-10-31T02:06:44.646332",
     "status": "completed"
    },
    "tags": []
   },
   "source": [
    "Usando o bom-senso tentarei trabalhar com os dados de estado civil. Podemos começar pensando que os estados divorciado e separado são em algum nível equivalentes. O divórcio pode ter impacto na renda, na forma de algum tipo de pensão, ou algo do gênero. Podemos pensar no fato que pessoas casadas tem maior tendência a ter filhos, e dado que esses causam um gasto considerável, há maior pressão por rendas maiores. Dessa forma atribuirei valor 1 para os estados 'Married-civ-spouse', 'Married-spouse-absent', 'Married-AF-spouse', valor 0.5 para os estado 'Never-married' e valor 0 para todos outros estados. Pode parecer estranhos juntar divorciado e viúvo, por exemplo. No entanto, a maioria dos viúvos é formada por idosos, que tem menor renda, que é o que suponho ocorrer no caso de divórcio ou separação."
   ]
  },
  {
   "cell_type": "code",
   "execution_count": 23,
   "id": "9fa56ae4",
   "metadata": {
    "execution": {
     "iopub.execute_input": "2022-10-31T02:06:44.725510Z",
     "iopub.status.busy": "2022-10-31T02:06:44.725011Z",
     "iopub.status.idle": "2022-10-31T02:06:57.442092Z",
     "shell.execute_reply": "2022-10-31T02:06:57.440923Z"
    },
    "papermill": {
     "duration": 12.747551,
     "end_time": "2022-10-31T02:06:57.445071",
     "exception": false,
     "start_time": "2022-10-31T02:06:44.697520",
     "status": "completed"
    },
    "tags": []
   },
   "outputs": [
    {
     "name": "stderr",
     "output_type": "stream",
     "text": [
      "/opt/conda/lib/python3.7/site-packages/ipykernel_launcher.py:8: SettingWithCopyWarning: \n",
      "A value is trying to be set on a copy of a slice from a DataFrame\n",
      "\n",
      "See the caveats in the documentation: https://pandas.pydata.org/pandas-docs/stable/user_guide/indexing.html#returning-a-view-versus-a-copy\n",
      "  \n",
      "/opt/conda/lib/python3.7/site-packages/ipykernel_launcher.py:4: SettingWithCopyWarning: \n",
      "A value is trying to be set on a copy of a slice from a DataFrame\n",
      "\n",
      "See the caveats in the documentation: https://pandas.pydata.org/pandas-docs/stable/user_guide/indexing.html#returning-a-view-versus-a-copy\n",
      "  after removing the cwd from sys.path.\n",
      "/opt/conda/lib/python3.7/site-packages/ipykernel_launcher.py:6: SettingWithCopyWarning: \n",
      "A value is trying to be set on a copy of a slice from a DataFrame\n",
      "\n",
      "See the caveats in the documentation: https://pandas.pydata.org/pandas-docs/stable/user_guide/indexing.html#returning-a-view-versus-a-copy\n",
      "  \n"
     ]
    }
   ],
   "source": [
    "n=0\n",
    "for x in treino_adult[\"marital.status\"]:\n",
    "    if x in {'Married-civ-spouse', 'Married-spouse-absent', 'Married-AF-spouse'}:\n",
    "        treino_adult[\"marital.status\"][n] = 1\n",
    "    elif x == 'Never-married':\n",
    "        treino_adult[\"marital.status\"][n] = 0.5\n",
    "    else:\n",
    "        treino_adult[\"marital.status\"][n] = 0\n",
    "    n=n+1"
   ]
  },
  {
   "cell_type": "code",
   "execution_count": 24,
   "id": "3c166153",
   "metadata": {
    "execution": {
     "iopub.execute_input": "2022-10-31T02:06:57.499851Z",
     "iopub.status.busy": "2022-10-31T02:06:57.499408Z",
     "iopub.status.idle": "2022-10-31T02:07:02.714353Z",
     "shell.execute_reply": "2022-10-31T02:07:02.713042Z"
    },
    "papermill": {
     "duration": 5.245156,
     "end_time": "2022-10-31T02:07:02.717335",
     "exception": false,
     "start_time": "2022-10-31T02:06:57.472179",
     "status": "completed"
    },
    "tags": []
   },
   "outputs": [
    {
     "name": "stderr",
     "output_type": "stream",
     "text": [
      "/opt/conda/lib/python3.7/site-packages/ipykernel_launcher.py:6: SettingWithCopyWarning: \n",
      "A value is trying to be set on a copy of a slice from a DataFrame\n",
      "\n",
      "See the caveats in the documentation: https://pandas.pydata.org/pandas-docs/stable/user_guide/indexing.html#returning-a-view-versus-a-copy\n",
      "  \n",
      "/opt/conda/lib/python3.7/site-packages/ipykernel_launcher.py:4: SettingWithCopyWarning: \n",
      "A value is trying to be set on a copy of a slice from a DataFrame\n",
      "\n",
      "See the caveats in the documentation: https://pandas.pydata.org/pandas-docs/stable/user_guide/indexing.html#returning-a-view-versus-a-copy\n",
      "  after removing the cwd from sys.path.\n",
      "/opt/conda/lib/python3.7/site-packages/ipykernel_launcher.py:8: SettingWithCopyWarning: \n",
      "A value is trying to be set on a copy of a slice from a DataFrame\n",
      "\n",
      "See the caveats in the documentation: https://pandas.pydata.org/pandas-docs/stable/user_guide/indexing.html#returning-a-view-versus-a-copy\n",
      "  \n"
     ]
    }
   ],
   "source": [
    "n=0\n",
    "for x in teste_adult[\"marital.status\"]:\n",
    "    if x in {'Married-civ-spouse', 'Married-spouse-absent', 'Married-AF-spouse'}:\n",
    "        teste_adult[\"marital.status\"][n] = 1\n",
    "    elif x == 'Never-married':\n",
    "        teste_adult[\"marital.status\"][n] = 0.5\n",
    "    else:\n",
    "        teste_adult[\"marital.status\"][n] = 0\n",
    "    n=n+1"
   ]
  },
  {
   "cell_type": "markdown",
   "id": "5a18096c",
   "metadata": {
    "papermill": {
     "duration": 0.025809,
     "end_time": "2022-10-31T02:07:02.768904",
     "exception": false,
     "start_time": "2022-10-31T02:07:02.743095",
     "status": "completed"
    },
    "tags": []
   },
   "source": [
    "Vamos observar se o processo foi correto:"
   ]
  },
  {
   "cell_type": "code",
   "execution_count": 25,
   "id": "a21a5d2c",
   "metadata": {
    "execution": {
     "iopub.execute_input": "2022-10-31T02:07:02.822712Z",
     "iopub.status.busy": "2022-10-31T02:07:02.821513Z",
     "iopub.status.idle": "2022-10-31T02:07:02.840968Z",
     "shell.execute_reply": "2022-10-31T02:07:02.839826Z"
    },
    "papermill": {
     "duration": 0.049099,
     "end_time": "2022-10-31T02:07:02.843673",
     "exception": false,
     "start_time": "2022-10-31T02:07:02.794574",
     "status": "completed"
    },
    "tags": []
   },
   "outputs": [
    {
     "data": {
      "text/html": [
       "<div>\n",
       "<style scoped>\n",
       "    .dataframe tbody tr th:only-of-type {\n",
       "        vertical-align: middle;\n",
       "    }\n",
       "\n",
       "    .dataframe tbody tr th {\n",
       "        vertical-align: top;\n",
       "    }\n",
       "\n",
       "    .dataframe thead th {\n",
       "        text-align: right;\n",
       "    }\n",
       "</style>\n",
       "<table border=\"1\" class=\"dataframe\">\n",
       "  <thead>\n",
       "    <tr style=\"text-align: right;\">\n",
       "      <th></th>\n",
       "      <th>Id</th>\n",
       "      <th>age</th>\n",
       "      <th>workclass</th>\n",
       "      <th>fnlwgt</th>\n",
       "      <th>education</th>\n",
       "      <th>education.num</th>\n",
       "      <th>marital.status</th>\n",
       "      <th>occupation</th>\n",
       "      <th>relationship</th>\n",
       "      <th>race</th>\n",
       "      <th>sex</th>\n",
       "      <th>capital.gain</th>\n",
       "      <th>capital.loss</th>\n",
       "      <th>hours.per.week</th>\n",
       "      <th>native.country</th>\n",
       "      <th>income</th>\n",
       "    </tr>\n",
       "  </thead>\n",
       "  <tbody>\n",
       "    <tr>\n",
       "      <th>0</th>\n",
       "      <td>16280</td>\n",
       "      <td>34</td>\n",
       "      <td>Private</td>\n",
       "      <td>204991</td>\n",
       "      <td>Some-college</td>\n",
       "      <td>10</td>\n",
       "      <td>0</td>\n",
       "      <td>Exec-managerial</td>\n",
       "      <td>Own-child</td>\n",
       "      <td>White</td>\n",
       "      <td>0</td>\n",
       "      <td>0</td>\n",
       "      <td>0</td>\n",
       "      <td>44</td>\n",
       "      <td>1</td>\n",
       "      <td>&lt;=50K</td>\n",
       "    </tr>\n",
       "    <tr>\n",
       "      <th>1</th>\n",
       "      <td>16281</td>\n",
       "      <td>58</td>\n",
       "      <td>Local-gov</td>\n",
       "      <td>310085</td>\n",
       "      <td>10th</td>\n",
       "      <td>6</td>\n",
       "      <td>1</td>\n",
       "      <td>Transport-moving</td>\n",
       "      <td>Husband</td>\n",
       "      <td>White</td>\n",
       "      <td>0</td>\n",
       "      <td>0</td>\n",
       "      <td>0</td>\n",
       "      <td>40</td>\n",
       "      <td>1</td>\n",
       "      <td>&lt;=50K</td>\n",
       "    </tr>\n",
       "    <tr>\n",
       "      <th>2</th>\n",
       "      <td>16282</td>\n",
       "      <td>25</td>\n",
       "      <td>Private</td>\n",
       "      <td>146117</td>\n",
       "      <td>Some-college</td>\n",
       "      <td>10</td>\n",
       "      <td>0.5</td>\n",
       "      <td>Machine-op-inspct</td>\n",
       "      <td>Not-in-family</td>\n",
       "      <td>White</td>\n",
       "      <td>0</td>\n",
       "      <td>0</td>\n",
       "      <td>0</td>\n",
       "      <td>42</td>\n",
       "      <td>1</td>\n",
       "      <td>&lt;=50K</td>\n",
       "    </tr>\n",
       "    <tr>\n",
       "      <th>3</th>\n",
       "      <td>16283</td>\n",
       "      <td>24</td>\n",
       "      <td>Private</td>\n",
       "      <td>138938</td>\n",
       "      <td>Some-college</td>\n",
       "      <td>10</td>\n",
       "      <td>0</td>\n",
       "      <td>Adm-clerical</td>\n",
       "      <td>Not-in-family</td>\n",
       "      <td>White</td>\n",
       "      <td>1</td>\n",
       "      <td>0</td>\n",
       "      <td>0</td>\n",
       "      <td>40</td>\n",
       "      <td>1</td>\n",
       "      <td>&lt;=50K</td>\n",
       "    </tr>\n",
       "    <tr>\n",
       "      <th>4</th>\n",
       "      <td>16284</td>\n",
       "      <td>57</td>\n",
       "      <td>Self-emp-inc</td>\n",
       "      <td>258883</td>\n",
       "      <td>HS-grad</td>\n",
       "      <td>9</td>\n",
       "      <td>1</td>\n",
       "      <td>Transport-moving</td>\n",
       "      <td>Husband</td>\n",
       "      <td>White</td>\n",
       "      <td>0</td>\n",
       "      <td>5178</td>\n",
       "      <td>0</td>\n",
       "      <td>60</td>\n",
       "      <td>0</td>\n",
       "      <td>&gt;50K</td>\n",
       "    </tr>\n",
       "  </tbody>\n",
       "</table>\n",
       "</div>"
      ],
      "text/plain": [
       "      Id  age     workclass  fnlwgt     education  education.num  \\\n",
       "0  16280   34       Private  204991  Some-college             10   \n",
       "1  16281   58     Local-gov  310085          10th              6   \n",
       "2  16282   25       Private  146117  Some-college             10   \n",
       "3  16283   24       Private  138938  Some-college             10   \n",
       "4  16284   57  Self-emp-inc  258883       HS-grad              9   \n",
       "\n",
       "  marital.status         occupation   relationship   race sex  capital.gain  \\\n",
       "0              0    Exec-managerial      Own-child  White   0             0   \n",
       "1              1   Transport-moving        Husband  White   0             0   \n",
       "2            0.5  Machine-op-inspct  Not-in-family  White   0             0   \n",
       "3              0       Adm-clerical  Not-in-family  White   1             0   \n",
       "4              1   Transport-moving        Husband  White   0          5178   \n",
       "\n",
       "   capital.loss  hours.per.week native.country income  \n",
       "0             0              44              1  <=50K  \n",
       "1             0              40              1  <=50K  \n",
       "2             0              42              1  <=50K  \n",
       "3             0              40              1  <=50K  \n",
       "4             0              60              0   >50K  "
      ]
     },
     "execution_count": 25,
     "metadata": {},
     "output_type": "execute_result"
    }
   ],
   "source": [
    "treino_adult.head()"
   ]
  },
  {
   "cell_type": "code",
   "execution_count": 26,
   "id": "edf7c9ca",
   "metadata": {
    "execution": {
     "iopub.execute_input": "2022-10-31T02:07:02.897094Z",
     "iopub.status.busy": "2022-10-31T02:07:02.896643Z",
     "iopub.status.idle": "2022-10-31T02:07:02.914548Z",
     "shell.execute_reply": "2022-10-31T02:07:02.913255Z"
    },
    "papermill": {
     "duration": 0.047503,
     "end_time": "2022-10-31T02:07:02.916921",
     "exception": false,
     "start_time": "2022-10-31T02:07:02.869418",
     "status": "completed"
    },
    "tags": []
   },
   "outputs": [
    {
     "data": {
      "text/html": [
       "<div>\n",
       "<style scoped>\n",
       "    .dataframe tbody tr th:only-of-type {\n",
       "        vertical-align: middle;\n",
       "    }\n",
       "\n",
       "    .dataframe tbody tr th {\n",
       "        vertical-align: top;\n",
       "    }\n",
       "\n",
       "    .dataframe thead th {\n",
       "        text-align: right;\n",
       "    }\n",
       "</style>\n",
       "<table border=\"1\" class=\"dataframe\">\n",
       "  <thead>\n",
       "    <tr style=\"text-align: right;\">\n",
       "      <th></th>\n",
       "      <th>Id</th>\n",
       "      <th>age</th>\n",
       "      <th>workclass</th>\n",
       "      <th>fnlwgt</th>\n",
       "      <th>education</th>\n",
       "      <th>education.num</th>\n",
       "      <th>marital.status</th>\n",
       "      <th>occupation</th>\n",
       "      <th>relationship</th>\n",
       "      <th>race</th>\n",
       "      <th>sex</th>\n",
       "      <th>capital.gain</th>\n",
       "      <th>capital.loss</th>\n",
       "      <th>hours.per.week</th>\n",
       "      <th>native.country</th>\n",
       "    </tr>\n",
       "  </thead>\n",
       "  <tbody>\n",
       "    <tr>\n",
       "      <th>0</th>\n",
       "      <td>0</td>\n",
       "      <td>25</td>\n",
       "      <td>Private</td>\n",
       "      <td>120596</td>\n",
       "      <td>Bachelors</td>\n",
       "      <td>13</td>\n",
       "      <td>0.5</td>\n",
       "      <td>Prof-specialty</td>\n",
       "      <td>Not-in-family</td>\n",
       "      <td>White</td>\n",
       "      <td>0</td>\n",
       "      <td>0</td>\n",
       "      <td>0</td>\n",
       "      <td>44</td>\n",
       "      <td>1</td>\n",
       "    </tr>\n",
       "    <tr>\n",
       "      <th>1</th>\n",
       "      <td>1</td>\n",
       "      <td>64</td>\n",
       "      <td>State-gov</td>\n",
       "      <td>152537</td>\n",
       "      <td>Bachelors</td>\n",
       "      <td>13</td>\n",
       "      <td>1</td>\n",
       "      <td>Exec-managerial</td>\n",
       "      <td>Husband</td>\n",
       "      <td>White</td>\n",
       "      <td>0</td>\n",
       "      <td>0</td>\n",
       "      <td>0</td>\n",
       "      <td>45</td>\n",
       "      <td>1</td>\n",
       "    </tr>\n",
       "    <tr>\n",
       "      <th>2</th>\n",
       "      <td>2</td>\n",
       "      <td>31</td>\n",
       "      <td>Private</td>\n",
       "      <td>100135</td>\n",
       "      <td>Masters</td>\n",
       "      <td>14</td>\n",
       "      <td>0</td>\n",
       "      <td>Exec-managerial</td>\n",
       "      <td>Not-in-family</td>\n",
       "      <td>White</td>\n",
       "      <td>1</td>\n",
       "      <td>0</td>\n",
       "      <td>0</td>\n",
       "      <td>40</td>\n",
       "      <td>1</td>\n",
       "    </tr>\n",
       "    <tr>\n",
       "      <th>3</th>\n",
       "      <td>3</td>\n",
       "      <td>45</td>\n",
       "      <td>Private</td>\n",
       "      <td>189123</td>\n",
       "      <td>HS-grad</td>\n",
       "      <td>9</td>\n",
       "      <td>0.5</td>\n",
       "      <td>Machine-op-inspct</td>\n",
       "      <td>Own-child</td>\n",
       "      <td>White</td>\n",
       "      <td>0</td>\n",
       "      <td>0</td>\n",
       "      <td>0</td>\n",
       "      <td>40</td>\n",
       "      <td>1</td>\n",
       "    </tr>\n",
       "    <tr>\n",
       "      <th>4</th>\n",
       "      <td>4</td>\n",
       "      <td>64</td>\n",
       "      <td>Self-emp-inc</td>\n",
       "      <td>487751</td>\n",
       "      <td>Bachelors</td>\n",
       "      <td>13</td>\n",
       "      <td>1</td>\n",
       "      <td>Exec-managerial</td>\n",
       "      <td>Husband</td>\n",
       "      <td>White</td>\n",
       "      <td>0</td>\n",
       "      <td>0</td>\n",
       "      <td>0</td>\n",
       "      <td>50</td>\n",
       "      <td>1</td>\n",
       "    </tr>\n",
       "  </tbody>\n",
       "</table>\n",
       "</div>"
      ],
      "text/plain": [
       "   Id  age     workclass  fnlwgt  education  education.num marital.status  \\\n",
       "0   0   25       Private  120596  Bachelors             13            0.5   \n",
       "1   1   64     State-gov  152537  Bachelors             13              1   \n",
       "2   2   31       Private  100135    Masters             14              0   \n",
       "3   3   45       Private  189123    HS-grad              9            0.5   \n",
       "4   4   64  Self-emp-inc  487751  Bachelors             13              1   \n",
       "\n",
       "          occupation   relationship   race sex  capital.gain  capital.loss  \\\n",
       "0     Prof-specialty  Not-in-family  White   0             0             0   \n",
       "1    Exec-managerial        Husband  White   0             0             0   \n",
       "2    Exec-managerial  Not-in-family  White   1             0             0   \n",
       "3  Machine-op-inspct      Own-child  White   0             0             0   \n",
       "4    Exec-managerial        Husband  White   0             0             0   \n",
       "\n",
       "   hours.per.week native.country  \n",
       "0              44              1  \n",
       "1              45              1  \n",
       "2              40              1  \n",
       "3              40              1  \n",
       "4              50              1  "
      ]
     },
     "execution_count": 26,
     "metadata": {},
     "output_type": "execute_result"
    }
   ],
   "source": [
    "teste_adult.head()"
   ]
  },
  {
   "cell_type": "markdown",
   "id": "c9ee7787",
   "metadata": {
    "papermill": {
     "duration": 0.025726,
     "end_time": "2022-10-31T02:07:02.968702",
     "exception": false,
     "start_time": "2022-10-31T02:07:02.942976",
     "status": "completed"
    },
    "tags": []
   },
   "source": [
    "Parece tudo certo."
   ]
  },
  {
   "cell_type": "markdown",
   "id": "c51d4adb",
   "metadata": {
    "papermill": {
     "duration": 0.025947,
     "end_time": "2022-10-31T02:07:03.020674",
     "exception": false,
     "start_time": "2022-10-31T02:07:02.994727",
     "status": "completed"
    },
    "tags": []
   },
   "source": [
    "Vamos analisar os dados relacionados a feature 'Workclass'. Primeiro vejamos todas possibilidades:"
   ]
  },
  {
   "cell_type": "code",
   "execution_count": 27,
   "id": "a02e8851",
   "metadata": {
    "execution": {
     "iopub.execute_input": "2022-10-31T02:07:03.075782Z",
     "iopub.status.busy": "2022-10-31T02:07:03.075336Z",
     "iopub.status.idle": "2022-10-31T02:07:03.085099Z",
     "shell.execute_reply": "2022-10-31T02:07:03.083965Z"
    },
    "papermill": {
     "duration": 0.039504,
     "end_time": "2022-10-31T02:07:03.087409",
     "exception": false,
     "start_time": "2022-10-31T02:07:03.047905",
     "status": "completed"
    },
    "tags": []
   },
   "outputs": [
    {
     "data": {
      "text/plain": [
       "Private             11209\n",
       "Self-emp-not-inc     1321\n",
       "Local-gov            1043\n",
       "State-gov             683\n",
       "Self-emp-inc          579\n",
       "Federal-gov           472\n",
       "Without-pay             7\n",
       "Never-worked            3\n",
       "Name: workclass, dtype: int64"
      ]
     },
     "execution_count": 27,
     "metadata": {},
     "output_type": "execute_result"
    }
   ],
   "source": [
    "teste_adult['workclass'].value_counts()"
   ]
  },
  {
   "cell_type": "markdown",
   "id": "fbbd2e06",
   "metadata": {
    "papermill": {
     "duration": 0.025994,
     "end_time": "2022-10-31T02:07:03.139297",
     "exception": false,
     "start_time": "2022-10-31T02:07:03.113303",
     "status": "completed"
    },
    "tags": []
   },
   "source": [
    "Claramente os valores 'without-pay' e 'Never-worked' terão grande impacto na renda anual do indivíduo, vamos agrupá-las com o valor -1, pois é de se esperar que tais condições tenham um impacto enorme na renda do indivíduo. Vamos unir os servidores públicos no valor 0 e os privados no valor 0.5, ou seja, atribuiremos 0 para 'Local-gov', 'State-gov' e 'Federal-gov', por fim, vamos atribuir aos empreendedores o valor 1. "
   ]
  },
  {
   "cell_type": "code",
   "execution_count": 28,
   "id": "7c732b1a",
   "metadata": {
    "execution": {
     "iopub.execute_input": "2022-10-31T02:07:03.193396Z",
     "iopub.status.busy": "2022-10-31T02:07:03.192929Z",
     "iopub.status.idle": "2022-10-31T02:07:08.351521Z",
     "shell.execute_reply": "2022-10-31T02:07:08.350146Z"
    },
    "papermill": {
     "duration": 5.188987,
     "end_time": "2022-10-31T02:07:08.354382",
     "exception": false,
     "start_time": "2022-10-31T02:07:03.165395",
     "status": "completed"
    },
    "tags": []
   },
   "outputs": [
    {
     "name": "stderr",
     "output_type": "stream",
     "text": [
      "/opt/conda/lib/python3.7/site-packages/ipykernel_launcher.py:8: SettingWithCopyWarning: \n",
      "A value is trying to be set on a copy of a slice from a DataFrame\n",
      "\n",
      "See the caveats in the documentation: https://pandas.pydata.org/pandas-docs/stable/user_guide/indexing.html#returning-a-view-versus-a-copy\n",
      "  \n",
      "/opt/conda/lib/python3.7/site-packages/ipykernel_launcher.py:6: SettingWithCopyWarning: \n",
      "A value is trying to be set on a copy of a slice from a DataFrame\n",
      "\n",
      "See the caveats in the documentation: https://pandas.pydata.org/pandas-docs/stable/user_guide/indexing.html#returning-a-view-versus-a-copy\n",
      "  \n",
      "/opt/conda/lib/python3.7/site-packages/ipykernel_launcher.py:10: SettingWithCopyWarning: \n",
      "A value is trying to be set on a copy of a slice from a DataFrame\n",
      "\n",
      "See the caveats in the documentation: https://pandas.pydata.org/pandas-docs/stable/user_guide/indexing.html#returning-a-view-versus-a-copy\n",
      "  # Remove the CWD from sys.path while we load stuff.\n",
      "/opt/conda/lib/python3.7/site-packages/ipykernel_launcher.py:4: SettingWithCopyWarning: \n",
      "A value is trying to be set on a copy of a slice from a DataFrame\n",
      "\n",
      "See the caveats in the documentation: https://pandas.pydata.org/pandas-docs/stable/user_guide/indexing.html#returning-a-view-versus-a-copy\n",
      "  after removing the cwd from sys.path.\n"
     ]
    }
   ],
   "source": [
    "n=0\n",
    "for x in teste_adult[\"workclass\"]:\n",
    "    if x in {'Without-pay', 'Never-worked' }:\n",
    "        teste_adult[\"workclass\"][n] = -1\n",
    "    elif x in {'Local-gov', 'State-gov', 'Federal-gov'}:\n",
    "        teste_adult[\"workclass\"][n] = 0\n",
    "    elif x == 'Private':\n",
    "        teste_adult[\"workclass\"][n] = 0.5\n",
    "    else:\n",
    "        teste_adult[\"workclass\"][n] = 1\n",
    "    n=n+1"
   ]
  },
  {
   "cell_type": "code",
   "execution_count": 29,
   "id": "98d8d7f2",
   "metadata": {
    "execution": {
     "iopub.execute_input": "2022-10-31T02:07:08.409902Z",
     "iopub.status.busy": "2022-10-31T02:07:08.409455Z",
     "iopub.status.idle": "2022-10-31T02:07:20.858572Z",
     "shell.execute_reply": "2022-10-31T02:07:20.857562Z"
    },
    "papermill": {
     "duration": 12.479968,
     "end_time": "2022-10-31T02:07:20.861360",
     "exception": false,
     "start_time": "2022-10-31T02:07:08.381392",
     "status": "completed"
    },
    "tags": []
   },
   "outputs": [
    {
     "name": "stderr",
     "output_type": "stream",
     "text": [
      "/opt/conda/lib/python3.7/site-packages/ipykernel_launcher.py:8: SettingWithCopyWarning: \n",
      "A value is trying to be set on a copy of a slice from a DataFrame\n",
      "\n",
      "See the caveats in the documentation: https://pandas.pydata.org/pandas-docs/stable/user_guide/indexing.html#returning-a-view-versus-a-copy\n",
      "  \n",
      "/opt/conda/lib/python3.7/site-packages/ipykernel_launcher.py:6: SettingWithCopyWarning: \n",
      "A value is trying to be set on a copy of a slice from a DataFrame\n",
      "\n",
      "See the caveats in the documentation: https://pandas.pydata.org/pandas-docs/stable/user_guide/indexing.html#returning-a-view-versus-a-copy\n",
      "  \n",
      "/opt/conda/lib/python3.7/site-packages/ipykernel_launcher.py:10: SettingWithCopyWarning: \n",
      "A value is trying to be set on a copy of a slice from a DataFrame\n",
      "\n",
      "See the caveats in the documentation: https://pandas.pydata.org/pandas-docs/stable/user_guide/indexing.html#returning-a-view-versus-a-copy\n",
      "  # Remove the CWD from sys.path while we load stuff.\n",
      "/opt/conda/lib/python3.7/site-packages/ipykernel_launcher.py:4: SettingWithCopyWarning: \n",
      "A value is trying to be set on a copy of a slice from a DataFrame\n",
      "\n",
      "See the caveats in the documentation: https://pandas.pydata.org/pandas-docs/stable/user_guide/indexing.html#returning-a-view-versus-a-copy\n",
      "  after removing the cwd from sys.path.\n"
     ]
    }
   ],
   "source": [
    "n=0\n",
    "for x in treino_adult[\"workclass\"]:\n",
    "    if x in {'Without-pay', 'Never-worked' }:\n",
    "        treino_adult[\"workclass\"][n] = -1\n",
    "    elif x in {'Local-gov', 'State-gov', 'Federal-gov'}:\n",
    "        treino_adult[\"workclass\"][n] = 0\n",
    "    elif x == 'Private':\n",
    "        treino_adult[\"workclass\"][n] = 0.5\n",
    "    else:\n",
    "        treino_adult[\"workclass\"][n] = 1\n",
    "    n=n+1"
   ]
  },
  {
   "cell_type": "markdown",
   "id": "fe7c4f01",
   "metadata": {
    "papermill": {
     "duration": 0.026174,
     "end_time": "2022-10-31T02:07:20.914791",
     "exception": false,
     "start_time": "2022-10-31T02:07:20.888617",
     "status": "completed"
    },
    "tags": []
   },
   "source": [
    "Novamente analisando a saída:"
   ]
  },
  {
   "cell_type": "code",
   "execution_count": 30,
   "id": "bdd27c15",
   "metadata": {
    "execution": {
     "iopub.execute_input": "2022-10-31T02:07:20.970285Z",
     "iopub.status.busy": "2022-10-31T02:07:20.969592Z",
     "iopub.status.idle": "2022-10-31T02:07:20.987360Z",
     "shell.execute_reply": "2022-10-31T02:07:20.986091Z"
    },
    "papermill": {
     "duration": 0.048523,
     "end_time": "2022-10-31T02:07:20.989948",
     "exception": false,
     "start_time": "2022-10-31T02:07:20.941425",
     "status": "completed"
    },
    "tags": []
   },
   "outputs": [
    {
     "data": {
      "text/html": [
       "<div>\n",
       "<style scoped>\n",
       "    .dataframe tbody tr th:only-of-type {\n",
       "        vertical-align: middle;\n",
       "    }\n",
       "\n",
       "    .dataframe tbody tr th {\n",
       "        vertical-align: top;\n",
       "    }\n",
       "\n",
       "    .dataframe thead th {\n",
       "        text-align: right;\n",
       "    }\n",
       "</style>\n",
       "<table border=\"1\" class=\"dataframe\">\n",
       "  <thead>\n",
       "    <tr style=\"text-align: right;\">\n",
       "      <th></th>\n",
       "      <th>Id</th>\n",
       "      <th>age</th>\n",
       "      <th>workclass</th>\n",
       "      <th>fnlwgt</th>\n",
       "      <th>education</th>\n",
       "      <th>education.num</th>\n",
       "      <th>marital.status</th>\n",
       "      <th>occupation</th>\n",
       "      <th>relationship</th>\n",
       "      <th>race</th>\n",
       "      <th>sex</th>\n",
       "      <th>capital.gain</th>\n",
       "      <th>capital.loss</th>\n",
       "      <th>hours.per.week</th>\n",
       "      <th>native.country</th>\n",
       "      <th>income</th>\n",
       "    </tr>\n",
       "  </thead>\n",
       "  <tbody>\n",
       "    <tr>\n",
       "      <th>0</th>\n",
       "      <td>16280</td>\n",
       "      <td>34</td>\n",
       "      <td>0.5</td>\n",
       "      <td>204991</td>\n",
       "      <td>Some-college</td>\n",
       "      <td>10</td>\n",
       "      <td>0</td>\n",
       "      <td>Exec-managerial</td>\n",
       "      <td>Own-child</td>\n",
       "      <td>White</td>\n",
       "      <td>0</td>\n",
       "      <td>0</td>\n",
       "      <td>0</td>\n",
       "      <td>44</td>\n",
       "      <td>1</td>\n",
       "      <td>&lt;=50K</td>\n",
       "    </tr>\n",
       "    <tr>\n",
       "      <th>1</th>\n",
       "      <td>16281</td>\n",
       "      <td>58</td>\n",
       "      <td>0</td>\n",
       "      <td>310085</td>\n",
       "      <td>10th</td>\n",
       "      <td>6</td>\n",
       "      <td>1</td>\n",
       "      <td>Transport-moving</td>\n",
       "      <td>Husband</td>\n",
       "      <td>White</td>\n",
       "      <td>0</td>\n",
       "      <td>0</td>\n",
       "      <td>0</td>\n",
       "      <td>40</td>\n",
       "      <td>1</td>\n",
       "      <td>&lt;=50K</td>\n",
       "    </tr>\n",
       "    <tr>\n",
       "      <th>2</th>\n",
       "      <td>16282</td>\n",
       "      <td>25</td>\n",
       "      <td>0.5</td>\n",
       "      <td>146117</td>\n",
       "      <td>Some-college</td>\n",
       "      <td>10</td>\n",
       "      <td>0.5</td>\n",
       "      <td>Machine-op-inspct</td>\n",
       "      <td>Not-in-family</td>\n",
       "      <td>White</td>\n",
       "      <td>0</td>\n",
       "      <td>0</td>\n",
       "      <td>0</td>\n",
       "      <td>42</td>\n",
       "      <td>1</td>\n",
       "      <td>&lt;=50K</td>\n",
       "    </tr>\n",
       "    <tr>\n",
       "      <th>3</th>\n",
       "      <td>16283</td>\n",
       "      <td>24</td>\n",
       "      <td>0.5</td>\n",
       "      <td>138938</td>\n",
       "      <td>Some-college</td>\n",
       "      <td>10</td>\n",
       "      <td>0</td>\n",
       "      <td>Adm-clerical</td>\n",
       "      <td>Not-in-family</td>\n",
       "      <td>White</td>\n",
       "      <td>1</td>\n",
       "      <td>0</td>\n",
       "      <td>0</td>\n",
       "      <td>40</td>\n",
       "      <td>1</td>\n",
       "      <td>&lt;=50K</td>\n",
       "    </tr>\n",
       "    <tr>\n",
       "      <th>4</th>\n",
       "      <td>16284</td>\n",
       "      <td>57</td>\n",
       "      <td>1</td>\n",
       "      <td>258883</td>\n",
       "      <td>HS-grad</td>\n",
       "      <td>9</td>\n",
       "      <td>1</td>\n",
       "      <td>Transport-moving</td>\n",
       "      <td>Husband</td>\n",
       "      <td>White</td>\n",
       "      <td>0</td>\n",
       "      <td>5178</td>\n",
       "      <td>0</td>\n",
       "      <td>60</td>\n",
       "      <td>0</td>\n",
       "      <td>&gt;50K</td>\n",
       "    </tr>\n",
       "  </tbody>\n",
       "</table>\n",
       "</div>"
      ],
      "text/plain": [
       "      Id  age workclass  fnlwgt     education  education.num marital.status  \\\n",
       "0  16280   34       0.5  204991  Some-college             10              0   \n",
       "1  16281   58         0  310085          10th              6              1   \n",
       "2  16282   25       0.5  146117  Some-college             10            0.5   \n",
       "3  16283   24       0.5  138938  Some-college             10              0   \n",
       "4  16284   57         1  258883       HS-grad              9              1   \n",
       "\n",
       "          occupation   relationship   race sex  capital.gain  capital.loss  \\\n",
       "0    Exec-managerial      Own-child  White   0             0             0   \n",
       "1   Transport-moving        Husband  White   0             0             0   \n",
       "2  Machine-op-inspct  Not-in-family  White   0             0             0   \n",
       "3       Adm-clerical  Not-in-family  White   1             0             0   \n",
       "4   Transport-moving        Husband  White   0          5178             0   \n",
       "\n",
       "   hours.per.week native.country income  \n",
       "0              44              1  <=50K  \n",
       "1              40              1  <=50K  \n",
       "2              42              1  <=50K  \n",
       "3              40              1  <=50K  \n",
       "4              60              0   >50K  "
      ]
     },
     "execution_count": 30,
     "metadata": {},
     "output_type": "execute_result"
    }
   ],
   "source": [
    "treino_adult.head()"
   ]
  },
  {
   "cell_type": "code",
   "execution_count": 31,
   "id": "444278d4",
   "metadata": {
    "execution": {
     "iopub.execute_input": "2022-10-31T02:07:21.045684Z",
     "iopub.status.busy": "2022-10-31T02:07:21.045094Z",
     "iopub.status.idle": "2022-10-31T02:07:21.064267Z",
     "shell.execute_reply": "2022-10-31T02:07:21.063267Z"
    },
    "papermill": {
     "duration": 0.049519,
     "end_time": "2022-10-31T02:07:21.066460",
     "exception": false,
     "start_time": "2022-10-31T02:07:21.016941",
     "status": "completed"
    },
    "tags": []
   },
   "outputs": [
    {
     "data": {
      "text/html": [
       "<div>\n",
       "<style scoped>\n",
       "    .dataframe tbody tr th:only-of-type {\n",
       "        vertical-align: middle;\n",
       "    }\n",
       "\n",
       "    .dataframe tbody tr th {\n",
       "        vertical-align: top;\n",
       "    }\n",
       "\n",
       "    .dataframe thead th {\n",
       "        text-align: right;\n",
       "    }\n",
       "</style>\n",
       "<table border=\"1\" class=\"dataframe\">\n",
       "  <thead>\n",
       "    <tr style=\"text-align: right;\">\n",
       "      <th></th>\n",
       "      <th>Id</th>\n",
       "      <th>age</th>\n",
       "      <th>workclass</th>\n",
       "      <th>fnlwgt</th>\n",
       "      <th>education</th>\n",
       "      <th>education.num</th>\n",
       "      <th>marital.status</th>\n",
       "      <th>occupation</th>\n",
       "      <th>relationship</th>\n",
       "      <th>race</th>\n",
       "      <th>sex</th>\n",
       "      <th>capital.gain</th>\n",
       "      <th>capital.loss</th>\n",
       "      <th>hours.per.week</th>\n",
       "      <th>native.country</th>\n",
       "    </tr>\n",
       "  </thead>\n",
       "  <tbody>\n",
       "    <tr>\n",
       "      <th>0</th>\n",
       "      <td>0</td>\n",
       "      <td>25</td>\n",
       "      <td>0.5</td>\n",
       "      <td>120596</td>\n",
       "      <td>Bachelors</td>\n",
       "      <td>13</td>\n",
       "      <td>0.5</td>\n",
       "      <td>Prof-specialty</td>\n",
       "      <td>Not-in-family</td>\n",
       "      <td>White</td>\n",
       "      <td>0</td>\n",
       "      <td>0</td>\n",
       "      <td>0</td>\n",
       "      <td>44</td>\n",
       "      <td>1</td>\n",
       "    </tr>\n",
       "    <tr>\n",
       "      <th>1</th>\n",
       "      <td>1</td>\n",
       "      <td>64</td>\n",
       "      <td>0</td>\n",
       "      <td>152537</td>\n",
       "      <td>Bachelors</td>\n",
       "      <td>13</td>\n",
       "      <td>1</td>\n",
       "      <td>Exec-managerial</td>\n",
       "      <td>Husband</td>\n",
       "      <td>White</td>\n",
       "      <td>0</td>\n",
       "      <td>0</td>\n",
       "      <td>0</td>\n",
       "      <td>45</td>\n",
       "      <td>1</td>\n",
       "    </tr>\n",
       "    <tr>\n",
       "      <th>2</th>\n",
       "      <td>2</td>\n",
       "      <td>31</td>\n",
       "      <td>0.5</td>\n",
       "      <td>100135</td>\n",
       "      <td>Masters</td>\n",
       "      <td>14</td>\n",
       "      <td>0</td>\n",
       "      <td>Exec-managerial</td>\n",
       "      <td>Not-in-family</td>\n",
       "      <td>White</td>\n",
       "      <td>1</td>\n",
       "      <td>0</td>\n",
       "      <td>0</td>\n",
       "      <td>40</td>\n",
       "      <td>1</td>\n",
       "    </tr>\n",
       "    <tr>\n",
       "      <th>3</th>\n",
       "      <td>3</td>\n",
       "      <td>45</td>\n",
       "      <td>0.5</td>\n",
       "      <td>189123</td>\n",
       "      <td>HS-grad</td>\n",
       "      <td>9</td>\n",
       "      <td>0.5</td>\n",
       "      <td>Machine-op-inspct</td>\n",
       "      <td>Own-child</td>\n",
       "      <td>White</td>\n",
       "      <td>0</td>\n",
       "      <td>0</td>\n",
       "      <td>0</td>\n",
       "      <td>40</td>\n",
       "      <td>1</td>\n",
       "    </tr>\n",
       "    <tr>\n",
       "      <th>4</th>\n",
       "      <td>4</td>\n",
       "      <td>64</td>\n",
       "      <td>1</td>\n",
       "      <td>487751</td>\n",
       "      <td>Bachelors</td>\n",
       "      <td>13</td>\n",
       "      <td>1</td>\n",
       "      <td>Exec-managerial</td>\n",
       "      <td>Husband</td>\n",
       "      <td>White</td>\n",
       "      <td>0</td>\n",
       "      <td>0</td>\n",
       "      <td>0</td>\n",
       "      <td>50</td>\n",
       "      <td>1</td>\n",
       "    </tr>\n",
       "  </tbody>\n",
       "</table>\n",
       "</div>"
      ],
      "text/plain": [
       "   Id  age workclass  fnlwgt  education  education.num marital.status  \\\n",
       "0   0   25       0.5  120596  Bachelors             13            0.5   \n",
       "1   1   64         0  152537  Bachelors             13              1   \n",
       "2   2   31       0.5  100135    Masters             14              0   \n",
       "3   3   45       0.5  189123    HS-grad              9            0.5   \n",
       "4   4   64         1  487751  Bachelors             13              1   \n",
       "\n",
       "          occupation   relationship   race sex  capital.gain  capital.loss  \\\n",
       "0     Prof-specialty  Not-in-family  White   0             0             0   \n",
       "1    Exec-managerial        Husband  White   0             0             0   \n",
       "2    Exec-managerial  Not-in-family  White   1             0             0   \n",
       "3  Machine-op-inspct      Own-child  White   0             0             0   \n",
       "4    Exec-managerial        Husband  White   0             0             0   \n",
       "\n",
       "   hours.per.week native.country  \n",
       "0              44              1  \n",
       "1              45              1  \n",
       "2              40              1  \n",
       "3              40              1  \n",
       "4              50              1  "
      ]
     },
     "execution_count": 31,
     "metadata": {},
     "output_type": "execute_result"
    }
   ],
   "source": [
    "teste_adult.head()"
   ]
  },
  {
   "cell_type": "markdown",
   "id": "3deee54b",
   "metadata": {
    "papermill": {
     "duration": 0.026686,
     "end_time": "2022-10-31T02:07:21.121005",
     "exception": false,
     "start_time": "2022-10-31T02:07:21.094319",
     "status": "completed"
    },
    "tags": []
   },
   "source": [
    "Vamos analisar a feature 'relationship':"
   ]
  },
  {
   "cell_type": "code",
   "execution_count": 32,
   "id": "df19e014",
   "metadata": {
    "execution": {
     "iopub.execute_input": "2022-10-31T02:07:21.178171Z",
     "iopub.status.busy": "2022-10-31T02:07:21.176767Z",
     "iopub.status.idle": "2022-10-31T02:07:21.187869Z",
     "shell.execute_reply": "2022-10-31T02:07:21.186958Z"
    },
    "papermill": {
     "duration": 0.04161,
     "end_time": "2022-10-31T02:07:21.189961",
     "exception": false,
     "start_time": "2022-10-31T02:07:21.148351",
     "status": "completed"
    },
    "tags": []
   },
   "outputs": [
    {
     "data": {
      "text/plain": [
       "Husband           13193\n",
       "Not-in-family      8304\n",
       "Own-child          5068\n",
       "Unmarried          3446\n",
       "Wife               1568\n",
       "Other-relative      981\n",
       "Name: relationship, dtype: int64"
      ]
     },
     "execution_count": 32,
     "metadata": {},
     "output_type": "execute_result"
    }
   ],
   "source": [
    "treino_adult['relationship'].value_counts()"
   ]
  },
  {
   "cell_type": "markdown",
   "id": "82793c7c",
   "metadata": {
    "papermill": {
     "duration": 0.027106,
     "end_time": "2022-10-31T02:07:21.244367",
     "exception": false,
     "start_time": "2022-10-31T02:07:21.217261",
     "status": "completed"
    },
    "tags": []
   },
   "source": [
    "A questão de se a relação familiar impacta a renda é boa. A princípio não utilizarei esses dados, porque não consigo pensar em boas explicações para tanto."
   ]
  },
  {
   "cell_type": "code",
   "execution_count": 33,
   "id": "e414a4cc",
   "metadata": {
    "execution": {
     "iopub.execute_input": "2022-10-31T02:07:21.301424Z",
     "iopub.status.busy": "2022-10-31T02:07:21.300642Z",
     "iopub.status.idle": "2022-10-31T02:07:21.310641Z",
     "shell.execute_reply": "2022-10-31T02:07:21.309536Z"
    },
    "papermill": {
     "duration": 0.04141,
     "end_time": "2022-10-31T02:07:21.313186",
     "exception": false,
     "start_time": "2022-10-31T02:07:21.271776",
     "status": "completed"
    },
    "scrolled": true,
    "tags": []
   },
   "outputs": [
    {
     "data": {
      "text/plain": [
       "Prof-specialty       4140\n",
       "Craft-repair         4099\n",
       "Exec-managerial      4066\n",
       "Adm-clerical         3769\n",
       "Sales                3650\n",
       "Other-service        3295\n",
       "Machine-op-inspct    2002\n",
       "Transport-moving     1597\n",
       "Handlers-cleaners    1370\n",
       "Farming-fishing       994\n",
       "Tech-support          928\n",
       "Protective-serv       649\n",
       "Priv-house-serv       149\n",
       "Armed-Forces            9\n",
       "Name: occupation, dtype: int64"
      ]
     },
     "execution_count": 33,
     "metadata": {},
     "output_type": "execute_result"
    }
   ],
   "source": [
    "treino_adult['occupation'].value_counts()"
   ]
  },
  {
   "cell_type": "markdown",
   "id": "2a641ca4",
   "metadata": {
    "papermill": {
     "duration": 0.027039,
     "end_time": "2022-10-31T02:07:21.367805",
     "exception": false,
     "start_time": "2022-10-31T02:07:21.340766",
     "status": "completed"
    },
    "tags": []
   },
   "source": [
    "A ocupação é claramente muito relevante para a renda, mas para conseguirmos usar essa feature para análises preditivas, precisariamos de dados correlacionando essas profissões e a renda obtida em cada um delas, como a proposta do trabalho é não utilizar dados externos, não usarei essa variável na análise."
   ]
  },
  {
   "cell_type": "markdown",
   "id": "96bd569a",
   "metadata": {
    "papermill": {
     "duration": 0.026931,
     "end_time": "2022-10-31T02:07:21.422032",
     "exception": false,
     "start_time": "2022-10-31T02:07:21.395101",
     "status": "completed"
    },
    "tags": []
   },
   "source": [
    "Vamos analisar a distribuição das variáveis de ganho e perda de capital através de histogramas:"
   ]
  },
  {
   "cell_type": "code",
   "execution_count": 34,
   "id": "b08d026f",
   "metadata": {
    "execution": {
     "iopub.execute_input": "2022-10-31T02:07:21.479533Z",
     "iopub.status.busy": "2022-10-31T02:07:21.479064Z",
     "iopub.status.idle": "2022-10-31T02:07:21.722793Z",
     "shell.execute_reply": "2022-10-31T02:07:21.721722Z"
    },
    "papermill": {
     "duration": 0.27553,
     "end_time": "2022-10-31T02:07:21.725358",
     "exception": false,
     "start_time": "2022-10-31T02:07:21.449828",
     "status": "completed"
    },
    "tags": []
   },
   "outputs": [
    {
     "data": {
      "text/plain": [
       "(array([3.179e+04, 5.170e+02, 8.700e+01, 5.000e+00, 2.000e+00, 0.000e+00,\n",
       "        0.000e+00, 0.000e+00, 0.000e+00, 1.590e+02]),\n",
       " array([    0. ,  9999.9, 19999.8, 29999.7, 39999.6, 49999.5, 59999.4,\n",
       "        69999.3, 79999.2, 89999.1, 99999. ]),\n",
       " <BarContainer object of 10 artists>)"
      ]
     },
     "execution_count": 34,
     "metadata": {},
     "output_type": "execute_result"
    },
    {
     "data": {
      "image/png": "[encoded data removed]",
      "text/plain": [
       "<Figure size 432x288 with 1 Axes>"
      ]
     },
     "metadata": {
      "needs_background": "light"
     },
     "output_type": "display_data"
    }
   ],
   "source": [
    "plt.xlabel('Valor Ganho')\n",
    "plt.ylabel('Número de Ocorrências')\n",
    "plt.title( 'Ganhos de Capital')\n",
    "plt.hist(treino_adult[\"capital.gain\"],10)"
   ]
  },
  {
   "cell_type": "code",
   "execution_count": 35,
   "id": "1bfd1168",
   "metadata": {
    "execution": {
     "iopub.execute_input": "2022-10-31T02:07:21.782923Z",
     "iopub.status.busy": "2022-10-31T02:07:21.782498Z",
     "iopub.status.idle": "2022-10-31T02:07:22.020417Z",
     "shell.execute_reply": "2022-10-31T02:07:22.019147Z"
    },
    "papermill": {
     "duration": 0.269846,
     "end_time": "2022-10-31T02:07:22.022953",
     "exception": false,
     "start_time": "2022-10-31T02:07:21.753107",
     "status": "completed"
    },
    "tags": []
   },
   "outputs": [
    {
     "data": {
      "text/plain": [
       "(array([3.1052e+04, 1.7000e+01, 2.1000e+01, 4.6100e+02, 7.7900e+02,\n",
       "        2.0700e+02, 1.4000e+01, 0.0000e+00, 6.0000e+00, 3.0000e+00]),\n",
       " array([   0. ,  435.6,  871.2, 1306.8, 1742.4, 2178. , 2613.6, 3049.2,\n",
       "        3484.8, 3920.4, 4356. ]),\n",
       " <BarContainer object of 10 artists>)"
      ]
     },
     "execution_count": 35,
     "metadata": {},
     "output_type": "execute_result"
    },
    {
     "data": {
      "image/png": "[encoded data removed]",
      "text/plain": [
       "<Figure size 432x288 with 1 Axes>"
      ]
     },
     "metadata": {
      "needs_background": "light"
     },
     "output_type": "display_data"
    }
   ],
   "source": [
    "plt.xlabel('Valor Perdido')\n",
    "plt.ylabel('Número de Ocorrências')\n",
    "plt.title( 'Perdas de Capital')\n",
    "plt.hist(treino_adult[\"capital.loss\"],10)"
   ]
  },
  {
   "cell_type": "markdown",
   "id": "8fb8b98a",
   "metadata": {
    "papermill": {
     "duration": 0.028271,
     "end_time": "2022-10-31T02:07:22.079663",
     "exception": false,
     "start_time": "2022-10-31T02:07:22.051392",
     "status": "completed"
    },
    "tags": []
   },
   "source": [
    "São pouquíssimos dados relevantes sobre ganhos e perdas de capital, dessa forma não utilizarei esses dados na análise, pois só pela normalização, pessoas que tiveram ganhos próximos a 10000 terão um efeito muito pequeno, por exemplo."
   ]
  },
  {
   "cell_type": "markdown",
   "id": "f6419322",
   "metadata": {
    "papermill": {
     "duration": 0.028158,
     "end_time": "2022-10-31T02:07:22.136880",
     "exception": false,
     "start_time": "2022-10-31T02:07:22.108722",
     "status": "completed"
    },
    "tags": []
   },
   "source": [
    "Para a variável \"Race\" criaremos novas colunas com as saídas possíveis, usaremos o processo de one-hot encoding."
   ]
  },
  {
   "cell_type": "code",
   "execution_count": 36,
   "id": "5b4698ff",
   "metadata": {
    "execution": {
     "iopub.execute_input": "2022-10-31T02:07:22.195628Z",
     "iopub.status.busy": "2022-10-31T02:07:22.195179Z",
     "iopub.status.idle": "2022-10-31T02:07:22.209723Z",
     "shell.execute_reply": "2022-10-31T02:07:22.208760Z"
    },
    "papermill": {
     "duration": 0.047318,
     "end_time": "2022-10-31T02:07:22.212406",
     "exception": false,
     "start_time": "2022-10-31T02:07:22.165088",
     "status": "completed"
    },
    "tags": []
   },
   "outputs": [],
   "source": [
    "R = pd.get_dummies(treino_adult['race'])\n",
    "G = pd.get_dummies(teste_adult['race'])"
   ]
  },
  {
   "cell_type": "code",
   "execution_count": 37,
   "id": "18b86a99",
   "metadata": {
    "execution": {
     "iopub.execute_input": "2022-10-31T02:07:22.271874Z",
     "iopub.status.busy": "2022-10-31T02:07:22.271056Z",
     "iopub.status.idle": "2022-10-31T02:07:22.311164Z",
     "shell.execute_reply": "2022-10-31T02:07:22.309575Z"
    },
    "papermill": {
     "duration": 0.072831,
     "end_time": "2022-10-31T02:07:22.314135",
     "exception": false,
     "start_time": "2022-10-31T02:07:22.241304",
     "status": "completed"
    },
    "tags": []
   },
   "outputs": [],
   "source": [
    "treino_adult = pd.concat([treino_adult, R], axis=1).reindex(treino_adult.index)\n",
    "teste_adult = pd.concat([teste_adult, G], axis=1).reindex(teste_adult.index)"
   ]
  },
  {
   "cell_type": "code",
   "execution_count": 38,
   "id": "d71c1817",
   "metadata": {
    "execution": {
     "iopub.execute_input": "2022-10-31T02:07:22.372317Z",
     "iopub.status.busy": "2022-10-31T02:07:22.371808Z",
     "iopub.status.idle": "2022-10-31T02:07:22.399724Z",
     "shell.execute_reply": "2022-10-31T02:07:22.398575Z"
    },
    "papermill": {
     "duration": 0.060114,
     "end_time": "2022-10-31T02:07:22.402444",
     "exception": false,
     "start_time": "2022-10-31T02:07:22.342330",
     "status": "completed"
    },
    "tags": []
   },
   "outputs": [
    {
     "data": {
      "text/html": [
       "<div>\n",
       "<style scoped>\n",
       "    .dataframe tbody tr th:only-of-type {\n",
       "        vertical-align: middle;\n",
       "    }\n",
       "\n",
       "    .dataframe tbody tr th {\n",
       "        vertical-align: top;\n",
       "    }\n",
       "\n",
       "    .dataframe thead th {\n",
       "        text-align: right;\n",
       "    }\n",
       "</style>\n",
       "<table border=\"1\" class=\"dataframe\">\n",
       "  <thead>\n",
       "    <tr style=\"text-align: right;\">\n",
       "      <th></th>\n",
       "      <th>Id</th>\n",
       "      <th>age</th>\n",
       "      <th>workclass</th>\n",
       "      <th>fnlwgt</th>\n",
       "      <th>education</th>\n",
       "      <th>education.num</th>\n",
       "      <th>marital.status</th>\n",
       "      <th>occupation</th>\n",
       "      <th>relationship</th>\n",
       "      <th>race</th>\n",
       "      <th>sex</th>\n",
       "      <th>capital.gain</th>\n",
       "      <th>capital.loss</th>\n",
       "      <th>hours.per.week</th>\n",
       "      <th>native.country</th>\n",
       "      <th>Amer-Indian-Eskimo</th>\n",
       "      <th>Asian-Pac-Islander</th>\n",
       "      <th>Black</th>\n",
       "      <th>Other</th>\n",
       "      <th>White</th>\n",
       "    </tr>\n",
       "  </thead>\n",
       "  <tbody>\n",
       "    <tr>\n",
       "      <th>0</th>\n",
       "      <td>0</td>\n",
       "      <td>25</td>\n",
       "      <td>0.5</td>\n",
       "      <td>120596</td>\n",
       "      <td>Bachelors</td>\n",
       "      <td>13</td>\n",
       "      <td>0.5</td>\n",
       "      <td>Prof-specialty</td>\n",
       "      <td>Not-in-family</td>\n",
       "      <td>White</td>\n",
       "      <td>0</td>\n",
       "      <td>0</td>\n",
       "      <td>0</td>\n",
       "      <td>44</td>\n",
       "      <td>1</td>\n",
       "      <td>0</td>\n",
       "      <td>0</td>\n",
       "      <td>0</td>\n",
       "      <td>0</td>\n",
       "      <td>1</td>\n",
       "    </tr>\n",
       "    <tr>\n",
       "      <th>1</th>\n",
       "      <td>1</td>\n",
       "      <td>64</td>\n",
       "      <td>0</td>\n",
       "      <td>152537</td>\n",
       "      <td>Bachelors</td>\n",
       "      <td>13</td>\n",
       "      <td>1</td>\n",
       "      <td>Exec-managerial</td>\n",
       "      <td>Husband</td>\n",
       "      <td>White</td>\n",
       "      <td>0</td>\n",
       "      <td>0</td>\n",
       "      <td>0</td>\n",
       "      <td>45</td>\n",
       "      <td>1</td>\n",
       "      <td>0</td>\n",
       "      <td>0</td>\n",
       "      <td>0</td>\n",
       "      <td>0</td>\n",
       "      <td>1</td>\n",
       "    </tr>\n",
       "    <tr>\n",
       "      <th>2</th>\n",
       "      <td>2</td>\n",
       "      <td>31</td>\n",
       "      <td>0.5</td>\n",
       "      <td>100135</td>\n",
       "      <td>Masters</td>\n",
       "      <td>14</td>\n",
       "      <td>0</td>\n",
       "      <td>Exec-managerial</td>\n",
       "      <td>Not-in-family</td>\n",
       "      <td>White</td>\n",
       "      <td>1</td>\n",
       "      <td>0</td>\n",
       "      <td>0</td>\n",
       "      <td>40</td>\n",
       "      <td>1</td>\n",
       "      <td>0</td>\n",
       "      <td>0</td>\n",
       "      <td>0</td>\n",
       "      <td>0</td>\n",
       "      <td>1</td>\n",
       "    </tr>\n",
       "    <tr>\n",
       "      <th>3</th>\n",
       "      <td>3</td>\n",
       "      <td>45</td>\n",
       "      <td>0.5</td>\n",
       "      <td>189123</td>\n",
       "      <td>HS-grad</td>\n",
       "      <td>9</td>\n",
       "      <td>0.5</td>\n",
       "      <td>Machine-op-inspct</td>\n",
       "      <td>Own-child</td>\n",
       "      <td>White</td>\n",
       "      <td>0</td>\n",
       "      <td>0</td>\n",
       "      <td>0</td>\n",
       "      <td>40</td>\n",
       "      <td>1</td>\n",
       "      <td>0</td>\n",
       "      <td>0</td>\n",
       "      <td>0</td>\n",
       "      <td>0</td>\n",
       "      <td>1</td>\n",
       "    </tr>\n",
       "    <tr>\n",
       "      <th>4</th>\n",
       "      <td>4</td>\n",
       "      <td>64</td>\n",
       "      <td>1</td>\n",
       "      <td>487751</td>\n",
       "      <td>Bachelors</td>\n",
       "      <td>13</td>\n",
       "      <td>1</td>\n",
       "      <td>Exec-managerial</td>\n",
       "      <td>Husband</td>\n",
       "      <td>White</td>\n",
       "      <td>0</td>\n",
       "      <td>0</td>\n",
       "      <td>0</td>\n",
       "      <td>50</td>\n",
       "      <td>1</td>\n",
       "      <td>0</td>\n",
       "      <td>0</td>\n",
       "      <td>0</td>\n",
       "      <td>0</td>\n",
       "      <td>1</td>\n",
       "    </tr>\n",
       "    <tr>\n",
       "      <th>...</th>\n",
       "      <td>...</td>\n",
       "      <td>...</td>\n",
       "      <td>...</td>\n",
       "      <td>...</td>\n",
       "      <td>...</td>\n",
       "      <td>...</td>\n",
       "      <td>...</td>\n",
       "      <td>...</td>\n",
       "      <td>...</td>\n",
       "      <td>...</td>\n",
       "      <td>...</td>\n",
       "      <td>...</td>\n",
       "      <td>...</td>\n",
       "      <td>...</td>\n",
       "      <td>...</td>\n",
       "      <td>...</td>\n",
       "      <td>...</td>\n",
       "      <td>...</td>\n",
       "      <td>...</td>\n",
       "      <td>...</td>\n",
       "    </tr>\n",
       "    <tr>\n",
       "      <th>16275</th>\n",
       "      <td>16275</td>\n",
       "      <td>40</td>\n",
       "      <td>0.5</td>\n",
       "      <td>168113</td>\n",
       "      <td>HS-grad</td>\n",
       "      <td>9</td>\n",
       "      <td>1</td>\n",
       "      <td>Craft-repair</td>\n",
       "      <td>Husband</td>\n",
       "      <td>White</td>\n",
       "      <td>0</td>\n",
       "      <td>0</td>\n",
       "      <td>0</td>\n",
       "      <td>40</td>\n",
       "      <td>1</td>\n",
       "      <td>0</td>\n",
       "      <td>0</td>\n",
       "      <td>0</td>\n",
       "      <td>0</td>\n",
       "      <td>1</td>\n",
       "    </tr>\n",
       "    <tr>\n",
       "      <th>16276</th>\n",
       "      <td>16276</td>\n",
       "      <td>30</td>\n",
       "      <td>0</td>\n",
       "      <td>327203</td>\n",
       "      <td>HS-grad</td>\n",
       "      <td>9</td>\n",
       "      <td>1</td>\n",
       "      <td>Other-service</td>\n",
       "      <td>Husband</td>\n",
       "      <td>White</td>\n",
       "      <td>0</td>\n",
       "      <td>0</td>\n",
       "      <td>0</td>\n",
       "      <td>40</td>\n",
       "      <td>1</td>\n",
       "      <td>0</td>\n",
       "      <td>0</td>\n",
       "      <td>0</td>\n",
       "      <td>0</td>\n",
       "      <td>1</td>\n",
       "    </tr>\n",
       "    <tr>\n",
       "      <th>16277</th>\n",
       "      <td>16277</td>\n",
       "      <td>25</td>\n",
       "      <td>0.5</td>\n",
       "      <td>116358</td>\n",
       "      <td>HS-grad</td>\n",
       "      <td>9</td>\n",
       "      <td>0.5</td>\n",
       "      <td>Adm-clerical</td>\n",
       "      <td>Own-child</td>\n",
       "      <td>Asian-Pac-Islander</td>\n",
       "      <td>0</td>\n",
       "      <td>0</td>\n",
       "      <td>0</td>\n",
       "      <td>40</td>\n",
       "      <td>0</td>\n",
       "      <td>0</td>\n",
       "      <td>1</td>\n",
       "      <td>0</td>\n",
       "      <td>0</td>\n",
       "      <td>0</td>\n",
       "    </tr>\n",
       "    <tr>\n",
       "      <th>16278</th>\n",
       "      <td>16278</td>\n",
       "      <td>60</td>\n",
       "      <td>0.5</td>\n",
       "      <td>39263</td>\n",
       "      <td>Masters</td>\n",
       "      <td>14</td>\n",
       "      <td>0.5</td>\n",
       "      <td>Exec-managerial</td>\n",
       "      <td>Not-in-family</td>\n",
       "      <td>White</td>\n",
       "      <td>1</td>\n",
       "      <td>3325</td>\n",
       "      <td>0</td>\n",
       "      <td>35</td>\n",
       "      <td>1</td>\n",
       "      <td>0</td>\n",
       "      <td>0</td>\n",
       "      <td>0</td>\n",
       "      <td>0</td>\n",
       "      <td>1</td>\n",
       "    </tr>\n",
       "    <tr>\n",
       "      <th>16279</th>\n",
       "      <td>16279</td>\n",
       "      <td>49</td>\n",
       "      <td>0.5</td>\n",
       "      <td>182862</td>\n",
       "      <td>Some-college</td>\n",
       "      <td>10</td>\n",
       "      <td>1</td>\n",
       "      <td>Craft-repair</td>\n",
       "      <td>Husband</td>\n",
       "      <td>White</td>\n",
       "      <td>0</td>\n",
       "      <td>7688</td>\n",
       "      <td>0</td>\n",
       "      <td>40</td>\n",
       "      <td>1</td>\n",
       "      <td>0</td>\n",
       "      <td>0</td>\n",
       "      <td>0</td>\n",
       "      <td>0</td>\n",
       "      <td>1</td>\n",
       "    </tr>\n",
       "  </tbody>\n",
       "</table>\n",
       "<p>16280 rows × 20 columns</p>\n",
       "</div>"
      ],
      "text/plain": [
       "          Id  age workclass  fnlwgt     education  education.num  \\\n",
       "0          0   25       0.5  120596     Bachelors             13   \n",
       "1          1   64         0  152537     Bachelors             13   \n",
       "2          2   31       0.5  100135       Masters             14   \n",
       "3          3   45       0.5  189123       HS-grad              9   \n",
       "4          4   64         1  487751     Bachelors             13   \n",
       "...      ...  ...       ...     ...           ...            ...   \n",
       "16275  16275   40       0.5  168113       HS-grad              9   \n",
       "16276  16276   30         0  327203       HS-grad              9   \n",
       "16277  16277   25       0.5  116358       HS-grad              9   \n",
       "16278  16278   60       0.5   39263       Masters             14   \n",
       "16279  16279   49       0.5  182862  Some-college             10   \n",
       "\n",
       "      marital.status         occupation   relationship                race  \\\n",
       "0                0.5     Prof-specialty  Not-in-family               White   \n",
       "1                  1    Exec-managerial        Husband               White   \n",
       "2                  0    Exec-managerial  Not-in-family               White   \n",
       "3                0.5  Machine-op-inspct      Own-child               White   \n",
       "4                  1    Exec-managerial        Husband               White   \n",
       "...              ...                ...            ...                 ...   \n",
       "16275              1       Craft-repair        Husband               White   \n",
       "16276              1      Other-service        Husband               White   \n",
       "16277            0.5       Adm-clerical      Own-child  Asian-Pac-Islander   \n",
       "16278            0.5    Exec-managerial  Not-in-family               White   \n",
       "16279              1       Craft-repair        Husband               White   \n",
       "\n",
       "      sex  capital.gain  capital.loss  hours.per.week native.country  \\\n",
       "0       0             0             0              44              1   \n",
       "1       0             0             0              45              1   \n",
       "2       1             0             0              40              1   \n",
       "3       0             0             0              40              1   \n",
       "4       0             0             0              50              1   \n",
       "...    ..           ...           ...             ...            ...   \n",
       "16275   0             0             0              40              1   \n",
       "16276   0             0             0              40              1   \n",
       "16277   0             0             0              40              0   \n",
       "16278   1          3325             0              35              1   \n",
       "16279   0          7688             0              40              1   \n",
       "\n",
       "       Amer-Indian-Eskimo  Asian-Pac-Islander  Black  Other  White  \n",
       "0                       0                   0      0      0      1  \n",
       "1                       0                   0      0      0      1  \n",
       "2                       0                   0      0      0      1  \n",
       "3                       0                   0      0      0      1  \n",
       "4                       0                   0      0      0      1  \n",
       "...                   ...                 ...    ...    ...    ...  \n",
       "16275                   0                   0      0      0      1  \n",
       "16276                   0                   0      0      0      1  \n",
       "16277                   0                   1      0      0      0  \n",
       "16278                   0                   0      0      0      1  \n",
       "16279                   0                   0      0      0      1  \n",
       "\n",
       "[16280 rows x 20 columns]"
      ]
     },
     "execution_count": 38,
     "metadata": {},
     "output_type": "execute_result"
    }
   ],
   "source": [
    "teste_adult"
   ]
  },
  {
   "cell_type": "code",
   "execution_count": 39,
   "id": "b26fb51c",
   "metadata": {
    "execution": {
     "iopub.execute_input": "2022-10-31T02:07:22.463606Z",
     "iopub.status.busy": "2022-10-31T02:07:22.461784Z",
     "iopub.status.idle": "2022-10-31T02:07:22.511295Z",
     "shell.execute_reply": "2022-10-31T02:07:22.510075Z"
    },
    "papermill": {
     "duration": 0.082896,
     "end_time": "2022-10-31T02:07:22.514151",
     "exception": false,
     "start_time": "2022-10-31T02:07:22.431255",
     "status": "completed"
    },
    "tags": []
   },
   "outputs": [
    {
     "data": {
      "text/html": [
       "<div>\n",
       "<style scoped>\n",
       "    .dataframe tbody tr th:only-of-type {\n",
       "        vertical-align: middle;\n",
       "    }\n",
       "\n",
       "    .dataframe tbody tr th {\n",
       "        vertical-align: top;\n",
       "    }\n",
       "\n",
       "    .dataframe thead th {\n",
       "        text-align: right;\n",
       "    }\n",
       "</style>\n",
       "<table border=\"1\" class=\"dataframe\">\n",
       "  <thead>\n",
       "    <tr style=\"text-align: right;\">\n",
       "      <th></th>\n",
       "      <th>Id</th>\n",
       "      <th>age</th>\n",
       "      <th>workclass</th>\n",
       "      <th>fnlwgt</th>\n",
       "      <th>education</th>\n",
       "      <th>education.num</th>\n",
       "      <th>marital.status</th>\n",
       "      <th>occupation</th>\n",
       "      <th>relationship</th>\n",
       "      <th>race</th>\n",
       "      <th>...</th>\n",
       "      <th>capital.gain</th>\n",
       "      <th>capital.loss</th>\n",
       "      <th>hours.per.week</th>\n",
       "      <th>native.country</th>\n",
       "      <th>income</th>\n",
       "      <th>Amer-Indian-Eskimo</th>\n",
       "      <th>Asian-Pac-Islander</th>\n",
       "      <th>Black</th>\n",
       "      <th>Other</th>\n",
       "      <th>White</th>\n",
       "    </tr>\n",
       "  </thead>\n",
       "  <tbody>\n",
       "    <tr>\n",
       "      <th>0</th>\n",
       "      <td>16280</td>\n",
       "      <td>34</td>\n",
       "      <td>0.5</td>\n",
       "      <td>204991</td>\n",
       "      <td>Some-college</td>\n",
       "      <td>10</td>\n",
       "      <td>0</td>\n",
       "      <td>Exec-managerial</td>\n",
       "      <td>Own-child</td>\n",
       "      <td>White</td>\n",
       "      <td>...</td>\n",
       "      <td>0</td>\n",
       "      <td>0</td>\n",
       "      <td>44</td>\n",
       "      <td>1</td>\n",
       "      <td>&lt;=50K</td>\n",
       "      <td>0</td>\n",
       "      <td>0</td>\n",
       "      <td>0</td>\n",
       "      <td>0</td>\n",
       "      <td>1</td>\n",
       "    </tr>\n",
       "    <tr>\n",
       "      <th>1</th>\n",
       "      <td>16281</td>\n",
       "      <td>58</td>\n",
       "      <td>0</td>\n",
       "      <td>310085</td>\n",
       "      <td>10th</td>\n",
       "      <td>6</td>\n",
       "      <td>1</td>\n",
       "      <td>Transport-moving</td>\n",
       "      <td>Husband</td>\n",
       "      <td>White</td>\n",
       "      <td>...</td>\n",
       "      <td>0</td>\n",
       "      <td>0</td>\n",
       "      <td>40</td>\n",
       "      <td>1</td>\n",
       "      <td>&lt;=50K</td>\n",
       "      <td>0</td>\n",
       "      <td>0</td>\n",
       "      <td>0</td>\n",
       "      <td>0</td>\n",
       "      <td>1</td>\n",
       "    </tr>\n",
       "    <tr>\n",
       "      <th>2</th>\n",
       "      <td>16282</td>\n",
       "      <td>25</td>\n",
       "      <td>0.5</td>\n",
       "      <td>146117</td>\n",
       "      <td>Some-college</td>\n",
       "      <td>10</td>\n",
       "      <td>0.5</td>\n",
       "      <td>Machine-op-inspct</td>\n",
       "      <td>Not-in-family</td>\n",
       "      <td>White</td>\n",
       "      <td>...</td>\n",
       "      <td>0</td>\n",
       "      <td>0</td>\n",
       "      <td>42</td>\n",
       "      <td>1</td>\n",
       "      <td>&lt;=50K</td>\n",
       "      <td>0</td>\n",
       "      <td>0</td>\n",
       "      <td>0</td>\n",
       "      <td>0</td>\n",
       "      <td>1</td>\n",
       "    </tr>\n",
       "    <tr>\n",
       "      <th>3</th>\n",
       "      <td>16283</td>\n",
       "      <td>24</td>\n",
       "      <td>0.5</td>\n",
       "      <td>138938</td>\n",
       "      <td>Some-college</td>\n",
       "      <td>10</td>\n",
       "      <td>0</td>\n",
       "      <td>Adm-clerical</td>\n",
       "      <td>Not-in-family</td>\n",
       "      <td>White</td>\n",
       "      <td>...</td>\n",
       "      <td>0</td>\n",
       "      <td>0</td>\n",
       "      <td>40</td>\n",
       "      <td>1</td>\n",
       "      <td>&lt;=50K</td>\n",
       "      <td>0</td>\n",
       "      <td>0</td>\n",
       "      <td>0</td>\n",
       "      <td>0</td>\n",
       "      <td>1</td>\n",
       "    </tr>\n",
       "    <tr>\n",
       "      <th>4</th>\n",
       "      <td>16284</td>\n",
       "      <td>57</td>\n",
       "      <td>1</td>\n",
       "      <td>258883</td>\n",
       "      <td>HS-grad</td>\n",
       "      <td>9</td>\n",
       "      <td>1</td>\n",
       "      <td>Transport-moving</td>\n",
       "      <td>Husband</td>\n",
       "      <td>White</td>\n",
       "      <td>...</td>\n",
       "      <td>5178</td>\n",
       "      <td>0</td>\n",
       "      <td>60</td>\n",
       "      <td>0</td>\n",
       "      <td>&gt;50K</td>\n",
       "      <td>0</td>\n",
       "      <td>0</td>\n",
       "      <td>0</td>\n",
       "      <td>0</td>\n",
       "      <td>1</td>\n",
       "    </tr>\n",
       "    <tr>\n",
       "      <th>...</th>\n",
       "      <td>...</td>\n",
       "      <td>...</td>\n",
       "      <td>...</td>\n",
       "      <td>...</td>\n",
       "      <td>...</td>\n",
       "      <td>...</td>\n",
       "      <td>...</td>\n",
       "      <td>...</td>\n",
       "      <td>...</td>\n",
       "      <td>...</td>\n",
       "      <td>...</td>\n",
       "      <td>...</td>\n",
       "      <td>...</td>\n",
       "      <td>...</td>\n",
       "      <td>...</td>\n",
       "      <td>...</td>\n",
       "      <td>...</td>\n",
       "      <td>...</td>\n",
       "      <td>...</td>\n",
       "      <td>...</td>\n",
       "      <td>...</td>\n",
       "    </tr>\n",
       "    <tr>\n",
       "      <th>32555</th>\n",
       "      <td>48835</td>\n",
       "      <td>42</td>\n",
       "      <td>0.5</td>\n",
       "      <td>384236</td>\n",
       "      <td>Masters</td>\n",
       "      <td>14</td>\n",
       "      <td>1</td>\n",
       "      <td>Prof-specialty</td>\n",
       "      <td>Husband</td>\n",
       "      <td>White</td>\n",
       "      <td>...</td>\n",
       "      <td>7688</td>\n",
       "      <td>0</td>\n",
       "      <td>40</td>\n",
       "      <td>1</td>\n",
       "      <td>&gt;50K</td>\n",
       "      <td>0</td>\n",
       "      <td>0</td>\n",
       "      <td>0</td>\n",
       "      <td>0</td>\n",
       "      <td>1</td>\n",
       "    </tr>\n",
       "    <tr>\n",
       "      <th>32556</th>\n",
       "      <td>48836</td>\n",
       "      <td>23</td>\n",
       "      <td>0.5</td>\n",
       "      <td>129042</td>\n",
       "      <td>HS-grad</td>\n",
       "      <td>9</td>\n",
       "      <td>0.5</td>\n",
       "      <td>Machine-op-inspct</td>\n",
       "      <td>Unmarried</td>\n",
       "      <td>Black</td>\n",
       "      <td>...</td>\n",
       "      <td>0</td>\n",
       "      <td>0</td>\n",
       "      <td>40</td>\n",
       "      <td>1</td>\n",
       "      <td>&lt;=50K</td>\n",
       "      <td>0</td>\n",
       "      <td>0</td>\n",
       "      <td>1</td>\n",
       "      <td>0</td>\n",
       "      <td>0</td>\n",
       "    </tr>\n",
       "    <tr>\n",
       "      <th>32557</th>\n",
       "      <td>48837</td>\n",
       "      <td>30</td>\n",
       "      <td>0.5</td>\n",
       "      <td>195488</td>\n",
       "      <td>HS-grad</td>\n",
       "      <td>9</td>\n",
       "      <td>0.5</td>\n",
       "      <td>Priv-house-serv</td>\n",
       "      <td>Own-child</td>\n",
       "      <td>White</td>\n",
       "      <td>...</td>\n",
       "      <td>0</td>\n",
       "      <td>0</td>\n",
       "      <td>40</td>\n",
       "      <td>0</td>\n",
       "      <td>&lt;=50K</td>\n",
       "      <td>0</td>\n",
       "      <td>0</td>\n",
       "      <td>0</td>\n",
       "      <td>0</td>\n",
       "      <td>1</td>\n",
       "    </tr>\n",
       "    <tr>\n",
       "      <th>32558</th>\n",
       "      <td>48838</td>\n",
       "      <td>18</td>\n",
       "      <td>0.5</td>\n",
       "      <td>27620</td>\n",
       "      <td>HS-grad</td>\n",
       "      <td>9</td>\n",
       "      <td>0.5</td>\n",
       "      <td>Adm-clerical</td>\n",
       "      <td>Not-in-family</td>\n",
       "      <td>White</td>\n",
       "      <td>...</td>\n",
       "      <td>0</td>\n",
       "      <td>0</td>\n",
       "      <td>25</td>\n",
       "      <td>1</td>\n",
       "      <td>&lt;=50K</td>\n",
       "      <td>0</td>\n",
       "      <td>0</td>\n",
       "      <td>0</td>\n",
       "      <td>0</td>\n",
       "      <td>1</td>\n",
       "    </tr>\n",
       "    <tr>\n",
       "      <th>32559</th>\n",
       "      <td>48839</td>\n",
       "      <td>47</td>\n",
       "      <td>0</td>\n",
       "      <td>203067</td>\n",
       "      <td>Bachelors</td>\n",
       "      <td>13</td>\n",
       "      <td>0</td>\n",
       "      <td>Prof-specialty</td>\n",
       "      <td>Not-in-family</td>\n",
       "      <td>White</td>\n",
       "      <td>...</td>\n",
       "      <td>0</td>\n",
       "      <td>0</td>\n",
       "      <td>50</td>\n",
       "      <td>1</td>\n",
       "      <td>&lt;=50K</td>\n",
       "      <td>0</td>\n",
       "      <td>0</td>\n",
       "      <td>0</td>\n",
       "      <td>0</td>\n",
       "      <td>1</td>\n",
       "    </tr>\n",
       "  </tbody>\n",
       "</table>\n",
       "<p>32560 rows × 21 columns</p>\n",
       "</div>"
      ],
      "text/plain": [
       "          Id  age workclass  fnlwgt     education  education.num  \\\n",
       "0      16280   34       0.5  204991  Some-college             10   \n",
       "1      16281   58         0  310085          10th              6   \n",
       "2      16282   25       0.5  146117  Some-college             10   \n",
       "3      16283   24       0.5  138938  Some-college             10   \n",
       "4      16284   57         1  258883       HS-grad              9   \n",
       "...      ...  ...       ...     ...           ...            ...   \n",
       "32555  48835   42       0.5  384236       Masters             14   \n",
       "32556  48836   23       0.5  129042       HS-grad              9   \n",
       "32557  48837   30       0.5  195488       HS-grad              9   \n",
       "32558  48838   18       0.5   27620       HS-grad              9   \n",
       "32559  48839   47         0  203067     Bachelors             13   \n",
       "\n",
       "      marital.status         occupation   relationship   race  ...  \\\n",
       "0                  0    Exec-managerial      Own-child  White  ...   \n",
       "1                  1   Transport-moving        Husband  White  ...   \n",
       "2                0.5  Machine-op-inspct  Not-in-family  White  ...   \n",
       "3                  0       Adm-clerical  Not-in-family  White  ...   \n",
       "4                  1   Transport-moving        Husband  White  ...   \n",
       "...              ...                ...            ...    ...  ...   \n",
       "32555              1     Prof-specialty        Husband  White  ...   \n",
       "32556            0.5  Machine-op-inspct      Unmarried  Black  ...   \n",
       "32557            0.5    Priv-house-serv      Own-child  White  ...   \n",
       "32558            0.5       Adm-clerical  Not-in-family  White  ...   \n",
       "32559              0     Prof-specialty  Not-in-family  White  ...   \n",
       "\n",
       "      capital.gain  capital.loss  hours.per.week  native.country income  \\\n",
       "0                0             0              44               1  <=50K   \n",
       "1                0             0              40               1  <=50K   \n",
       "2                0             0              42               1  <=50K   \n",
       "3                0             0              40               1  <=50K   \n",
       "4             5178             0              60               0   >50K   \n",
       "...            ...           ...             ...             ...    ...   \n",
       "32555         7688             0              40               1   >50K   \n",
       "32556            0             0              40               1  <=50K   \n",
       "32557            0             0              40               0  <=50K   \n",
       "32558            0             0              25               1  <=50K   \n",
       "32559            0             0              50               1  <=50K   \n",
       "\n",
       "      Amer-Indian-Eskimo  Asian-Pac-Islander  Black  Other  White  \n",
       "0                      0                   0      0      0      1  \n",
       "1                      0                   0      0      0      1  \n",
       "2                      0                   0      0      0      1  \n",
       "3                      0                   0      0      0      1  \n",
       "4                      0                   0      0      0      1  \n",
       "...                  ...                 ...    ...    ...    ...  \n",
       "32555                  0                   0      0      0      1  \n",
       "32556                  0                   0      1      0      0  \n",
       "32557                  0                   0      0      0      1  \n",
       "32558                  0                   0      0      0      1  \n",
       "32559                  0                   0      0      0      1  \n",
       "\n",
       "[32560 rows x 21 columns]"
      ]
     },
     "execution_count": 39,
     "metadata": {},
     "output_type": "execute_result"
    }
   ],
   "source": [
    "treino_adult"
   ]
  },
  {
   "cell_type": "markdown",
   "id": "de4d29c1",
   "metadata": {
    "papermill": {
     "duration": 0.028581,
     "end_time": "2022-10-31T02:07:22.572192",
     "exception": false,
     "start_time": "2022-10-31T02:07:22.543611",
     "status": "completed"
    },
    "tags": []
   },
   "source": [
    "O processo deu certo."
   ]
  },
  {
   "cell_type": "markdown",
   "id": "77bdef63",
   "metadata": {
    "papermill": {
     "duration": 0.028758,
     "end_time": "2022-10-31T02:07:22.629761",
     "exception": false,
     "start_time": "2022-10-31T02:07:22.601003",
     "status": "completed"
    },
    "tags": []
   },
   "source": [
    "Agora vamos nos preocupar com o nível educacional. Contudo, podemos notar que o grau de educação e o número de anos de estudo são variáveis que tem grande correlação, dessa forma não irei usar a coluna \"Education\" e ficarei apenas com a coluna \"Education-Num\"."
   ]
  },
  {
   "cell_type": "code",
   "execution_count": 40,
   "id": "c3334e60",
   "metadata": {
    "execution": {
     "iopub.execute_input": "2022-10-31T02:07:22.692257Z",
     "iopub.status.busy": "2022-10-31T02:07:22.691779Z",
     "iopub.status.idle": "2022-10-31T02:07:22.705557Z",
     "shell.execute_reply": "2022-10-31T02:07:22.704209Z"
    },
    "papermill": {
     "duration": 0.048109,
     "end_time": "2022-10-31T02:07:22.708550",
     "exception": false,
     "start_time": "2022-10-31T02:07:22.660441",
     "status": "completed"
    },
    "tags": []
   },
   "outputs": [],
   "source": [
    "teste_adult.drop('education', axis=1, inplace=True)\n",
    "treino_adult.drop('education', axis=1, inplace=True)\n",
    "\n"
   ]
  },
  {
   "cell_type": "markdown",
   "id": "dc95c5c4",
   "metadata": {
    "papermill": {
     "duration": 0.028961,
     "end_time": "2022-10-31T02:07:22.766974",
     "exception": false,
     "start_time": "2022-10-31T02:07:22.738013",
     "status": "completed"
    },
    "tags": []
   },
   "source": [
    "Como já lidamos com a variável race, podemos tirá-la das bases de dados:"
   ]
  },
  {
   "cell_type": "code",
   "execution_count": 41,
   "id": "71570cab",
   "metadata": {
    "execution": {
     "iopub.execute_input": "2022-10-31T02:07:22.827915Z",
     "iopub.status.busy": "2022-10-31T02:07:22.827035Z",
     "iopub.status.idle": "2022-10-31T02:07:22.840329Z",
     "shell.execute_reply": "2022-10-31T02:07:22.838972Z"
    },
    "papermill": {
     "duration": 0.046932,
     "end_time": "2022-10-31T02:07:22.843264",
     "exception": false,
     "start_time": "2022-10-31T02:07:22.796332",
     "status": "completed"
    },
    "tags": []
   },
   "outputs": [],
   "source": [
    "teste_adult.drop('race', axis=1, inplace=True)\n",
    "treino_adult.drop('race', axis=1, inplace=True)"
   ]
  },
  {
   "cell_type": "code",
   "execution_count": 42,
   "id": "3c2f8450",
   "metadata": {
    "execution": {
     "iopub.execute_input": "2022-10-31T02:07:22.904779Z",
     "iopub.status.busy": "2022-10-31T02:07:22.904300Z",
     "iopub.status.idle": "2022-10-31T02:07:22.932321Z",
     "shell.execute_reply": "2022-10-31T02:07:22.930999Z"
    },
    "papermill": {
     "duration": 0.06199,
     "end_time": "2022-10-31T02:07:22.934841",
     "exception": false,
     "start_time": "2022-10-31T02:07:22.872851",
     "status": "completed"
    },
    "tags": []
   },
   "outputs": [
    {
     "data": {
      "text/html": [
       "<div>\n",
       "<style scoped>\n",
       "    .dataframe tbody tr th:only-of-type {\n",
       "        vertical-align: middle;\n",
       "    }\n",
       "\n",
       "    .dataframe tbody tr th {\n",
       "        vertical-align: top;\n",
       "    }\n",
       "\n",
       "    .dataframe thead th {\n",
       "        text-align: right;\n",
       "    }\n",
       "</style>\n",
       "<table border=\"1\" class=\"dataframe\">\n",
       "  <thead>\n",
       "    <tr style=\"text-align: right;\">\n",
       "      <th></th>\n",
       "      <th>Id</th>\n",
       "      <th>age</th>\n",
       "      <th>workclass</th>\n",
       "      <th>fnlwgt</th>\n",
       "      <th>education.num</th>\n",
       "      <th>marital.status</th>\n",
       "      <th>occupation</th>\n",
       "      <th>relationship</th>\n",
       "      <th>sex</th>\n",
       "      <th>capital.gain</th>\n",
       "      <th>capital.loss</th>\n",
       "      <th>hours.per.week</th>\n",
       "      <th>native.country</th>\n",
       "      <th>income</th>\n",
       "      <th>Amer-Indian-Eskimo</th>\n",
       "      <th>Asian-Pac-Islander</th>\n",
       "      <th>Black</th>\n",
       "      <th>Other</th>\n",
       "      <th>White</th>\n",
       "    </tr>\n",
       "  </thead>\n",
       "  <tbody>\n",
       "    <tr>\n",
       "      <th>0</th>\n",
       "      <td>16280</td>\n",
       "      <td>34</td>\n",
       "      <td>0.5</td>\n",
       "      <td>204991</td>\n",
       "      <td>10</td>\n",
       "      <td>0</td>\n",
       "      <td>Exec-managerial</td>\n",
       "      <td>Own-child</td>\n",
       "      <td>0</td>\n",
       "      <td>0</td>\n",
       "      <td>0</td>\n",
       "      <td>44</td>\n",
       "      <td>1</td>\n",
       "      <td>&lt;=50K</td>\n",
       "      <td>0</td>\n",
       "      <td>0</td>\n",
       "      <td>0</td>\n",
       "      <td>0</td>\n",
       "      <td>1</td>\n",
       "    </tr>\n",
       "    <tr>\n",
       "      <th>1</th>\n",
       "      <td>16281</td>\n",
       "      <td>58</td>\n",
       "      <td>0</td>\n",
       "      <td>310085</td>\n",
       "      <td>6</td>\n",
       "      <td>1</td>\n",
       "      <td>Transport-moving</td>\n",
       "      <td>Husband</td>\n",
       "      <td>0</td>\n",
       "      <td>0</td>\n",
       "      <td>0</td>\n",
       "      <td>40</td>\n",
       "      <td>1</td>\n",
       "      <td>&lt;=50K</td>\n",
       "      <td>0</td>\n",
       "      <td>0</td>\n",
       "      <td>0</td>\n",
       "      <td>0</td>\n",
       "      <td>1</td>\n",
       "    </tr>\n",
       "    <tr>\n",
       "      <th>2</th>\n",
       "      <td>16282</td>\n",
       "      <td>25</td>\n",
       "      <td>0.5</td>\n",
       "      <td>146117</td>\n",
       "      <td>10</td>\n",
       "      <td>0.5</td>\n",
       "      <td>Machine-op-inspct</td>\n",
       "      <td>Not-in-family</td>\n",
       "      <td>0</td>\n",
       "      <td>0</td>\n",
       "      <td>0</td>\n",
       "      <td>42</td>\n",
       "      <td>1</td>\n",
       "      <td>&lt;=50K</td>\n",
       "      <td>0</td>\n",
       "      <td>0</td>\n",
       "      <td>0</td>\n",
       "      <td>0</td>\n",
       "      <td>1</td>\n",
       "    </tr>\n",
       "    <tr>\n",
       "      <th>3</th>\n",
       "      <td>16283</td>\n",
       "      <td>24</td>\n",
       "      <td>0.5</td>\n",
       "      <td>138938</td>\n",
       "      <td>10</td>\n",
       "      <td>0</td>\n",
       "      <td>Adm-clerical</td>\n",
       "      <td>Not-in-family</td>\n",
       "      <td>1</td>\n",
       "      <td>0</td>\n",
       "      <td>0</td>\n",
       "      <td>40</td>\n",
       "      <td>1</td>\n",
       "      <td>&lt;=50K</td>\n",
       "      <td>0</td>\n",
       "      <td>0</td>\n",
       "      <td>0</td>\n",
       "      <td>0</td>\n",
       "      <td>1</td>\n",
       "    </tr>\n",
       "    <tr>\n",
       "      <th>4</th>\n",
       "      <td>16284</td>\n",
       "      <td>57</td>\n",
       "      <td>1</td>\n",
       "      <td>258883</td>\n",
       "      <td>9</td>\n",
       "      <td>1</td>\n",
       "      <td>Transport-moving</td>\n",
       "      <td>Husband</td>\n",
       "      <td>0</td>\n",
       "      <td>5178</td>\n",
       "      <td>0</td>\n",
       "      <td>60</td>\n",
       "      <td>0</td>\n",
       "      <td>&gt;50K</td>\n",
       "      <td>0</td>\n",
       "      <td>0</td>\n",
       "      <td>0</td>\n",
       "      <td>0</td>\n",
       "      <td>1</td>\n",
       "    </tr>\n",
       "    <tr>\n",
       "      <th>...</th>\n",
       "      <td>...</td>\n",
       "      <td>...</td>\n",
       "      <td>...</td>\n",
       "      <td>...</td>\n",
       "      <td>...</td>\n",
       "      <td>...</td>\n",
       "      <td>...</td>\n",
       "      <td>...</td>\n",
       "      <td>...</td>\n",
       "      <td>...</td>\n",
       "      <td>...</td>\n",
       "      <td>...</td>\n",
       "      <td>...</td>\n",
       "      <td>...</td>\n",
       "      <td>...</td>\n",
       "      <td>...</td>\n",
       "      <td>...</td>\n",
       "      <td>...</td>\n",
       "      <td>...</td>\n",
       "    </tr>\n",
       "    <tr>\n",
       "      <th>32555</th>\n",
       "      <td>48835</td>\n",
       "      <td>42</td>\n",
       "      <td>0.5</td>\n",
       "      <td>384236</td>\n",
       "      <td>14</td>\n",
       "      <td>1</td>\n",
       "      <td>Prof-specialty</td>\n",
       "      <td>Husband</td>\n",
       "      <td>0</td>\n",
       "      <td>7688</td>\n",
       "      <td>0</td>\n",
       "      <td>40</td>\n",
       "      <td>1</td>\n",
       "      <td>&gt;50K</td>\n",
       "      <td>0</td>\n",
       "      <td>0</td>\n",
       "      <td>0</td>\n",
       "      <td>0</td>\n",
       "      <td>1</td>\n",
       "    </tr>\n",
       "    <tr>\n",
       "      <th>32556</th>\n",
       "      <td>48836</td>\n",
       "      <td>23</td>\n",
       "      <td>0.5</td>\n",
       "      <td>129042</td>\n",
       "      <td>9</td>\n",
       "      <td>0.5</td>\n",
       "      <td>Machine-op-inspct</td>\n",
       "      <td>Unmarried</td>\n",
       "      <td>1</td>\n",
       "      <td>0</td>\n",
       "      <td>0</td>\n",
       "      <td>40</td>\n",
       "      <td>1</td>\n",
       "      <td>&lt;=50K</td>\n",
       "      <td>0</td>\n",
       "      <td>0</td>\n",
       "      <td>1</td>\n",
       "      <td>0</td>\n",
       "      <td>0</td>\n",
       "    </tr>\n",
       "    <tr>\n",
       "      <th>32557</th>\n",
       "      <td>48837</td>\n",
       "      <td>30</td>\n",
       "      <td>0.5</td>\n",
       "      <td>195488</td>\n",
       "      <td>9</td>\n",
       "      <td>0.5</td>\n",
       "      <td>Priv-house-serv</td>\n",
       "      <td>Own-child</td>\n",
       "      <td>1</td>\n",
       "      <td>0</td>\n",
       "      <td>0</td>\n",
       "      <td>40</td>\n",
       "      <td>0</td>\n",
       "      <td>&lt;=50K</td>\n",
       "      <td>0</td>\n",
       "      <td>0</td>\n",
       "      <td>0</td>\n",
       "      <td>0</td>\n",
       "      <td>1</td>\n",
       "    </tr>\n",
       "    <tr>\n",
       "      <th>32558</th>\n",
       "      <td>48838</td>\n",
       "      <td>18</td>\n",
       "      <td>0.5</td>\n",
       "      <td>27620</td>\n",
       "      <td>9</td>\n",
       "      <td>0.5</td>\n",
       "      <td>Adm-clerical</td>\n",
       "      <td>Not-in-family</td>\n",
       "      <td>1</td>\n",
       "      <td>0</td>\n",
       "      <td>0</td>\n",
       "      <td>25</td>\n",
       "      <td>1</td>\n",
       "      <td>&lt;=50K</td>\n",
       "      <td>0</td>\n",
       "      <td>0</td>\n",
       "      <td>0</td>\n",
       "      <td>0</td>\n",
       "      <td>1</td>\n",
       "    </tr>\n",
       "    <tr>\n",
       "      <th>32559</th>\n",
       "      <td>48839</td>\n",
       "      <td>47</td>\n",
       "      <td>0</td>\n",
       "      <td>203067</td>\n",
       "      <td>13</td>\n",
       "      <td>0</td>\n",
       "      <td>Prof-specialty</td>\n",
       "      <td>Not-in-family</td>\n",
       "      <td>0</td>\n",
       "      <td>0</td>\n",
       "      <td>0</td>\n",
       "      <td>50</td>\n",
       "      <td>1</td>\n",
       "      <td>&lt;=50K</td>\n",
       "      <td>0</td>\n",
       "      <td>0</td>\n",
       "      <td>0</td>\n",
       "      <td>0</td>\n",
       "      <td>1</td>\n",
       "    </tr>\n",
       "  </tbody>\n",
       "</table>\n",
       "<p>32560 rows × 19 columns</p>\n",
       "</div>"
      ],
      "text/plain": [
       "          Id  age workclass  fnlwgt  education.num marital.status  \\\n",
       "0      16280   34       0.5  204991             10              0   \n",
       "1      16281   58         0  310085              6              1   \n",
       "2      16282   25       0.5  146117             10            0.5   \n",
       "3      16283   24       0.5  138938             10              0   \n",
       "4      16284   57         1  258883              9              1   \n",
       "...      ...  ...       ...     ...            ...            ...   \n",
       "32555  48835   42       0.5  384236             14              1   \n",
       "32556  48836   23       0.5  129042              9            0.5   \n",
       "32557  48837   30       0.5  195488              9            0.5   \n",
       "32558  48838   18       0.5   27620              9            0.5   \n",
       "32559  48839   47         0  203067             13              0   \n",
       "\n",
       "              occupation   relationship sex  capital.gain  capital.loss  \\\n",
       "0        Exec-managerial      Own-child   0             0             0   \n",
       "1       Transport-moving        Husband   0             0             0   \n",
       "2      Machine-op-inspct  Not-in-family   0             0             0   \n",
       "3           Adm-clerical  Not-in-family   1             0             0   \n",
       "4       Transport-moving        Husband   0          5178             0   \n",
       "...                  ...            ...  ..           ...           ...   \n",
       "32555     Prof-specialty        Husband   0          7688             0   \n",
       "32556  Machine-op-inspct      Unmarried   1             0             0   \n",
       "32557    Priv-house-serv      Own-child   1             0             0   \n",
       "32558       Adm-clerical  Not-in-family   1             0             0   \n",
       "32559     Prof-specialty  Not-in-family   0             0             0   \n",
       "\n",
       "       hours.per.week native.country income  Amer-Indian-Eskimo  \\\n",
       "0                  44              1  <=50K                   0   \n",
       "1                  40              1  <=50K                   0   \n",
       "2                  42              1  <=50K                   0   \n",
       "3                  40              1  <=50K                   0   \n",
       "4                  60              0   >50K                   0   \n",
       "...               ...            ...    ...                 ...   \n",
       "32555              40              1   >50K                   0   \n",
       "32556              40              1  <=50K                   0   \n",
       "32557              40              0  <=50K                   0   \n",
       "32558              25              1  <=50K                   0   \n",
       "32559              50              1  <=50K                   0   \n",
       "\n",
       "       Asian-Pac-Islander  Black  Other  White  \n",
       "0                       0      0      0      1  \n",
       "1                       0      0      0      1  \n",
       "2                       0      0      0      1  \n",
       "3                       0      0      0      1  \n",
       "4                       0      0      0      1  \n",
       "...                   ...    ...    ...    ...  \n",
       "32555                   0      0      0      1  \n",
       "32556                   0      1      0      0  \n",
       "32557                   0      0      0      1  \n",
       "32558                   0      0      0      1  \n",
       "32559                   0      0      0      1  \n",
       "\n",
       "[32560 rows x 19 columns]"
      ]
     },
     "execution_count": 42,
     "metadata": {},
     "output_type": "execute_result"
    }
   ],
   "source": [
    "treino_adult"
   ]
  },
  {
   "cell_type": "code",
   "execution_count": 43,
   "id": "af2233a9",
   "metadata": {
    "execution": {
     "iopub.execute_input": "2022-10-31T02:07:22.996484Z",
     "iopub.status.busy": "2022-10-31T02:07:22.996020Z",
     "iopub.status.idle": "2022-10-31T02:07:23.021020Z",
     "shell.execute_reply": "2022-10-31T02:07:23.020012Z"
    },
    "papermill": {
     "duration": 0.058522,
     "end_time": "2022-10-31T02:07:23.023602",
     "exception": false,
     "start_time": "2022-10-31T02:07:22.965080",
     "status": "completed"
    },
    "tags": []
   },
   "outputs": [
    {
     "data": {
      "text/html": [
       "<div>\n",
       "<style scoped>\n",
       "    .dataframe tbody tr th:only-of-type {\n",
       "        vertical-align: middle;\n",
       "    }\n",
       "\n",
       "    .dataframe tbody tr th {\n",
       "        vertical-align: top;\n",
       "    }\n",
       "\n",
       "    .dataframe thead th {\n",
       "        text-align: right;\n",
       "    }\n",
       "</style>\n",
       "<table border=\"1\" class=\"dataframe\">\n",
       "  <thead>\n",
       "    <tr style=\"text-align: right;\">\n",
       "      <th></th>\n",
       "      <th>Id</th>\n",
       "      <th>age</th>\n",
       "      <th>workclass</th>\n",
       "      <th>fnlwgt</th>\n",
       "      <th>education.num</th>\n",
       "      <th>marital.status</th>\n",
       "      <th>occupation</th>\n",
       "      <th>relationship</th>\n",
       "      <th>sex</th>\n",
       "      <th>capital.gain</th>\n",
       "      <th>capital.loss</th>\n",
       "      <th>hours.per.week</th>\n",
       "      <th>native.country</th>\n",
       "      <th>Amer-Indian-Eskimo</th>\n",
       "      <th>Asian-Pac-Islander</th>\n",
       "      <th>Black</th>\n",
       "      <th>Other</th>\n",
       "      <th>White</th>\n",
       "    </tr>\n",
       "  </thead>\n",
       "  <tbody>\n",
       "    <tr>\n",
       "      <th>0</th>\n",
       "      <td>0</td>\n",
       "      <td>25</td>\n",
       "      <td>0.5</td>\n",
       "      <td>120596</td>\n",
       "      <td>13</td>\n",
       "      <td>0.5</td>\n",
       "      <td>Prof-specialty</td>\n",
       "      <td>Not-in-family</td>\n",
       "      <td>0</td>\n",
       "      <td>0</td>\n",
       "      <td>0</td>\n",
       "      <td>44</td>\n",
       "      <td>1</td>\n",
       "      <td>0</td>\n",
       "      <td>0</td>\n",
       "      <td>0</td>\n",
       "      <td>0</td>\n",
       "      <td>1</td>\n",
       "    </tr>\n",
       "    <tr>\n",
       "      <th>1</th>\n",
       "      <td>1</td>\n",
       "      <td>64</td>\n",
       "      <td>0</td>\n",
       "      <td>152537</td>\n",
       "      <td>13</td>\n",
       "      <td>1</td>\n",
       "      <td>Exec-managerial</td>\n",
       "      <td>Husband</td>\n",
       "      <td>0</td>\n",
       "      <td>0</td>\n",
       "      <td>0</td>\n",
       "      <td>45</td>\n",
       "      <td>1</td>\n",
       "      <td>0</td>\n",
       "      <td>0</td>\n",
       "      <td>0</td>\n",
       "      <td>0</td>\n",
       "      <td>1</td>\n",
       "    </tr>\n",
       "    <tr>\n",
       "      <th>2</th>\n",
       "      <td>2</td>\n",
       "      <td>31</td>\n",
       "      <td>0.5</td>\n",
       "      <td>100135</td>\n",
       "      <td>14</td>\n",
       "      <td>0</td>\n",
       "      <td>Exec-managerial</td>\n",
       "      <td>Not-in-family</td>\n",
       "      <td>1</td>\n",
       "      <td>0</td>\n",
       "      <td>0</td>\n",
       "      <td>40</td>\n",
       "      <td>1</td>\n",
       "      <td>0</td>\n",
       "      <td>0</td>\n",
       "      <td>0</td>\n",
       "      <td>0</td>\n",
       "      <td>1</td>\n",
       "    </tr>\n",
       "    <tr>\n",
       "      <th>3</th>\n",
       "      <td>3</td>\n",
       "      <td>45</td>\n",
       "      <td>0.5</td>\n",
       "      <td>189123</td>\n",
       "      <td>9</td>\n",
       "      <td>0.5</td>\n",
       "      <td>Machine-op-inspct</td>\n",
       "      <td>Own-child</td>\n",
       "      <td>0</td>\n",
       "      <td>0</td>\n",
       "      <td>0</td>\n",
       "      <td>40</td>\n",
       "      <td>1</td>\n",
       "      <td>0</td>\n",
       "      <td>0</td>\n",
       "      <td>0</td>\n",
       "      <td>0</td>\n",
       "      <td>1</td>\n",
       "    </tr>\n",
       "    <tr>\n",
       "      <th>4</th>\n",
       "      <td>4</td>\n",
       "      <td>64</td>\n",
       "      <td>1</td>\n",
       "      <td>487751</td>\n",
       "      <td>13</td>\n",
       "      <td>1</td>\n",
       "      <td>Exec-managerial</td>\n",
       "      <td>Husband</td>\n",
       "      <td>0</td>\n",
       "      <td>0</td>\n",
       "      <td>0</td>\n",
       "      <td>50</td>\n",
       "      <td>1</td>\n",
       "      <td>0</td>\n",
       "      <td>0</td>\n",
       "      <td>0</td>\n",
       "      <td>0</td>\n",
       "      <td>1</td>\n",
       "    </tr>\n",
       "    <tr>\n",
       "      <th>...</th>\n",
       "      <td>...</td>\n",
       "      <td>...</td>\n",
       "      <td>...</td>\n",
       "      <td>...</td>\n",
       "      <td>...</td>\n",
       "      <td>...</td>\n",
       "      <td>...</td>\n",
       "      <td>...</td>\n",
       "      <td>...</td>\n",
       "      <td>...</td>\n",
       "      <td>...</td>\n",
       "      <td>...</td>\n",
       "      <td>...</td>\n",
       "      <td>...</td>\n",
       "      <td>...</td>\n",
       "      <td>...</td>\n",
       "      <td>...</td>\n",
       "      <td>...</td>\n",
       "    </tr>\n",
       "    <tr>\n",
       "      <th>16275</th>\n",
       "      <td>16275</td>\n",
       "      <td>40</td>\n",
       "      <td>0.5</td>\n",
       "      <td>168113</td>\n",
       "      <td>9</td>\n",
       "      <td>1</td>\n",
       "      <td>Craft-repair</td>\n",
       "      <td>Husband</td>\n",
       "      <td>0</td>\n",
       "      <td>0</td>\n",
       "      <td>0</td>\n",
       "      <td>40</td>\n",
       "      <td>1</td>\n",
       "      <td>0</td>\n",
       "      <td>0</td>\n",
       "      <td>0</td>\n",
       "      <td>0</td>\n",
       "      <td>1</td>\n",
       "    </tr>\n",
       "    <tr>\n",
       "      <th>16276</th>\n",
       "      <td>16276</td>\n",
       "      <td>30</td>\n",
       "      <td>0</td>\n",
       "      <td>327203</td>\n",
       "      <td>9</td>\n",
       "      <td>1</td>\n",
       "      <td>Other-service</td>\n",
       "      <td>Husband</td>\n",
       "      <td>0</td>\n",
       "      <td>0</td>\n",
       "      <td>0</td>\n",
       "      <td>40</td>\n",
       "      <td>1</td>\n",
       "      <td>0</td>\n",
       "      <td>0</td>\n",
       "      <td>0</td>\n",
       "      <td>0</td>\n",
       "      <td>1</td>\n",
       "    </tr>\n",
       "    <tr>\n",
       "      <th>16277</th>\n",
       "      <td>16277</td>\n",
       "      <td>25</td>\n",
       "      <td>0.5</td>\n",
       "      <td>116358</td>\n",
       "      <td>9</td>\n",
       "      <td>0.5</td>\n",
       "      <td>Adm-clerical</td>\n",
       "      <td>Own-child</td>\n",
       "      <td>0</td>\n",
       "      <td>0</td>\n",
       "      <td>0</td>\n",
       "      <td>40</td>\n",
       "      <td>0</td>\n",
       "      <td>0</td>\n",
       "      <td>1</td>\n",
       "      <td>0</td>\n",
       "      <td>0</td>\n",
       "      <td>0</td>\n",
       "    </tr>\n",
       "    <tr>\n",
       "      <th>16278</th>\n",
       "      <td>16278</td>\n",
       "      <td>60</td>\n",
       "      <td>0.5</td>\n",
       "      <td>39263</td>\n",
       "      <td>14</td>\n",
       "      <td>0.5</td>\n",
       "      <td>Exec-managerial</td>\n",
       "      <td>Not-in-family</td>\n",
       "      <td>1</td>\n",
       "      <td>3325</td>\n",
       "      <td>0</td>\n",
       "      <td>35</td>\n",
       "      <td>1</td>\n",
       "      <td>0</td>\n",
       "      <td>0</td>\n",
       "      <td>0</td>\n",
       "      <td>0</td>\n",
       "      <td>1</td>\n",
       "    </tr>\n",
       "    <tr>\n",
       "      <th>16279</th>\n",
       "      <td>16279</td>\n",
       "      <td>49</td>\n",
       "      <td>0.5</td>\n",
       "      <td>182862</td>\n",
       "      <td>10</td>\n",
       "      <td>1</td>\n",
       "      <td>Craft-repair</td>\n",
       "      <td>Husband</td>\n",
       "      <td>0</td>\n",
       "      <td>7688</td>\n",
       "      <td>0</td>\n",
       "      <td>40</td>\n",
       "      <td>1</td>\n",
       "      <td>0</td>\n",
       "      <td>0</td>\n",
       "      <td>0</td>\n",
       "      <td>0</td>\n",
       "      <td>1</td>\n",
       "    </tr>\n",
       "  </tbody>\n",
       "</table>\n",
       "<p>16280 rows × 18 columns</p>\n",
       "</div>"
      ],
      "text/plain": [
       "          Id  age workclass  fnlwgt  education.num marital.status  \\\n",
       "0          0   25       0.5  120596             13            0.5   \n",
       "1          1   64         0  152537             13              1   \n",
       "2          2   31       0.5  100135             14              0   \n",
       "3          3   45       0.5  189123              9            0.5   \n",
       "4          4   64         1  487751             13              1   \n",
       "...      ...  ...       ...     ...            ...            ...   \n",
       "16275  16275   40       0.5  168113              9              1   \n",
       "16276  16276   30         0  327203              9              1   \n",
       "16277  16277   25       0.5  116358              9            0.5   \n",
       "16278  16278   60       0.5   39263             14            0.5   \n",
       "16279  16279   49       0.5  182862             10              1   \n",
       "\n",
       "              occupation   relationship sex  capital.gain  capital.loss  \\\n",
       "0         Prof-specialty  Not-in-family   0             0             0   \n",
       "1        Exec-managerial        Husband   0             0             0   \n",
       "2        Exec-managerial  Not-in-family   1             0             0   \n",
       "3      Machine-op-inspct      Own-child   0             0             0   \n",
       "4        Exec-managerial        Husband   0             0             0   \n",
       "...                  ...            ...  ..           ...           ...   \n",
       "16275       Craft-repair        Husband   0             0             0   \n",
       "16276      Other-service        Husband   0             0             0   \n",
       "16277       Adm-clerical      Own-child   0             0             0   \n",
       "16278    Exec-managerial  Not-in-family   1          3325             0   \n",
       "16279       Craft-repair        Husband   0          7688             0   \n",
       "\n",
       "       hours.per.week native.country  Amer-Indian-Eskimo  Asian-Pac-Islander  \\\n",
       "0                  44              1                   0                   0   \n",
       "1                  45              1                   0                   0   \n",
       "2                  40              1                   0                   0   \n",
       "3                  40              1                   0                   0   \n",
       "4                  50              1                   0                   0   \n",
       "...               ...            ...                 ...                 ...   \n",
       "16275              40              1                   0                   0   \n",
       "16276              40              1                   0                   0   \n",
       "16277              40              0                   0                   1   \n",
       "16278              35              1                   0                   0   \n",
       "16279              40              1                   0                   0   \n",
       "\n",
       "       Black  Other  White  \n",
       "0          0      0      1  \n",
       "1          0      0      1  \n",
       "2          0      0      1  \n",
       "3          0      0      1  \n",
       "4          0      0      1  \n",
       "...      ...    ...    ...  \n",
       "16275      0      0      1  \n",
       "16276      0      0      1  \n",
       "16277      0      0      0  \n",
       "16278      0      0      1  \n",
       "16279      0      0      1  \n",
       "\n",
       "[16280 rows x 18 columns]"
      ]
     },
     "execution_count": 43,
     "metadata": {},
     "output_type": "execute_result"
    }
   ],
   "source": [
    "teste_adult"
   ]
  },
  {
   "cell_type": "markdown",
   "id": "7f32781f",
   "metadata": {
    "papermill": {
     "duration": 0.029725,
     "end_time": "2022-10-31T02:07:23.084111",
     "exception": false,
     "start_time": "2022-10-31T02:07:23.054386",
     "status": "completed"
    },
    "tags": []
   },
   "source": [
    "Passemos a normalizar os dados, primeiro da base de teste:"
   ]
  },
  {
   "cell_type": "code",
   "execution_count": 44,
   "id": "06b7651c",
   "metadata": {
    "execution": {
     "iopub.execute_input": "2022-10-31T02:07:23.146149Z",
     "iopub.status.busy": "2022-10-31T02:07:23.145720Z",
     "iopub.status.idle": "2022-10-31T02:07:23.178441Z",
     "shell.execute_reply": "2022-10-31T02:07:23.177036Z"
    },
    "papermill": {
     "duration": 0.067184,
     "end_time": "2022-10-31T02:07:23.181308",
     "exception": false,
     "start_time": "2022-10-31T02:07:23.114124",
     "status": "completed"
    },
    "tags": []
   },
   "outputs": [],
   "source": [
    "teste_adult['age'] = (teste_adult['age'] - min(teste_adult['age'])) / (max(teste_adult['age']) - min(teste_adult['age']))\n",
    "teste_adult['education.num'] = (teste_adult['education.num'] - min(teste_adult['education.num'])) / (max(teste_adult['education.num']) - min(teste_adult['education.num']))\n",
    "teste_adult['fnlwgt'] = (teste_adult['fnlwgt'] - min(teste_adult['fnlwgt'])) / (max(teste_adult['fnlwgt']) - min(teste_adult['fnlwgt']))\n",
    "teste_adult['hours.per.week'] = (teste_adult['hours.per.week'] - min(teste_adult['hours.per.week'])) / (max(teste_adult['hours.per.week']) - min(teste_adult['hours.per.week']))\n"
   ]
  },
  {
   "cell_type": "markdown",
   "id": "f5a3612e",
   "metadata": {
    "papermill": {
     "duration": 0.029876,
     "end_time": "2022-10-31T02:07:23.242732",
     "exception": false,
     "start_time": "2022-10-31T02:07:23.212856",
     "status": "completed"
    },
    "tags": []
   },
   "source": [
    "Depois da base de treino:"
   ]
  },
  {
   "cell_type": "code",
   "execution_count": 45,
   "id": "f6719e65",
   "metadata": {
    "execution": {
     "iopub.execute_input": "2022-10-31T02:07:23.309784Z",
     "iopub.status.busy": "2022-10-31T02:07:23.309069Z",
     "iopub.status.idle": "2022-10-31T02:07:23.386091Z",
     "shell.execute_reply": "2022-10-31T02:07:23.384623Z"
    },
    "papermill": {
     "duration": 0.115907,
     "end_time": "2022-10-31T02:07:23.388987",
     "exception": false,
     "start_time": "2022-10-31T02:07:23.273080",
     "status": "completed"
    },
    "tags": []
   },
   "outputs": [],
   "source": [
    "treino_adult['age'] = (treino_adult['age'] - min(treino_adult['age'])) / (max(treino_adult['age']) - min(treino_adult['age']))\n",
    "treino_adult['education.num'] = (treino_adult['education.num'] - min(treino_adult['education.num'])) / (max(treino_adult['education.num']) - min(treino_adult['education.num']))\n",
    "treino_adult['fnlwgt'] = (treino_adult['fnlwgt'] - min(treino_adult['fnlwgt'])) / (max(treino_adult['fnlwgt']) - min(treino_adult['fnlwgt']))\n",
    "treino_adult['hours.per.week'] = (treino_adult['hours.per.week'] - min(treino_adult['hours.per.week'])) / (max(treino_adult['hours.per.week']) - min(treino_adult['hours.per.week']))\n"
   ]
  },
  {
   "cell_type": "code",
   "execution_count": 46,
   "id": "2b4fbb0c",
   "metadata": {
    "execution": {
     "iopub.execute_input": "2022-10-31T02:07:23.452741Z",
     "iopub.status.busy": "2022-10-31T02:07:23.452245Z",
     "iopub.status.idle": "2022-10-31T02:07:23.481175Z",
     "shell.execute_reply": "2022-10-31T02:07:23.480211Z"
    },
    "papermill": {
     "duration": 0.0632,
     "end_time": "2022-10-31T02:07:23.483442",
     "exception": false,
     "start_time": "2022-10-31T02:07:23.420242",
     "status": "completed"
    },
    "tags": []
   },
   "outputs": [
    {
     "data": {
      "text/html": [
       "<div>\n",
       "<style scoped>\n",
       "    .dataframe tbody tr th:only-of-type {\n",
       "        vertical-align: middle;\n",
       "    }\n",
       "\n",
       "    .dataframe tbody tr th {\n",
       "        vertical-align: top;\n",
       "    }\n",
       "\n",
       "    .dataframe thead th {\n",
       "        text-align: right;\n",
       "    }\n",
       "</style>\n",
       "<table border=\"1\" class=\"dataframe\">\n",
       "  <thead>\n",
       "    <tr style=\"text-align: right;\">\n",
       "      <th></th>\n",
       "      <th>Id</th>\n",
       "      <th>age</th>\n",
       "      <th>workclass</th>\n",
       "      <th>fnlwgt</th>\n",
       "      <th>education.num</th>\n",
       "      <th>marital.status</th>\n",
       "      <th>occupation</th>\n",
       "      <th>relationship</th>\n",
       "      <th>sex</th>\n",
       "      <th>capital.gain</th>\n",
       "      <th>capital.loss</th>\n",
       "      <th>hours.per.week</th>\n",
       "      <th>native.country</th>\n",
       "      <th>Amer-Indian-Eskimo</th>\n",
       "      <th>Asian-Pac-Islander</th>\n",
       "      <th>Black</th>\n",
       "      <th>Other</th>\n",
       "      <th>White</th>\n",
       "    </tr>\n",
       "  </thead>\n",
       "  <tbody>\n",
       "    <tr>\n",
       "      <th>0</th>\n",
       "      <td>0</td>\n",
       "      <td>0.109589</td>\n",
       "      <td>0.5</td>\n",
       "      <td>0.072519</td>\n",
       "      <td>0.800000</td>\n",
       "      <td>0.5</td>\n",
       "      <td>Prof-specialty</td>\n",
       "      <td>Not-in-family</td>\n",
       "      <td>0</td>\n",
       "      <td>0</td>\n",
       "      <td>0</td>\n",
       "      <td>0.438776</td>\n",
       "      <td>1</td>\n",
       "      <td>0</td>\n",
       "      <td>0</td>\n",
       "      <td>0</td>\n",
       "      <td>0</td>\n",
       "      <td>1</td>\n",
       "    </tr>\n",
       "    <tr>\n",
       "      <th>1</th>\n",
       "      <td>1</td>\n",
       "      <td>0.643836</td>\n",
       "      <td>0</td>\n",
       "      <td>0.094146</td>\n",
       "      <td>0.800000</td>\n",
       "      <td>1</td>\n",
       "      <td>Exec-managerial</td>\n",
       "      <td>Husband</td>\n",
       "      <td>0</td>\n",
       "      <td>0</td>\n",
       "      <td>0</td>\n",
       "      <td>0.448980</td>\n",
       "      <td>1</td>\n",
       "      <td>0</td>\n",
       "      <td>0</td>\n",
       "      <td>0</td>\n",
       "      <td>0</td>\n",
       "      <td>1</td>\n",
       "    </tr>\n",
       "    <tr>\n",
       "      <th>2</th>\n",
       "      <td>2</td>\n",
       "      <td>0.191781</td>\n",
       "      <td>0.5</td>\n",
       "      <td>0.058665</td>\n",
       "      <td>0.866667</td>\n",
       "      <td>0</td>\n",
       "      <td>Exec-managerial</td>\n",
       "      <td>Not-in-family</td>\n",
       "      <td>1</td>\n",
       "      <td>0</td>\n",
       "      <td>0</td>\n",
       "      <td>0.397959</td>\n",
       "      <td>1</td>\n",
       "      <td>0</td>\n",
       "      <td>0</td>\n",
       "      <td>0</td>\n",
       "      <td>0</td>\n",
       "      <td>1</td>\n",
       "    </tr>\n",
       "    <tr>\n",
       "      <th>3</th>\n",
       "      <td>3</td>\n",
       "      <td>0.383562</td>\n",
       "      <td>0.5</td>\n",
       "      <td>0.118918</td>\n",
       "      <td>0.533333</td>\n",
       "      <td>0.5</td>\n",
       "      <td>Machine-op-inspct</td>\n",
       "      <td>Own-child</td>\n",
       "      <td>0</td>\n",
       "      <td>0</td>\n",
       "      <td>0</td>\n",
       "      <td>0.397959</td>\n",
       "      <td>1</td>\n",
       "      <td>0</td>\n",
       "      <td>0</td>\n",
       "      <td>0</td>\n",
       "      <td>0</td>\n",
       "      <td>1</td>\n",
       "    </tr>\n",
       "    <tr>\n",
       "      <th>4</th>\n",
       "      <td>4</td>\n",
       "      <td>0.643836</td>\n",
       "      <td>1</td>\n",
       "      <td>0.321116</td>\n",
       "      <td>0.800000</td>\n",
       "      <td>1</td>\n",
       "      <td>Exec-managerial</td>\n",
       "      <td>Husband</td>\n",
       "      <td>0</td>\n",
       "      <td>0</td>\n",
       "      <td>0</td>\n",
       "      <td>0.500000</td>\n",
       "      <td>1</td>\n",
       "      <td>0</td>\n",
       "      <td>0</td>\n",
       "      <td>0</td>\n",
       "      <td>0</td>\n",
       "      <td>1</td>\n",
       "    </tr>\n",
       "    <tr>\n",
       "      <th>...</th>\n",
       "      <td>...</td>\n",
       "      <td>...</td>\n",
       "      <td>...</td>\n",
       "      <td>...</td>\n",
       "      <td>...</td>\n",
       "      <td>...</td>\n",
       "      <td>...</td>\n",
       "      <td>...</td>\n",
       "      <td>...</td>\n",
       "      <td>...</td>\n",
       "      <td>...</td>\n",
       "      <td>...</td>\n",
       "      <td>...</td>\n",
       "      <td>...</td>\n",
       "      <td>...</td>\n",
       "      <td>...</td>\n",
       "      <td>...</td>\n",
       "      <td>...</td>\n",
       "    </tr>\n",
       "    <tr>\n",
       "      <th>16275</th>\n",
       "      <td>16275</td>\n",
       "      <td>0.315068</td>\n",
       "      <td>0.5</td>\n",
       "      <td>0.104692</td>\n",
       "      <td>0.533333</td>\n",
       "      <td>1</td>\n",
       "      <td>Craft-repair</td>\n",
       "      <td>Husband</td>\n",
       "      <td>0</td>\n",
       "      <td>0</td>\n",
       "      <td>0</td>\n",
       "      <td>0.397959</td>\n",
       "      <td>1</td>\n",
       "      <td>0</td>\n",
       "      <td>0</td>\n",
       "      <td>0</td>\n",
       "      <td>0</td>\n",
       "      <td>1</td>\n",
       "    </tr>\n",
       "    <tr>\n",
       "      <th>16276</th>\n",
       "      <td>16276</td>\n",
       "      <td>0.178082</td>\n",
       "      <td>0</td>\n",
       "      <td>0.212411</td>\n",
       "      <td>0.533333</td>\n",
       "      <td>1</td>\n",
       "      <td>Other-service</td>\n",
       "      <td>Husband</td>\n",
       "      <td>0</td>\n",
       "      <td>0</td>\n",
       "      <td>0</td>\n",
       "      <td>0.397959</td>\n",
       "      <td>1</td>\n",
       "      <td>0</td>\n",
       "      <td>0</td>\n",
       "      <td>0</td>\n",
       "      <td>0</td>\n",
       "      <td>1</td>\n",
       "    </tr>\n",
       "    <tr>\n",
       "      <th>16277</th>\n",
       "      <td>16277</td>\n",
       "      <td>0.109589</td>\n",
       "      <td>0.5</td>\n",
       "      <td>0.069650</td>\n",
       "      <td>0.533333</td>\n",
       "      <td>0.5</td>\n",
       "      <td>Adm-clerical</td>\n",
       "      <td>Own-child</td>\n",
       "      <td>0</td>\n",
       "      <td>0</td>\n",
       "      <td>0</td>\n",
       "      <td>0.397959</td>\n",
       "      <td>0</td>\n",
       "      <td>0</td>\n",
       "      <td>1</td>\n",
       "      <td>0</td>\n",
       "      <td>0</td>\n",
       "      <td>0</td>\n",
       "    </tr>\n",
       "    <tr>\n",
       "      <th>16278</th>\n",
       "      <td>16278</td>\n",
       "      <td>0.589041</td>\n",
       "      <td>0.5</td>\n",
       "      <td>0.017449</td>\n",
       "      <td>0.866667</td>\n",
       "      <td>0.5</td>\n",
       "      <td>Exec-managerial</td>\n",
       "      <td>Not-in-family</td>\n",
       "      <td>1</td>\n",
       "      <td>3325</td>\n",
       "      <td>0</td>\n",
       "      <td>0.346939</td>\n",
       "      <td>1</td>\n",
       "      <td>0</td>\n",
       "      <td>0</td>\n",
       "      <td>0</td>\n",
       "      <td>0</td>\n",
       "      <td>1</td>\n",
       "    </tr>\n",
       "    <tr>\n",
       "      <th>16279</th>\n",
       "      <td>16279</td>\n",
       "      <td>0.438356</td>\n",
       "      <td>0.5</td>\n",
       "      <td>0.114679</td>\n",
       "      <td>0.600000</td>\n",
       "      <td>1</td>\n",
       "      <td>Craft-repair</td>\n",
       "      <td>Husband</td>\n",
       "      <td>0</td>\n",
       "      <td>7688</td>\n",
       "      <td>0</td>\n",
       "      <td>0.397959</td>\n",
       "      <td>1</td>\n",
       "      <td>0</td>\n",
       "      <td>0</td>\n",
       "      <td>0</td>\n",
       "      <td>0</td>\n",
       "      <td>1</td>\n",
       "    </tr>\n",
       "  </tbody>\n",
       "</table>\n",
       "<p>16280 rows × 18 columns</p>\n",
       "</div>"
      ],
      "text/plain": [
       "          Id       age workclass    fnlwgt  education.num marital.status  \\\n",
       "0          0  0.109589       0.5  0.072519       0.800000            0.5   \n",
       "1          1  0.643836         0  0.094146       0.800000              1   \n",
       "2          2  0.191781       0.5  0.058665       0.866667              0   \n",
       "3          3  0.383562       0.5  0.118918       0.533333            0.5   \n",
       "4          4  0.643836         1  0.321116       0.800000              1   \n",
       "...      ...       ...       ...       ...            ...            ...   \n",
       "16275  16275  0.315068       0.5  0.104692       0.533333              1   \n",
       "16276  16276  0.178082         0  0.212411       0.533333              1   \n",
       "16277  16277  0.109589       0.5  0.069650       0.533333            0.5   \n",
       "16278  16278  0.589041       0.5  0.017449       0.866667            0.5   \n",
       "16279  16279  0.438356       0.5  0.114679       0.600000              1   \n",
       "\n",
       "              occupation   relationship sex  capital.gain  capital.loss  \\\n",
       "0         Prof-specialty  Not-in-family   0             0             0   \n",
       "1        Exec-managerial        Husband   0             0             0   \n",
       "2        Exec-managerial  Not-in-family   1             0             0   \n",
       "3      Machine-op-inspct      Own-child   0             0             0   \n",
       "4        Exec-managerial        Husband   0             0             0   \n",
       "...                  ...            ...  ..           ...           ...   \n",
       "16275       Craft-repair        Husband   0             0             0   \n",
       "16276      Other-service        Husband   0             0             0   \n",
       "16277       Adm-clerical      Own-child   0             0             0   \n",
       "16278    Exec-managerial  Not-in-family   1          3325             0   \n",
       "16279       Craft-repair        Husband   0          7688             0   \n",
       "\n",
       "       hours.per.week native.country  Amer-Indian-Eskimo  Asian-Pac-Islander  \\\n",
       "0            0.438776              1                   0                   0   \n",
       "1            0.448980              1                   0                   0   \n",
       "2            0.397959              1                   0                   0   \n",
       "3            0.397959              1                   0                   0   \n",
       "4            0.500000              1                   0                   0   \n",
       "...               ...            ...                 ...                 ...   \n",
       "16275        0.397959              1                   0                   0   \n",
       "16276        0.397959              1                   0                   0   \n",
       "16277        0.397959              0                   0                   1   \n",
       "16278        0.346939              1                   0                   0   \n",
       "16279        0.397959              1                   0                   0   \n",
       "\n",
       "       Black  Other  White  \n",
       "0          0      0      1  \n",
       "1          0      0      1  \n",
       "2          0      0      1  \n",
       "3          0      0      1  \n",
       "4          0      0      1  \n",
       "...      ...    ...    ...  \n",
       "16275      0      0      1  \n",
       "16276      0      0      1  \n",
       "16277      0      0      0  \n",
       "16278      0      0      1  \n",
       "16279      0      0      1  \n",
       "\n",
       "[16280 rows x 18 columns]"
      ]
     },
     "execution_count": 46,
     "metadata": {},
     "output_type": "execute_result"
    }
   ],
   "source": [
    "teste_adult"
   ]
  },
  {
   "cell_type": "markdown",
   "id": "b5c91f4f",
   "metadata": {
    "papermill": {
     "duration": 0.030046,
     "end_time": "2022-10-31T02:07:23.543781",
     "exception": false,
     "start_time": "2022-10-31T02:07:23.513735",
     "status": "completed"
    },
    "tags": []
   },
   "source": [
    "Vamos excluir as colunas que não usaremos ou que já tratamos:"
   ]
  },
  {
   "cell_type": "code",
   "execution_count": 47,
   "id": "bdd69d2b",
   "metadata": {
    "execution": {
     "iopub.execute_input": "2022-10-31T02:07:23.607315Z",
     "iopub.status.busy": "2022-10-31T02:07:23.606060Z",
     "iopub.status.idle": "2022-10-31T02:07:23.643519Z",
     "shell.execute_reply": "2022-10-31T02:07:23.642241Z"
    },
    "papermill": {
     "duration": 0.072435,
     "end_time": "2022-10-31T02:07:23.646615",
     "exception": false,
     "start_time": "2022-10-31T02:07:23.574180",
     "status": "completed"
    },
    "tags": []
   },
   "outputs": [],
   "source": [
    "teste_adult.drop('occupation', axis=1, inplace=True)\n",
    "teste_adult.drop('relationship', axis=1, inplace=True)\n",
    "teste_adult.drop('capital.gain', axis=1, inplace=True)\n",
    "teste_adult.drop('capital.loss', axis=1, inplace=True)\n",
    "teste_adult.drop('Id', axis=1, inplace = True)\n",
    "\n",
    "treino_adult.drop('occupation', axis=1, inplace=True)\n",
    "treino_adult.drop('relationship', axis=1, inplace=True)\n",
    "treino_adult.drop('capital.gain', axis=1, inplace=True)\n",
    "treino_adult.drop('capital.loss', axis=1, inplace=True)\n",
    "treino_adult.drop('Id', axis=1, inplace = True)\n"
   ]
  },
  {
   "cell_type": "code",
   "execution_count": 48,
   "id": "bf9d0ebc",
   "metadata": {
    "execution": {
     "iopub.execute_input": "2022-10-31T02:07:23.709417Z",
     "iopub.status.busy": "2022-10-31T02:07:23.708918Z",
     "iopub.status.idle": "2022-10-31T02:07:23.735706Z",
     "shell.execute_reply": "2022-10-31T02:07:23.734565Z"
    },
    "papermill": {
     "duration": 0.060721,
     "end_time": "2022-10-31T02:07:23.737988",
     "exception": false,
     "start_time": "2022-10-31T02:07:23.677267",
     "status": "completed"
    },
    "tags": []
   },
   "outputs": [
    {
     "data": {
      "text/html": [
       "<div>\n",
       "<style scoped>\n",
       "    .dataframe tbody tr th:only-of-type {\n",
       "        vertical-align: middle;\n",
       "    }\n",
       "\n",
       "    .dataframe tbody tr th {\n",
       "        vertical-align: top;\n",
       "    }\n",
       "\n",
       "    .dataframe thead th {\n",
       "        text-align: right;\n",
       "    }\n",
       "</style>\n",
       "<table border=\"1\" class=\"dataframe\">\n",
       "  <thead>\n",
       "    <tr style=\"text-align: right;\">\n",
       "      <th></th>\n",
       "      <th>age</th>\n",
       "      <th>workclass</th>\n",
       "      <th>fnlwgt</th>\n",
       "      <th>education.num</th>\n",
       "      <th>marital.status</th>\n",
       "      <th>sex</th>\n",
       "      <th>hours.per.week</th>\n",
       "      <th>native.country</th>\n",
       "      <th>income</th>\n",
       "      <th>Amer-Indian-Eskimo</th>\n",
       "      <th>Asian-Pac-Islander</th>\n",
       "      <th>Black</th>\n",
       "      <th>Other</th>\n",
       "      <th>White</th>\n",
       "    </tr>\n",
       "  </thead>\n",
       "  <tbody>\n",
       "    <tr>\n",
       "      <th>0</th>\n",
       "      <td>0.232877</td>\n",
       "      <td>0.5</td>\n",
       "      <td>0.130877</td>\n",
       "      <td>0.600000</td>\n",
       "      <td>0</td>\n",
       "      <td>0</td>\n",
       "      <td>0.438776</td>\n",
       "      <td>1</td>\n",
       "      <td>&lt;=50K</td>\n",
       "      <td>0</td>\n",
       "      <td>0</td>\n",
       "      <td>0</td>\n",
       "      <td>0</td>\n",
       "      <td>1</td>\n",
       "    </tr>\n",
       "    <tr>\n",
       "      <th>1</th>\n",
       "      <td>0.561644</td>\n",
       "      <td>0</td>\n",
       "      <td>0.202252</td>\n",
       "      <td>0.333333</td>\n",
       "      <td>1</td>\n",
       "      <td>0</td>\n",
       "      <td>0.397959</td>\n",
       "      <td>1</td>\n",
       "      <td>&lt;=50K</td>\n",
       "      <td>0</td>\n",
       "      <td>0</td>\n",
       "      <td>0</td>\n",
       "      <td>0</td>\n",
       "      <td>1</td>\n",
       "    </tr>\n",
       "    <tr>\n",
       "      <th>2</th>\n",
       "      <td>0.109589</td>\n",
       "      <td>0.5</td>\n",
       "      <td>0.090893</td>\n",
       "      <td>0.600000</td>\n",
       "      <td>0.5</td>\n",
       "      <td>0</td>\n",
       "      <td>0.418367</td>\n",
       "      <td>1</td>\n",
       "      <td>&lt;=50K</td>\n",
       "      <td>0</td>\n",
       "      <td>0</td>\n",
       "      <td>0</td>\n",
       "      <td>0</td>\n",
       "      <td>1</td>\n",
       "    </tr>\n",
       "    <tr>\n",
       "      <th>3</th>\n",
       "      <td>0.095890</td>\n",
       "      <td>0.5</td>\n",
       "      <td>0.086017</td>\n",
       "      <td>0.600000</td>\n",
       "      <td>0</td>\n",
       "      <td>1</td>\n",
       "      <td>0.397959</td>\n",
       "      <td>1</td>\n",
       "      <td>&lt;=50K</td>\n",
       "      <td>0</td>\n",
       "      <td>0</td>\n",
       "      <td>0</td>\n",
       "      <td>0</td>\n",
       "      <td>1</td>\n",
       "    </tr>\n",
       "    <tr>\n",
       "      <th>4</th>\n",
       "      <td>0.547945</td>\n",
       "      <td>1</td>\n",
       "      <td>0.167478</td>\n",
       "      <td>0.533333</td>\n",
       "      <td>1</td>\n",
       "      <td>0</td>\n",
       "      <td>0.602041</td>\n",
       "      <td>0</td>\n",
       "      <td>&gt;50K</td>\n",
       "      <td>0</td>\n",
       "      <td>0</td>\n",
       "      <td>0</td>\n",
       "      <td>0</td>\n",
       "      <td>1</td>\n",
       "    </tr>\n",
       "    <tr>\n",
       "      <th>...</th>\n",
       "      <td>...</td>\n",
       "      <td>...</td>\n",
       "      <td>...</td>\n",
       "      <td>...</td>\n",
       "      <td>...</td>\n",
       "      <td>...</td>\n",
       "      <td>...</td>\n",
       "      <td>...</td>\n",
       "      <td>...</td>\n",
       "      <td>...</td>\n",
       "      <td>...</td>\n",
       "      <td>...</td>\n",
       "      <td>...</td>\n",
       "      <td>...</td>\n",
       "    </tr>\n",
       "    <tr>\n",
       "      <th>32555</th>\n",
       "      <td>0.342466</td>\n",
       "      <td>0.5</td>\n",
       "      <td>0.252612</td>\n",
       "      <td>0.866667</td>\n",
       "      <td>1</td>\n",
       "      <td>0</td>\n",
       "      <td>0.397959</td>\n",
       "      <td>1</td>\n",
       "      <td>&gt;50K</td>\n",
       "      <td>0</td>\n",
       "      <td>0</td>\n",
       "      <td>0</td>\n",
       "      <td>0</td>\n",
       "      <td>1</td>\n",
       "    </tr>\n",
       "    <tr>\n",
       "      <th>32556</th>\n",
       "      <td>0.082192</td>\n",
       "      <td>0.5</td>\n",
       "      <td>0.079296</td>\n",
       "      <td>0.533333</td>\n",
       "      <td>0.5</td>\n",
       "      <td>1</td>\n",
       "      <td>0.397959</td>\n",
       "      <td>1</td>\n",
       "      <td>&lt;=50K</td>\n",
       "      <td>0</td>\n",
       "      <td>0</td>\n",
       "      <td>1</td>\n",
       "      <td>0</td>\n",
       "      <td>0</td>\n",
       "    </tr>\n",
       "    <tr>\n",
       "      <th>32557</th>\n",
       "      <td>0.178082</td>\n",
       "      <td>0.5</td>\n",
       "      <td>0.124423</td>\n",
       "      <td>0.533333</td>\n",
       "      <td>0.5</td>\n",
       "      <td>1</td>\n",
       "      <td>0.397959</td>\n",
       "      <td>0</td>\n",
       "      <td>&lt;=50K</td>\n",
       "      <td>0</td>\n",
       "      <td>0</td>\n",
       "      <td>0</td>\n",
       "      <td>0</td>\n",
       "      <td>1</td>\n",
       "    </tr>\n",
       "    <tr>\n",
       "      <th>32558</th>\n",
       "      <td>0.013699</td>\n",
       "      <td>0.5</td>\n",
       "      <td>0.010415</td>\n",
       "      <td>0.533333</td>\n",
       "      <td>0.5</td>\n",
       "      <td>1</td>\n",
       "      <td>0.244898</td>\n",
       "      <td>1</td>\n",
       "      <td>&lt;=50K</td>\n",
       "      <td>0</td>\n",
       "      <td>0</td>\n",
       "      <td>0</td>\n",
       "      <td>0</td>\n",
       "      <td>1</td>\n",
       "    </tr>\n",
       "    <tr>\n",
       "      <th>32559</th>\n",
       "      <td>0.410959</td>\n",
       "      <td>0</td>\n",
       "      <td>0.129570</td>\n",
       "      <td>0.800000</td>\n",
       "      <td>0</td>\n",
       "      <td>0</td>\n",
       "      <td>0.500000</td>\n",
       "      <td>1</td>\n",
       "      <td>&lt;=50K</td>\n",
       "      <td>0</td>\n",
       "      <td>0</td>\n",
       "      <td>0</td>\n",
       "      <td>0</td>\n",
       "      <td>1</td>\n",
       "    </tr>\n",
       "  </tbody>\n",
       "</table>\n",
       "<p>32560 rows × 14 columns</p>\n",
       "</div>"
      ],
      "text/plain": [
       "            age workclass    fnlwgt  education.num marital.status sex  \\\n",
       "0      0.232877       0.5  0.130877       0.600000              0   0   \n",
       "1      0.561644         0  0.202252       0.333333              1   0   \n",
       "2      0.109589       0.5  0.090893       0.600000            0.5   0   \n",
       "3      0.095890       0.5  0.086017       0.600000              0   1   \n",
       "4      0.547945         1  0.167478       0.533333              1   0   \n",
       "...         ...       ...       ...            ...            ...  ..   \n",
       "32555  0.342466       0.5  0.252612       0.866667              1   0   \n",
       "32556  0.082192       0.5  0.079296       0.533333            0.5   1   \n",
       "32557  0.178082       0.5  0.124423       0.533333            0.5   1   \n",
       "32558  0.013699       0.5  0.010415       0.533333            0.5   1   \n",
       "32559  0.410959         0  0.129570       0.800000              0   0   \n",
       "\n",
       "       hours.per.week native.country income  Amer-Indian-Eskimo  \\\n",
       "0            0.438776              1  <=50K                   0   \n",
       "1            0.397959              1  <=50K                   0   \n",
       "2            0.418367              1  <=50K                   0   \n",
       "3            0.397959              1  <=50K                   0   \n",
       "4            0.602041              0   >50K                   0   \n",
       "...               ...            ...    ...                 ...   \n",
       "32555        0.397959              1   >50K                   0   \n",
       "32556        0.397959              1  <=50K                   0   \n",
       "32557        0.397959              0  <=50K                   0   \n",
       "32558        0.244898              1  <=50K                   0   \n",
       "32559        0.500000              1  <=50K                   0   \n",
       "\n",
       "       Asian-Pac-Islander  Black  Other  White  \n",
       "0                       0      0      0      1  \n",
       "1                       0      0      0      1  \n",
       "2                       0      0      0      1  \n",
       "3                       0      0      0      1  \n",
       "4                       0      0      0      1  \n",
       "...                   ...    ...    ...    ...  \n",
       "32555                   0      0      0      1  \n",
       "32556                   0      1      0      0  \n",
       "32557                   0      0      0      1  \n",
       "32558                   0      0      0      1  \n",
       "32559                   0      0      0      1  \n",
       "\n",
       "[32560 rows x 14 columns]"
      ]
     },
     "execution_count": 48,
     "metadata": {},
     "output_type": "execute_result"
    }
   ],
   "source": [
    "treino_adult"
   ]
  },
  {
   "cell_type": "code",
   "execution_count": 49,
   "id": "28cd5c34",
   "metadata": {
    "execution": {
     "iopub.execute_input": "2022-10-31T02:07:23.801171Z",
     "iopub.status.busy": "2022-10-31T02:07:23.800700Z",
     "iopub.status.idle": "2022-10-31T02:07:23.826606Z",
     "shell.execute_reply": "2022-10-31T02:07:23.825425Z"
    },
    "papermill": {
     "duration": 0.060301,
     "end_time": "2022-10-31T02:07:23.829088",
     "exception": false,
     "start_time": "2022-10-31T02:07:23.768787",
     "status": "completed"
    },
    "tags": []
   },
   "outputs": [
    {
     "data": {
      "text/html": [
       "<div>\n",
       "<style scoped>\n",
       "    .dataframe tbody tr th:only-of-type {\n",
       "        vertical-align: middle;\n",
       "    }\n",
       "\n",
       "    .dataframe tbody tr th {\n",
       "        vertical-align: top;\n",
       "    }\n",
       "\n",
       "    .dataframe thead th {\n",
       "        text-align: right;\n",
       "    }\n",
       "</style>\n",
       "<table border=\"1\" class=\"dataframe\">\n",
       "  <thead>\n",
       "    <tr style=\"text-align: right;\">\n",
       "      <th></th>\n",
       "      <th>age</th>\n",
       "      <th>workclass</th>\n",
       "      <th>fnlwgt</th>\n",
       "      <th>education.num</th>\n",
       "      <th>marital.status</th>\n",
       "      <th>sex</th>\n",
       "      <th>hours.per.week</th>\n",
       "      <th>native.country</th>\n",
       "      <th>Amer-Indian-Eskimo</th>\n",
       "      <th>Asian-Pac-Islander</th>\n",
       "      <th>Black</th>\n",
       "      <th>Other</th>\n",
       "      <th>White</th>\n",
       "    </tr>\n",
       "  </thead>\n",
       "  <tbody>\n",
       "    <tr>\n",
       "      <th>0</th>\n",
       "      <td>0.109589</td>\n",
       "      <td>0.5</td>\n",
       "      <td>0.072519</td>\n",
       "      <td>0.800000</td>\n",
       "      <td>0.5</td>\n",
       "      <td>0</td>\n",
       "      <td>0.438776</td>\n",
       "      <td>1</td>\n",
       "      <td>0</td>\n",
       "      <td>0</td>\n",
       "      <td>0</td>\n",
       "      <td>0</td>\n",
       "      <td>1</td>\n",
       "    </tr>\n",
       "    <tr>\n",
       "      <th>1</th>\n",
       "      <td>0.643836</td>\n",
       "      <td>0</td>\n",
       "      <td>0.094146</td>\n",
       "      <td>0.800000</td>\n",
       "      <td>1</td>\n",
       "      <td>0</td>\n",
       "      <td>0.448980</td>\n",
       "      <td>1</td>\n",
       "      <td>0</td>\n",
       "      <td>0</td>\n",
       "      <td>0</td>\n",
       "      <td>0</td>\n",
       "      <td>1</td>\n",
       "    </tr>\n",
       "    <tr>\n",
       "      <th>2</th>\n",
       "      <td>0.191781</td>\n",
       "      <td>0.5</td>\n",
       "      <td>0.058665</td>\n",
       "      <td>0.866667</td>\n",
       "      <td>0</td>\n",
       "      <td>1</td>\n",
       "      <td>0.397959</td>\n",
       "      <td>1</td>\n",
       "      <td>0</td>\n",
       "      <td>0</td>\n",
       "      <td>0</td>\n",
       "      <td>0</td>\n",
       "      <td>1</td>\n",
       "    </tr>\n",
       "    <tr>\n",
       "      <th>3</th>\n",
       "      <td>0.383562</td>\n",
       "      <td>0.5</td>\n",
       "      <td>0.118918</td>\n",
       "      <td>0.533333</td>\n",
       "      <td>0.5</td>\n",
       "      <td>0</td>\n",
       "      <td>0.397959</td>\n",
       "      <td>1</td>\n",
       "      <td>0</td>\n",
       "      <td>0</td>\n",
       "      <td>0</td>\n",
       "      <td>0</td>\n",
       "      <td>1</td>\n",
       "    </tr>\n",
       "    <tr>\n",
       "      <th>4</th>\n",
       "      <td>0.643836</td>\n",
       "      <td>1</td>\n",
       "      <td>0.321116</td>\n",
       "      <td>0.800000</td>\n",
       "      <td>1</td>\n",
       "      <td>0</td>\n",
       "      <td>0.500000</td>\n",
       "      <td>1</td>\n",
       "      <td>0</td>\n",
       "      <td>0</td>\n",
       "      <td>0</td>\n",
       "      <td>0</td>\n",
       "      <td>1</td>\n",
       "    </tr>\n",
       "    <tr>\n",
       "      <th>...</th>\n",
       "      <td>...</td>\n",
       "      <td>...</td>\n",
       "      <td>...</td>\n",
       "      <td>...</td>\n",
       "      <td>...</td>\n",
       "      <td>...</td>\n",
       "      <td>...</td>\n",
       "      <td>...</td>\n",
       "      <td>...</td>\n",
       "      <td>...</td>\n",
       "      <td>...</td>\n",
       "      <td>...</td>\n",
       "      <td>...</td>\n",
       "    </tr>\n",
       "    <tr>\n",
       "      <th>16275</th>\n",
       "      <td>0.315068</td>\n",
       "      <td>0.5</td>\n",
       "      <td>0.104692</td>\n",
       "      <td>0.533333</td>\n",
       "      <td>1</td>\n",
       "      <td>0</td>\n",
       "      <td>0.397959</td>\n",
       "      <td>1</td>\n",
       "      <td>0</td>\n",
       "      <td>0</td>\n",
       "      <td>0</td>\n",
       "      <td>0</td>\n",
       "      <td>1</td>\n",
       "    </tr>\n",
       "    <tr>\n",
       "      <th>16276</th>\n",
       "      <td>0.178082</td>\n",
       "      <td>0</td>\n",
       "      <td>0.212411</td>\n",
       "      <td>0.533333</td>\n",
       "      <td>1</td>\n",
       "      <td>0</td>\n",
       "      <td>0.397959</td>\n",
       "      <td>1</td>\n",
       "      <td>0</td>\n",
       "      <td>0</td>\n",
       "      <td>0</td>\n",
       "      <td>0</td>\n",
       "      <td>1</td>\n",
       "    </tr>\n",
       "    <tr>\n",
       "      <th>16277</th>\n",
       "      <td>0.109589</td>\n",
       "      <td>0.5</td>\n",
       "      <td>0.069650</td>\n",
       "      <td>0.533333</td>\n",
       "      <td>0.5</td>\n",
       "      <td>0</td>\n",
       "      <td>0.397959</td>\n",
       "      <td>0</td>\n",
       "      <td>0</td>\n",
       "      <td>1</td>\n",
       "      <td>0</td>\n",
       "      <td>0</td>\n",
       "      <td>0</td>\n",
       "    </tr>\n",
       "    <tr>\n",
       "      <th>16278</th>\n",
       "      <td>0.589041</td>\n",
       "      <td>0.5</td>\n",
       "      <td>0.017449</td>\n",
       "      <td>0.866667</td>\n",
       "      <td>0.5</td>\n",
       "      <td>1</td>\n",
       "      <td>0.346939</td>\n",
       "      <td>1</td>\n",
       "      <td>0</td>\n",
       "      <td>0</td>\n",
       "      <td>0</td>\n",
       "      <td>0</td>\n",
       "      <td>1</td>\n",
       "    </tr>\n",
       "    <tr>\n",
       "      <th>16279</th>\n",
       "      <td>0.438356</td>\n",
       "      <td>0.5</td>\n",
       "      <td>0.114679</td>\n",
       "      <td>0.600000</td>\n",
       "      <td>1</td>\n",
       "      <td>0</td>\n",
       "      <td>0.397959</td>\n",
       "      <td>1</td>\n",
       "      <td>0</td>\n",
       "      <td>0</td>\n",
       "      <td>0</td>\n",
       "      <td>0</td>\n",
       "      <td>1</td>\n",
       "    </tr>\n",
       "  </tbody>\n",
       "</table>\n",
       "<p>16280 rows × 13 columns</p>\n",
       "</div>"
      ],
      "text/plain": [
       "            age workclass    fnlwgt  education.num marital.status sex  \\\n",
       "0      0.109589       0.5  0.072519       0.800000            0.5   0   \n",
       "1      0.643836         0  0.094146       0.800000              1   0   \n",
       "2      0.191781       0.5  0.058665       0.866667              0   1   \n",
       "3      0.383562       0.5  0.118918       0.533333            0.5   0   \n",
       "4      0.643836         1  0.321116       0.800000              1   0   \n",
       "...         ...       ...       ...            ...            ...  ..   \n",
       "16275  0.315068       0.5  0.104692       0.533333              1   0   \n",
       "16276  0.178082         0  0.212411       0.533333              1   0   \n",
       "16277  0.109589       0.5  0.069650       0.533333            0.5   0   \n",
       "16278  0.589041       0.5  0.017449       0.866667            0.5   1   \n",
       "16279  0.438356       0.5  0.114679       0.600000              1   0   \n",
       "\n",
       "       hours.per.week native.country  Amer-Indian-Eskimo  Asian-Pac-Islander  \\\n",
       "0            0.438776              1                   0                   0   \n",
       "1            0.448980              1                   0                   0   \n",
       "2            0.397959              1                   0                   0   \n",
       "3            0.397959              1                   0                   0   \n",
       "4            0.500000              1                   0                   0   \n",
       "...               ...            ...                 ...                 ...   \n",
       "16275        0.397959              1                   0                   0   \n",
       "16276        0.397959              1                   0                   0   \n",
       "16277        0.397959              0                   0                   1   \n",
       "16278        0.346939              1                   0                   0   \n",
       "16279        0.397959              1                   0                   0   \n",
       "\n",
       "       Black  Other  White  \n",
       "0          0      0      1  \n",
       "1          0      0      1  \n",
       "2          0      0      1  \n",
       "3          0      0      1  \n",
       "4          0      0      1  \n",
       "...      ...    ...    ...  \n",
       "16275      0      0      1  \n",
       "16276      0      0      1  \n",
       "16277      0      0      0  \n",
       "16278      0      0      1  \n",
       "16279      0      0      1  \n",
       "\n",
       "[16280 rows x 13 columns]"
      ]
     },
     "execution_count": 49,
     "metadata": {},
     "output_type": "execute_result"
    }
   ],
   "source": [
    "teste_adult"
   ]
  },
  {
   "cell_type": "markdown",
   "id": "9cd8eb80",
   "metadata": {
    "papermill": {
     "duration": 0.031173,
     "end_time": "2022-10-31T02:07:23.891477",
     "exception": false,
     "start_time": "2022-10-31T02:07:23.860304",
     "status": "completed"
    },
    "tags": []
   },
   "source": [
    "Vamos salvar a variável resposta da base de treino:"
   ]
  },
  {
   "cell_type": "code",
   "execution_count": 50,
   "id": "13e4f3aa",
   "metadata": {
    "execution": {
     "iopub.execute_input": "2022-10-31T02:07:23.955997Z",
     "iopub.status.busy": "2022-10-31T02:07:23.955537Z",
     "iopub.status.idle": "2022-10-31T02:07:23.961469Z",
     "shell.execute_reply": "2022-10-31T02:07:23.960262Z"
    },
    "papermill": {
     "duration": 0.040676,
     "end_time": "2022-10-31T02:07:23.963600",
     "exception": false,
     "start_time": "2022-10-31T02:07:23.922924",
     "status": "completed"
    },
    "tags": []
   },
   "outputs": [],
   "source": [
    "Y_treino = treino_adult['income']"
   ]
  },
  {
   "cell_type": "code",
   "execution_count": 51,
   "id": "826c7141",
   "metadata": {
    "execution": {
     "iopub.execute_input": "2022-10-31T02:07:24.028636Z",
     "iopub.status.busy": "2022-10-31T02:07:24.028150Z",
     "iopub.status.idle": "2022-10-31T02:07:24.036588Z",
     "shell.execute_reply": "2022-10-31T02:07:24.035757Z"
    },
    "papermill": {
     "duration": 0.044218,
     "end_time": "2022-10-31T02:07:24.039036",
     "exception": false,
     "start_time": "2022-10-31T02:07:23.994818",
     "status": "completed"
    },
    "tags": []
   },
   "outputs": [
    {
     "data": {
      "text/plain": [
       "0        <=50K\n",
       "1        <=50K\n",
       "2        <=50K\n",
       "3        <=50K\n",
       "4         >50K\n",
       "         ...  \n",
       "32555     >50K\n",
       "32556    <=50K\n",
       "32557    <=50K\n",
       "32558    <=50K\n",
       "32559    <=50K\n",
       "Name: income, Length: 32560, dtype: object"
      ]
     },
     "execution_count": 51,
     "metadata": {},
     "output_type": "execute_result"
    }
   ],
   "source": [
    "Y_treino"
   ]
  },
  {
   "cell_type": "markdown",
   "id": "12e3b534",
   "metadata": {
    "papermill": {
     "duration": 0.030952,
     "end_time": "2022-10-31T02:07:24.102014",
     "exception": false,
     "start_time": "2022-10-31T02:07:24.071062",
     "status": "completed"
    },
    "tags": []
   },
   "source": [
    "Vamos retirar a variável income da base de treino:"
   ]
  },
  {
   "cell_type": "code",
   "execution_count": 52,
   "id": "4270c4ca",
   "metadata": {
    "execution": {
     "iopub.execute_input": "2022-10-31T02:07:24.166221Z",
     "iopub.status.busy": "2022-10-31T02:07:24.165807Z",
     "iopub.status.idle": "2022-10-31T02:07:24.173138Z",
     "shell.execute_reply": "2022-10-31T02:07:24.172268Z"
    },
    "papermill": {
     "duration": 0.042227,
     "end_time": "2022-10-31T02:07:24.175395",
     "exception": false,
     "start_time": "2022-10-31T02:07:24.133168",
     "status": "completed"
    },
    "tags": []
   },
   "outputs": [],
   "source": [
    "treino_adult.drop('income', axis=1, inplace=True)"
   ]
  },
  {
   "cell_type": "code",
   "execution_count": 53,
   "id": "5267ef97",
   "metadata": {
    "execution": {
     "iopub.execute_input": "2022-10-31T02:07:24.240390Z",
     "iopub.status.busy": "2022-10-31T02:07:24.239713Z",
     "iopub.status.idle": "2022-10-31T02:07:24.245850Z",
     "shell.execute_reply": "2022-10-31T02:07:24.244957Z"
    },
    "papermill": {
     "duration": 0.04122,
     "end_time": "2022-10-31T02:07:24.247979",
     "exception": false,
     "start_time": "2022-10-31T02:07:24.206759",
     "status": "completed"
    },
    "tags": []
   },
   "outputs": [
    {
     "data": {
      "text/plain": [
       "(32560, 13)"
      ]
     },
     "execution_count": 53,
     "metadata": {},
     "output_type": "execute_result"
    }
   ],
   "source": [
    "treino_adult.shape"
   ]
  },
  {
   "cell_type": "code",
   "execution_count": 54,
   "id": "707c6ca6",
   "metadata": {
    "execution": {
     "iopub.execute_input": "2022-10-31T02:07:24.315896Z",
     "iopub.status.busy": "2022-10-31T02:07:24.315435Z",
     "iopub.status.idle": "2022-10-31T02:07:24.323702Z",
     "shell.execute_reply": "2022-10-31T02:07:24.322633Z"
    },
    "papermill": {
     "duration": 0.044096,
     "end_time": "2022-10-31T02:07:24.326412",
     "exception": false,
     "start_time": "2022-10-31T02:07:24.282316",
     "status": "completed"
    },
    "tags": []
   },
   "outputs": [
    {
     "data": {
      "text/plain": [
       "(16280, 13)"
      ]
     },
     "execution_count": 54,
     "metadata": {},
     "output_type": "execute_result"
    }
   ],
   "source": [
    "teste_adult.shape"
   ]
  },
  {
   "cell_type": "code",
   "execution_count": 55,
   "id": "a7e8c593",
   "metadata": {
    "execution": {
     "iopub.execute_input": "2022-10-31T02:07:24.394598Z",
     "iopub.status.busy": "2022-10-31T02:07:24.393731Z",
     "iopub.status.idle": "2022-10-31T02:07:24.417260Z",
     "shell.execute_reply": "2022-10-31T02:07:24.416069Z"
    },
    "papermill": {
     "duration": 0.059638,
     "end_time": "2022-10-31T02:07:24.419700",
     "exception": false,
     "start_time": "2022-10-31T02:07:24.360062",
     "status": "completed"
    },
    "tags": []
   },
   "outputs": [
    {
     "data": {
      "text/html": [
       "<div>\n",
       "<style scoped>\n",
       "    .dataframe tbody tr th:only-of-type {\n",
       "        vertical-align: middle;\n",
       "    }\n",
       "\n",
       "    .dataframe tbody tr th {\n",
       "        vertical-align: top;\n",
       "    }\n",
       "\n",
       "    .dataframe thead th {\n",
       "        text-align: right;\n",
       "    }\n",
       "</style>\n",
       "<table border=\"1\" class=\"dataframe\">\n",
       "  <thead>\n",
       "    <tr style=\"text-align: right;\">\n",
       "      <th></th>\n",
       "      <th>age</th>\n",
       "      <th>workclass</th>\n",
       "      <th>fnlwgt</th>\n",
       "      <th>education.num</th>\n",
       "      <th>marital.status</th>\n",
       "      <th>sex</th>\n",
       "      <th>hours.per.week</th>\n",
       "      <th>native.country</th>\n",
       "      <th>Amer-Indian-Eskimo</th>\n",
       "      <th>Asian-Pac-Islander</th>\n",
       "      <th>Black</th>\n",
       "      <th>Other</th>\n",
       "      <th>White</th>\n",
       "    </tr>\n",
       "  </thead>\n",
       "  <tbody>\n",
       "    <tr>\n",
       "      <th>0</th>\n",
       "      <td>0.109589</td>\n",
       "      <td>0.5</td>\n",
       "      <td>0.072519</td>\n",
       "      <td>0.800000</td>\n",
       "      <td>0.5</td>\n",
       "      <td>0</td>\n",
       "      <td>0.438776</td>\n",
       "      <td>1</td>\n",
       "      <td>0</td>\n",
       "      <td>0</td>\n",
       "      <td>0</td>\n",
       "      <td>0</td>\n",
       "      <td>1</td>\n",
       "    </tr>\n",
       "    <tr>\n",
       "      <th>1</th>\n",
       "      <td>0.643836</td>\n",
       "      <td>0</td>\n",
       "      <td>0.094146</td>\n",
       "      <td>0.800000</td>\n",
       "      <td>1</td>\n",
       "      <td>0</td>\n",
       "      <td>0.448980</td>\n",
       "      <td>1</td>\n",
       "      <td>0</td>\n",
       "      <td>0</td>\n",
       "      <td>0</td>\n",
       "      <td>0</td>\n",
       "      <td>1</td>\n",
       "    </tr>\n",
       "    <tr>\n",
       "      <th>2</th>\n",
       "      <td>0.191781</td>\n",
       "      <td>0.5</td>\n",
       "      <td>0.058665</td>\n",
       "      <td>0.866667</td>\n",
       "      <td>0</td>\n",
       "      <td>1</td>\n",
       "      <td>0.397959</td>\n",
       "      <td>1</td>\n",
       "      <td>0</td>\n",
       "      <td>0</td>\n",
       "      <td>0</td>\n",
       "      <td>0</td>\n",
       "      <td>1</td>\n",
       "    </tr>\n",
       "    <tr>\n",
       "      <th>3</th>\n",
       "      <td>0.383562</td>\n",
       "      <td>0.5</td>\n",
       "      <td>0.118918</td>\n",
       "      <td>0.533333</td>\n",
       "      <td>0.5</td>\n",
       "      <td>0</td>\n",
       "      <td>0.397959</td>\n",
       "      <td>1</td>\n",
       "      <td>0</td>\n",
       "      <td>0</td>\n",
       "      <td>0</td>\n",
       "      <td>0</td>\n",
       "      <td>1</td>\n",
       "    </tr>\n",
       "    <tr>\n",
       "      <th>4</th>\n",
       "      <td>0.643836</td>\n",
       "      <td>1</td>\n",
       "      <td>0.321116</td>\n",
       "      <td>0.800000</td>\n",
       "      <td>1</td>\n",
       "      <td>0</td>\n",
       "      <td>0.500000</td>\n",
       "      <td>1</td>\n",
       "      <td>0</td>\n",
       "      <td>0</td>\n",
       "      <td>0</td>\n",
       "      <td>0</td>\n",
       "      <td>1</td>\n",
       "    </tr>\n",
       "    <tr>\n",
       "      <th>...</th>\n",
       "      <td>...</td>\n",
       "      <td>...</td>\n",
       "      <td>...</td>\n",
       "      <td>...</td>\n",
       "      <td>...</td>\n",
       "      <td>...</td>\n",
       "      <td>...</td>\n",
       "      <td>...</td>\n",
       "      <td>...</td>\n",
       "      <td>...</td>\n",
       "      <td>...</td>\n",
       "      <td>...</td>\n",
       "      <td>...</td>\n",
       "    </tr>\n",
       "    <tr>\n",
       "      <th>16275</th>\n",
       "      <td>0.315068</td>\n",
       "      <td>0.5</td>\n",
       "      <td>0.104692</td>\n",
       "      <td>0.533333</td>\n",
       "      <td>1</td>\n",
       "      <td>0</td>\n",
       "      <td>0.397959</td>\n",
       "      <td>1</td>\n",
       "      <td>0</td>\n",
       "      <td>0</td>\n",
       "      <td>0</td>\n",
       "      <td>0</td>\n",
       "      <td>1</td>\n",
       "    </tr>\n",
       "    <tr>\n",
       "      <th>16276</th>\n",
       "      <td>0.178082</td>\n",
       "      <td>0</td>\n",
       "      <td>0.212411</td>\n",
       "      <td>0.533333</td>\n",
       "      <td>1</td>\n",
       "      <td>0</td>\n",
       "      <td>0.397959</td>\n",
       "      <td>1</td>\n",
       "      <td>0</td>\n",
       "      <td>0</td>\n",
       "      <td>0</td>\n",
       "      <td>0</td>\n",
       "      <td>1</td>\n",
       "    </tr>\n",
       "    <tr>\n",
       "      <th>16277</th>\n",
       "      <td>0.109589</td>\n",
       "      <td>0.5</td>\n",
       "      <td>0.069650</td>\n",
       "      <td>0.533333</td>\n",
       "      <td>0.5</td>\n",
       "      <td>0</td>\n",
       "      <td>0.397959</td>\n",
       "      <td>0</td>\n",
       "      <td>0</td>\n",
       "      <td>1</td>\n",
       "      <td>0</td>\n",
       "      <td>0</td>\n",
       "      <td>0</td>\n",
       "    </tr>\n",
       "    <tr>\n",
       "      <th>16278</th>\n",
       "      <td>0.589041</td>\n",
       "      <td>0.5</td>\n",
       "      <td>0.017449</td>\n",
       "      <td>0.866667</td>\n",
       "      <td>0.5</td>\n",
       "      <td>1</td>\n",
       "      <td>0.346939</td>\n",
       "      <td>1</td>\n",
       "      <td>0</td>\n",
       "      <td>0</td>\n",
       "      <td>0</td>\n",
       "      <td>0</td>\n",
       "      <td>1</td>\n",
       "    </tr>\n",
       "    <tr>\n",
       "      <th>16279</th>\n",
       "      <td>0.438356</td>\n",
       "      <td>0.5</td>\n",
       "      <td>0.114679</td>\n",
       "      <td>0.600000</td>\n",
       "      <td>1</td>\n",
       "      <td>0</td>\n",
       "      <td>0.397959</td>\n",
       "      <td>1</td>\n",
       "      <td>0</td>\n",
       "      <td>0</td>\n",
       "      <td>0</td>\n",
       "      <td>0</td>\n",
       "      <td>1</td>\n",
       "    </tr>\n",
       "  </tbody>\n",
       "</table>\n",
       "<p>16280 rows × 13 columns</p>\n",
       "</div>"
      ],
      "text/plain": [
       "            age workclass    fnlwgt  education.num marital.status sex  \\\n",
       "0      0.109589       0.5  0.072519       0.800000            0.5   0   \n",
       "1      0.643836         0  0.094146       0.800000              1   0   \n",
       "2      0.191781       0.5  0.058665       0.866667              0   1   \n",
       "3      0.383562       0.5  0.118918       0.533333            0.5   0   \n",
       "4      0.643836         1  0.321116       0.800000              1   0   \n",
       "...         ...       ...       ...            ...            ...  ..   \n",
       "16275  0.315068       0.5  0.104692       0.533333              1   0   \n",
       "16276  0.178082         0  0.212411       0.533333              1   0   \n",
       "16277  0.109589       0.5  0.069650       0.533333            0.5   0   \n",
       "16278  0.589041       0.5  0.017449       0.866667            0.5   1   \n",
       "16279  0.438356       0.5  0.114679       0.600000              1   0   \n",
       "\n",
       "       hours.per.week native.country  Amer-Indian-Eskimo  Asian-Pac-Islander  \\\n",
       "0            0.438776              1                   0                   0   \n",
       "1            0.448980              1                   0                   0   \n",
       "2            0.397959              1                   0                   0   \n",
       "3            0.397959              1                   0                   0   \n",
       "4            0.500000              1                   0                   0   \n",
       "...               ...            ...                 ...                 ...   \n",
       "16275        0.397959              1                   0                   0   \n",
       "16276        0.397959              1                   0                   0   \n",
       "16277        0.397959              0                   0                   1   \n",
       "16278        0.346939              1                   0                   0   \n",
       "16279        0.397959              1                   0                   0   \n",
       "\n",
       "       Black  Other  White  \n",
       "0          0      0      1  \n",
       "1          0      0      1  \n",
       "2          0      0      1  \n",
       "3          0      0      1  \n",
       "4          0      0      1  \n",
       "...      ...    ...    ...  \n",
       "16275      0      0      1  \n",
       "16276      0      0      1  \n",
       "16277      0      0      0  \n",
       "16278      0      0      1  \n",
       "16279      0      0      1  \n",
       "\n",
       "[16280 rows x 13 columns]"
      ]
     },
     "execution_count": 55,
     "metadata": {},
     "output_type": "execute_result"
    }
   ],
   "source": [
    "teste_adult"
   ]
  },
  {
   "cell_type": "code",
   "execution_count": 56,
   "id": "8411f315",
   "metadata": {
    "execution": {
     "iopub.execute_input": "2022-10-31T02:07:24.486538Z",
     "iopub.status.busy": "2022-10-31T02:07:24.486062Z",
     "iopub.status.idle": "2022-10-31T02:07:24.496475Z",
     "shell.execute_reply": "2022-10-31T02:07:24.495464Z"
    },
    "papermill": {
     "duration": 0.047221,
     "end_time": "2022-10-31T02:07:24.499027",
     "exception": false,
     "start_time": "2022-10-31T02:07:24.451806",
     "status": "completed"
    },
    "tags": []
   },
   "outputs": [],
   "source": [
    "teste_adult.drop('native.country', axis=1, inplace = True)\n",
    "treino_adult.drop('native.country', axis=1, inplace = True)"
   ]
  },
  {
   "cell_type": "markdown",
   "id": "f8f389e3",
   "metadata": {
    "execution": {
     "iopub.execute_input": "2022-10-29T23:02:06.999705Z",
     "iopub.status.busy": "2022-10-29T23:02:06.999145Z",
     "iopub.status.idle": "2022-10-29T23:02:07.007924Z",
     "shell.execute_reply": "2022-10-29T23:02:07.006832Z",
     "shell.execute_reply.started": "2022-10-29T23:02:06.999672Z"
    },
    "papermill": {
     "duration": 0.031832,
     "end_time": "2022-10-31T02:07:24.563025",
     "exception": false,
     "start_time": "2022-10-31T02:07:24.531193",
     "status": "completed"
    },
    "tags": []
   },
   "source": [
    "Vamos realizar cross validation para valores de k de 1 até 31 de 2 em 2 valores:"
   ]
  },
  {
   "cell_type": "code",
   "execution_count": 57,
   "id": "f92d38f2",
   "metadata": {
    "execution": {
     "iopub.execute_input": "2022-10-31T02:07:24.628882Z",
     "iopub.status.busy": "2022-10-31T02:07:24.628447Z",
     "iopub.status.idle": "2022-10-31T02:07:24.634265Z",
     "shell.execute_reply": "2022-10-31T02:07:24.632908Z"
    },
    "papermill": {
     "duration": 0.04143,
     "end_time": "2022-10-31T02:07:24.636477",
     "exception": false,
     "start_time": "2022-10-31T02:07:24.595047",
     "status": "completed"
    },
    "tags": []
   },
   "outputs": [],
   "source": [
    "K = np.array(range(1,32,2))"
   ]
  },
  {
   "cell_type": "code",
   "execution_count": 58,
   "id": "7ae60477",
   "metadata": {
    "execution": {
     "iopub.execute_input": "2022-10-31T02:07:24.702574Z",
     "iopub.status.busy": "2022-10-31T02:07:24.702087Z",
     "iopub.status.idle": "2022-10-31T02:08:52.920923Z",
     "shell.execute_reply": "2022-10-31T02:08:52.919525Z"
    },
    "papermill": {
     "duration": 88.256047,
     "end_time": "2022-10-31T02:08:52.924543",
     "exception": false,
     "start_time": "2022-10-31T02:07:24.668496",
     "status": "completed"
    },
    "tags": []
   },
   "outputs": [],
   "source": [
    "scores = []\n",
    "for k in K:\n",
    "    scores.append(cross_val_score(KNeighborsClassifier(n_neighbors=k), treino_adult, Y_treino, cv=10))"
   ]
  },
  {
   "cell_type": "code",
   "execution_count": 59,
   "id": "09b24553",
   "metadata": {
    "execution": {
     "iopub.execute_input": "2022-10-31T02:08:52.999413Z",
     "iopub.status.busy": "2022-10-31T02:08:52.998522Z",
     "iopub.status.idle": "2022-10-31T02:08:53.010060Z",
     "shell.execute_reply": "2022-10-31T02:08:53.008827Z"
    },
    "papermill": {
     "duration": 0.054358,
     "end_time": "2022-10-31T02:08:53.012711",
     "exception": false,
     "start_time": "2022-10-31T02:08:52.958353",
     "status": "completed"
    },
    "tags": []
   },
   "outputs": [
    {
     "data": {
      "text/plain": [
       "[array([0.77119165, 0.77119165, 0.76504914, 0.7705774 , 0.76627764,\n",
       "        0.7742629 , 0.7730344 , 0.76719902, 0.76965602, 0.76351351]),\n",
       " array([0.79637592, 0.80405405, 0.79146192, 0.80743243, 0.79668305,\n",
       "        0.80128993, 0.80006143, 0.79330467, 0.79576167, 0.79023342]),\n",
       " array([0.8046683 , 0.80988943, 0.80036855, 0.81142506, 0.80866093,\n",
       "        0.80589681, 0.80436118, 0.80712531, 0.8046683 , 0.80866093]),\n",
       " array([0.81019656, 0.81449631, 0.80835381, 0.80773956, 0.81511057,\n",
       "        0.80927518, 0.81726044, 0.80405405, 0.81081081, 0.80835381]),\n",
       " array([0.81111794, 0.81695332, 0.80773956, 0.81265356, 0.81787469,\n",
       "        0.81296069, 0.81541769, 0.80528256, 0.81787469, 0.81326781]),\n",
       " array([0.81941032, 0.82217445, 0.81111794, 0.81081081, 0.81664619,\n",
       "        0.81388206, 0.8203317 , 0.80927518, 0.81081081, 0.81848894]),\n",
       " array([0.82340295, 0.82186732, 0.81050369, 0.81388206, 0.82186732,\n",
       "        0.81726044, 0.82371007, 0.80927518, 0.81511057, 0.8215602 ]),\n",
       " array([0.8215602 , 0.82432432, 0.80773956, 0.81388206, 0.82371007,\n",
       "        0.81664619, 0.82616708, 0.80927518, 0.81418919, 0.82616708]),\n",
       " array([0.82063882, 0.82309582, 0.81203931, 0.81603194, 0.8252457 ,\n",
       "        0.81910319, 0.82678133, 0.81111794, 0.81234644, 0.82616708]),\n",
       " array([0.82340295, 0.82186732, 0.81572482, 0.81787469, 0.82800983,\n",
       "        0.8215602 , 0.82340295, 0.81081081, 0.81664619, 0.82309582]),\n",
       " array([0.8240172 , 0.8203317 , 0.81756757, 0.8227887 , 0.83108108,\n",
       "        0.82186732, 0.8277027 , 0.81142506, 0.81695332, 0.82463145]),\n",
       " array([0.8215602 , 0.82585995, 0.81818182, 0.8240172 , 0.82739558,\n",
       "        0.8227887 , 0.82585995, 0.81173219, 0.8227887 , 0.82708845]),\n",
       " array([0.82371007, 0.82371007, 0.81910319, 0.8252457 , 0.8289312 ,\n",
       "        0.82125307, 0.82616708, 0.81111794, 0.82125307, 0.82555283]),\n",
       " array([0.82340295, 0.82555283, 0.81910319, 0.8264742 , 0.82954545,\n",
       "        0.82186732, 0.82862408, 0.81296069, 0.8240172 , 0.82555283]),\n",
       " array([0.8203317 , 0.82831695, 0.81879607, 0.82186732, 0.83138821,\n",
       "        0.8215602 , 0.82555283, 0.81173219, 0.82340295, 0.8264742 ]),\n",
       " array([0.81818182, 0.82985258, 0.81787469, 0.82186732, 0.83292383,\n",
       "        0.81910319, 0.82800983, 0.81418919, 0.82125307, 0.82616708])]"
      ]
     },
     "execution_count": 59,
     "metadata": {},
     "output_type": "execute_result"
    }
   ],
   "source": [
    "scores"
   ]
  },
  {
   "cell_type": "markdown",
   "id": "62780e2b",
   "metadata": {
    "papermill": {
     "duration": 0.034048,
     "end_time": "2022-10-31T02:08:53.082552",
     "exception": false,
     "start_time": "2022-10-31T02:08:53.048504",
     "status": "completed"
    },
    "tags": []
   },
   "source": [
    "Como vimos em aula o erro para cada k será o valor da média dos erros para cada um dos conjuntos de dados com um mesmo k, portanto:"
   ]
  },
  {
   "cell_type": "code",
   "execution_count": 60,
   "id": "9942bf59",
   "metadata": {
    "execution": {
     "iopub.execute_input": "2022-10-31T02:08:53.160438Z",
     "iopub.status.busy": "2022-10-31T02:08:53.159957Z",
     "iopub.status.idle": "2022-10-31T02:08:53.166450Z",
     "shell.execute_reply": "2022-10-31T02:08:53.165272Z"
    },
    "papermill": {
     "duration": 0.044624,
     "end_time": "2022-10-31T02:08:53.168923",
     "exception": false,
     "start_time": "2022-10-31T02:08:53.124299",
     "status": "completed"
    },
    "tags": []
   },
   "outputs": [],
   "source": [
    "M=[]\n",
    "for L in scores:\n",
    "    M.append(mean(L))"
   ]
  },
  {
   "cell_type": "code",
   "execution_count": 61,
   "id": "f0ade401",
   "metadata": {
    "execution": {
     "iopub.execute_input": "2022-10-31T02:08:53.237952Z",
     "iopub.status.busy": "2022-10-31T02:08:53.237025Z",
     "iopub.status.idle": "2022-10-31T02:08:53.245285Z",
     "shell.execute_reply": "2022-10-31T02:08:53.244253Z"
    },
    "papermill": {
     "duration": 0.046361,
     "end_time": "2022-10-31T02:08:53.247656",
     "exception": false,
     "start_time": "2022-10-31T02:08:53.201295",
     "status": "completed"
    },
    "tags": []
   },
   "outputs": [
    {
     "data": {
      "text/plain": [
       "[0.7691953316953317,\n",
       " 0.7976658476658477,\n",
       " 0.8065724815724815,\n",
       " 0.8105651105651106,\n",
       " 0.8131142506142506,\n",
       " 0.8152948402948403,\n",
       " 0.8178439803439803,\n",
       " 0.8183660933660933,\n",
       " 0.8192567567567568,\n",
       " 0.8202395577395577,\n",
       " 0.8218366093366094,\n",
       " 0.8227272727272728,\n",
       " 0.8226044226044226,\n",
       " 0.8237100737100738,\n",
       " 0.8229422604422605,\n",
       " 0.8229422604422605]"
      ]
     },
     "execution_count": 61,
     "metadata": {},
     "output_type": "execute_result"
    }
   ],
   "source": [
    "M"
   ]
  },
  {
   "cell_type": "code",
   "execution_count": 62,
   "id": "e433cb84",
   "metadata": {
    "execution": {
     "iopub.execute_input": "2022-10-31T02:08:53.317706Z",
     "iopub.status.busy": "2022-10-31T02:08:53.316832Z",
     "iopub.status.idle": "2022-10-31T02:08:53.324492Z",
     "shell.execute_reply": "2022-10-31T02:08:53.323318Z"
    },
    "papermill": {
     "duration": 0.045204,
     "end_time": "2022-10-31T02:08:53.326719",
     "exception": false,
     "start_time": "2022-10-31T02:08:53.281515",
     "status": "completed"
    },
    "tags": []
   },
   "outputs": [
    {
     "data": {
      "text/plain": [
       "0.8237100737100738"
      ]
     },
     "execution_count": 62,
     "metadata": {},
     "output_type": "execute_result"
    }
   ],
   "source": [
    "max(M)"
   ]
  },
  {
   "cell_type": "markdown",
   "id": "28e054ee",
   "metadata": {
    "papermill": {
     "duration": 0.034405,
     "end_time": "2022-10-31T02:08:53.393708",
     "exception": false,
     "start_time": "2022-10-31T02:08:53.359303",
     "status": "completed"
    },
    "tags": []
   },
   "source": [
    "O valor máximo de M ocorre para k = 27, então esse valor que usaremos no nosso classificador."
   ]
  },
  {
   "cell_type": "code",
   "execution_count": 63,
   "id": "ea753765",
   "metadata": {
    "execution": {
     "iopub.execute_input": "2022-10-31T02:08:53.464277Z",
     "iopub.status.busy": "2022-10-31T02:08:53.463542Z",
     "iopub.status.idle": "2022-10-31T02:08:53.469130Z",
     "shell.execute_reply": "2022-10-31T02:08:53.468287Z"
    },
    "papermill": {
     "duration": 0.043865,
     "end_time": "2022-10-31T02:08:53.471651",
     "exception": false,
     "start_time": "2022-10-31T02:08:53.427786",
     "status": "completed"
    },
    "tags": []
   },
   "outputs": [],
   "source": [
    "knn=  KNeighborsClassifier(n_neighbors=27, metric='euclidean')"
   ]
  },
  {
   "cell_type": "markdown",
   "id": "134396f6",
   "metadata": {
    "papermill": {
     "duration": 0.033473,
     "end_time": "2022-10-31T02:08:53.539728",
     "exception": false,
     "start_time": "2022-10-31T02:08:53.506255",
     "status": "completed"
    },
    "tags": []
   },
   "source": [
    "Vamos treinar nosso classificador:"
   ]
  },
  {
   "cell_type": "code",
   "execution_count": 64,
   "id": "66df7575",
   "metadata": {
    "execution": {
     "iopub.execute_input": "2022-10-31T02:08:53.609050Z",
     "iopub.status.busy": "2022-10-31T02:08:53.608294Z",
     "iopub.status.idle": "2022-10-31T02:08:53.738552Z",
     "shell.execute_reply": "2022-10-31T02:08:53.737301Z"
    },
    "papermill": {
     "duration": 0.167473,
     "end_time": "2022-10-31T02:08:53.741295",
     "exception": false,
     "start_time": "2022-10-31T02:08:53.573822",
     "status": "completed"
    },
    "tags": []
   },
   "outputs": [
    {
     "data": {
      "text/plain": [
       "KNeighborsClassifier(metric='euclidean', n_neighbors=27)"
      ]
     },
     "execution_count": 64,
     "metadata": {},
     "output_type": "execute_result"
    }
   ],
   "source": [
    "knn.fit(treino_adult,Y_treino)"
   ]
  },
  {
   "cell_type": "markdown",
   "id": "bb44d6c3",
   "metadata": {
    "papermill": {
     "duration": 0.033887,
     "end_time": "2022-10-31T02:08:53.809324",
     "exception": false,
     "start_time": "2022-10-31T02:08:53.775437",
     "status": "completed"
    },
    "tags": []
   },
   "source": [
    "Vamos calcular a saída:"
   ]
  },
  {
   "cell_type": "code",
   "execution_count": 65,
   "id": "8145d00c",
   "metadata": {
    "execution": {
     "iopub.execute_input": "2022-10-31T02:08:53.878540Z",
     "iopub.status.busy": "2022-10-31T02:08:53.878091Z",
     "iopub.status.idle": "2022-10-31T02:08:56.845976Z",
     "shell.execute_reply": "2022-10-31T02:08:56.844373Z"
    },
    "papermill": {
     "duration": 3.005348,
     "end_time": "2022-10-31T02:08:56.848866",
     "exception": false,
     "start_time": "2022-10-31T02:08:53.843518",
     "status": "completed"
    },
    "tags": []
   },
   "outputs": [],
   "source": [
    "YtestPred = knn.predict(teste_adult)"
   ]
  },
  {
   "cell_type": "code",
   "execution_count": 66,
   "id": "85170375",
   "metadata": {
    "execution": {
     "iopub.execute_input": "2022-10-31T02:08:56.919934Z",
     "iopub.status.busy": "2022-10-31T02:08:56.919424Z",
     "iopub.status.idle": "2022-10-31T02:08:56.927596Z",
     "shell.execute_reply": "2022-10-31T02:08:56.926290Z"
    },
    "papermill": {
     "duration": 0.047281,
     "end_time": "2022-10-31T02:08:56.930180",
     "exception": false,
     "start_time": "2022-10-31T02:08:56.882899",
     "status": "completed"
    },
    "tags": []
   },
   "outputs": [
    {
     "data": {
      "text/plain": [
       "array(['<=50K', '>50K', '<=50K', ..., '<=50K', '<=50K', '>50K'],\n",
       "      dtype=object)"
      ]
     },
     "execution_count": 66,
     "metadata": {},
     "output_type": "execute_result"
    }
   ],
   "source": [
    "YtestPred"
   ]
  },
  {
   "cell_type": "markdown",
   "id": "b79de43a",
   "metadata": {
    "papermill": {
     "duration": 0.033168,
     "end_time": "2022-10-31T02:08:56.996437",
     "exception": false,
     "start_time": "2022-10-31T02:08:56.963269",
     "status": "completed"
    },
    "tags": []
   },
   "source": [
    "Vamos criar a saída padrão requisitada no desafio:"
   ]
  },
  {
   "cell_type": "code",
   "execution_count": 67,
   "id": "46f3be5a",
   "metadata": {
    "execution": {
     "iopub.execute_input": "2022-10-31T02:08:57.066254Z",
     "iopub.status.busy": "2022-10-31T02:08:57.065777Z",
     "iopub.status.idle": "2022-10-31T02:08:57.103134Z",
     "shell.execute_reply": "2022-10-31T02:08:57.102085Z"
    },
    "papermill": {
     "duration": 0.075992,
     "end_time": "2022-10-31T02:08:57.105787",
     "exception": false,
     "start_time": "2022-10-31T02:08:57.029795",
     "status": "completed"
    },
    "tags": []
   },
   "outputs": [
    {
     "data": {
      "text/html": [
       "<div>\n",
       "<style scoped>\n",
       "    .dataframe tbody tr th:only-of-type {\n",
       "        vertical-align: middle;\n",
       "    }\n",
       "\n",
       "    .dataframe tbody tr th {\n",
       "        vertical-align: top;\n",
       "    }\n",
       "\n",
       "    .dataframe thead th {\n",
       "        text-align: right;\n",
       "    }\n",
       "</style>\n",
       "<table border=\"1\" class=\"dataframe\">\n",
       "  <thead>\n",
       "    <tr style=\"text-align: right;\">\n",
       "      <th></th>\n",
       "      <th>income</th>\n",
       "    </tr>\n",
       "    <tr>\n",
       "      <th>id</th>\n",
       "      <th></th>\n",
       "    </tr>\n",
       "  </thead>\n",
       "  <tbody>\n",
       "    <tr>\n",
       "      <th>0</th>\n",
       "      <td>&lt;=50K</td>\n",
       "    </tr>\n",
       "    <tr>\n",
       "      <th>1</th>\n",
       "      <td>&gt;50K</td>\n",
       "    </tr>\n",
       "    <tr>\n",
       "      <th>2</th>\n",
       "      <td>&lt;=50K</td>\n",
       "    </tr>\n",
       "    <tr>\n",
       "      <th>3</th>\n",
       "      <td>&lt;=50K</td>\n",
       "    </tr>\n",
       "    <tr>\n",
       "      <th>4</th>\n",
       "      <td>&gt;50K</td>\n",
       "    </tr>\n",
       "    <tr>\n",
       "      <th>...</th>\n",
       "      <td>...</td>\n",
       "    </tr>\n",
       "    <tr>\n",
       "      <th>16275</th>\n",
       "      <td>&lt;=50K</td>\n",
       "    </tr>\n",
       "    <tr>\n",
       "      <th>16276</th>\n",
       "      <td>&lt;=50K</td>\n",
       "    </tr>\n",
       "    <tr>\n",
       "      <th>16277</th>\n",
       "      <td>&lt;=50K</td>\n",
       "    </tr>\n",
       "    <tr>\n",
       "      <th>16278</th>\n",
       "      <td>&lt;=50K</td>\n",
       "    </tr>\n",
       "    <tr>\n",
       "      <th>16279</th>\n",
       "      <td>&gt;50K</td>\n",
       "    </tr>\n",
       "  </tbody>\n",
       "</table>\n",
       "<p>16280 rows × 1 columns</p>\n",
       "</div>"
      ],
      "text/plain": [
       "      income\n",
       "id          \n",
       "0      <=50K\n",
       "1       >50K\n",
       "2      <=50K\n",
       "3      <=50K\n",
       "4       >50K\n",
       "...      ...\n",
       "16275  <=50K\n",
       "16276  <=50K\n",
       "16277  <=50K\n",
       "16278  <=50K\n",
       "16279   >50K\n",
       "\n",
       "[16280 rows x 1 columns]"
      ]
     },
     "execution_count": 67,
     "metadata": {},
     "output_type": "execute_result"
    }
   ],
   "source": [
    "resultado = pd.DataFrame(YtestPred,columns = ['income'])\n",
    "resultado.index.name = 'id'\n",
    "resultado.to_csv('submission.csv')\n",
    "resultado"
   ]
  }
 ],
 "metadata": {
  "kernelspec": {
   "display_name": "Python 3",
   "language": "python",
   "name": "python3"
  },
  "language_info": {
   "codemirror_mode": {
    "name": "ipython",
    "version": 3
   },
   "file_extension": ".py",
   "mimetype": "text/x-python",
   "name": "python",
   "nbconvert_exporter": "python",
   "pygments_lexer": "ipython3",
   "version": "3.7.12"
  },
  "papermill": {
   "default_parameters": {},
   "duration": 183.782712,
   "end_time": "2022-10-31T02:08:57.967319",
   "environment_variables": {},
   "exception": null,
   "input_path": "__notebook__.ipynb",
   "output_path": "__notebook__.ipynb",
   "parameters": {},
   "start_time": "2022-10-31T02:05:54.184607",
   "version": "2.3.4"
  }
 },
 "nbformat": 4,
 "nbformat_minor": 5
}
