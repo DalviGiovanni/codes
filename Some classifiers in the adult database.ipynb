{
 "cells": [
  {
   "cell_type": "markdown",
   "id": "a415a7aa",
   "metadata": {
    "papermill": {
     "duration": 0.038611,
     "end_time": "2022-12-20T17:21:55.327001",
     "exception": false,
     "start_time": "2022-12-20T17:21:55.288390",
     "status": "completed"
    },
    "tags": []
   },
   "source": [
    "Primeiro, importemos algumas bibliotecas úteis:"
   ]
  },
  {
   "cell_type": "code",
   "execution_count": 1,
   "id": "20356254",
   "metadata": {
    "execution": {
     "iopub.execute_input": "2022-12-20T17:21:55.398124Z",
     "iopub.status.busy": "2022-12-20T17:21:55.397330Z",
     "iopub.status.idle": "2022-12-20T17:21:56.818205Z",
     "shell.execute_reply": "2022-12-20T17:21:56.816943Z"
    },
    "papermill": {
     "duration": 1.459482,
     "end_time": "2022-12-20T17:21:56.821170",
     "exception": false,
     "start_time": "2022-12-20T17:21:55.361688",
     "status": "completed"
    },
    "tags": []
   },
   "outputs": [],
   "source": [
    "import pandas as pd\n",
    "import numpy as np\n",
    "import matplotlib.pyplot as plt\n",
    "from sklearn.model_selection import cross_val_score\n",
    "from statistics import mean\n",
    "from sklearn.metrics import accuracy_score\n",
    "from sklearn.ensemble import HistGradientBoostingClassifier"
   ]
  },
  {
   "cell_type": "markdown",
   "id": "7d9f036c",
   "metadata": {
    "papermill": {
     "duration": 0.037372,
     "end_time": "2022-12-20T17:21:56.893441",
     "exception": false,
     "start_time": "2022-12-20T17:21:56.856069",
     "status": "completed"
    },
    "tags": []
   },
   "source": [
    "Vamos repetir todo o processo de tratamento dos dados realizados no último notebook, assim poderemos focar na produção e comparação dos diferentes tipos de classificadores, marcamos de azul onde se inicia a análise nova."
   ]
  },
  {
   "cell_type": "markdown",
   "id": "53c30353",
   "metadata": {
    "papermill": {
     "duration": 0.033814,
     "end_time": "2022-12-20T17:21:56.962255",
     "exception": false,
     "start_time": "2022-12-20T17:21:56.928441",
     "status": "completed"
    },
    "tags": []
   },
   "source": [
    "Os 4 tipos de classificadores escolhidos serão: regressão logística, SVM, boosting e random forest. Vamos importá-los:"
   ]
  },
  {
   "cell_type": "code",
   "execution_count": 2,
   "id": "5033a248",
   "metadata": {
    "execution": {
     "iopub.execute_input": "2022-12-20T17:21:57.033988Z",
     "iopub.status.busy": "2022-12-20T17:21:57.032623Z",
     "iopub.status.idle": "2022-12-20T17:21:57.038475Z",
     "shell.execute_reply": "2022-12-20T17:21:57.037516Z"
    },
    "papermill": {
     "duration": 0.04363,
     "end_time": "2022-12-20T17:21:57.040729",
     "exception": false,
     "start_time": "2022-12-20T17:21:56.997099",
     "status": "completed"
    },
    "tags": []
   },
   "outputs": [],
   "source": [
    "from sklearn.linear_model import LogisticRegression\n",
    "from sklearn.svm import SVC\n",
    "from sklearn.ensemble import GradientBoostingClassifier\n",
    "from sklearn.ensemble import RandomForestClassifier"
   ]
  },
  {
   "cell_type": "markdown",
   "id": "ebf91aeb",
   "metadata": {
    "papermill": {
     "duration": 0.034358,
     "end_time": "2022-12-20T17:21:57.109218",
     "exception": false,
     "start_time": "2022-12-20T17:21:57.074860",
     "status": "completed"
    },
    "tags": []
   },
   "source": [
    "Vamos importar os dados da base adult:"
   ]
  },
  {
   "cell_type": "code",
   "execution_count": 3,
   "id": "86c7b96a",
   "metadata": {
    "execution": {
     "iopub.execute_input": "2022-12-20T17:21:57.179491Z",
     "iopub.status.busy": "2022-12-20T17:21:57.178821Z",
     "iopub.status.idle": "2022-12-20T17:21:58.083640Z",
     "shell.execute_reply": "2022-12-20T17:21:58.082421Z"
    },
    "papermill": {
     "duration": 0.943167,
     "end_time": "2022-12-20T17:21:58.086552",
     "exception": false,
     "start_time": "2022-12-20T17:21:57.143385",
     "status": "completed"
    },
    "tags": []
   },
   "outputs": [],
   "source": [
    "treino_adult = pd.read_csv(\"/kaggle/input/adult-pmr3508/train_data.csv\",\n",
    "        sep=r'\\s*,\\s*',\n",
    "        engine='python',\n",
    "        na_values=\"?\")\n",
    "\n",
    "teste_adult = pd.read_csv(\"/kaggle/input/adult-pmr3508/test_data.csv\",\n",
    "        sep=r'\\s*,\\s*',\n",
    "        engine='python',\n",
    "        na_values=\"?\")\n",
    "\n",
    "Y_exemplo = pd.read_csv(\"/kaggle/input/adult-pmr3508/sample_submission.csv\",\n",
    "        sep=r'\\s*,\\s*',\n",
    "        engine='python',\n",
    "        na_values=\"?\")"
   ]
  },
  {
   "cell_type": "markdown",
   "id": "b68225ae",
   "metadata": {
    "papermill": {
     "duration": 0.034216,
     "end_time": "2022-12-20T17:21:58.156008",
     "exception": false,
     "start_time": "2022-12-20T17:21:58.121792",
     "status": "completed"
    },
    "tags": []
   },
   "source": [
    "Vamos ver como são as base de dados:"
   ]
  },
  {
   "cell_type": "code",
   "execution_count": 4,
   "id": "6b0b73e4",
   "metadata": {
    "execution": {
     "iopub.execute_input": "2022-12-20T17:21:58.228809Z",
     "iopub.status.busy": "2022-12-20T17:21:58.228398Z",
     "iopub.status.idle": "2022-12-20T17:21:58.254225Z",
     "shell.execute_reply": "2022-12-20T17:21:58.253199Z"
    },
    "papermill": {
     "duration": 0.064902,
     "end_time": "2022-12-20T17:21:58.256600",
     "exception": false,
     "start_time": "2022-12-20T17:21:58.191698",
     "status": "completed"
    },
    "tags": []
   },
   "outputs": [
    {
     "data": {
      "text/html": [
       "<div>\n",
       "<style scoped>\n",
       "    .dataframe tbody tr th:only-of-type {\n",
       "        vertical-align: middle;\n",
       "    }\n",
       "\n",
       "    .dataframe tbody tr th {\n",
       "        vertical-align: top;\n",
       "    }\n",
       "\n",
       "    .dataframe thead th {\n",
       "        text-align: right;\n",
       "    }\n",
       "</style>\n",
       "<table border=\"1\" class=\"dataframe\">\n",
       "  <thead>\n",
       "    <tr style=\"text-align: right;\">\n",
       "      <th></th>\n",
       "      <th>Id</th>\n",
       "      <th>age</th>\n",
       "      <th>workclass</th>\n",
       "      <th>fnlwgt</th>\n",
       "      <th>education</th>\n",
       "      <th>education.num</th>\n",
       "      <th>marital.status</th>\n",
       "      <th>occupation</th>\n",
       "      <th>relationship</th>\n",
       "      <th>race</th>\n",
       "      <th>sex</th>\n",
       "      <th>capital.gain</th>\n",
       "      <th>capital.loss</th>\n",
       "      <th>hours.per.week</th>\n",
       "      <th>native.country</th>\n",
       "      <th>income</th>\n",
       "    </tr>\n",
       "  </thead>\n",
       "  <tbody>\n",
       "    <tr>\n",
       "      <th>0</th>\n",
       "      <td>16280</td>\n",
       "      <td>34</td>\n",
       "      <td>Private</td>\n",
       "      <td>204991</td>\n",
       "      <td>Some-college</td>\n",
       "      <td>10</td>\n",
       "      <td>Divorced</td>\n",
       "      <td>Exec-managerial</td>\n",
       "      <td>Own-child</td>\n",
       "      <td>White</td>\n",
       "      <td>Male</td>\n",
       "      <td>0</td>\n",
       "      <td>0</td>\n",
       "      <td>44</td>\n",
       "      <td>United-States</td>\n",
       "      <td>&lt;=50K</td>\n",
       "    </tr>\n",
       "    <tr>\n",
       "      <th>1</th>\n",
       "      <td>16281</td>\n",
       "      <td>58</td>\n",
       "      <td>Local-gov</td>\n",
       "      <td>310085</td>\n",
       "      <td>10th</td>\n",
       "      <td>6</td>\n",
       "      <td>Married-civ-spouse</td>\n",
       "      <td>Transport-moving</td>\n",
       "      <td>Husband</td>\n",
       "      <td>White</td>\n",
       "      <td>Male</td>\n",
       "      <td>0</td>\n",
       "      <td>0</td>\n",
       "      <td>40</td>\n",
       "      <td>United-States</td>\n",
       "      <td>&lt;=50K</td>\n",
       "    </tr>\n",
       "    <tr>\n",
       "      <th>2</th>\n",
       "      <td>16282</td>\n",
       "      <td>25</td>\n",
       "      <td>Private</td>\n",
       "      <td>146117</td>\n",
       "      <td>Some-college</td>\n",
       "      <td>10</td>\n",
       "      <td>Never-married</td>\n",
       "      <td>Machine-op-inspct</td>\n",
       "      <td>Not-in-family</td>\n",
       "      <td>White</td>\n",
       "      <td>Male</td>\n",
       "      <td>0</td>\n",
       "      <td>0</td>\n",
       "      <td>42</td>\n",
       "      <td>United-States</td>\n",
       "      <td>&lt;=50K</td>\n",
       "    </tr>\n",
       "    <tr>\n",
       "      <th>3</th>\n",
       "      <td>16283</td>\n",
       "      <td>24</td>\n",
       "      <td>Private</td>\n",
       "      <td>138938</td>\n",
       "      <td>Some-college</td>\n",
       "      <td>10</td>\n",
       "      <td>Divorced</td>\n",
       "      <td>Adm-clerical</td>\n",
       "      <td>Not-in-family</td>\n",
       "      <td>White</td>\n",
       "      <td>Female</td>\n",
       "      <td>0</td>\n",
       "      <td>0</td>\n",
       "      <td>40</td>\n",
       "      <td>United-States</td>\n",
       "      <td>&lt;=50K</td>\n",
       "    </tr>\n",
       "    <tr>\n",
       "      <th>4</th>\n",
       "      <td>16284</td>\n",
       "      <td>57</td>\n",
       "      <td>Self-emp-inc</td>\n",
       "      <td>258883</td>\n",
       "      <td>HS-grad</td>\n",
       "      <td>9</td>\n",
       "      <td>Married-civ-spouse</td>\n",
       "      <td>Transport-moving</td>\n",
       "      <td>Husband</td>\n",
       "      <td>White</td>\n",
       "      <td>Male</td>\n",
       "      <td>5178</td>\n",
       "      <td>0</td>\n",
       "      <td>60</td>\n",
       "      <td>Hungary</td>\n",
       "      <td>&gt;50K</td>\n",
       "    </tr>\n",
       "  </tbody>\n",
       "</table>\n",
       "</div>"
      ],
      "text/plain": [
       "      Id  age     workclass  fnlwgt     education  education.num  \\\n",
       "0  16280   34       Private  204991  Some-college             10   \n",
       "1  16281   58     Local-gov  310085          10th              6   \n",
       "2  16282   25       Private  146117  Some-college             10   \n",
       "3  16283   24       Private  138938  Some-college             10   \n",
       "4  16284   57  Self-emp-inc  258883       HS-grad              9   \n",
       "\n",
       "       marital.status         occupation   relationship   race     sex  \\\n",
       "0            Divorced    Exec-managerial      Own-child  White    Male   \n",
       "1  Married-civ-spouse   Transport-moving        Husband  White    Male   \n",
       "2       Never-married  Machine-op-inspct  Not-in-family  White    Male   \n",
       "3            Divorced       Adm-clerical  Not-in-family  White  Female   \n",
       "4  Married-civ-spouse   Transport-moving        Husband  White    Male   \n",
       "\n",
       "   capital.gain  capital.loss  hours.per.week native.country income  \n",
       "0             0             0              44  United-States  <=50K  \n",
       "1             0             0              40  United-States  <=50K  \n",
       "2             0             0              42  United-States  <=50K  \n",
       "3             0             0              40  United-States  <=50K  \n",
       "4          5178             0              60        Hungary   >50K  "
      ]
     },
     "execution_count": 4,
     "metadata": {},
     "output_type": "execute_result"
    }
   ],
   "source": [
    "treino_adult.head()"
   ]
  },
  {
   "cell_type": "code",
   "execution_count": 5,
   "id": "5fe2351f",
   "metadata": {
    "execution": {
     "iopub.execute_input": "2022-12-20T17:21:58.328621Z",
     "iopub.status.busy": "2022-12-20T17:21:58.327585Z",
     "iopub.status.idle": "2022-12-20T17:21:58.335339Z",
     "shell.execute_reply": "2022-12-20T17:21:58.334149Z"
    },
    "papermill": {
     "duration": 0.046131,
     "end_time": "2022-12-20T17:21:58.337737",
     "exception": false,
     "start_time": "2022-12-20T17:21:58.291606",
     "status": "completed"
    },
    "tags": []
   },
   "outputs": [
    {
     "data": {
      "text/plain": [
       "(32560, 16)"
      ]
     },
     "execution_count": 5,
     "metadata": {},
     "output_type": "execute_result"
    }
   ],
   "source": [
    "treino_adult.shape\n"
   ]
  },
  {
   "cell_type": "code",
   "execution_count": 6,
   "id": "1d3107d9",
   "metadata": {
    "execution": {
     "iopub.execute_input": "2022-12-20T17:21:58.419029Z",
     "iopub.status.busy": "2022-12-20T17:21:58.418174Z",
     "iopub.status.idle": "2022-12-20T17:21:58.437233Z",
     "shell.execute_reply": "2022-12-20T17:21:58.436174Z"
    },
    "papermill": {
     "duration": 0.064594,
     "end_time": "2022-12-20T17:21:58.440763",
     "exception": false,
     "start_time": "2022-12-20T17:21:58.376169",
     "status": "completed"
    },
    "tags": []
   },
   "outputs": [
    {
     "data": {
      "text/html": [
       "<div>\n",
       "<style scoped>\n",
       "    .dataframe tbody tr th:only-of-type {\n",
       "        vertical-align: middle;\n",
       "    }\n",
       "\n",
       "    .dataframe tbody tr th {\n",
       "        vertical-align: top;\n",
       "    }\n",
       "\n",
       "    .dataframe thead th {\n",
       "        text-align: right;\n",
       "    }\n",
       "</style>\n",
       "<table border=\"1\" class=\"dataframe\">\n",
       "  <thead>\n",
       "    <tr style=\"text-align: right;\">\n",
       "      <th></th>\n",
       "      <th>Id</th>\n",
       "      <th>age</th>\n",
       "      <th>workclass</th>\n",
       "      <th>fnlwgt</th>\n",
       "      <th>education</th>\n",
       "      <th>education.num</th>\n",
       "      <th>marital.status</th>\n",
       "      <th>occupation</th>\n",
       "      <th>relationship</th>\n",
       "      <th>race</th>\n",
       "      <th>sex</th>\n",
       "      <th>capital.gain</th>\n",
       "      <th>capital.loss</th>\n",
       "      <th>hours.per.week</th>\n",
       "      <th>native.country</th>\n",
       "    </tr>\n",
       "  </thead>\n",
       "  <tbody>\n",
       "    <tr>\n",
       "      <th>0</th>\n",
       "      <td>0</td>\n",
       "      <td>25</td>\n",
       "      <td>Private</td>\n",
       "      <td>120596</td>\n",
       "      <td>Bachelors</td>\n",
       "      <td>13</td>\n",
       "      <td>Never-married</td>\n",
       "      <td>Prof-specialty</td>\n",
       "      <td>Not-in-family</td>\n",
       "      <td>White</td>\n",
       "      <td>Male</td>\n",
       "      <td>0</td>\n",
       "      <td>0</td>\n",
       "      <td>44</td>\n",
       "      <td>United-States</td>\n",
       "    </tr>\n",
       "    <tr>\n",
       "      <th>1</th>\n",
       "      <td>1</td>\n",
       "      <td>64</td>\n",
       "      <td>State-gov</td>\n",
       "      <td>152537</td>\n",
       "      <td>Bachelors</td>\n",
       "      <td>13</td>\n",
       "      <td>Married-civ-spouse</td>\n",
       "      <td>Exec-managerial</td>\n",
       "      <td>Husband</td>\n",
       "      <td>White</td>\n",
       "      <td>Male</td>\n",
       "      <td>0</td>\n",
       "      <td>0</td>\n",
       "      <td>45</td>\n",
       "      <td>United-States</td>\n",
       "    </tr>\n",
       "    <tr>\n",
       "      <th>2</th>\n",
       "      <td>2</td>\n",
       "      <td>31</td>\n",
       "      <td>Private</td>\n",
       "      <td>100135</td>\n",
       "      <td>Masters</td>\n",
       "      <td>14</td>\n",
       "      <td>Divorced</td>\n",
       "      <td>Exec-managerial</td>\n",
       "      <td>Not-in-family</td>\n",
       "      <td>White</td>\n",
       "      <td>Female</td>\n",
       "      <td>0</td>\n",
       "      <td>0</td>\n",
       "      <td>40</td>\n",
       "      <td>United-States</td>\n",
       "    </tr>\n",
       "    <tr>\n",
       "      <th>3</th>\n",
       "      <td>3</td>\n",
       "      <td>45</td>\n",
       "      <td>Private</td>\n",
       "      <td>189123</td>\n",
       "      <td>HS-grad</td>\n",
       "      <td>9</td>\n",
       "      <td>Never-married</td>\n",
       "      <td>Machine-op-inspct</td>\n",
       "      <td>Own-child</td>\n",
       "      <td>White</td>\n",
       "      <td>Male</td>\n",
       "      <td>0</td>\n",
       "      <td>0</td>\n",
       "      <td>40</td>\n",
       "      <td>United-States</td>\n",
       "    </tr>\n",
       "    <tr>\n",
       "      <th>4</th>\n",
       "      <td>4</td>\n",
       "      <td>64</td>\n",
       "      <td>Self-emp-inc</td>\n",
       "      <td>487751</td>\n",
       "      <td>Bachelors</td>\n",
       "      <td>13</td>\n",
       "      <td>Married-civ-spouse</td>\n",
       "      <td>Exec-managerial</td>\n",
       "      <td>Husband</td>\n",
       "      <td>White</td>\n",
       "      <td>Male</td>\n",
       "      <td>0</td>\n",
       "      <td>0</td>\n",
       "      <td>50</td>\n",
       "      <td>United-States</td>\n",
       "    </tr>\n",
       "  </tbody>\n",
       "</table>\n",
       "</div>"
      ],
      "text/plain": [
       "   Id  age     workclass  fnlwgt  education  education.num  \\\n",
       "0   0   25       Private  120596  Bachelors             13   \n",
       "1   1   64     State-gov  152537  Bachelors             13   \n",
       "2   2   31       Private  100135    Masters             14   \n",
       "3   3   45       Private  189123    HS-grad              9   \n",
       "4   4   64  Self-emp-inc  487751  Bachelors             13   \n",
       "\n",
       "       marital.status         occupation   relationship   race     sex  \\\n",
       "0       Never-married     Prof-specialty  Not-in-family  White    Male   \n",
       "1  Married-civ-spouse    Exec-managerial        Husband  White    Male   \n",
       "2            Divorced    Exec-managerial  Not-in-family  White  Female   \n",
       "3       Never-married  Machine-op-inspct      Own-child  White    Male   \n",
       "4  Married-civ-spouse    Exec-managerial        Husband  White    Male   \n",
       "\n",
       "   capital.gain  capital.loss  hours.per.week native.country  \n",
       "0             0             0              44  United-States  \n",
       "1             0             0              45  United-States  \n",
       "2             0             0              40  United-States  \n",
       "3             0             0              40  United-States  \n",
       "4             0             0              50  United-States  "
      ]
     },
     "execution_count": 6,
     "metadata": {},
     "output_type": "execute_result"
    }
   ],
   "source": [
    "teste_adult.head()"
   ]
  },
  {
   "cell_type": "code",
   "execution_count": 7,
   "id": "b0a964f8",
   "metadata": {
    "execution": {
     "iopub.execute_input": "2022-12-20T17:21:58.517605Z",
     "iopub.status.busy": "2022-12-20T17:21:58.516945Z",
     "iopub.status.idle": "2022-12-20T17:21:58.523429Z",
     "shell.execute_reply": "2022-12-20T17:21:58.522259Z"
    },
    "papermill": {
     "duration": 0.045966,
     "end_time": "2022-12-20T17:21:58.525753",
     "exception": false,
     "start_time": "2022-12-20T17:21:58.479787",
     "status": "completed"
    },
    "tags": []
   },
   "outputs": [
    {
     "data": {
      "text/plain": [
       "(16280, 15)"
      ]
     },
     "execution_count": 7,
     "metadata": {},
     "output_type": "execute_result"
    }
   ],
   "source": [
    "teste_adult.shape"
   ]
  },
  {
   "cell_type": "markdown",
   "id": "7f8ce622",
   "metadata": {
    "papermill": {
     "duration": 0.035392,
     "end_time": "2022-12-20T17:21:58.597447",
     "exception": false,
     "start_time": "2022-12-20T17:21:58.562055",
     "status": "completed"
    },
    "tags": []
   },
   "source": [
    "Vamos produzir um histograma da variável idade, dessa forma podemos buscar por outliers ou analisar possíveis más distribuições de dados."
   ]
  },
  {
   "cell_type": "code",
   "execution_count": 8,
   "id": "5ac0ca66",
   "metadata": {
    "execution": {
     "iopub.execute_input": "2022-12-20T17:21:58.671477Z",
     "iopub.status.busy": "2022-12-20T17:21:58.670243Z",
     "iopub.status.idle": "2022-12-20T17:21:58.987753Z",
     "shell.execute_reply": "2022-12-20T17:21:58.986008Z"
    },
    "papermill": {
     "duration": 0.357084,
     "end_time": "2022-12-20T17:21:58.990854",
     "exception": false,
     "start_time": "2022-12-20T17:21:58.633770",
     "status": "completed"
    },
    "tags": []
   },
   "outputs": [
    {
     "data": {
      "text/plain": [
       "(array([2410., 3160., 2461., 3429., 3465., 2583., 3197., 2965., 1828.,\n",
       "        2139., 1558., 1033.,  996.,  599.,  269.,  227.,  120.,   54.,\n",
       "          20.,   47.]),\n",
       " array([17.  , 20.65, 24.3 , 27.95, 31.6 , 35.25, 38.9 , 42.55, 46.2 ,\n",
       "        49.85, 53.5 , 57.15, 60.8 , 64.45, 68.1 , 71.75, 75.4 , 79.05,\n",
       "        82.7 , 86.35, 90.  ]),\n",
       " <BarContainer object of 20 artists>)"
      ]
     },
     "execution_count": 8,
     "metadata": {},
     "output_type": "execute_result"
    },
    {
     "data": {
      "image/png": "[encoded data removed]",
      "text/plain": [
       "<Figure size 432x288 with 1 Axes>"
      ]
     },
     "metadata": {
      "needs_background": "light"
     },
     "output_type": "display_data"
    }
   ],
   "source": [
    "plt.xlabel('Idades')\n",
    "plt.ylabel('Número de Ocorrências')\n",
    "plt.title('Histograma das idades')\n",
    "plt.hist(treino_adult[\"age\"],20)"
   ]
  },
  {
   "cell_type": "markdown",
   "id": "a4c841d4",
   "metadata": {
    "papermill": {
     "duration": 0.036589,
     "end_time": "2022-12-20T17:21:59.068649",
     "exception": false,
     "start_time": "2022-12-20T17:21:59.032060",
     "status": "completed"
    },
    "tags": []
   },
   "source": [
    "Não há nenhum dado absurdo, como uma idade de 150 ou negativa. Contudo, há maior incidência de menores idades, isso causará impacto nos resultados, pois alguns estudos correlacionam maior experiência no mercado de trabalho com maiores salários. A distribuição encontrada dialoga bem com a estrutura etária da população de países desenvolvidos nos anos 90 e parece correta."
   ]
  },
  {
   "cell_type": "markdown",
   "id": "7ecf68e2",
   "metadata": {
    "papermill": {
     "duration": 0.036001,
     "end_time": "2022-12-20T17:21:59.145391",
     "exception": false,
     "start_time": "2022-12-20T17:21:59.109390",
     "status": "completed"
    },
    "tags": []
   },
   "source": [
    "Agora vamos analisar o número de anos de estudo e, novamente, procurar possíveis erros:"
   ]
  },
  {
   "cell_type": "code",
   "execution_count": 9,
   "id": "74c59f3a",
   "metadata": {
    "execution": {
     "iopub.execute_input": "2022-12-20T17:21:59.223265Z",
     "iopub.status.busy": "2022-12-20T17:21:59.222583Z",
     "iopub.status.idle": "2022-12-20T17:21:59.476538Z",
     "shell.execute_reply": "2022-12-20T17:21:59.475233Z"
    },
    "papermill": {
     "duration": 0.297052,
     "end_time": "2022-12-20T17:21:59.479204",
     "exception": false,
     "start_time": "2022-12-20T17:21:59.182152",
     "status": "completed"
    },
    "tags": []
   },
   "outputs": [
    {
     "data": {
      "text/plain": [
       "(array([   51.,   168.,   333.,   646.,   514.,   933.,  1175.,   433.,\n",
       "        10501.,  7291.,  1382.,  1067.,  5354.,  1723.,   576.,   413.]),\n",
       " array([ 1.    ,  1.9375,  2.875 ,  3.8125,  4.75  ,  5.6875,  6.625 ,\n",
       "         7.5625,  8.5   ,  9.4375, 10.375 , 11.3125, 12.25  , 13.1875,\n",
       "        14.125 , 15.0625, 16.    ]),\n",
       " <BarContainer object of 16 artists>)"
      ]
     },
     "execution_count": 9,
     "metadata": {},
     "output_type": "execute_result"
    },
    {
     "data": {
      "image/png": "[encoded data removed]",
      "text/plain": [
       "<Figure size 432x288 with 1 Axes>"
      ]
     },
     "metadata": {
      "needs_background": "light"
     },
     "output_type": "display_data"
    }
   ],
   "source": [
    "plt.xlabel('Anos de Estudo')\n",
    "plt.ylabel('Número de Ocorrências')\n",
    "plt.title('Histograma dos anos de estudo')\n",
    "plt.hist(treino_adult[\"education.num\"],16)"
   ]
  },
  {
   "cell_type": "markdown",
   "id": "195996d1",
   "metadata": {
    "papermill": {
     "duration": 0.036875,
     "end_time": "2022-12-20T17:21:59.553653",
     "exception": false,
     "start_time": "2022-12-20T17:21:59.516778",
     "status": "completed"
    },
    "tags": []
   },
   "source": [
    "Vemos uma clara tendência a maiores anos de estudo, isso é esperado em países desenvolvidos, assim há bem maior número de pessoas com 9 ou mais anos de estudo."
   ]
  },
  {
   "cell_type": "markdown",
   "id": "8b2e3817",
   "metadata": {
    "papermill": {
     "duration": 0.03589,
     "end_time": "2022-12-20T17:21:59.626237",
     "exception": false,
     "start_time": "2022-12-20T17:21:59.590347",
     "status": "completed"
    },
    "tags": []
   },
   "source": [
    "Agora vamos analisar os dados concernentes a horas trabalhadas por semana, uma visão preliminar da tabela parece indicar maior tendência a 40 horas semanais."
   ]
  },
  {
   "cell_type": "code",
   "execution_count": 10,
   "id": "24ee89f7",
   "metadata": {
    "execution": {
     "iopub.execute_input": "2022-12-20T17:21:59.703439Z",
     "iopub.status.busy": "2022-12-20T17:21:59.702562Z",
     "iopub.status.idle": "2022-12-20T17:22:00.083399Z",
     "shell.execute_reply": "2022-12-20T17:22:00.081608Z"
    },
    "papermill": {
     "duration": 0.423635,
     "end_time": "2022-12-20T17:22:00.086472",
     "exception": false,
     "start_time": "2022-12-20T17:21:59.662837",
     "status": "completed"
    },
    "tags": []
   },
   "outputs": [
    {
     "data": {
      "text/plain": [
       "(array([  205.,   531.,   645.,  1547.,  1015.,  1302.,  1635., 16099.,\n",
       "         2442.,   677.,  3036.,   841.,  1519.,   277.,   365.,    83.,\n",
       "          182.,    20.,    34.,   105.]),\n",
       " array([ 1. ,  5.9, 10.8, 15.7, 20.6, 25.5, 30.4, 35.3, 40.2, 45.1, 50. ,\n",
       "        54.9, 59.8, 64.7, 69.6, 74.5, 79.4, 84.3, 89.2, 94.1, 99. ]),\n",
       " <BarContainer object of 20 artists>)"
      ]
     },
     "execution_count": 10,
     "metadata": {},
     "output_type": "execute_result"
    },
    {
     "data": {
      "image/png": "[encoded data removed]",
      "text/plain": [
       "<Figure size 432x288 with 1 Axes>"
      ]
     },
     "metadata": {
      "needs_background": "light"
     },
     "output_type": "display_data"
    }
   ],
   "source": [
    "plt.xlabel('Horas trabalhadas')\n",
    "plt.ylabel('Número de Ocorrências')\n",
    "plt.title('Horas de Trabalho semanais')\n",
    "plt.hist(treino_adult[\"hours.per.week\"],20)"
   ]
  },
  {
   "cell_type": "markdown",
   "id": "81f59011",
   "metadata": {
    "papermill": {
     "duration": 0.035641,
     "end_time": "2022-12-20T17:22:00.159299",
     "exception": false,
     "start_time": "2022-12-20T17:22:00.123658",
     "status": "completed"
    },
    "tags": []
   },
   "source": [
    "Existem alguns dados um pouco estranhos, com um indivíduo trabalhando quase 100 h semanais, vamos ver esse dado mais de perto."
   ]
  },
  {
   "cell_type": "code",
   "execution_count": 11,
   "id": "b07e0c4c",
   "metadata": {
    "execution": {
     "iopub.execute_input": "2022-12-20T17:22:00.235840Z",
     "iopub.status.busy": "2022-12-20T17:22:00.235394Z",
     "iopub.status.idle": "2022-12-20T17:22:00.247350Z",
     "shell.execute_reply": "2022-12-20T17:22:00.245936Z"
    },
    "papermill": {
     "duration": 0.053416,
     "end_time": "2022-12-20T17:22:00.249978",
     "exception": false,
     "start_time": "2022-12-20T17:22:00.196562",
     "status": "completed"
    },
    "tags": []
   },
   "outputs": [
    {
     "data": {
      "text/plain": [
       "99"
      ]
     },
     "execution_count": 11,
     "metadata": {},
     "output_type": "execute_result"
    }
   ],
   "source": [
    "max(treino_adult[\"hours.per.week\"])"
   ]
  },
  {
   "cell_type": "markdown",
   "id": "914ee597",
   "metadata": {
    "papermill": {
     "duration": 0.039039,
     "end_time": "2022-12-20T17:22:00.327558",
     "exception": false,
     "start_time": "2022-12-20T17:22:00.288519",
     "status": "completed"
    },
    "tags": []
   },
   "source": [
    "Apesar de estranho, esse dado não pode ser considerado um outlier, pois é, de fato, possível trabalhar 99 h semanais, dessa forma não retirarei tal dado."
   ]
  },
  {
   "cell_type": "markdown",
   "id": "b33f8291",
   "metadata": {
    "papermill": {
     "duration": 0.035721,
     "end_time": "2022-12-20T17:22:00.399692",
     "exception": false,
     "start_time": "2022-12-20T17:22:00.363971",
     "status": "completed"
    },
    "tags": []
   },
   "source": [
    "Vamos passar a engenharia de dados. Primeiro com o país:"
   ]
  },
  {
   "cell_type": "code",
   "execution_count": 12,
   "id": "eae9f72c",
   "metadata": {
    "execution": {
     "iopub.execute_input": "2022-12-20T17:22:00.474766Z",
     "iopub.status.busy": "2022-12-20T17:22:00.474341Z",
     "iopub.status.idle": "2022-12-20T17:22:00.489081Z",
     "shell.execute_reply": "2022-12-20T17:22:00.487889Z"
    },
    "papermill": {
     "duration": 0.05571,
     "end_time": "2022-12-20T17:22:00.491343",
     "exception": false,
     "start_time": "2022-12-20T17:22:00.435633",
     "status": "completed"
    },
    "scrolled": true,
    "tags": []
   },
   "outputs": [
    {
     "data": {
      "text/plain": [
       "United-States                 29169\n",
       "Mexico                          643\n",
       "Philippines                     198\n",
       "Germany                         137\n",
       "Canada                          121\n",
       "Puerto-Rico                     114\n",
       "El-Salvador                     106\n",
       "India                           100\n",
       "Cuba                             95\n",
       "England                          90\n",
       "Jamaica                          81\n",
       "South                            80\n",
       "China                            75\n",
       "Italy                            73\n",
       "Dominican-Republic               70\n",
       "Vietnam                          67\n",
       "Guatemala                        64\n",
       "Japan                            62\n",
       "Poland                           60\n",
       "Columbia                         59\n",
       "Taiwan                           51\n",
       "Haiti                            44\n",
       "Iran                             43\n",
       "Portugal                         37\n",
       "Nicaragua                        34\n",
       "Peru                             31\n",
       "France                           29\n",
       "Greece                           29\n",
       "Ecuador                          28\n",
       "Ireland                          24\n",
       "Hong                             20\n",
       "Cambodia                         19\n",
       "Trinadad&Tobago                  19\n",
       "Thailand                         18\n",
       "Laos                             18\n",
       "Yugoslavia                       16\n",
       "Outlying-US(Guam-USVI-etc)       14\n",
       "Hungary                          13\n",
       "Honduras                         13\n",
       "Scotland                         12\n",
       "Holand-Netherlands                1\n",
       "Name: native.country, dtype: int64"
      ]
     },
     "execution_count": 12,
     "metadata": {},
     "output_type": "execute_result"
    }
   ],
   "source": [
    "treino_adult[\"native.country\"].value_counts()"
   ]
  },
  {
   "cell_type": "markdown",
   "id": "7d6240b0",
   "metadata": {
    "papermill": {
     "duration": 0.036325,
     "end_time": "2022-12-20T17:22:00.564157",
     "exception": false,
     "start_time": "2022-12-20T17:22:00.527832",
     "status": "completed"
    },
    "tags": []
   },
   "source": [
    "Precisamos tentar quantificar quanto seu país de origem influencia na sua renda. Podemos fazer uma divisão baseada em países parecidos aos Estados Unidos e países mais distintos, em relação à renda. Ou seja, unirei os dados relativos à United-States, Germany, Canada, England, Italy, Japan, Portugal, France, Ireland, Hong, Outlying-US, Scotland e Holand-Netherlands, aos quais atribuirei valor 1 e aos outros atribuirei valor 0, inclusive caso não se saiba o país de origem. A ideia seria dividir os países entre desenvolvidos e em desenvolvimento."
   ]
  },
  {
   "cell_type": "markdown",
   "id": "f104117b",
   "metadata": {
    "papermill": {
     "duration": 0.036391,
     "end_time": "2022-12-20T17:22:00.636960",
     "exception": false,
     "start_time": "2022-12-20T17:22:00.600569",
     "status": "completed"
    },
    "tags": []
   },
   "source": [
    "Primeiro façamos isso para a base de treino:"
   ]
  },
  {
   "cell_type": "code",
   "execution_count": 13,
   "id": "62c5fd0d",
   "metadata": {
    "execution": {
     "iopub.execute_input": "2022-12-20T17:22:00.713086Z",
     "iopub.status.busy": "2022-12-20T17:22:00.712210Z",
     "iopub.status.idle": "2022-12-20T17:22:14.017299Z",
     "shell.execute_reply": "2022-12-20T17:22:14.016051Z"
    },
    "papermill": {
     "duration": 13.346368,
     "end_time": "2022-12-20T17:22:14.020536",
     "exception": false,
     "start_time": "2022-12-20T17:22:00.674168",
     "status": "completed"
    },
    "tags": []
   },
   "outputs": [
    {
     "name": "stderr",
     "output_type": "stream",
     "text": [
      "/opt/conda/lib/python3.7/site-packages/ipykernel_launcher.py:4: SettingWithCopyWarning: \n",
      "A value is trying to be set on a copy of a slice from a DataFrame\n",
      "\n",
      "See the caveats in the documentation: https://pandas.pydata.org/pandas-docs/stable/user_guide/indexing.html#returning-a-view-versus-a-copy\n",
      "  after removing the cwd from sys.path.\n",
      "/opt/conda/lib/python3.7/site-packages/ipykernel_launcher.py:6: SettingWithCopyWarning: \n",
      "A value is trying to be set on a copy of a slice from a DataFrame\n",
      "\n",
      "See the caveats in the documentation: https://pandas.pydata.org/pandas-docs/stable/user_guide/indexing.html#returning-a-view-versus-a-copy\n",
      "  \n"
     ]
    }
   ],
   "source": [
    "n=0\n",
    "for x in treino_adult[\"native.country\"]:\n",
    "    if x in {'United-States', 'Germany', 'Canada', 'England', 'Italy', 'Japan', 'Portugal', 'France', 'Ireland', 'Hong','Outlying-US(Guam-USVI-etc)', 'Scotland','Holand-Netherlands'}:\n",
    "        treino_adult['native.country'][n] = 1\n",
    "    else:\n",
    "        treino_adult['native.country'][n] = 0\n",
    "    n=n+1"
   ]
  },
  {
   "cell_type": "code",
   "execution_count": 14,
   "id": "5b16fcf9",
   "metadata": {
    "execution": {
     "iopub.execute_input": "2022-12-20T17:22:14.099900Z",
     "iopub.status.busy": "2022-12-20T17:22:14.099472Z",
     "iopub.status.idle": "2022-12-20T17:22:14.118833Z",
     "shell.execute_reply": "2022-12-20T17:22:14.117448Z"
    },
    "papermill": {
     "duration": 0.062666,
     "end_time": "2022-12-20T17:22:14.121321",
     "exception": false,
     "start_time": "2022-12-20T17:22:14.058655",
     "status": "completed"
    },
    "tags": []
   },
   "outputs": [
    {
     "data": {
      "text/html": [
       "<div>\n",
       "<style scoped>\n",
       "    .dataframe tbody tr th:only-of-type {\n",
       "        vertical-align: middle;\n",
       "    }\n",
       "\n",
       "    .dataframe tbody tr th {\n",
       "        vertical-align: top;\n",
       "    }\n",
       "\n",
       "    .dataframe thead th {\n",
       "        text-align: right;\n",
       "    }\n",
       "</style>\n",
       "<table border=\"1\" class=\"dataframe\">\n",
       "  <thead>\n",
       "    <tr style=\"text-align: right;\">\n",
       "      <th></th>\n",
       "      <th>Id</th>\n",
       "      <th>age</th>\n",
       "      <th>workclass</th>\n",
       "      <th>fnlwgt</th>\n",
       "      <th>education</th>\n",
       "      <th>education.num</th>\n",
       "      <th>marital.status</th>\n",
       "      <th>occupation</th>\n",
       "      <th>relationship</th>\n",
       "      <th>race</th>\n",
       "      <th>sex</th>\n",
       "      <th>capital.gain</th>\n",
       "      <th>capital.loss</th>\n",
       "      <th>hours.per.week</th>\n",
       "      <th>native.country</th>\n",
       "      <th>income</th>\n",
       "    </tr>\n",
       "  </thead>\n",
       "  <tbody>\n",
       "    <tr>\n",
       "      <th>0</th>\n",
       "      <td>16280</td>\n",
       "      <td>34</td>\n",
       "      <td>Private</td>\n",
       "      <td>204991</td>\n",
       "      <td>Some-college</td>\n",
       "      <td>10</td>\n",
       "      <td>Divorced</td>\n",
       "      <td>Exec-managerial</td>\n",
       "      <td>Own-child</td>\n",
       "      <td>White</td>\n",
       "      <td>Male</td>\n",
       "      <td>0</td>\n",
       "      <td>0</td>\n",
       "      <td>44</td>\n",
       "      <td>1</td>\n",
       "      <td>&lt;=50K</td>\n",
       "    </tr>\n",
       "    <tr>\n",
       "      <th>1</th>\n",
       "      <td>16281</td>\n",
       "      <td>58</td>\n",
       "      <td>Local-gov</td>\n",
       "      <td>310085</td>\n",
       "      <td>10th</td>\n",
       "      <td>6</td>\n",
       "      <td>Married-civ-spouse</td>\n",
       "      <td>Transport-moving</td>\n",
       "      <td>Husband</td>\n",
       "      <td>White</td>\n",
       "      <td>Male</td>\n",
       "      <td>0</td>\n",
       "      <td>0</td>\n",
       "      <td>40</td>\n",
       "      <td>1</td>\n",
       "      <td>&lt;=50K</td>\n",
       "    </tr>\n",
       "    <tr>\n",
       "      <th>2</th>\n",
       "      <td>16282</td>\n",
       "      <td>25</td>\n",
       "      <td>Private</td>\n",
       "      <td>146117</td>\n",
       "      <td>Some-college</td>\n",
       "      <td>10</td>\n",
       "      <td>Never-married</td>\n",
       "      <td>Machine-op-inspct</td>\n",
       "      <td>Not-in-family</td>\n",
       "      <td>White</td>\n",
       "      <td>Male</td>\n",
       "      <td>0</td>\n",
       "      <td>0</td>\n",
       "      <td>42</td>\n",
       "      <td>1</td>\n",
       "      <td>&lt;=50K</td>\n",
       "    </tr>\n",
       "    <tr>\n",
       "      <th>3</th>\n",
       "      <td>16283</td>\n",
       "      <td>24</td>\n",
       "      <td>Private</td>\n",
       "      <td>138938</td>\n",
       "      <td>Some-college</td>\n",
       "      <td>10</td>\n",
       "      <td>Divorced</td>\n",
       "      <td>Adm-clerical</td>\n",
       "      <td>Not-in-family</td>\n",
       "      <td>White</td>\n",
       "      <td>Female</td>\n",
       "      <td>0</td>\n",
       "      <td>0</td>\n",
       "      <td>40</td>\n",
       "      <td>1</td>\n",
       "      <td>&lt;=50K</td>\n",
       "    </tr>\n",
       "    <tr>\n",
       "      <th>4</th>\n",
       "      <td>16284</td>\n",
       "      <td>57</td>\n",
       "      <td>Self-emp-inc</td>\n",
       "      <td>258883</td>\n",
       "      <td>HS-grad</td>\n",
       "      <td>9</td>\n",
       "      <td>Married-civ-spouse</td>\n",
       "      <td>Transport-moving</td>\n",
       "      <td>Husband</td>\n",
       "      <td>White</td>\n",
       "      <td>Male</td>\n",
       "      <td>5178</td>\n",
       "      <td>0</td>\n",
       "      <td>60</td>\n",
       "      <td>0</td>\n",
       "      <td>&gt;50K</td>\n",
       "    </tr>\n",
       "  </tbody>\n",
       "</table>\n",
       "</div>"
      ],
      "text/plain": [
       "      Id  age     workclass  fnlwgt     education  education.num  \\\n",
       "0  16280   34       Private  204991  Some-college             10   \n",
       "1  16281   58     Local-gov  310085          10th              6   \n",
       "2  16282   25       Private  146117  Some-college             10   \n",
       "3  16283   24       Private  138938  Some-college             10   \n",
       "4  16284   57  Self-emp-inc  258883       HS-grad              9   \n",
       "\n",
       "       marital.status         occupation   relationship   race     sex  \\\n",
       "0            Divorced    Exec-managerial      Own-child  White    Male   \n",
       "1  Married-civ-spouse   Transport-moving        Husband  White    Male   \n",
       "2       Never-married  Machine-op-inspct  Not-in-family  White    Male   \n",
       "3            Divorced       Adm-clerical  Not-in-family  White  Female   \n",
       "4  Married-civ-spouse   Transport-moving        Husband  White    Male   \n",
       "\n",
       "   capital.gain  capital.loss  hours.per.week native.country income  \n",
       "0             0             0              44              1  <=50K  \n",
       "1             0             0              40              1  <=50K  \n",
       "2             0             0              42              1  <=50K  \n",
       "3             0             0              40              1  <=50K  \n",
       "4          5178             0              60              0   >50K  "
      ]
     },
     "execution_count": 14,
     "metadata": {},
     "output_type": "execute_result"
    }
   ],
   "source": [
    "treino_adult.head()"
   ]
  },
  {
   "cell_type": "markdown",
   "id": "a6c5768a",
   "metadata": {
    "papermill": {
     "duration": 0.038836,
     "end_time": "2022-12-20T17:22:14.197206",
     "exception": false,
     "start_time": "2022-12-20T17:22:14.158370",
     "status": "completed"
    },
    "tags": []
   },
   "source": [
    "A seguir façamos o mesmo processo para a base de teste:"
   ]
  },
  {
   "cell_type": "code",
   "execution_count": 15,
   "id": "25251c92",
   "metadata": {
    "execution": {
     "iopub.execute_input": "2022-12-20T17:22:14.274852Z",
     "iopub.status.busy": "2022-12-20T17:22:14.274054Z",
     "iopub.status.idle": "2022-12-20T17:22:19.733505Z",
     "shell.execute_reply": "2022-12-20T17:22:19.732433Z"
    },
    "papermill": {
     "duration": 5.500563,
     "end_time": "2022-12-20T17:22:19.736131",
     "exception": false,
     "start_time": "2022-12-20T17:22:14.235568",
     "status": "completed"
    },
    "tags": []
   },
   "outputs": [
    {
     "name": "stderr",
     "output_type": "stream",
     "text": [
      "/opt/conda/lib/python3.7/site-packages/ipykernel_launcher.py:4: SettingWithCopyWarning: \n",
      "A value is trying to be set on a copy of a slice from a DataFrame\n",
      "\n",
      "See the caveats in the documentation: https://pandas.pydata.org/pandas-docs/stable/user_guide/indexing.html#returning-a-view-versus-a-copy\n",
      "  after removing the cwd from sys.path.\n",
      "/opt/conda/lib/python3.7/site-packages/ipykernel_launcher.py:6: SettingWithCopyWarning: \n",
      "A value is trying to be set on a copy of a slice from a DataFrame\n",
      "\n",
      "See the caveats in the documentation: https://pandas.pydata.org/pandas-docs/stable/user_guide/indexing.html#returning-a-view-versus-a-copy\n",
      "  \n"
     ]
    }
   ],
   "source": [
    "n=0\n",
    "for x in teste_adult[\"native.country\"]:\n",
    "    if x in {'United-States', 'Germany', 'Canada', 'England', 'Italy', 'Japan', 'Portugal', 'France', 'Ireland', 'Hong','Outlying-US(Guam-USVI-etc)', 'Scotland','Holand-Netherlands'}:\n",
    "        teste_adult['native.country'][n] = 1\n",
    "    else:\n",
    "        teste_adult['native.country'][n] = 0\n",
    "    n=n+1"
   ]
  },
  {
   "cell_type": "code",
   "execution_count": 16,
   "id": "13d75516",
   "metadata": {
    "execution": {
     "iopub.execute_input": "2022-12-20T17:22:19.812773Z",
     "iopub.status.busy": "2022-12-20T17:22:19.812339Z",
     "iopub.status.idle": "2022-12-20T17:22:19.831455Z",
     "shell.execute_reply": "2022-12-20T17:22:19.830097Z"
    },
    "papermill": {
     "duration": 0.060666,
     "end_time": "2022-12-20T17:22:19.834240",
     "exception": false,
     "start_time": "2022-12-20T17:22:19.773574",
     "status": "completed"
    },
    "tags": []
   },
   "outputs": [
    {
     "data": {
      "text/html": [
       "<div>\n",
       "<style scoped>\n",
       "    .dataframe tbody tr th:only-of-type {\n",
       "        vertical-align: middle;\n",
       "    }\n",
       "\n",
       "    .dataframe tbody tr th {\n",
       "        vertical-align: top;\n",
       "    }\n",
       "\n",
       "    .dataframe thead th {\n",
       "        text-align: right;\n",
       "    }\n",
       "</style>\n",
       "<table border=\"1\" class=\"dataframe\">\n",
       "  <thead>\n",
       "    <tr style=\"text-align: right;\">\n",
       "      <th></th>\n",
       "      <th>Id</th>\n",
       "      <th>age</th>\n",
       "      <th>workclass</th>\n",
       "      <th>fnlwgt</th>\n",
       "      <th>education</th>\n",
       "      <th>education.num</th>\n",
       "      <th>marital.status</th>\n",
       "      <th>occupation</th>\n",
       "      <th>relationship</th>\n",
       "      <th>race</th>\n",
       "      <th>sex</th>\n",
       "      <th>capital.gain</th>\n",
       "      <th>capital.loss</th>\n",
       "      <th>hours.per.week</th>\n",
       "      <th>native.country</th>\n",
       "    </tr>\n",
       "  </thead>\n",
       "  <tbody>\n",
       "    <tr>\n",
       "      <th>0</th>\n",
       "      <td>0</td>\n",
       "      <td>25</td>\n",
       "      <td>Private</td>\n",
       "      <td>120596</td>\n",
       "      <td>Bachelors</td>\n",
       "      <td>13</td>\n",
       "      <td>Never-married</td>\n",
       "      <td>Prof-specialty</td>\n",
       "      <td>Not-in-family</td>\n",
       "      <td>White</td>\n",
       "      <td>Male</td>\n",
       "      <td>0</td>\n",
       "      <td>0</td>\n",
       "      <td>44</td>\n",
       "      <td>1</td>\n",
       "    </tr>\n",
       "    <tr>\n",
       "      <th>1</th>\n",
       "      <td>1</td>\n",
       "      <td>64</td>\n",
       "      <td>State-gov</td>\n",
       "      <td>152537</td>\n",
       "      <td>Bachelors</td>\n",
       "      <td>13</td>\n",
       "      <td>Married-civ-spouse</td>\n",
       "      <td>Exec-managerial</td>\n",
       "      <td>Husband</td>\n",
       "      <td>White</td>\n",
       "      <td>Male</td>\n",
       "      <td>0</td>\n",
       "      <td>0</td>\n",
       "      <td>45</td>\n",
       "      <td>1</td>\n",
       "    </tr>\n",
       "    <tr>\n",
       "      <th>2</th>\n",
       "      <td>2</td>\n",
       "      <td>31</td>\n",
       "      <td>Private</td>\n",
       "      <td>100135</td>\n",
       "      <td>Masters</td>\n",
       "      <td>14</td>\n",
       "      <td>Divorced</td>\n",
       "      <td>Exec-managerial</td>\n",
       "      <td>Not-in-family</td>\n",
       "      <td>White</td>\n",
       "      <td>Female</td>\n",
       "      <td>0</td>\n",
       "      <td>0</td>\n",
       "      <td>40</td>\n",
       "      <td>1</td>\n",
       "    </tr>\n",
       "    <tr>\n",
       "      <th>3</th>\n",
       "      <td>3</td>\n",
       "      <td>45</td>\n",
       "      <td>Private</td>\n",
       "      <td>189123</td>\n",
       "      <td>HS-grad</td>\n",
       "      <td>9</td>\n",
       "      <td>Never-married</td>\n",
       "      <td>Machine-op-inspct</td>\n",
       "      <td>Own-child</td>\n",
       "      <td>White</td>\n",
       "      <td>Male</td>\n",
       "      <td>0</td>\n",
       "      <td>0</td>\n",
       "      <td>40</td>\n",
       "      <td>1</td>\n",
       "    </tr>\n",
       "    <tr>\n",
       "      <th>4</th>\n",
       "      <td>4</td>\n",
       "      <td>64</td>\n",
       "      <td>Self-emp-inc</td>\n",
       "      <td>487751</td>\n",
       "      <td>Bachelors</td>\n",
       "      <td>13</td>\n",
       "      <td>Married-civ-spouse</td>\n",
       "      <td>Exec-managerial</td>\n",
       "      <td>Husband</td>\n",
       "      <td>White</td>\n",
       "      <td>Male</td>\n",
       "      <td>0</td>\n",
       "      <td>0</td>\n",
       "      <td>50</td>\n",
       "      <td>1</td>\n",
       "    </tr>\n",
       "  </tbody>\n",
       "</table>\n",
       "</div>"
      ],
      "text/plain": [
       "   Id  age     workclass  fnlwgt  education  education.num  \\\n",
       "0   0   25       Private  120596  Bachelors             13   \n",
       "1   1   64     State-gov  152537  Bachelors             13   \n",
       "2   2   31       Private  100135    Masters             14   \n",
       "3   3   45       Private  189123    HS-grad              9   \n",
       "4   4   64  Self-emp-inc  487751  Bachelors             13   \n",
       "\n",
       "       marital.status         occupation   relationship   race     sex  \\\n",
       "0       Never-married     Prof-specialty  Not-in-family  White    Male   \n",
       "1  Married-civ-spouse    Exec-managerial        Husband  White    Male   \n",
       "2            Divorced    Exec-managerial  Not-in-family  White  Female   \n",
       "3       Never-married  Machine-op-inspct      Own-child  White    Male   \n",
       "4  Married-civ-spouse    Exec-managerial        Husband  White    Male   \n",
       "\n",
       "   capital.gain  capital.loss  hours.per.week native.country  \n",
       "0             0             0              44              1  \n",
       "1             0             0              45              1  \n",
       "2             0             0              40              1  \n",
       "3             0             0              40              1  \n",
       "4             0             0              50              1  "
      ]
     },
     "execution_count": 16,
     "metadata": {},
     "output_type": "execute_result"
    }
   ],
   "source": [
    "teste_adult.head()"
   ]
  },
  {
   "cell_type": "markdown",
   "id": "3fc52766",
   "metadata": {
    "papermill": {
     "duration": 0.0371,
     "end_time": "2022-12-20T17:22:19.908761",
     "exception": false,
     "start_time": "2022-12-20T17:22:19.871661",
     "status": "completed"
    },
    "tags": []
   },
   "source": [
    "Vamos analisar as possibilidades da variável 'race':"
   ]
  },
  {
   "cell_type": "code",
   "execution_count": 17,
   "id": "00d15861",
   "metadata": {
    "execution": {
     "iopub.execute_input": "2022-12-20T17:22:19.985317Z",
     "iopub.status.busy": "2022-12-20T17:22:19.984550Z",
     "iopub.status.idle": "2022-12-20T17:22:19.994770Z",
     "shell.execute_reply": "2022-12-20T17:22:19.993637Z"
    },
    "papermill": {
     "duration": 0.050836,
     "end_time": "2022-12-20T17:22:19.997114",
     "exception": false,
     "start_time": "2022-12-20T17:22:19.946278",
     "status": "completed"
    },
    "tags": []
   },
   "outputs": [
    {
     "data": {
      "text/plain": [
       "White                 27815\n",
       "Black                  3124\n",
       "Asian-Pac-Islander     1039\n",
       "Amer-Indian-Eskimo      311\n",
       "Other                   271\n",
       "Name: race, dtype: int64"
      ]
     },
     "execution_count": 17,
     "metadata": {},
     "output_type": "execute_result"
    }
   ],
   "source": [
    "treino_adult[\"race\"].value_counts()"
   ]
  },
  {
   "cell_type": "markdown",
   "id": "fe9074de",
   "metadata": {
    "papermill": {
     "duration": 0.03724,
     "end_time": "2022-12-20T17:22:20.071775",
     "exception": false,
     "start_time": "2022-12-20T17:22:20.034535",
     "status": "completed"
    },
    "tags": []
   },
   "source": [
    "Agora analisemos a saída da variável 'sex':"
   ]
  },
  {
   "cell_type": "code",
   "execution_count": 18,
   "id": "443b3780",
   "metadata": {
    "execution": {
     "iopub.execute_input": "2022-12-20T17:22:20.149089Z",
     "iopub.status.busy": "2022-12-20T17:22:20.147849Z",
     "iopub.status.idle": "2022-12-20T17:22:20.159008Z",
     "shell.execute_reply": "2022-12-20T17:22:20.157921Z"
    },
    "papermill": {
     "duration": 0.052492,
     "end_time": "2022-12-20T17:22:20.161504",
     "exception": false,
     "start_time": "2022-12-20T17:22:20.109012",
     "status": "completed"
    },
    "tags": []
   },
   "outputs": [
    {
     "data": {
      "text/plain": [
       "Male      21789\n",
       "Female    10771\n",
       "Name: sex, dtype: int64"
      ]
     },
     "execution_count": 18,
     "metadata": {},
     "output_type": "execute_result"
    }
   ],
   "source": [
    "treino_adult[\"sex\"].value_counts()"
   ]
  },
  {
   "cell_type": "markdown",
   "id": "5ae753f0",
   "metadata": {
    "papermill": {
     "duration": 0.036985,
     "end_time": "2022-12-20T17:22:20.235887",
     "exception": false,
     "start_time": "2022-12-20T17:22:20.198902",
     "status": "completed"
    },
    "tags": []
   },
   "source": [
    "Vamos substituir os valores Male por 0 e Female por 1:"
   ]
  },
  {
   "cell_type": "markdown",
   "id": "a8284c0e",
   "metadata": {
    "papermill": {
     "duration": 0.037809,
     "end_time": "2022-12-20T17:22:20.311339",
     "exception": false,
     "start_time": "2022-12-20T17:22:20.273530",
     "status": "completed"
    },
    "tags": []
   },
   "source": [
    "Primeiro na base de treino:"
   ]
  },
  {
   "cell_type": "code",
   "execution_count": 19,
   "id": "7c77d42a",
   "metadata": {
    "execution": {
     "iopub.execute_input": "2022-12-20T17:22:20.395682Z",
     "iopub.status.busy": "2022-12-20T17:22:20.394818Z",
     "iopub.status.idle": "2022-12-20T17:22:33.158369Z",
     "shell.execute_reply": "2022-12-20T17:22:33.157185Z"
    },
    "papermill": {
     "duration": 12.81141,
     "end_time": "2022-12-20T17:22:33.161387",
     "exception": false,
     "start_time": "2022-12-20T17:22:20.349977",
     "status": "completed"
    },
    "tags": []
   },
   "outputs": [
    {
     "name": "stderr",
     "output_type": "stream",
     "text": [
      "/opt/conda/lib/python3.7/site-packages/ipykernel_launcher.py:4: SettingWithCopyWarning: \n",
      "A value is trying to be set on a copy of a slice from a DataFrame\n",
      "\n",
      "See the caveats in the documentation: https://pandas.pydata.org/pandas-docs/stable/user_guide/indexing.html#returning-a-view-versus-a-copy\n",
      "  after removing the cwd from sys.path.\n",
      "/opt/conda/lib/python3.7/site-packages/ipykernel_launcher.py:6: SettingWithCopyWarning: \n",
      "A value is trying to be set on a copy of a slice from a DataFrame\n",
      "\n",
      "See the caveats in the documentation: https://pandas.pydata.org/pandas-docs/stable/user_guide/indexing.html#returning-a-view-versus-a-copy\n",
      "  \n"
     ]
    }
   ],
   "source": [
    "n=0\n",
    "for x in treino_adult[\"sex\"]:\n",
    "    if x == 'Male':\n",
    "        treino_adult[\"sex\"][n] = 0\n",
    "    else:\n",
    "        treino_adult[\"sex\"][n] = 1\n",
    "    n=n+1"
   ]
  },
  {
   "cell_type": "markdown",
   "id": "f83f68eb",
   "metadata": {
    "papermill": {
     "duration": 0.038089,
     "end_time": "2022-12-20T17:22:33.237524",
     "exception": false,
     "start_time": "2022-12-20T17:22:33.199435",
     "status": "completed"
    },
    "tags": []
   },
   "source": [
    "Agora na base de teste:"
   ]
  },
  {
   "cell_type": "code",
   "execution_count": 20,
   "id": "43c7e498",
   "metadata": {
    "execution": {
     "iopub.execute_input": "2022-12-20T17:22:33.315031Z",
     "iopub.status.busy": "2022-12-20T17:22:33.314508Z",
     "iopub.status.idle": "2022-12-20T17:22:38.611727Z",
     "shell.execute_reply": "2022-12-20T17:22:38.610581Z"
    },
    "papermill": {
     "duration": 5.339033,
     "end_time": "2022-12-20T17:22:38.614501",
     "exception": false,
     "start_time": "2022-12-20T17:22:33.275468",
     "status": "completed"
    },
    "tags": []
   },
   "outputs": [
    {
     "name": "stderr",
     "output_type": "stream",
     "text": [
      "/opt/conda/lib/python3.7/site-packages/ipykernel_launcher.py:4: SettingWithCopyWarning: \n",
      "A value is trying to be set on a copy of a slice from a DataFrame\n",
      "\n",
      "See the caveats in the documentation: https://pandas.pydata.org/pandas-docs/stable/user_guide/indexing.html#returning-a-view-versus-a-copy\n",
      "  after removing the cwd from sys.path.\n",
      "/opt/conda/lib/python3.7/site-packages/ipykernel_launcher.py:6: SettingWithCopyWarning: \n",
      "A value is trying to be set on a copy of a slice from a DataFrame\n",
      "\n",
      "See the caveats in the documentation: https://pandas.pydata.org/pandas-docs/stable/user_guide/indexing.html#returning-a-view-versus-a-copy\n",
      "  \n"
     ]
    }
   ],
   "source": [
    "n=0\n",
    "for x in teste_adult[\"sex\"]:\n",
    "    if x == 'Male':\n",
    "        teste_adult[\"sex\"][n] = 0\n",
    "    else:\n",
    "        teste_adult[\"sex\"][n] = 1\n",
    "    n=n+1"
   ]
  },
  {
   "cell_type": "markdown",
   "id": "d8f6021e",
   "metadata": {
    "papermill": {
     "duration": 0.037823,
     "end_time": "2022-12-20T17:22:38.757684",
     "exception": false,
     "start_time": "2022-12-20T17:22:38.719861",
     "status": "completed"
    },
    "tags": []
   },
   "source": [
    "Vamos observar se está tudo correto nas bases:"
   ]
  },
  {
   "cell_type": "code",
   "execution_count": 21,
   "id": "5d278332",
   "metadata": {
    "execution": {
     "iopub.execute_input": "2022-12-20T17:22:38.834771Z",
     "iopub.status.busy": "2022-12-20T17:22:38.834375Z",
     "iopub.status.idle": "2022-12-20T17:22:38.853676Z",
     "shell.execute_reply": "2022-12-20T17:22:38.852302Z"
    },
    "papermill": {
     "duration": 0.06079,
     "end_time": "2022-12-20T17:22:38.856237",
     "exception": false,
     "start_time": "2022-12-20T17:22:38.795447",
     "status": "completed"
    },
    "tags": []
   },
   "outputs": [
    {
     "data": {
      "text/html": [
       "<div>\n",
       "<style scoped>\n",
       "    .dataframe tbody tr th:only-of-type {\n",
       "        vertical-align: middle;\n",
       "    }\n",
       "\n",
       "    .dataframe tbody tr th {\n",
       "        vertical-align: top;\n",
       "    }\n",
       "\n",
       "    .dataframe thead th {\n",
       "        text-align: right;\n",
       "    }\n",
       "</style>\n",
       "<table border=\"1\" class=\"dataframe\">\n",
       "  <thead>\n",
       "    <tr style=\"text-align: right;\">\n",
       "      <th></th>\n",
       "      <th>Id</th>\n",
       "      <th>age</th>\n",
       "      <th>workclass</th>\n",
       "      <th>fnlwgt</th>\n",
       "      <th>education</th>\n",
       "      <th>education.num</th>\n",
       "      <th>marital.status</th>\n",
       "      <th>occupation</th>\n",
       "      <th>relationship</th>\n",
       "      <th>race</th>\n",
       "      <th>sex</th>\n",
       "      <th>capital.gain</th>\n",
       "      <th>capital.loss</th>\n",
       "      <th>hours.per.week</th>\n",
       "      <th>native.country</th>\n",
       "      <th>income</th>\n",
       "    </tr>\n",
       "  </thead>\n",
       "  <tbody>\n",
       "    <tr>\n",
       "      <th>0</th>\n",
       "      <td>16280</td>\n",
       "      <td>34</td>\n",
       "      <td>Private</td>\n",
       "      <td>204991</td>\n",
       "      <td>Some-college</td>\n",
       "      <td>10</td>\n",
       "      <td>Divorced</td>\n",
       "      <td>Exec-managerial</td>\n",
       "      <td>Own-child</td>\n",
       "      <td>White</td>\n",
       "      <td>0</td>\n",
       "      <td>0</td>\n",
       "      <td>0</td>\n",
       "      <td>44</td>\n",
       "      <td>1</td>\n",
       "      <td>&lt;=50K</td>\n",
       "    </tr>\n",
       "    <tr>\n",
       "      <th>1</th>\n",
       "      <td>16281</td>\n",
       "      <td>58</td>\n",
       "      <td>Local-gov</td>\n",
       "      <td>310085</td>\n",
       "      <td>10th</td>\n",
       "      <td>6</td>\n",
       "      <td>Married-civ-spouse</td>\n",
       "      <td>Transport-moving</td>\n",
       "      <td>Husband</td>\n",
       "      <td>White</td>\n",
       "      <td>0</td>\n",
       "      <td>0</td>\n",
       "      <td>0</td>\n",
       "      <td>40</td>\n",
       "      <td>1</td>\n",
       "      <td>&lt;=50K</td>\n",
       "    </tr>\n",
       "    <tr>\n",
       "      <th>2</th>\n",
       "      <td>16282</td>\n",
       "      <td>25</td>\n",
       "      <td>Private</td>\n",
       "      <td>146117</td>\n",
       "      <td>Some-college</td>\n",
       "      <td>10</td>\n",
       "      <td>Never-married</td>\n",
       "      <td>Machine-op-inspct</td>\n",
       "      <td>Not-in-family</td>\n",
       "      <td>White</td>\n",
       "      <td>0</td>\n",
       "      <td>0</td>\n",
       "      <td>0</td>\n",
       "      <td>42</td>\n",
       "      <td>1</td>\n",
       "      <td>&lt;=50K</td>\n",
       "    </tr>\n",
       "    <tr>\n",
       "      <th>3</th>\n",
       "      <td>16283</td>\n",
       "      <td>24</td>\n",
       "      <td>Private</td>\n",
       "      <td>138938</td>\n",
       "      <td>Some-college</td>\n",
       "      <td>10</td>\n",
       "      <td>Divorced</td>\n",
       "      <td>Adm-clerical</td>\n",
       "      <td>Not-in-family</td>\n",
       "      <td>White</td>\n",
       "      <td>1</td>\n",
       "      <td>0</td>\n",
       "      <td>0</td>\n",
       "      <td>40</td>\n",
       "      <td>1</td>\n",
       "      <td>&lt;=50K</td>\n",
       "    </tr>\n",
       "    <tr>\n",
       "      <th>4</th>\n",
       "      <td>16284</td>\n",
       "      <td>57</td>\n",
       "      <td>Self-emp-inc</td>\n",
       "      <td>258883</td>\n",
       "      <td>HS-grad</td>\n",
       "      <td>9</td>\n",
       "      <td>Married-civ-spouse</td>\n",
       "      <td>Transport-moving</td>\n",
       "      <td>Husband</td>\n",
       "      <td>White</td>\n",
       "      <td>0</td>\n",
       "      <td>5178</td>\n",
       "      <td>0</td>\n",
       "      <td>60</td>\n",
       "      <td>0</td>\n",
       "      <td>&gt;50K</td>\n",
       "    </tr>\n",
       "  </tbody>\n",
       "</table>\n",
       "</div>"
      ],
      "text/plain": [
       "      Id  age     workclass  fnlwgt     education  education.num  \\\n",
       "0  16280   34       Private  204991  Some-college             10   \n",
       "1  16281   58     Local-gov  310085          10th              6   \n",
       "2  16282   25       Private  146117  Some-college             10   \n",
       "3  16283   24       Private  138938  Some-college             10   \n",
       "4  16284   57  Self-emp-inc  258883       HS-grad              9   \n",
       "\n",
       "       marital.status         occupation   relationship   race sex  \\\n",
       "0            Divorced    Exec-managerial      Own-child  White   0   \n",
       "1  Married-civ-spouse   Transport-moving        Husband  White   0   \n",
       "2       Never-married  Machine-op-inspct  Not-in-family  White   0   \n",
       "3            Divorced       Adm-clerical  Not-in-family  White   1   \n",
       "4  Married-civ-spouse   Transport-moving        Husband  White   0   \n",
       "\n",
       "   capital.gain  capital.loss  hours.per.week native.country income  \n",
       "0             0             0              44              1  <=50K  \n",
       "1             0             0              40              1  <=50K  \n",
       "2             0             0              42              1  <=50K  \n",
       "3             0             0              40              1  <=50K  \n",
       "4          5178             0              60              0   >50K  "
      ]
     },
     "execution_count": 21,
     "metadata": {},
     "output_type": "execute_result"
    }
   ],
   "source": [
    "treino_adult.head()"
   ]
  },
  {
   "cell_type": "code",
   "execution_count": 22,
   "id": "1ba1976e",
   "metadata": {
    "execution": {
     "iopub.execute_input": "2022-12-20T17:22:38.935387Z",
     "iopub.status.busy": "2022-12-20T17:22:38.934971Z",
     "iopub.status.idle": "2022-12-20T17:22:38.952633Z",
     "shell.execute_reply": "2022-12-20T17:22:38.951500Z"
    },
    "papermill": {
     "duration": 0.059507,
     "end_time": "2022-12-20T17:22:38.954910",
     "exception": false,
     "start_time": "2022-12-20T17:22:38.895403",
     "status": "completed"
    },
    "tags": []
   },
   "outputs": [
    {
     "data": {
      "text/html": [
       "<div>\n",
       "<style scoped>\n",
       "    .dataframe tbody tr th:only-of-type {\n",
       "        vertical-align: middle;\n",
       "    }\n",
       "\n",
       "    .dataframe tbody tr th {\n",
       "        vertical-align: top;\n",
       "    }\n",
       "\n",
       "    .dataframe thead th {\n",
       "        text-align: right;\n",
       "    }\n",
       "</style>\n",
       "<table border=\"1\" class=\"dataframe\">\n",
       "  <thead>\n",
       "    <tr style=\"text-align: right;\">\n",
       "      <th></th>\n",
       "      <th>Id</th>\n",
       "      <th>age</th>\n",
       "      <th>workclass</th>\n",
       "      <th>fnlwgt</th>\n",
       "      <th>education</th>\n",
       "      <th>education.num</th>\n",
       "      <th>marital.status</th>\n",
       "      <th>occupation</th>\n",
       "      <th>relationship</th>\n",
       "      <th>race</th>\n",
       "      <th>sex</th>\n",
       "      <th>capital.gain</th>\n",
       "      <th>capital.loss</th>\n",
       "      <th>hours.per.week</th>\n",
       "      <th>native.country</th>\n",
       "    </tr>\n",
       "  </thead>\n",
       "  <tbody>\n",
       "    <tr>\n",
       "      <th>0</th>\n",
       "      <td>0</td>\n",
       "      <td>25</td>\n",
       "      <td>Private</td>\n",
       "      <td>120596</td>\n",
       "      <td>Bachelors</td>\n",
       "      <td>13</td>\n",
       "      <td>Never-married</td>\n",
       "      <td>Prof-specialty</td>\n",
       "      <td>Not-in-family</td>\n",
       "      <td>White</td>\n",
       "      <td>0</td>\n",
       "      <td>0</td>\n",
       "      <td>0</td>\n",
       "      <td>44</td>\n",
       "      <td>1</td>\n",
       "    </tr>\n",
       "    <tr>\n",
       "      <th>1</th>\n",
       "      <td>1</td>\n",
       "      <td>64</td>\n",
       "      <td>State-gov</td>\n",
       "      <td>152537</td>\n",
       "      <td>Bachelors</td>\n",
       "      <td>13</td>\n",
       "      <td>Married-civ-spouse</td>\n",
       "      <td>Exec-managerial</td>\n",
       "      <td>Husband</td>\n",
       "      <td>White</td>\n",
       "      <td>0</td>\n",
       "      <td>0</td>\n",
       "      <td>0</td>\n",
       "      <td>45</td>\n",
       "      <td>1</td>\n",
       "    </tr>\n",
       "    <tr>\n",
       "      <th>2</th>\n",
       "      <td>2</td>\n",
       "      <td>31</td>\n",
       "      <td>Private</td>\n",
       "      <td>100135</td>\n",
       "      <td>Masters</td>\n",
       "      <td>14</td>\n",
       "      <td>Divorced</td>\n",
       "      <td>Exec-managerial</td>\n",
       "      <td>Not-in-family</td>\n",
       "      <td>White</td>\n",
       "      <td>1</td>\n",
       "      <td>0</td>\n",
       "      <td>0</td>\n",
       "      <td>40</td>\n",
       "      <td>1</td>\n",
       "    </tr>\n",
       "    <tr>\n",
       "      <th>3</th>\n",
       "      <td>3</td>\n",
       "      <td>45</td>\n",
       "      <td>Private</td>\n",
       "      <td>189123</td>\n",
       "      <td>HS-grad</td>\n",
       "      <td>9</td>\n",
       "      <td>Never-married</td>\n",
       "      <td>Machine-op-inspct</td>\n",
       "      <td>Own-child</td>\n",
       "      <td>White</td>\n",
       "      <td>0</td>\n",
       "      <td>0</td>\n",
       "      <td>0</td>\n",
       "      <td>40</td>\n",
       "      <td>1</td>\n",
       "    </tr>\n",
       "    <tr>\n",
       "      <th>4</th>\n",
       "      <td>4</td>\n",
       "      <td>64</td>\n",
       "      <td>Self-emp-inc</td>\n",
       "      <td>487751</td>\n",
       "      <td>Bachelors</td>\n",
       "      <td>13</td>\n",
       "      <td>Married-civ-spouse</td>\n",
       "      <td>Exec-managerial</td>\n",
       "      <td>Husband</td>\n",
       "      <td>White</td>\n",
       "      <td>0</td>\n",
       "      <td>0</td>\n",
       "      <td>0</td>\n",
       "      <td>50</td>\n",
       "      <td>1</td>\n",
       "    </tr>\n",
       "  </tbody>\n",
       "</table>\n",
       "</div>"
      ],
      "text/plain": [
       "   Id  age     workclass  fnlwgt  education  education.num  \\\n",
       "0   0   25       Private  120596  Bachelors             13   \n",
       "1   1   64     State-gov  152537  Bachelors             13   \n",
       "2   2   31       Private  100135    Masters             14   \n",
       "3   3   45       Private  189123    HS-grad              9   \n",
       "4   4   64  Self-emp-inc  487751  Bachelors             13   \n",
       "\n",
       "       marital.status         occupation   relationship   race sex  \\\n",
       "0       Never-married     Prof-specialty  Not-in-family  White   0   \n",
       "1  Married-civ-spouse    Exec-managerial        Husband  White   0   \n",
       "2            Divorced    Exec-managerial  Not-in-family  White   1   \n",
       "3       Never-married  Machine-op-inspct      Own-child  White   0   \n",
       "4  Married-civ-spouse    Exec-managerial        Husband  White   0   \n",
       "\n",
       "   capital.gain  capital.loss  hours.per.week native.country  \n",
       "0             0             0              44              1  \n",
       "1             0             0              45              1  \n",
       "2             0             0              40              1  \n",
       "3             0             0              40              1  \n",
       "4             0             0              50              1  "
      ]
     },
     "execution_count": 22,
     "metadata": {},
     "output_type": "execute_result"
    }
   ],
   "source": [
    "teste_adult.head()"
   ]
  },
  {
   "cell_type": "markdown",
   "id": "18ed782a",
   "metadata": {
    "papermill": {
     "duration": 0.037553,
     "end_time": "2022-12-20T17:22:39.030597",
     "exception": false,
     "start_time": "2022-12-20T17:22:38.993044",
     "status": "completed"
    },
    "tags": []
   },
   "source": [
    "Tudo parece certo. Agora vamos nos preocupar com a distribuição em relação ao estado civil:"
   ]
  },
  {
   "cell_type": "code",
   "execution_count": 23,
   "id": "a828f841",
   "metadata": {
    "execution": {
     "iopub.execute_input": "2022-12-20T17:22:39.109765Z",
     "iopub.status.busy": "2022-12-20T17:22:39.109071Z",
     "iopub.status.idle": "2022-12-20T17:22:39.118518Z",
     "shell.execute_reply": "2022-12-20T17:22:39.117555Z"
    },
    "papermill": {
     "duration": 0.051469,
     "end_time": "2022-12-20T17:22:39.120932",
     "exception": false,
     "start_time": "2022-12-20T17:22:39.069463",
     "status": "completed"
    },
    "tags": []
   },
   "outputs": [
    {
     "data": {
      "text/plain": [
       "Married-civ-spouse       14976\n",
       "Never-married            10682\n",
       "Divorced                  4443\n",
       "Separated                 1025\n",
       "Widowed                    993\n",
       "Married-spouse-absent      418\n",
       "Married-AF-spouse           23\n",
       "Name: marital.status, dtype: int64"
      ]
     },
     "execution_count": 23,
     "metadata": {},
     "output_type": "execute_result"
    }
   ],
   "source": [
    "treino_adult['marital.status'].value_counts()"
   ]
  },
  {
   "cell_type": "markdown",
   "id": "d280339f",
   "metadata": {
    "papermill": {
     "duration": 0.038081,
     "end_time": "2022-12-20T17:22:39.197802",
     "exception": false,
     "start_time": "2022-12-20T17:22:39.159721",
     "status": "completed"
    },
    "tags": []
   },
   "source": [
    "Usando o bom-senso tentarei trabalhar com os dados de estado civil. Podemos começar pensando que os estados divorciado e separado são em algum nível equivalentes. O divórcio pode ter impacto na renda, na forma de algum tipo de pensão, ou algo do gênero. Podemos pensar no fato que pessoas casadas tem maior tendência a ter filhos, e dado que esses causam um gasto considerável, há maior pressão por rendas maiores. Dessa forma atribuirei valor 1 para os estados 'Married-civ-spouse', 'Married-spouse-absent', 'Married-AF-spouse', valor 0.5 para os estado 'Never-married' e valor 0 para todos outros estados. Pode parecer estranhos juntar divorciado e viúvo, por exemplo. No entanto, a maioria dos viúvos é formada por idosos, que tem menor renda, que é o que suponho ocorrer no caso de divórcio ou separação."
   ]
  },
  {
   "cell_type": "code",
   "execution_count": 24,
   "id": "5e38a0bc",
   "metadata": {
    "execution": {
     "iopub.execute_input": "2022-12-20T17:22:39.278574Z",
     "iopub.status.busy": "2022-12-20T17:22:39.277863Z",
     "iopub.status.idle": "2022-12-20T17:22:52.069556Z",
     "shell.execute_reply": "2022-12-20T17:22:52.068294Z"
    },
    "papermill": {
     "duration": 12.835808,
     "end_time": "2022-12-20T17:22:52.072613",
     "exception": false,
     "start_time": "2022-12-20T17:22:39.236805",
     "status": "completed"
    },
    "tags": []
   },
   "outputs": [
    {
     "name": "stderr",
     "output_type": "stream",
     "text": [
      "/opt/conda/lib/python3.7/site-packages/ipykernel_launcher.py:8: SettingWithCopyWarning: \n",
      "A value is trying to be set on a copy of a slice from a DataFrame\n",
      "\n",
      "See the caveats in the documentation: https://pandas.pydata.org/pandas-docs/stable/user_guide/indexing.html#returning-a-view-versus-a-copy\n",
      "  \n",
      "/opt/conda/lib/python3.7/site-packages/ipykernel_launcher.py:4: SettingWithCopyWarning: \n",
      "A value is trying to be set on a copy of a slice from a DataFrame\n",
      "\n",
      "See the caveats in the documentation: https://pandas.pydata.org/pandas-docs/stable/user_guide/indexing.html#returning-a-view-versus-a-copy\n",
      "  after removing the cwd from sys.path.\n",
      "/opt/conda/lib/python3.7/site-packages/ipykernel_launcher.py:6: SettingWithCopyWarning: \n",
      "A value is trying to be set on a copy of a slice from a DataFrame\n",
      "\n",
      "See the caveats in the documentation: https://pandas.pydata.org/pandas-docs/stable/user_guide/indexing.html#returning-a-view-versus-a-copy\n",
      "  \n"
     ]
    }
   ],
   "source": [
    "n=0\n",
    "for x in treino_adult[\"marital.status\"]:\n",
    "    if x in {'Married-civ-spouse', 'Married-spouse-absent', 'Married-AF-spouse'}:\n",
    "        treino_adult[\"marital.status\"][n] = 1\n",
    "    elif x == 'Never-married':\n",
    "        treino_adult[\"marital.status\"][n] = 0.5\n",
    "    else:\n",
    "        treino_adult[\"marital.status\"][n] = 0\n",
    "    n=n+1"
   ]
  },
  {
   "cell_type": "code",
   "execution_count": 25,
   "id": "bec0aab2",
   "metadata": {
    "execution": {
     "iopub.execute_input": "2022-12-20T17:22:52.153056Z",
     "iopub.status.busy": "2022-12-20T17:22:52.152334Z",
     "iopub.status.idle": "2022-12-20T17:22:57.444089Z",
     "shell.execute_reply": "2022-12-20T17:22:57.442931Z"
    },
    "papermill": {
     "duration": 5.335033,
     "end_time": "2022-12-20T17:22:57.447205",
     "exception": false,
     "start_time": "2022-12-20T17:22:52.112172",
     "status": "completed"
    },
    "tags": []
   },
   "outputs": [
    {
     "name": "stderr",
     "output_type": "stream",
     "text": [
      "/opt/conda/lib/python3.7/site-packages/ipykernel_launcher.py:6: SettingWithCopyWarning: \n",
      "A value is trying to be set on a copy of a slice from a DataFrame\n",
      "\n",
      "See the caveats in the documentation: https://pandas.pydata.org/pandas-docs/stable/user_guide/indexing.html#returning-a-view-versus-a-copy\n",
      "  \n",
      "/opt/conda/lib/python3.7/site-packages/ipykernel_launcher.py:4: SettingWithCopyWarning: \n",
      "A value is trying to be set on a copy of a slice from a DataFrame\n",
      "\n",
      "See the caveats in the documentation: https://pandas.pydata.org/pandas-docs/stable/user_guide/indexing.html#returning-a-view-versus-a-copy\n",
      "  after removing the cwd from sys.path.\n",
      "/opt/conda/lib/python3.7/site-packages/ipykernel_launcher.py:8: SettingWithCopyWarning: \n",
      "A value is trying to be set on a copy of a slice from a DataFrame\n",
      "\n",
      "See the caveats in the documentation: https://pandas.pydata.org/pandas-docs/stable/user_guide/indexing.html#returning-a-view-versus-a-copy\n",
      "  \n"
     ]
    }
   ],
   "source": [
    "n=0\n",
    "for x in teste_adult[\"marital.status\"]:\n",
    "    if x in {'Married-civ-spouse', 'Married-spouse-absent', 'Married-AF-spouse'}:\n",
    "        teste_adult[\"marital.status\"][n] = 1\n",
    "    elif x == 'Never-married':\n",
    "        teste_adult[\"marital.status\"][n] = 0.5\n",
    "    else:\n",
    "        teste_adult[\"marital.status\"][n] = 0\n",
    "    n=n+1"
   ]
  },
  {
   "cell_type": "markdown",
   "id": "a2e81168",
   "metadata": {
    "papermill": {
     "duration": 0.040153,
     "end_time": "2022-12-20T17:22:57.526962",
     "exception": false,
     "start_time": "2022-12-20T17:22:57.486809",
     "status": "completed"
    },
    "tags": []
   },
   "source": [
    "Vamos observar se o processo foi correto:"
   ]
  },
  {
   "cell_type": "code",
   "execution_count": 26,
   "id": "a1159804",
   "metadata": {
    "execution": {
     "iopub.execute_input": "2022-12-20T17:22:57.606769Z",
     "iopub.status.busy": "2022-12-20T17:22:57.606349Z",
     "iopub.status.idle": "2022-12-20T17:22:57.626082Z",
     "shell.execute_reply": "2022-12-20T17:22:57.624890Z"
    },
    "papermill": {
     "duration": 0.062341,
     "end_time": "2022-12-20T17:22:57.628466",
     "exception": false,
     "start_time": "2022-12-20T17:22:57.566125",
     "status": "completed"
    },
    "tags": []
   },
   "outputs": [
    {
     "data": {
      "text/html": [
       "<div>\n",
       "<style scoped>\n",
       "    .dataframe tbody tr th:only-of-type {\n",
       "        vertical-align: middle;\n",
       "    }\n",
       "\n",
       "    .dataframe tbody tr th {\n",
       "        vertical-align: top;\n",
       "    }\n",
       "\n",
       "    .dataframe thead th {\n",
       "        text-align: right;\n",
       "    }\n",
       "</style>\n",
       "<table border=\"1\" class=\"dataframe\">\n",
       "  <thead>\n",
       "    <tr style=\"text-align: right;\">\n",
       "      <th></th>\n",
       "      <th>Id</th>\n",
       "      <th>age</th>\n",
       "      <th>workclass</th>\n",
       "      <th>fnlwgt</th>\n",
       "      <th>education</th>\n",
       "      <th>education.num</th>\n",
       "      <th>marital.status</th>\n",
       "      <th>occupation</th>\n",
       "      <th>relationship</th>\n",
       "      <th>race</th>\n",
       "      <th>sex</th>\n",
       "      <th>capital.gain</th>\n",
       "      <th>capital.loss</th>\n",
       "      <th>hours.per.week</th>\n",
       "      <th>native.country</th>\n",
       "      <th>income</th>\n",
       "    </tr>\n",
       "  </thead>\n",
       "  <tbody>\n",
       "    <tr>\n",
       "      <th>0</th>\n",
       "      <td>16280</td>\n",
       "      <td>34</td>\n",
       "      <td>Private</td>\n",
       "      <td>204991</td>\n",
       "      <td>Some-college</td>\n",
       "      <td>10</td>\n",
       "      <td>0</td>\n",
       "      <td>Exec-managerial</td>\n",
       "      <td>Own-child</td>\n",
       "      <td>White</td>\n",
       "      <td>0</td>\n",
       "      <td>0</td>\n",
       "      <td>0</td>\n",
       "      <td>44</td>\n",
       "      <td>1</td>\n",
       "      <td>&lt;=50K</td>\n",
       "    </tr>\n",
       "    <tr>\n",
       "      <th>1</th>\n",
       "      <td>16281</td>\n",
       "      <td>58</td>\n",
       "      <td>Local-gov</td>\n",
       "      <td>310085</td>\n",
       "      <td>10th</td>\n",
       "      <td>6</td>\n",
       "      <td>1</td>\n",
       "      <td>Transport-moving</td>\n",
       "      <td>Husband</td>\n",
       "      <td>White</td>\n",
       "      <td>0</td>\n",
       "      <td>0</td>\n",
       "      <td>0</td>\n",
       "      <td>40</td>\n",
       "      <td>1</td>\n",
       "      <td>&lt;=50K</td>\n",
       "    </tr>\n",
       "    <tr>\n",
       "      <th>2</th>\n",
       "      <td>16282</td>\n",
       "      <td>25</td>\n",
       "      <td>Private</td>\n",
       "      <td>146117</td>\n",
       "      <td>Some-college</td>\n",
       "      <td>10</td>\n",
       "      <td>0.5</td>\n",
       "      <td>Machine-op-inspct</td>\n",
       "      <td>Not-in-family</td>\n",
       "      <td>White</td>\n",
       "      <td>0</td>\n",
       "      <td>0</td>\n",
       "      <td>0</td>\n",
       "      <td>42</td>\n",
       "      <td>1</td>\n",
       "      <td>&lt;=50K</td>\n",
       "    </tr>\n",
       "    <tr>\n",
       "      <th>3</th>\n",
       "      <td>16283</td>\n",
       "      <td>24</td>\n",
       "      <td>Private</td>\n",
       "      <td>138938</td>\n",
       "      <td>Some-college</td>\n",
       "      <td>10</td>\n",
       "      <td>0</td>\n",
       "      <td>Adm-clerical</td>\n",
       "      <td>Not-in-family</td>\n",
       "      <td>White</td>\n",
       "      <td>1</td>\n",
       "      <td>0</td>\n",
       "      <td>0</td>\n",
       "      <td>40</td>\n",
       "      <td>1</td>\n",
       "      <td>&lt;=50K</td>\n",
       "    </tr>\n",
       "    <tr>\n",
       "      <th>4</th>\n",
       "      <td>16284</td>\n",
       "      <td>57</td>\n",
       "      <td>Self-emp-inc</td>\n",
       "      <td>258883</td>\n",
       "      <td>HS-grad</td>\n",
       "      <td>9</td>\n",
       "      <td>1</td>\n",
       "      <td>Transport-moving</td>\n",
       "      <td>Husband</td>\n",
       "      <td>White</td>\n",
       "      <td>0</td>\n",
       "      <td>5178</td>\n",
       "      <td>0</td>\n",
       "      <td>60</td>\n",
       "      <td>0</td>\n",
       "      <td>&gt;50K</td>\n",
       "    </tr>\n",
       "  </tbody>\n",
       "</table>\n",
       "</div>"
      ],
      "text/plain": [
       "      Id  age     workclass  fnlwgt     education  education.num  \\\n",
       "0  16280   34       Private  204991  Some-college             10   \n",
       "1  16281   58     Local-gov  310085          10th              6   \n",
       "2  16282   25       Private  146117  Some-college             10   \n",
       "3  16283   24       Private  138938  Some-college             10   \n",
       "4  16284   57  Self-emp-inc  258883       HS-grad              9   \n",
       "\n",
       "  marital.status         occupation   relationship   race sex  capital.gain  \\\n",
       "0              0    Exec-managerial      Own-child  White   0             0   \n",
       "1              1   Transport-moving        Husband  White   0             0   \n",
       "2            0.5  Machine-op-inspct  Not-in-family  White   0             0   \n",
       "3              0       Adm-clerical  Not-in-family  White   1             0   \n",
       "4              1   Transport-moving        Husband  White   0          5178   \n",
       "\n",
       "   capital.loss  hours.per.week native.country income  \n",
       "0             0              44              1  <=50K  \n",
       "1             0              40              1  <=50K  \n",
       "2             0              42              1  <=50K  \n",
       "3             0              40              1  <=50K  \n",
       "4             0              60              0   >50K  "
      ]
     },
     "execution_count": 26,
     "metadata": {},
     "output_type": "execute_result"
    }
   ],
   "source": [
    "treino_adult.head()"
   ]
  },
  {
   "cell_type": "code",
   "execution_count": 27,
   "id": "5336b9a5",
   "metadata": {
    "execution": {
     "iopub.execute_input": "2022-12-20T17:22:57.709012Z",
     "iopub.status.busy": "2022-12-20T17:22:57.707895Z",
     "iopub.status.idle": "2022-12-20T17:22:57.726922Z",
     "shell.execute_reply": "2022-12-20T17:22:57.725559Z"
    },
    "papermill": {
     "duration": 0.061732,
     "end_time": "2022-12-20T17:22:57.729339",
     "exception": false,
     "start_time": "2022-12-20T17:22:57.667607",
     "status": "completed"
    },
    "tags": []
   },
   "outputs": [
    {
     "data": {
      "text/html": [
       "<div>\n",
       "<style scoped>\n",
       "    .dataframe tbody tr th:only-of-type {\n",
       "        vertical-align: middle;\n",
       "    }\n",
       "\n",
       "    .dataframe tbody tr th {\n",
       "        vertical-align: top;\n",
       "    }\n",
       "\n",
       "    .dataframe thead th {\n",
       "        text-align: right;\n",
       "    }\n",
       "</style>\n",
       "<table border=\"1\" class=\"dataframe\">\n",
       "  <thead>\n",
       "    <tr style=\"text-align: right;\">\n",
       "      <th></th>\n",
       "      <th>Id</th>\n",
       "      <th>age</th>\n",
       "      <th>workclass</th>\n",
       "      <th>fnlwgt</th>\n",
       "      <th>education</th>\n",
       "      <th>education.num</th>\n",
       "      <th>marital.status</th>\n",
       "      <th>occupation</th>\n",
       "      <th>relationship</th>\n",
       "      <th>race</th>\n",
       "      <th>sex</th>\n",
       "      <th>capital.gain</th>\n",
       "      <th>capital.loss</th>\n",
       "      <th>hours.per.week</th>\n",
       "      <th>native.country</th>\n",
       "    </tr>\n",
       "  </thead>\n",
       "  <tbody>\n",
       "    <tr>\n",
       "      <th>0</th>\n",
       "      <td>0</td>\n",
       "      <td>25</td>\n",
       "      <td>Private</td>\n",
       "      <td>120596</td>\n",
       "      <td>Bachelors</td>\n",
       "      <td>13</td>\n",
       "      <td>0.5</td>\n",
       "      <td>Prof-specialty</td>\n",
       "      <td>Not-in-family</td>\n",
       "      <td>White</td>\n",
       "      <td>0</td>\n",
       "      <td>0</td>\n",
       "      <td>0</td>\n",
       "      <td>44</td>\n",
       "      <td>1</td>\n",
       "    </tr>\n",
       "    <tr>\n",
       "      <th>1</th>\n",
       "      <td>1</td>\n",
       "      <td>64</td>\n",
       "      <td>State-gov</td>\n",
       "      <td>152537</td>\n",
       "      <td>Bachelors</td>\n",
       "      <td>13</td>\n",
       "      <td>1</td>\n",
       "      <td>Exec-managerial</td>\n",
       "      <td>Husband</td>\n",
       "      <td>White</td>\n",
       "      <td>0</td>\n",
       "      <td>0</td>\n",
       "      <td>0</td>\n",
       "      <td>45</td>\n",
       "      <td>1</td>\n",
       "    </tr>\n",
       "    <tr>\n",
       "      <th>2</th>\n",
       "      <td>2</td>\n",
       "      <td>31</td>\n",
       "      <td>Private</td>\n",
       "      <td>100135</td>\n",
       "      <td>Masters</td>\n",
       "      <td>14</td>\n",
       "      <td>0</td>\n",
       "      <td>Exec-managerial</td>\n",
       "      <td>Not-in-family</td>\n",
       "      <td>White</td>\n",
       "      <td>1</td>\n",
       "      <td>0</td>\n",
       "      <td>0</td>\n",
       "      <td>40</td>\n",
       "      <td>1</td>\n",
       "    </tr>\n",
       "    <tr>\n",
       "      <th>3</th>\n",
       "      <td>3</td>\n",
       "      <td>45</td>\n",
       "      <td>Private</td>\n",
       "      <td>189123</td>\n",
       "      <td>HS-grad</td>\n",
       "      <td>9</td>\n",
       "      <td>0.5</td>\n",
       "      <td>Machine-op-inspct</td>\n",
       "      <td>Own-child</td>\n",
       "      <td>White</td>\n",
       "      <td>0</td>\n",
       "      <td>0</td>\n",
       "      <td>0</td>\n",
       "      <td>40</td>\n",
       "      <td>1</td>\n",
       "    </tr>\n",
       "    <tr>\n",
       "      <th>4</th>\n",
       "      <td>4</td>\n",
       "      <td>64</td>\n",
       "      <td>Self-emp-inc</td>\n",
       "      <td>487751</td>\n",
       "      <td>Bachelors</td>\n",
       "      <td>13</td>\n",
       "      <td>1</td>\n",
       "      <td>Exec-managerial</td>\n",
       "      <td>Husband</td>\n",
       "      <td>White</td>\n",
       "      <td>0</td>\n",
       "      <td>0</td>\n",
       "      <td>0</td>\n",
       "      <td>50</td>\n",
       "      <td>1</td>\n",
       "    </tr>\n",
       "  </tbody>\n",
       "</table>\n",
       "</div>"
      ],
      "text/plain": [
       "   Id  age     workclass  fnlwgt  education  education.num marital.status  \\\n",
       "0   0   25       Private  120596  Bachelors             13            0.5   \n",
       "1   1   64     State-gov  152537  Bachelors             13              1   \n",
       "2   2   31       Private  100135    Masters             14              0   \n",
       "3   3   45       Private  189123    HS-grad              9            0.5   \n",
       "4   4   64  Self-emp-inc  487751  Bachelors             13              1   \n",
       "\n",
       "          occupation   relationship   race sex  capital.gain  capital.loss  \\\n",
       "0     Prof-specialty  Not-in-family  White   0             0             0   \n",
       "1    Exec-managerial        Husband  White   0             0             0   \n",
       "2    Exec-managerial  Not-in-family  White   1             0             0   \n",
       "3  Machine-op-inspct      Own-child  White   0             0             0   \n",
       "4    Exec-managerial        Husband  White   0             0             0   \n",
       "\n",
       "   hours.per.week native.country  \n",
       "0              44              1  \n",
       "1              45              1  \n",
       "2              40              1  \n",
       "3              40              1  \n",
       "4              50              1  "
      ]
     },
     "execution_count": 27,
     "metadata": {},
     "output_type": "execute_result"
    }
   ],
   "source": [
    "teste_adult.head()"
   ]
  },
  {
   "cell_type": "markdown",
   "id": "7d024e39",
   "metadata": {
    "papermill": {
     "duration": 0.038848,
     "end_time": "2022-12-20T17:22:57.807754",
     "exception": false,
     "start_time": "2022-12-20T17:22:57.768906",
     "status": "completed"
    },
    "tags": []
   },
   "source": [
    "Parece tudo certo."
   ]
  },
  {
   "cell_type": "markdown",
   "id": "78e574df",
   "metadata": {
    "papermill": {
     "duration": 0.038811,
     "end_time": "2022-12-20T17:22:57.885563",
     "exception": false,
     "start_time": "2022-12-20T17:22:57.846752",
     "status": "completed"
    },
    "tags": []
   },
   "source": [
    "Vamos analisar os dados relacionados a feature 'Workclass'. Primeiro vejamos todas possibilidades:"
   ]
  },
  {
   "cell_type": "code",
   "execution_count": 28,
   "id": "b960509f",
   "metadata": {
    "execution": {
     "iopub.execute_input": "2022-12-20T17:22:57.965949Z",
     "iopub.status.busy": "2022-12-20T17:22:57.965511Z",
     "iopub.status.idle": "2022-12-20T17:22:57.974766Z",
     "shell.execute_reply": "2022-12-20T17:22:57.973947Z"
    },
    "papermill": {
     "duration": 0.052085,
     "end_time": "2022-12-20T17:22:57.976908",
     "exception": false,
     "start_time": "2022-12-20T17:22:57.924823",
     "status": "completed"
    },
    "tags": []
   },
   "outputs": [
    {
     "data": {
      "text/plain": [
       "Private             11209\n",
       "Self-emp-not-inc     1321\n",
       "Local-gov            1043\n",
       "State-gov             683\n",
       "Self-emp-inc          579\n",
       "Federal-gov           472\n",
       "Without-pay             7\n",
       "Never-worked            3\n",
       "Name: workclass, dtype: int64"
      ]
     },
     "execution_count": 28,
     "metadata": {},
     "output_type": "execute_result"
    }
   ],
   "source": [
    "teste_adult['workclass'].value_counts()"
   ]
  },
  {
   "cell_type": "markdown",
   "id": "c0696473",
   "metadata": {
    "papermill": {
     "duration": 0.039035,
     "end_time": "2022-12-20T17:22:58.055054",
     "exception": false,
     "start_time": "2022-12-20T17:22:58.016019",
     "status": "completed"
    },
    "tags": []
   },
   "source": [
    "Claramente os valores 'without-pay' e 'Never-worked' terão grande impacto na renda anual do indivíduo, vamos agrupá-las com o valor -1, pois é de se esperar que tais condições tenham um impacto enorme na renda do indivíduo. Vamos unir os servidores públicos no valor 0 e os privados no valor 0.5, ou seja, atribuiremos 0 para 'Local-gov', 'State-gov' e 'Federal-gov', por fim, vamos atribuir aos empreendedores o valor 1. "
   ]
  },
  {
   "cell_type": "code",
   "execution_count": 29,
   "id": "dc4d3145",
   "metadata": {
    "execution": {
     "iopub.execute_input": "2022-12-20T17:22:58.138352Z",
     "iopub.status.busy": "2022-12-20T17:22:58.137949Z",
     "iopub.status.idle": "2022-12-20T17:23:03.485977Z",
     "shell.execute_reply": "2022-12-20T17:23:03.484709Z"
    },
    "papermill": {
     "duration": 5.392981,
     "end_time": "2022-12-20T17:23:03.488899",
     "exception": false,
     "start_time": "2022-12-20T17:22:58.095918",
     "status": "completed"
    },
    "tags": []
   },
   "outputs": [
    {
     "name": "stderr",
     "output_type": "stream",
     "text": [
      "/opt/conda/lib/python3.7/site-packages/ipykernel_launcher.py:8: SettingWithCopyWarning: \n",
      "A value is trying to be set on a copy of a slice from a DataFrame\n",
      "\n",
      "See the caveats in the documentation: https://pandas.pydata.org/pandas-docs/stable/user_guide/indexing.html#returning-a-view-versus-a-copy\n",
      "  \n",
      "/opt/conda/lib/python3.7/site-packages/ipykernel_launcher.py:6: SettingWithCopyWarning: \n",
      "A value is trying to be set on a copy of a slice from a DataFrame\n",
      "\n",
      "See the caveats in the documentation: https://pandas.pydata.org/pandas-docs/stable/user_guide/indexing.html#returning-a-view-versus-a-copy\n",
      "  \n",
      "/opt/conda/lib/python3.7/site-packages/ipykernel_launcher.py:10: SettingWithCopyWarning: \n",
      "A value is trying to be set on a copy of a slice from a DataFrame\n",
      "\n",
      "See the caveats in the documentation: https://pandas.pydata.org/pandas-docs/stable/user_guide/indexing.html#returning-a-view-versus-a-copy\n",
      "  # Remove the CWD from sys.path while we load stuff.\n",
      "/opt/conda/lib/python3.7/site-packages/ipykernel_launcher.py:4: SettingWithCopyWarning: \n",
      "A value is trying to be set on a copy of a slice from a DataFrame\n",
      "\n",
      "See the caveats in the documentation: https://pandas.pydata.org/pandas-docs/stable/user_guide/indexing.html#returning-a-view-versus-a-copy\n",
      "  after removing the cwd from sys.path.\n"
     ]
    }
   ],
   "source": [
    "n=0\n",
    "for x in teste_adult[\"workclass\"]:\n",
    "    if x in {'Without-pay', 'Never-worked' }:\n",
    "        teste_adult[\"workclass\"][n] = -1\n",
    "    elif x in {'Local-gov', 'State-gov', 'Federal-gov'}:\n",
    "        teste_adult[\"workclass\"][n] = 0\n",
    "    elif x == 'Private':\n",
    "        teste_adult[\"workclass\"][n] = 0.5\n",
    "    else:\n",
    "        teste_adult[\"workclass\"][n] = 1\n",
    "    n=n+1"
   ]
  },
  {
   "cell_type": "code",
   "execution_count": 30,
   "id": "6fc6ee68",
   "metadata": {
    "execution": {
     "iopub.execute_input": "2022-12-20T17:23:03.572829Z",
     "iopub.status.busy": "2022-12-20T17:23:03.571531Z",
     "iopub.status.idle": "2022-12-20T17:23:16.505430Z",
     "shell.execute_reply": "2022-12-20T17:23:16.504200Z"
    },
    "papermill": {
     "duration": 12.978335,
     "end_time": "2022-12-20T17:23:16.508720",
     "exception": false,
     "start_time": "2022-12-20T17:23:03.530385",
     "status": "completed"
    },
    "tags": []
   },
   "outputs": [
    {
     "name": "stderr",
     "output_type": "stream",
     "text": [
      "/opt/conda/lib/python3.7/site-packages/ipykernel_launcher.py:8: SettingWithCopyWarning: \n",
      "A value is trying to be set on a copy of a slice from a DataFrame\n",
      "\n",
      "See the caveats in the documentation: https://pandas.pydata.org/pandas-docs/stable/user_guide/indexing.html#returning-a-view-versus-a-copy\n",
      "  \n",
      "/opt/conda/lib/python3.7/site-packages/ipykernel_launcher.py:6: SettingWithCopyWarning: \n",
      "A value is trying to be set on a copy of a slice from a DataFrame\n",
      "\n",
      "See the caveats in the documentation: https://pandas.pydata.org/pandas-docs/stable/user_guide/indexing.html#returning-a-view-versus-a-copy\n",
      "  \n",
      "/opt/conda/lib/python3.7/site-packages/ipykernel_launcher.py:10: SettingWithCopyWarning: \n",
      "A value is trying to be set on a copy of a slice from a DataFrame\n",
      "\n",
      "See the caveats in the documentation: https://pandas.pydata.org/pandas-docs/stable/user_guide/indexing.html#returning-a-view-versus-a-copy\n",
      "  # Remove the CWD from sys.path while we load stuff.\n",
      "/opt/conda/lib/python3.7/site-packages/ipykernel_launcher.py:4: SettingWithCopyWarning: \n",
      "A value is trying to be set on a copy of a slice from a DataFrame\n",
      "\n",
      "See the caveats in the documentation: https://pandas.pydata.org/pandas-docs/stable/user_guide/indexing.html#returning-a-view-versus-a-copy\n",
      "  after removing the cwd from sys.path.\n"
     ]
    }
   ],
   "source": [
    "n=0\n",
    "for x in treino_adult[\"workclass\"]:\n",
    "    if x in {'Without-pay', 'Never-worked' }:\n",
    "        treino_adult[\"workclass\"][n] = -1\n",
    "    elif x in {'Local-gov', 'State-gov', 'Federal-gov'}:\n",
    "        treino_adult[\"workclass\"][n] = 0\n",
    "    elif x == 'Private':\n",
    "        treino_adult[\"workclass\"][n] = 0.5\n",
    "    else:\n",
    "        treino_adult[\"workclass\"][n] = 1\n",
    "    n=n+1"
   ]
  },
  {
   "cell_type": "markdown",
   "id": "99425b62",
   "metadata": {
    "papermill": {
     "duration": 0.039592,
     "end_time": "2022-12-20T17:23:16.589510",
     "exception": false,
     "start_time": "2022-12-20T17:23:16.549918",
     "status": "completed"
    },
    "tags": []
   },
   "source": [
    "Novamente analisando a saída:"
   ]
  },
  {
   "cell_type": "code",
   "execution_count": 31,
   "id": "a006bfcc",
   "metadata": {
    "execution": {
     "iopub.execute_input": "2022-12-20T17:23:16.670234Z",
     "iopub.status.busy": "2022-12-20T17:23:16.669784Z",
     "iopub.status.idle": "2022-12-20T17:23:16.689338Z",
     "shell.execute_reply": "2022-12-20T17:23:16.688159Z"
    },
    "papermill": {
     "duration": 0.062767,
     "end_time": "2022-12-20T17:23:16.691700",
     "exception": false,
     "start_time": "2022-12-20T17:23:16.628933",
     "status": "completed"
    },
    "tags": []
   },
   "outputs": [
    {
     "data": {
      "text/html": [
       "<div>\n",
       "<style scoped>\n",
       "    .dataframe tbody tr th:only-of-type {\n",
       "        vertical-align: middle;\n",
       "    }\n",
       "\n",
       "    .dataframe tbody tr th {\n",
       "        vertical-align: top;\n",
       "    }\n",
       "\n",
       "    .dataframe thead th {\n",
       "        text-align: right;\n",
       "    }\n",
       "</style>\n",
       "<table border=\"1\" class=\"dataframe\">\n",
       "  <thead>\n",
       "    <tr style=\"text-align: right;\">\n",
       "      <th></th>\n",
       "      <th>Id</th>\n",
       "      <th>age</th>\n",
       "      <th>workclass</th>\n",
       "      <th>fnlwgt</th>\n",
       "      <th>education</th>\n",
       "      <th>education.num</th>\n",
       "      <th>marital.status</th>\n",
       "      <th>occupation</th>\n",
       "      <th>relationship</th>\n",
       "      <th>race</th>\n",
       "      <th>sex</th>\n",
       "      <th>capital.gain</th>\n",
       "      <th>capital.loss</th>\n",
       "      <th>hours.per.week</th>\n",
       "      <th>native.country</th>\n",
       "      <th>income</th>\n",
       "    </tr>\n",
       "  </thead>\n",
       "  <tbody>\n",
       "    <tr>\n",
       "      <th>0</th>\n",
       "      <td>16280</td>\n",
       "      <td>34</td>\n",
       "      <td>0.5</td>\n",
       "      <td>204991</td>\n",
       "      <td>Some-college</td>\n",
       "      <td>10</td>\n",
       "      <td>0</td>\n",
       "      <td>Exec-managerial</td>\n",
       "      <td>Own-child</td>\n",
       "      <td>White</td>\n",
       "      <td>0</td>\n",
       "      <td>0</td>\n",
       "      <td>0</td>\n",
       "      <td>44</td>\n",
       "      <td>1</td>\n",
       "      <td>&lt;=50K</td>\n",
       "    </tr>\n",
       "    <tr>\n",
       "      <th>1</th>\n",
       "      <td>16281</td>\n",
       "      <td>58</td>\n",
       "      <td>0</td>\n",
       "      <td>310085</td>\n",
       "      <td>10th</td>\n",
       "      <td>6</td>\n",
       "      <td>1</td>\n",
       "      <td>Transport-moving</td>\n",
       "      <td>Husband</td>\n",
       "      <td>White</td>\n",
       "      <td>0</td>\n",
       "      <td>0</td>\n",
       "      <td>0</td>\n",
       "      <td>40</td>\n",
       "      <td>1</td>\n",
       "      <td>&lt;=50K</td>\n",
       "    </tr>\n",
       "    <tr>\n",
       "      <th>2</th>\n",
       "      <td>16282</td>\n",
       "      <td>25</td>\n",
       "      <td>0.5</td>\n",
       "      <td>146117</td>\n",
       "      <td>Some-college</td>\n",
       "      <td>10</td>\n",
       "      <td>0.5</td>\n",
       "      <td>Machine-op-inspct</td>\n",
       "      <td>Not-in-family</td>\n",
       "      <td>White</td>\n",
       "      <td>0</td>\n",
       "      <td>0</td>\n",
       "      <td>0</td>\n",
       "      <td>42</td>\n",
       "      <td>1</td>\n",
       "      <td>&lt;=50K</td>\n",
       "    </tr>\n",
       "    <tr>\n",
       "      <th>3</th>\n",
       "      <td>16283</td>\n",
       "      <td>24</td>\n",
       "      <td>0.5</td>\n",
       "      <td>138938</td>\n",
       "      <td>Some-college</td>\n",
       "      <td>10</td>\n",
       "      <td>0</td>\n",
       "      <td>Adm-clerical</td>\n",
       "      <td>Not-in-family</td>\n",
       "      <td>White</td>\n",
       "      <td>1</td>\n",
       "      <td>0</td>\n",
       "      <td>0</td>\n",
       "      <td>40</td>\n",
       "      <td>1</td>\n",
       "      <td>&lt;=50K</td>\n",
       "    </tr>\n",
       "    <tr>\n",
       "      <th>4</th>\n",
       "      <td>16284</td>\n",
       "      <td>57</td>\n",
       "      <td>1</td>\n",
       "      <td>258883</td>\n",
       "      <td>HS-grad</td>\n",
       "      <td>9</td>\n",
       "      <td>1</td>\n",
       "      <td>Transport-moving</td>\n",
       "      <td>Husband</td>\n",
       "      <td>White</td>\n",
       "      <td>0</td>\n",
       "      <td>5178</td>\n",
       "      <td>0</td>\n",
       "      <td>60</td>\n",
       "      <td>0</td>\n",
       "      <td>&gt;50K</td>\n",
       "    </tr>\n",
       "  </tbody>\n",
       "</table>\n",
       "</div>"
      ],
      "text/plain": [
       "      Id  age workclass  fnlwgt     education  education.num marital.status  \\\n",
       "0  16280   34       0.5  204991  Some-college             10              0   \n",
       "1  16281   58         0  310085          10th              6              1   \n",
       "2  16282   25       0.5  146117  Some-college             10            0.5   \n",
       "3  16283   24       0.5  138938  Some-college             10              0   \n",
       "4  16284   57         1  258883       HS-grad              9              1   \n",
       "\n",
       "          occupation   relationship   race sex  capital.gain  capital.loss  \\\n",
       "0    Exec-managerial      Own-child  White   0             0             0   \n",
       "1   Transport-moving        Husband  White   0             0             0   \n",
       "2  Machine-op-inspct  Not-in-family  White   0             0             0   \n",
       "3       Adm-clerical  Not-in-family  White   1             0             0   \n",
       "4   Transport-moving        Husband  White   0          5178             0   \n",
       "\n",
       "   hours.per.week native.country income  \n",
       "0              44              1  <=50K  \n",
       "1              40              1  <=50K  \n",
       "2              42              1  <=50K  \n",
       "3              40              1  <=50K  \n",
       "4              60              0   >50K  "
      ]
     },
     "execution_count": 31,
     "metadata": {},
     "output_type": "execute_result"
    }
   ],
   "source": [
    "treino_adult.head()"
   ]
  },
  {
   "cell_type": "code",
   "execution_count": 32,
   "id": "52a1c643",
   "metadata": {
    "execution": {
     "iopub.execute_input": "2022-12-20T17:23:16.774178Z",
     "iopub.status.busy": "2022-12-20T17:23:16.773436Z",
     "iopub.status.idle": "2022-12-20T17:23:16.790514Z",
     "shell.execute_reply": "2022-12-20T17:23:16.789593Z"
    },
    "papermill": {
     "duration": 0.060547,
     "end_time": "2022-12-20T17:23:16.792738",
     "exception": false,
     "start_time": "2022-12-20T17:23:16.732191",
     "status": "completed"
    },
    "tags": []
   },
   "outputs": [
    {
     "data": {
      "text/html": [
       "<div>\n",
       "<style scoped>\n",
       "    .dataframe tbody tr th:only-of-type {\n",
       "        vertical-align: middle;\n",
       "    }\n",
       "\n",
       "    .dataframe tbody tr th {\n",
       "        vertical-align: top;\n",
       "    }\n",
       "\n",
       "    .dataframe thead th {\n",
       "        text-align: right;\n",
       "    }\n",
       "</style>\n",
       "<table border=\"1\" class=\"dataframe\">\n",
       "  <thead>\n",
       "    <tr style=\"text-align: right;\">\n",
       "      <th></th>\n",
       "      <th>Id</th>\n",
       "      <th>age</th>\n",
       "      <th>workclass</th>\n",
       "      <th>fnlwgt</th>\n",
       "      <th>education</th>\n",
       "      <th>education.num</th>\n",
       "      <th>marital.status</th>\n",
       "      <th>occupation</th>\n",
       "      <th>relationship</th>\n",
       "      <th>race</th>\n",
       "      <th>sex</th>\n",
       "      <th>capital.gain</th>\n",
       "      <th>capital.loss</th>\n",
       "      <th>hours.per.week</th>\n",
       "      <th>native.country</th>\n",
       "    </tr>\n",
       "  </thead>\n",
       "  <tbody>\n",
       "    <tr>\n",
       "      <th>0</th>\n",
       "      <td>0</td>\n",
       "      <td>25</td>\n",
       "      <td>0.5</td>\n",
       "      <td>120596</td>\n",
       "      <td>Bachelors</td>\n",
       "      <td>13</td>\n",
       "      <td>0.5</td>\n",
       "      <td>Prof-specialty</td>\n",
       "      <td>Not-in-family</td>\n",
       "      <td>White</td>\n",
       "      <td>0</td>\n",
       "      <td>0</td>\n",
       "      <td>0</td>\n",
       "      <td>44</td>\n",
       "      <td>1</td>\n",
       "    </tr>\n",
       "    <tr>\n",
       "      <th>1</th>\n",
       "      <td>1</td>\n",
       "      <td>64</td>\n",
       "      <td>0</td>\n",
       "      <td>152537</td>\n",
       "      <td>Bachelors</td>\n",
       "      <td>13</td>\n",
       "      <td>1</td>\n",
       "      <td>Exec-managerial</td>\n",
       "      <td>Husband</td>\n",
       "      <td>White</td>\n",
       "      <td>0</td>\n",
       "      <td>0</td>\n",
       "      <td>0</td>\n",
       "      <td>45</td>\n",
       "      <td>1</td>\n",
       "    </tr>\n",
       "    <tr>\n",
       "      <th>2</th>\n",
       "      <td>2</td>\n",
       "      <td>31</td>\n",
       "      <td>0.5</td>\n",
       "      <td>100135</td>\n",
       "      <td>Masters</td>\n",
       "      <td>14</td>\n",
       "      <td>0</td>\n",
       "      <td>Exec-managerial</td>\n",
       "      <td>Not-in-family</td>\n",
       "      <td>White</td>\n",
       "      <td>1</td>\n",
       "      <td>0</td>\n",
       "      <td>0</td>\n",
       "      <td>40</td>\n",
       "      <td>1</td>\n",
       "    </tr>\n",
       "    <tr>\n",
       "      <th>3</th>\n",
       "      <td>3</td>\n",
       "      <td>45</td>\n",
       "      <td>0.5</td>\n",
       "      <td>189123</td>\n",
       "      <td>HS-grad</td>\n",
       "      <td>9</td>\n",
       "      <td>0.5</td>\n",
       "      <td>Machine-op-inspct</td>\n",
       "      <td>Own-child</td>\n",
       "      <td>White</td>\n",
       "      <td>0</td>\n",
       "      <td>0</td>\n",
       "      <td>0</td>\n",
       "      <td>40</td>\n",
       "      <td>1</td>\n",
       "    </tr>\n",
       "    <tr>\n",
       "      <th>4</th>\n",
       "      <td>4</td>\n",
       "      <td>64</td>\n",
       "      <td>1</td>\n",
       "      <td>487751</td>\n",
       "      <td>Bachelors</td>\n",
       "      <td>13</td>\n",
       "      <td>1</td>\n",
       "      <td>Exec-managerial</td>\n",
       "      <td>Husband</td>\n",
       "      <td>White</td>\n",
       "      <td>0</td>\n",
       "      <td>0</td>\n",
       "      <td>0</td>\n",
       "      <td>50</td>\n",
       "      <td>1</td>\n",
       "    </tr>\n",
       "  </tbody>\n",
       "</table>\n",
       "</div>"
      ],
      "text/plain": [
       "   Id  age workclass  fnlwgt  education  education.num marital.status  \\\n",
       "0   0   25       0.5  120596  Bachelors             13            0.5   \n",
       "1   1   64         0  152537  Bachelors             13              1   \n",
       "2   2   31       0.5  100135    Masters             14              0   \n",
       "3   3   45       0.5  189123    HS-grad              9            0.5   \n",
       "4   4   64         1  487751  Bachelors             13              1   \n",
       "\n",
       "          occupation   relationship   race sex  capital.gain  capital.loss  \\\n",
       "0     Prof-specialty  Not-in-family  White   0             0             0   \n",
       "1    Exec-managerial        Husband  White   0             0             0   \n",
       "2    Exec-managerial  Not-in-family  White   1             0             0   \n",
       "3  Machine-op-inspct      Own-child  White   0             0             0   \n",
       "4    Exec-managerial        Husband  White   0             0             0   \n",
       "\n",
       "   hours.per.week native.country  \n",
       "0              44              1  \n",
       "1              45              1  \n",
       "2              40              1  \n",
       "3              40              1  \n",
       "4              50              1  "
      ]
     },
     "execution_count": 32,
     "metadata": {},
     "output_type": "execute_result"
    }
   ],
   "source": [
    "teste_adult.head()"
   ]
  },
  {
   "cell_type": "markdown",
   "id": "ef1672c2",
   "metadata": {
    "papermill": {
     "duration": 0.039702,
     "end_time": "2022-12-20T17:23:16.872254",
     "exception": false,
     "start_time": "2022-12-20T17:23:16.832552",
     "status": "completed"
    },
    "tags": []
   },
   "source": [
    "Vamos analisar a feature 'relationship':"
   ]
  },
  {
   "cell_type": "code",
   "execution_count": 33,
   "id": "f72303ef",
   "metadata": {
    "execution": {
     "iopub.execute_input": "2022-12-20T17:23:16.954505Z",
     "iopub.status.busy": "2022-12-20T17:23:16.953313Z",
     "iopub.status.idle": "2022-12-20T17:23:16.963048Z",
     "shell.execute_reply": "2022-12-20T17:23:16.962159Z"
    },
    "papermill": {
     "duration": 0.053162,
     "end_time": "2022-12-20T17:23:16.965250",
     "exception": false,
     "start_time": "2022-12-20T17:23:16.912088",
     "status": "completed"
    },
    "tags": []
   },
   "outputs": [
    {
     "data": {
      "text/plain": [
       "Husband           13193\n",
       "Not-in-family      8304\n",
       "Own-child          5068\n",
       "Unmarried          3446\n",
       "Wife               1568\n",
       "Other-relative      981\n",
       "Name: relationship, dtype: int64"
      ]
     },
     "execution_count": 33,
     "metadata": {},
     "output_type": "execute_result"
    }
   ],
   "source": [
    "treino_adult['relationship'].value_counts()"
   ]
  },
  {
   "cell_type": "markdown",
   "id": "9bcf470f",
   "metadata": {
    "papermill": {
     "duration": 0.039621,
     "end_time": "2022-12-20T17:23:17.045172",
     "exception": false,
     "start_time": "2022-12-20T17:23:17.005551",
     "status": "completed"
    },
    "tags": []
   },
   "source": [
    "A questão de se a relação familiar impacta a renda é boa. A princípio não utilizarei esses dados, porque não consigo pensar em boas explicações para tanto."
   ]
  },
  {
   "cell_type": "code",
   "execution_count": 34,
   "id": "24f4fc48",
   "metadata": {
    "execution": {
     "iopub.execute_input": "2022-12-20T17:23:17.127198Z",
     "iopub.status.busy": "2022-12-20T17:23:17.126483Z",
     "iopub.status.idle": "2022-12-20T17:23:17.137019Z",
     "shell.execute_reply": "2022-12-20T17:23:17.135783Z"
    },
    "papermill": {
     "duration": 0.054258,
     "end_time": "2022-12-20T17:23:17.139267",
     "exception": false,
     "start_time": "2022-12-20T17:23:17.085009",
     "status": "completed"
    },
    "scrolled": true,
    "tags": []
   },
   "outputs": [
    {
     "data": {
      "text/plain": [
       "Prof-specialty       4140\n",
       "Craft-repair         4099\n",
       "Exec-managerial      4066\n",
       "Adm-clerical         3769\n",
       "Sales                3650\n",
       "Other-service        3295\n",
       "Machine-op-inspct    2002\n",
       "Transport-moving     1597\n",
       "Handlers-cleaners    1370\n",
       "Farming-fishing       994\n",
       "Tech-support          928\n",
       "Protective-serv       649\n",
       "Priv-house-serv       149\n",
       "Armed-Forces            9\n",
       "Name: occupation, dtype: int64"
      ]
     },
     "execution_count": 34,
     "metadata": {},
     "output_type": "execute_result"
    }
   ],
   "source": [
    "treino_adult['occupation'].value_counts()"
   ]
  },
  {
   "cell_type": "markdown",
   "id": "8d8566ae",
   "metadata": {
    "papermill": {
     "duration": 0.039997,
     "end_time": "2022-12-20T17:23:17.219417",
     "exception": false,
     "start_time": "2022-12-20T17:23:17.179420",
     "status": "completed"
    },
    "tags": []
   },
   "source": [
    "A ocupação é claramente muito relevante para a renda, mas para conseguirmos usar essa feature para análises preditivas, precisariamos de dados correlacionando essas profissões e a renda obtida em cada um delas, como a proposta do trabalho é não utilizar dados externos, não usarei essa variável na análise."
   ]
  },
  {
   "cell_type": "markdown",
   "id": "c7fef1c1",
   "metadata": {
    "papermill": {
     "duration": 0.039725,
     "end_time": "2022-12-20T17:23:17.299426",
     "exception": false,
     "start_time": "2022-12-20T17:23:17.259701",
     "status": "completed"
    },
    "tags": []
   },
   "source": [
    "Vamos analisar a distribuição das variáveis de ganho e perda de capital através de histogramas:"
   ]
  },
  {
   "cell_type": "code",
   "execution_count": 35,
   "id": "b7ba583a",
   "metadata": {
    "execution": {
     "iopub.execute_input": "2022-12-20T17:23:17.384196Z",
     "iopub.status.busy": "2022-12-20T17:23:17.383513Z",
     "iopub.status.idle": "2022-12-20T17:23:17.608562Z",
     "shell.execute_reply": "2022-12-20T17:23:17.607582Z"
    },
    "papermill": {
     "duration": 0.271322,
     "end_time": "2022-12-20T17:23:17.610897",
     "exception": false,
     "start_time": "2022-12-20T17:23:17.339575",
     "status": "completed"
    },
    "tags": []
   },
   "outputs": [
    {
     "data": {
      "text/plain": [
       "(array([3.179e+04, 5.170e+02, 8.700e+01, 5.000e+00, 2.000e+00, 0.000e+00,\n",
       "        0.000e+00, 0.000e+00, 0.000e+00, 1.590e+02]),\n",
       " array([    0. ,  9999.9, 19999.8, 29999.7, 39999.6, 49999.5, 59999.4,\n",
       "        69999.3, 79999.2, 89999.1, 99999. ]),\n",
       " <BarContainer object of 10 artists>)"
      ]
     },
     "execution_count": 35,
     "metadata": {},
     "output_type": "execute_result"
    },
    {
     "data": {
      "image/png": "[encoded data removed]",
      "text/plain": [
       "<Figure size 432x288 with 1 Axes>"
      ]
     },
     "metadata": {
      "needs_background": "light"
     },
     "output_type": "display_data"
    }
   ],
   "source": [
    "plt.xlabel('Valor Ganho')\n",
    "plt.ylabel('Número de Ocorrências')\n",
    "plt.title( 'Ganhos de Capital')\n",
    "plt.hist(treino_adult[\"capital.gain\"],10)"
   ]
  },
  {
   "cell_type": "code",
   "execution_count": 36,
   "id": "9c98c0ff",
   "metadata": {
    "execution": {
     "iopub.execute_input": "2022-12-20T17:23:17.694888Z",
     "iopub.status.busy": "2022-12-20T17:23:17.694244Z",
     "iopub.status.idle": "2022-12-20T17:23:17.911059Z",
     "shell.execute_reply": "2022-12-20T17:23:17.909918Z"
    },
    "papermill": {
     "duration": 0.261973,
     "end_time": "2022-12-20T17:23:17.913673",
     "exception": false,
     "start_time": "2022-12-20T17:23:17.651700",
     "status": "completed"
    },
    "tags": []
   },
   "outputs": [
    {
     "data": {
      "text/plain": [
       "(array([3.1052e+04, 1.7000e+01, 2.1000e+01, 4.6100e+02, 7.7900e+02,\n",
       "        2.0700e+02, 1.4000e+01, 0.0000e+00, 6.0000e+00, 3.0000e+00]),\n",
       " array([   0. ,  435.6,  871.2, 1306.8, 1742.4, 2178. , 2613.6, 3049.2,\n",
       "        3484.8, 3920.4, 4356. ]),\n",
       " <BarContainer object of 10 artists>)"
      ]
     },
     "execution_count": 36,
     "metadata": {},
     "output_type": "execute_result"
    },
    {
     "data": {
      "image/png": "[encoded data removed]",
      "text/plain": [
       "<Figure size 432x288 with 1 Axes>"
      ]
     },
     "metadata": {
      "needs_background": "light"
     },
     "output_type": "display_data"
    }
   ],
   "source": [
    "plt.xlabel('Valor Perdido')\n",
    "plt.ylabel('Número de Ocorrências')\n",
    "plt.title( 'Perdas de Capital')\n",
    "plt.hist(treino_adult[\"capital.loss\"],10)"
   ]
  },
  {
   "cell_type": "markdown",
   "id": "53f863e5",
   "metadata": {
    "papermill": {
     "duration": 0.040354,
     "end_time": "2022-12-20T17:23:17.995171",
     "exception": false,
     "start_time": "2022-12-20T17:23:17.954817",
     "status": "completed"
    },
    "tags": []
   },
   "source": [
    "São pouquíssimos dados relevantes sobre ganhos e perdas de capital, dessa forma não utilizarei esses dados na análise, pois só pela normalização, pessoas que tiveram ganhos próximos a 10000 terão um efeito muito pequeno, por exemplo."
   ]
  },
  {
   "cell_type": "markdown",
   "id": "98a0bb69",
   "metadata": {
    "papermill": {
     "duration": 0.041201,
     "end_time": "2022-12-20T17:23:18.077777",
     "exception": false,
     "start_time": "2022-12-20T17:23:18.036576",
     "status": "completed"
    },
    "tags": []
   },
   "source": [
    "Para a variável \"Race\" criaremos novas colunas com as saídas possíveis, usaremos o processo de one-hot encoding."
   ]
  },
  {
   "cell_type": "code",
   "execution_count": 37,
   "id": "a3426098",
   "metadata": {
    "execution": {
     "iopub.execute_input": "2022-12-20T17:23:18.163652Z",
     "iopub.status.busy": "2022-12-20T17:23:18.162965Z",
     "iopub.status.idle": "2022-12-20T17:23:18.177479Z",
     "shell.execute_reply": "2022-12-20T17:23:18.176530Z"
    },
    "papermill": {
     "duration": 0.059856,
     "end_time": "2022-12-20T17:23:18.180081",
     "exception": false,
     "start_time": "2022-12-20T17:23:18.120225",
     "status": "completed"
    },
    "tags": []
   },
   "outputs": [],
   "source": [
    "R = pd.get_dummies(treino_adult['race'])\n",
    "G = pd.get_dummies(teste_adult['race'])"
   ]
  },
  {
   "cell_type": "code",
   "execution_count": 38,
   "id": "69ca291f",
   "metadata": {
    "execution": {
     "iopub.execute_input": "2022-12-20T17:23:18.264993Z",
     "iopub.status.busy": "2022-12-20T17:23:18.264314Z",
     "iopub.status.idle": "2022-12-20T17:23:18.304622Z",
     "shell.execute_reply": "2022-12-20T17:23:18.303249Z"
    },
    "papermill": {
     "duration": 0.085751,
     "end_time": "2022-12-20T17:23:18.307497",
     "exception": false,
     "start_time": "2022-12-20T17:23:18.221746",
     "status": "completed"
    },
    "tags": []
   },
   "outputs": [],
   "source": [
    "treino_adult = pd.concat([treino_adult, R], axis=1).reindex(treino_adult.index)\n",
    "teste_adult = pd.concat([teste_adult, G], axis=1).reindex(teste_adult.index)"
   ]
  },
  {
   "cell_type": "code",
   "execution_count": 39,
   "id": "20348de0",
   "metadata": {
    "execution": {
     "iopub.execute_input": "2022-12-20T17:23:18.393760Z",
     "iopub.status.busy": "2022-12-20T17:23:18.393084Z",
     "iopub.status.idle": "2022-12-20T17:23:18.419564Z",
     "shell.execute_reply": "2022-12-20T17:23:18.418263Z"
    },
    "papermill": {
     "duration": 0.071946,
     "end_time": "2022-12-20T17:23:18.422048",
     "exception": false,
     "start_time": "2022-12-20T17:23:18.350102",
     "status": "completed"
    },
    "tags": []
   },
   "outputs": [
    {
     "data": {
      "text/html": [
       "<div>\n",
       "<style scoped>\n",
       "    .dataframe tbody tr th:only-of-type {\n",
       "        vertical-align: middle;\n",
       "    }\n",
       "\n",
       "    .dataframe tbody tr th {\n",
       "        vertical-align: top;\n",
       "    }\n",
       "\n",
       "    .dataframe thead th {\n",
       "        text-align: right;\n",
       "    }\n",
       "</style>\n",
       "<table border=\"1\" class=\"dataframe\">\n",
       "  <thead>\n",
       "    <tr style=\"text-align: right;\">\n",
       "      <th></th>\n",
       "      <th>Id</th>\n",
       "      <th>age</th>\n",
       "      <th>workclass</th>\n",
       "      <th>fnlwgt</th>\n",
       "      <th>education</th>\n",
       "      <th>education.num</th>\n",
       "      <th>marital.status</th>\n",
       "      <th>occupation</th>\n",
       "      <th>relationship</th>\n",
       "      <th>race</th>\n",
       "      <th>sex</th>\n",
       "      <th>capital.gain</th>\n",
       "      <th>capital.loss</th>\n",
       "      <th>hours.per.week</th>\n",
       "      <th>native.country</th>\n",
       "      <th>Amer-Indian-Eskimo</th>\n",
       "      <th>Asian-Pac-Islander</th>\n",
       "      <th>Black</th>\n",
       "      <th>Other</th>\n",
       "      <th>White</th>\n",
       "    </tr>\n",
       "  </thead>\n",
       "  <tbody>\n",
       "    <tr>\n",
       "      <th>0</th>\n",
       "      <td>0</td>\n",
       "      <td>25</td>\n",
       "      <td>0.5</td>\n",
       "      <td>120596</td>\n",
       "      <td>Bachelors</td>\n",
       "      <td>13</td>\n",
       "      <td>0.5</td>\n",
       "      <td>Prof-specialty</td>\n",
       "      <td>Not-in-family</td>\n",
       "      <td>White</td>\n",
       "      <td>0</td>\n",
       "      <td>0</td>\n",
       "      <td>0</td>\n",
       "      <td>44</td>\n",
       "      <td>1</td>\n",
       "      <td>0</td>\n",
       "      <td>0</td>\n",
       "      <td>0</td>\n",
       "      <td>0</td>\n",
       "      <td>1</td>\n",
       "    </tr>\n",
       "    <tr>\n",
       "      <th>1</th>\n",
       "      <td>1</td>\n",
       "      <td>64</td>\n",
       "      <td>0</td>\n",
       "      <td>152537</td>\n",
       "      <td>Bachelors</td>\n",
       "      <td>13</td>\n",
       "      <td>1</td>\n",
       "      <td>Exec-managerial</td>\n",
       "      <td>Husband</td>\n",
       "      <td>White</td>\n",
       "      <td>0</td>\n",
       "      <td>0</td>\n",
       "      <td>0</td>\n",
       "      <td>45</td>\n",
       "      <td>1</td>\n",
       "      <td>0</td>\n",
       "      <td>0</td>\n",
       "      <td>0</td>\n",
       "      <td>0</td>\n",
       "      <td>1</td>\n",
       "    </tr>\n",
       "    <tr>\n",
       "      <th>2</th>\n",
       "      <td>2</td>\n",
       "      <td>31</td>\n",
       "      <td>0.5</td>\n",
       "      <td>100135</td>\n",
       "      <td>Masters</td>\n",
       "      <td>14</td>\n",
       "      <td>0</td>\n",
       "      <td>Exec-managerial</td>\n",
       "      <td>Not-in-family</td>\n",
       "      <td>White</td>\n",
       "      <td>1</td>\n",
       "      <td>0</td>\n",
       "      <td>0</td>\n",
       "      <td>40</td>\n",
       "      <td>1</td>\n",
       "      <td>0</td>\n",
       "      <td>0</td>\n",
       "      <td>0</td>\n",
       "      <td>0</td>\n",
       "      <td>1</td>\n",
       "    </tr>\n",
       "    <tr>\n",
       "      <th>3</th>\n",
       "      <td>3</td>\n",
       "      <td>45</td>\n",
       "      <td>0.5</td>\n",
       "      <td>189123</td>\n",
       "      <td>HS-grad</td>\n",
       "      <td>9</td>\n",
       "      <td>0.5</td>\n",
       "      <td>Machine-op-inspct</td>\n",
       "      <td>Own-child</td>\n",
       "      <td>White</td>\n",
       "      <td>0</td>\n",
       "      <td>0</td>\n",
       "      <td>0</td>\n",
       "      <td>40</td>\n",
       "      <td>1</td>\n",
       "      <td>0</td>\n",
       "      <td>0</td>\n",
       "      <td>0</td>\n",
       "      <td>0</td>\n",
       "      <td>1</td>\n",
       "    </tr>\n",
       "    <tr>\n",
       "      <th>4</th>\n",
       "      <td>4</td>\n",
       "      <td>64</td>\n",
       "      <td>1</td>\n",
       "      <td>487751</td>\n",
       "      <td>Bachelors</td>\n",
       "      <td>13</td>\n",
       "      <td>1</td>\n",
       "      <td>Exec-managerial</td>\n",
       "      <td>Husband</td>\n",
       "      <td>White</td>\n",
       "      <td>0</td>\n",
       "      <td>0</td>\n",
       "      <td>0</td>\n",
       "      <td>50</td>\n",
       "      <td>1</td>\n",
       "      <td>0</td>\n",
       "      <td>0</td>\n",
       "      <td>0</td>\n",
       "      <td>0</td>\n",
       "      <td>1</td>\n",
       "    </tr>\n",
       "    <tr>\n",
       "      <th>...</th>\n",
       "      <td>...</td>\n",
       "      <td>...</td>\n",
       "      <td>...</td>\n",
       "      <td>...</td>\n",
       "      <td>...</td>\n",
       "      <td>...</td>\n",
       "      <td>...</td>\n",
       "      <td>...</td>\n",
       "      <td>...</td>\n",
       "      <td>...</td>\n",
       "      <td>...</td>\n",
       "      <td>...</td>\n",
       "      <td>...</td>\n",
       "      <td>...</td>\n",
       "      <td>...</td>\n",
       "      <td>...</td>\n",
       "      <td>...</td>\n",
       "      <td>...</td>\n",
       "      <td>...</td>\n",
       "      <td>...</td>\n",
       "    </tr>\n",
       "    <tr>\n",
       "      <th>16275</th>\n",
       "      <td>16275</td>\n",
       "      <td>40</td>\n",
       "      <td>0.5</td>\n",
       "      <td>168113</td>\n",
       "      <td>HS-grad</td>\n",
       "      <td>9</td>\n",
       "      <td>1</td>\n",
       "      <td>Craft-repair</td>\n",
       "      <td>Husband</td>\n",
       "      <td>White</td>\n",
       "      <td>0</td>\n",
       "      <td>0</td>\n",
       "      <td>0</td>\n",
       "      <td>40</td>\n",
       "      <td>1</td>\n",
       "      <td>0</td>\n",
       "      <td>0</td>\n",
       "      <td>0</td>\n",
       "      <td>0</td>\n",
       "      <td>1</td>\n",
       "    </tr>\n",
       "    <tr>\n",
       "      <th>16276</th>\n",
       "      <td>16276</td>\n",
       "      <td>30</td>\n",
       "      <td>0</td>\n",
       "      <td>327203</td>\n",
       "      <td>HS-grad</td>\n",
       "      <td>9</td>\n",
       "      <td>1</td>\n",
       "      <td>Other-service</td>\n",
       "      <td>Husband</td>\n",
       "      <td>White</td>\n",
       "      <td>0</td>\n",
       "      <td>0</td>\n",
       "      <td>0</td>\n",
       "      <td>40</td>\n",
       "      <td>1</td>\n",
       "      <td>0</td>\n",
       "      <td>0</td>\n",
       "      <td>0</td>\n",
       "      <td>0</td>\n",
       "      <td>1</td>\n",
       "    </tr>\n",
       "    <tr>\n",
       "      <th>16277</th>\n",
       "      <td>16277</td>\n",
       "      <td>25</td>\n",
       "      <td>0.5</td>\n",
       "      <td>116358</td>\n",
       "      <td>HS-grad</td>\n",
       "      <td>9</td>\n",
       "      <td>0.5</td>\n",
       "      <td>Adm-clerical</td>\n",
       "      <td>Own-child</td>\n",
       "      <td>Asian-Pac-Islander</td>\n",
       "      <td>0</td>\n",
       "      <td>0</td>\n",
       "      <td>0</td>\n",
       "      <td>40</td>\n",
       "      <td>0</td>\n",
       "      <td>0</td>\n",
       "      <td>1</td>\n",
       "      <td>0</td>\n",
       "      <td>0</td>\n",
       "      <td>0</td>\n",
       "    </tr>\n",
       "    <tr>\n",
       "      <th>16278</th>\n",
       "      <td>16278</td>\n",
       "      <td>60</td>\n",
       "      <td>0.5</td>\n",
       "      <td>39263</td>\n",
       "      <td>Masters</td>\n",
       "      <td>14</td>\n",
       "      <td>0.5</td>\n",
       "      <td>Exec-managerial</td>\n",
       "      <td>Not-in-family</td>\n",
       "      <td>White</td>\n",
       "      <td>1</td>\n",
       "      <td>3325</td>\n",
       "      <td>0</td>\n",
       "      <td>35</td>\n",
       "      <td>1</td>\n",
       "      <td>0</td>\n",
       "      <td>0</td>\n",
       "      <td>0</td>\n",
       "      <td>0</td>\n",
       "      <td>1</td>\n",
       "    </tr>\n",
       "    <tr>\n",
       "      <th>16279</th>\n",
       "      <td>16279</td>\n",
       "      <td>49</td>\n",
       "      <td>0.5</td>\n",
       "      <td>182862</td>\n",
       "      <td>Some-college</td>\n",
       "      <td>10</td>\n",
       "      <td>1</td>\n",
       "      <td>Craft-repair</td>\n",
       "      <td>Husband</td>\n",
       "      <td>White</td>\n",
       "      <td>0</td>\n",
       "      <td>7688</td>\n",
       "      <td>0</td>\n",
       "      <td>40</td>\n",
       "      <td>1</td>\n",
       "      <td>0</td>\n",
       "      <td>0</td>\n",
       "      <td>0</td>\n",
       "      <td>0</td>\n",
       "      <td>1</td>\n",
       "    </tr>\n",
       "  </tbody>\n",
       "</table>\n",
       "<p>16280 rows × 20 columns</p>\n",
       "</div>"
      ],
      "text/plain": [
       "          Id  age workclass  fnlwgt     education  education.num  \\\n",
       "0          0   25       0.5  120596     Bachelors             13   \n",
       "1          1   64         0  152537     Bachelors             13   \n",
       "2          2   31       0.5  100135       Masters             14   \n",
       "3          3   45       0.5  189123       HS-grad              9   \n",
       "4          4   64         1  487751     Bachelors             13   \n",
       "...      ...  ...       ...     ...           ...            ...   \n",
       "16275  16275   40       0.5  168113       HS-grad              9   \n",
       "16276  16276   30         0  327203       HS-grad              9   \n",
       "16277  16277   25       0.5  116358       HS-grad              9   \n",
       "16278  16278   60       0.5   39263       Masters             14   \n",
       "16279  16279   49       0.5  182862  Some-college             10   \n",
       "\n",
       "      marital.status         occupation   relationship                race  \\\n",
       "0                0.5     Prof-specialty  Not-in-family               White   \n",
       "1                  1    Exec-managerial        Husband               White   \n",
       "2                  0    Exec-managerial  Not-in-family               White   \n",
       "3                0.5  Machine-op-inspct      Own-child               White   \n",
       "4                  1    Exec-managerial        Husband               White   \n",
       "...              ...                ...            ...                 ...   \n",
       "16275              1       Craft-repair        Husband               White   \n",
       "16276              1      Other-service        Husband               White   \n",
       "16277            0.5       Adm-clerical      Own-child  Asian-Pac-Islander   \n",
       "16278            0.5    Exec-managerial  Not-in-family               White   \n",
       "16279              1       Craft-repair        Husband               White   \n",
       "\n",
       "      sex  capital.gain  capital.loss  hours.per.week native.country  \\\n",
       "0       0             0             0              44              1   \n",
       "1       0             0             0              45              1   \n",
       "2       1             0             0              40              1   \n",
       "3       0             0             0              40              1   \n",
       "4       0             0             0              50              1   \n",
       "...    ..           ...           ...             ...            ...   \n",
       "16275   0             0             0              40              1   \n",
       "16276   0             0             0              40              1   \n",
       "16277   0             0             0              40              0   \n",
       "16278   1          3325             0              35              1   \n",
       "16279   0          7688             0              40              1   \n",
       "\n",
       "       Amer-Indian-Eskimo  Asian-Pac-Islander  Black  Other  White  \n",
       "0                       0                   0      0      0      1  \n",
       "1                       0                   0      0      0      1  \n",
       "2                       0                   0      0      0      1  \n",
       "3                       0                   0      0      0      1  \n",
       "4                       0                   0      0      0      1  \n",
       "...                   ...                 ...    ...    ...    ...  \n",
       "16275                   0                   0      0      0      1  \n",
       "16276                   0                   0      0      0      1  \n",
       "16277                   0                   1      0      0      0  \n",
       "16278                   0                   0      0      0      1  \n",
       "16279                   0                   0      0      0      1  \n",
       "\n",
       "[16280 rows x 20 columns]"
      ]
     },
     "execution_count": 39,
     "metadata": {},
     "output_type": "execute_result"
    }
   ],
   "source": [
    "teste_adult"
   ]
  },
  {
   "cell_type": "code",
   "execution_count": 40,
   "id": "622814ae",
   "metadata": {
    "execution": {
     "iopub.execute_input": "2022-12-20T17:23:18.507723Z",
     "iopub.status.busy": "2022-12-20T17:23:18.506942Z",
     "iopub.status.idle": "2022-12-20T17:23:18.553750Z",
     "shell.execute_reply": "2022-12-20T17:23:18.552447Z"
    },
    "papermill": {
     "duration": 0.092577,
     "end_time": "2022-12-20T17:23:18.556373",
     "exception": false,
     "start_time": "2022-12-20T17:23:18.463796",
     "status": "completed"
    },
    "tags": []
   },
   "outputs": [
    {
     "data": {
      "text/html": [
       "<div>\n",
       "<style scoped>\n",
       "    .dataframe tbody tr th:only-of-type {\n",
       "        vertical-align: middle;\n",
       "    }\n",
       "\n",
       "    .dataframe tbody tr th {\n",
       "        vertical-align: top;\n",
       "    }\n",
       "\n",
       "    .dataframe thead th {\n",
       "        text-align: right;\n",
       "    }\n",
       "</style>\n",
       "<table border=\"1\" class=\"dataframe\">\n",
       "  <thead>\n",
       "    <tr style=\"text-align: right;\">\n",
       "      <th></th>\n",
       "      <th>Id</th>\n",
       "      <th>age</th>\n",
       "      <th>workclass</th>\n",
       "      <th>fnlwgt</th>\n",
       "      <th>education</th>\n",
       "      <th>education.num</th>\n",
       "      <th>marital.status</th>\n",
       "      <th>occupation</th>\n",
       "      <th>relationship</th>\n",
       "      <th>race</th>\n",
       "      <th>...</th>\n",
       "      <th>capital.gain</th>\n",
       "      <th>capital.loss</th>\n",
       "      <th>hours.per.week</th>\n",
       "      <th>native.country</th>\n",
       "      <th>income</th>\n",
       "      <th>Amer-Indian-Eskimo</th>\n",
       "      <th>Asian-Pac-Islander</th>\n",
       "      <th>Black</th>\n",
       "      <th>Other</th>\n",
       "      <th>White</th>\n",
       "    </tr>\n",
       "  </thead>\n",
       "  <tbody>\n",
       "    <tr>\n",
       "      <th>0</th>\n",
       "      <td>16280</td>\n",
       "      <td>34</td>\n",
       "      <td>0.5</td>\n",
       "      <td>204991</td>\n",
       "      <td>Some-college</td>\n",
       "      <td>10</td>\n",
       "      <td>0</td>\n",
       "      <td>Exec-managerial</td>\n",
       "      <td>Own-child</td>\n",
       "      <td>White</td>\n",
       "      <td>...</td>\n",
       "      <td>0</td>\n",
       "      <td>0</td>\n",
       "      <td>44</td>\n",
       "      <td>1</td>\n",
       "      <td>&lt;=50K</td>\n",
       "      <td>0</td>\n",
       "      <td>0</td>\n",
       "      <td>0</td>\n",
       "      <td>0</td>\n",
       "      <td>1</td>\n",
       "    </tr>\n",
       "    <tr>\n",
       "      <th>1</th>\n",
       "      <td>16281</td>\n",
       "      <td>58</td>\n",
       "      <td>0</td>\n",
       "      <td>310085</td>\n",
       "      <td>10th</td>\n",
       "      <td>6</td>\n",
       "      <td>1</td>\n",
       "      <td>Transport-moving</td>\n",
       "      <td>Husband</td>\n",
       "      <td>White</td>\n",
       "      <td>...</td>\n",
       "      <td>0</td>\n",
       "      <td>0</td>\n",
       "      <td>40</td>\n",
       "      <td>1</td>\n",
       "      <td>&lt;=50K</td>\n",
       "      <td>0</td>\n",
       "      <td>0</td>\n",
       "      <td>0</td>\n",
       "      <td>0</td>\n",
       "      <td>1</td>\n",
       "    </tr>\n",
       "    <tr>\n",
       "      <th>2</th>\n",
       "      <td>16282</td>\n",
       "      <td>25</td>\n",
       "      <td>0.5</td>\n",
       "      <td>146117</td>\n",
       "      <td>Some-college</td>\n",
       "      <td>10</td>\n",
       "      <td>0.5</td>\n",
       "      <td>Machine-op-inspct</td>\n",
       "      <td>Not-in-family</td>\n",
       "      <td>White</td>\n",
       "      <td>...</td>\n",
       "      <td>0</td>\n",
       "      <td>0</td>\n",
       "      <td>42</td>\n",
       "      <td>1</td>\n",
       "      <td>&lt;=50K</td>\n",
       "      <td>0</td>\n",
       "      <td>0</td>\n",
       "      <td>0</td>\n",
       "      <td>0</td>\n",
       "      <td>1</td>\n",
       "    </tr>\n",
       "    <tr>\n",
       "      <th>3</th>\n",
       "      <td>16283</td>\n",
       "      <td>24</td>\n",
       "      <td>0.5</td>\n",
       "      <td>138938</td>\n",
       "      <td>Some-college</td>\n",
       "      <td>10</td>\n",
       "      <td>0</td>\n",
       "      <td>Adm-clerical</td>\n",
       "      <td>Not-in-family</td>\n",
       "      <td>White</td>\n",
       "      <td>...</td>\n",
       "      <td>0</td>\n",
       "      <td>0</td>\n",
       "      <td>40</td>\n",
       "      <td>1</td>\n",
       "      <td>&lt;=50K</td>\n",
       "      <td>0</td>\n",
       "      <td>0</td>\n",
       "      <td>0</td>\n",
       "      <td>0</td>\n",
       "      <td>1</td>\n",
       "    </tr>\n",
       "    <tr>\n",
       "      <th>4</th>\n",
       "      <td>16284</td>\n",
       "      <td>57</td>\n",
       "      <td>1</td>\n",
       "      <td>258883</td>\n",
       "      <td>HS-grad</td>\n",
       "      <td>9</td>\n",
       "      <td>1</td>\n",
       "      <td>Transport-moving</td>\n",
       "      <td>Husband</td>\n",
       "      <td>White</td>\n",
       "      <td>...</td>\n",
       "      <td>5178</td>\n",
       "      <td>0</td>\n",
       "      <td>60</td>\n",
       "      <td>0</td>\n",
       "      <td>&gt;50K</td>\n",
       "      <td>0</td>\n",
       "      <td>0</td>\n",
       "      <td>0</td>\n",
       "      <td>0</td>\n",
       "      <td>1</td>\n",
       "    </tr>\n",
       "    <tr>\n",
       "      <th>...</th>\n",
       "      <td>...</td>\n",
       "      <td>...</td>\n",
       "      <td>...</td>\n",
       "      <td>...</td>\n",
       "      <td>...</td>\n",
       "      <td>...</td>\n",
       "      <td>...</td>\n",
       "      <td>...</td>\n",
       "      <td>...</td>\n",
       "      <td>...</td>\n",
       "      <td>...</td>\n",
       "      <td>...</td>\n",
       "      <td>...</td>\n",
       "      <td>...</td>\n",
       "      <td>...</td>\n",
       "      <td>...</td>\n",
       "      <td>...</td>\n",
       "      <td>...</td>\n",
       "      <td>...</td>\n",
       "      <td>...</td>\n",
       "      <td>...</td>\n",
       "    </tr>\n",
       "    <tr>\n",
       "      <th>32555</th>\n",
       "      <td>48835</td>\n",
       "      <td>42</td>\n",
       "      <td>0.5</td>\n",
       "      <td>384236</td>\n",
       "      <td>Masters</td>\n",
       "      <td>14</td>\n",
       "      <td>1</td>\n",
       "      <td>Prof-specialty</td>\n",
       "      <td>Husband</td>\n",
       "      <td>White</td>\n",
       "      <td>...</td>\n",
       "      <td>7688</td>\n",
       "      <td>0</td>\n",
       "      <td>40</td>\n",
       "      <td>1</td>\n",
       "      <td>&gt;50K</td>\n",
       "      <td>0</td>\n",
       "      <td>0</td>\n",
       "      <td>0</td>\n",
       "      <td>0</td>\n",
       "      <td>1</td>\n",
       "    </tr>\n",
       "    <tr>\n",
       "      <th>32556</th>\n",
       "      <td>48836</td>\n",
       "      <td>23</td>\n",
       "      <td>0.5</td>\n",
       "      <td>129042</td>\n",
       "      <td>HS-grad</td>\n",
       "      <td>9</td>\n",
       "      <td>0.5</td>\n",
       "      <td>Machine-op-inspct</td>\n",
       "      <td>Unmarried</td>\n",
       "      <td>Black</td>\n",
       "      <td>...</td>\n",
       "      <td>0</td>\n",
       "      <td>0</td>\n",
       "      <td>40</td>\n",
       "      <td>1</td>\n",
       "      <td>&lt;=50K</td>\n",
       "      <td>0</td>\n",
       "      <td>0</td>\n",
       "      <td>1</td>\n",
       "      <td>0</td>\n",
       "      <td>0</td>\n",
       "    </tr>\n",
       "    <tr>\n",
       "      <th>32557</th>\n",
       "      <td>48837</td>\n",
       "      <td>30</td>\n",
       "      <td>0.5</td>\n",
       "      <td>195488</td>\n",
       "      <td>HS-grad</td>\n",
       "      <td>9</td>\n",
       "      <td>0.5</td>\n",
       "      <td>Priv-house-serv</td>\n",
       "      <td>Own-child</td>\n",
       "      <td>White</td>\n",
       "      <td>...</td>\n",
       "      <td>0</td>\n",
       "      <td>0</td>\n",
       "      <td>40</td>\n",
       "      <td>0</td>\n",
       "      <td>&lt;=50K</td>\n",
       "      <td>0</td>\n",
       "      <td>0</td>\n",
       "      <td>0</td>\n",
       "      <td>0</td>\n",
       "      <td>1</td>\n",
       "    </tr>\n",
       "    <tr>\n",
       "      <th>32558</th>\n",
       "      <td>48838</td>\n",
       "      <td>18</td>\n",
       "      <td>0.5</td>\n",
       "      <td>27620</td>\n",
       "      <td>HS-grad</td>\n",
       "      <td>9</td>\n",
       "      <td>0.5</td>\n",
       "      <td>Adm-clerical</td>\n",
       "      <td>Not-in-family</td>\n",
       "      <td>White</td>\n",
       "      <td>...</td>\n",
       "      <td>0</td>\n",
       "      <td>0</td>\n",
       "      <td>25</td>\n",
       "      <td>1</td>\n",
       "      <td>&lt;=50K</td>\n",
       "      <td>0</td>\n",
       "      <td>0</td>\n",
       "      <td>0</td>\n",
       "      <td>0</td>\n",
       "      <td>1</td>\n",
       "    </tr>\n",
       "    <tr>\n",
       "      <th>32559</th>\n",
       "      <td>48839</td>\n",
       "      <td>47</td>\n",
       "      <td>0</td>\n",
       "      <td>203067</td>\n",
       "      <td>Bachelors</td>\n",
       "      <td>13</td>\n",
       "      <td>0</td>\n",
       "      <td>Prof-specialty</td>\n",
       "      <td>Not-in-family</td>\n",
       "      <td>White</td>\n",
       "      <td>...</td>\n",
       "      <td>0</td>\n",
       "      <td>0</td>\n",
       "      <td>50</td>\n",
       "      <td>1</td>\n",
       "      <td>&lt;=50K</td>\n",
       "      <td>0</td>\n",
       "      <td>0</td>\n",
       "      <td>0</td>\n",
       "      <td>0</td>\n",
       "      <td>1</td>\n",
       "    </tr>\n",
       "  </tbody>\n",
       "</table>\n",
       "<p>32560 rows × 21 columns</p>\n",
       "</div>"
      ],
      "text/plain": [
       "          Id  age workclass  fnlwgt     education  education.num  \\\n",
       "0      16280   34       0.5  204991  Some-college             10   \n",
       "1      16281   58         0  310085          10th              6   \n",
       "2      16282   25       0.5  146117  Some-college             10   \n",
       "3      16283   24       0.5  138938  Some-college             10   \n",
       "4      16284   57         1  258883       HS-grad              9   \n",
       "...      ...  ...       ...     ...           ...            ...   \n",
       "32555  48835   42       0.5  384236       Masters             14   \n",
       "32556  48836   23       0.5  129042       HS-grad              9   \n",
       "32557  48837   30       0.5  195488       HS-grad              9   \n",
       "32558  48838   18       0.5   27620       HS-grad              9   \n",
       "32559  48839   47         0  203067     Bachelors             13   \n",
       "\n",
       "      marital.status         occupation   relationship   race  ...  \\\n",
       "0                  0    Exec-managerial      Own-child  White  ...   \n",
       "1                  1   Transport-moving        Husband  White  ...   \n",
       "2                0.5  Machine-op-inspct  Not-in-family  White  ...   \n",
       "3                  0       Adm-clerical  Not-in-family  White  ...   \n",
       "4                  1   Transport-moving        Husband  White  ...   \n",
       "...              ...                ...            ...    ...  ...   \n",
       "32555              1     Prof-specialty        Husband  White  ...   \n",
       "32556            0.5  Machine-op-inspct      Unmarried  Black  ...   \n",
       "32557            0.5    Priv-house-serv      Own-child  White  ...   \n",
       "32558            0.5       Adm-clerical  Not-in-family  White  ...   \n",
       "32559              0     Prof-specialty  Not-in-family  White  ...   \n",
       "\n",
       "      capital.gain  capital.loss  hours.per.week  native.country income  \\\n",
       "0                0             0              44               1  <=50K   \n",
       "1                0             0              40               1  <=50K   \n",
       "2                0             0              42               1  <=50K   \n",
       "3                0             0              40               1  <=50K   \n",
       "4             5178             0              60               0   >50K   \n",
       "...            ...           ...             ...             ...    ...   \n",
       "32555         7688             0              40               1   >50K   \n",
       "32556            0             0              40               1  <=50K   \n",
       "32557            0             0              40               0  <=50K   \n",
       "32558            0             0              25               1  <=50K   \n",
       "32559            0             0              50               1  <=50K   \n",
       "\n",
       "      Amer-Indian-Eskimo  Asian-Pac-Islander  Black  Other  White  \n",
       "0                      0                   0      0      0      1  \n",
       "1                      0                   0      0      0      1  \n",
       "2                      0                   0      0      0      1  \n",
       "3                      0                   0      0      0      1  \n",
       "4                      0                   0      0      0      1  \n",
       "...                  ...                 ...    ...    ...    ...  \n",
       "32555                  0                   0      0      0      1  \n",
       "32556                  0                   0      1      0      0  \n",
       "32557                  0                   0      0      0      1  \n",
       "32558                  0                   0      0      0      1  \n",
       "32559                  0                   0      0      0      1  \n",
       "\n",
       "[32560 rows x 21 columns]"
      ]
     },
     "execution_count": 40,
     "metadata": {},
     "output_type": "execute_result"
    }
   ],
   "source": [
    "treino_adult"
   ]
  },
  {
   "cell_type": "markdown",
   "id": "783f5a0b",
   "metadata": {
    "papermill": {
     "duration": 0.042503,
     "end_time": "2022-12-20T17:23:18.640987",
     "exception": false,
     "start_time": "2022-12-20T17:23:18.598484",
     "status": "completed"
    },
    "tags": []
   },
   "source": [
    "O processo deu certo."
   ]
  },
  {
   "cell_type": "markdown",
   "id": "826d58ab",
   "metadata": {
    "papermill": {
     "duration": 0.04195,
     "end_time": "2022-12-20T17:23:18.725017",
     "exception": false,
     "start_time": "2022-12-20T17:23:18.683067",
     "status": "completed"
    },
    "tags": []
   },
   "source": [
    "Agora vamos nos preocupar com o nível educacional. Contudo, podemos notar que o grau de educação e o número de anos de estudo são variáveis que tem grande correlação, dessa forma não irei usar a coluna \"Education\" e ficarei apenas com a coluna \"Education-Num\"."
   ]
  },
  {
   "cell_type": "code",
   "execution_count": 41,
   "id": "ebc6827c",
   "metadata": {
    "execution": {
     "iopub.execute_input": "2022-12-20T17:23:18.813690Z",
     "iopub.status.busy": "2022-12-20T17:23:18.813258Z",
     "iopub.status.idle": "2022-12-20T17:23:18.825924Z",
     "shell.execute_reply": "2022-12-20T17:23:18.824612Z"
    },
    "papermill": {
     "duration": 0.059938,
     "end_time": "2022-12-20T17:23:18.828514",
     "exception": false,
     "start_time": "2022-12-20T17:23:18.768576",
     "status": "completed"
    },
    "tags": []
   },
   "outputs": [],
   "source": [
    "teste_adult.drop('education', axis=1, inplace=True)\n",
    "treino_adult.drop('education', axis=1, inplace=True)\n",
    "\n"
   ]
  },
  {
   "cell_type": "markdown",
   "id": "ed2c61df",
   "metadata": {
    "papermill": {
     "duration": 0.041895,
     "end_time": "2022-12-20T17:23:18.912848",
     "exception": false,
     "start_time": "2022-12-20T17:23:18.870953",
     "status": "completed"
    },
    "tags": []
   },
   "source": [
    "Como já lidamos com a variável race, podemos tirá-la das bases de dados:"
   ]
  },
  {
   "cell_type": "code",
   "execution_count": 42,
   "id": "30799b07",
   "metadata": {
    "execution": {
     "iopub.execute_input": "2022-12-20T17:23:18.999031Z",
     "iopub.status.busy": "2022-12-20T17:23:18.998573Z",
     "iopub.status.idle": "2022-12-20T17:23:19.011568Z",
     "shell.execute_reply": "2022-12-20T17:23:19.010251Z"
    },
    "papermill": {
     "duration": 0.05931,
     "end_time": "2022-12-20T17:23:19.014164",
     "exception": false,
     "start_time": "2022-12-20T17:23:18.954854",
     "status": "completed"
    },
    "tags": []
   },
   "outputs": [],
   "source": [
    "teste_adult.drop('race', axis=1, inplace=True)\n",
    "treino_adult.drop('race', axis=1, inplace=True)"
   ]
  },
  {
   "cell_type": "code",
   "execution_count": 43,
   "id": "332723ab",
   "metadata": {
    "execution": {
     "iopub.execute_input": "2022-12-20T17:23:19.102787Z",
     "iopub.status.busy": "2022-12-20T17:23:19.102351Z",
     "iopub.status.idle": "2022-12-20T17:23:19.129351Z",
     "shell.execute_reply": "2022-12-20T17:23:19.128114Z"
    },
    "papermill": {
     "duration": 0.074748,
     "end_time": "2022-12-20T17:23:19.131858",
     "exception": false,
     "start_time": "2022-12-20T17:23:19.057110",
     "status": "completed"
    },
    "tags": []
   },
   "outputs": [
    {
     "data": {
      "text/html": [
       "<div>\n",
       "<style scoped>\n",
       "    .dataframe tbody tr th:only-of-type {\n",
       "        vertical-align: middle;\n",
       "    }\n",
       "\n",
       "    .dataframe tbody tr th {\n",
       "        vertical-align: top;\n",
       "    }\n",
       "\n",
       "    .dataframe thead th {\n",
       "        text-align: right;\n",
       "    }\n",
       "</style>\n",
       "<table border=\"1\" class=\"dataframe\">\n",
       "  <thead>\n",
       "    <tr style=\"text-align: right;\">\n",
       "      <th></th>\n",
       "      <th>Id</th>\n",
       "      <th>age</th>\n",
       "      <th>workclass</th>\n",
       "      <th>fnlwgt</th>\n",
       "      <th>education.num</th>\n",
       "      <th>marital.status</th>\n",
       "      <th>occupation</th>\n",
       "      <th>relationship</th>\n",
       "      <th>sex</th>\n",
       "      <th>capital.gain</th>\n",
       "      <th>capital.loss</th>\n",
       "      <th>hours.per.week</th>\n",
       "      <th>native.country</th>\n",
       "      <th>income</th>\n",
       "      <th>Amer-Indian-Eskimo</th>\n",
       "      <th>Asian-Pac-Islander</th>\n",
       "      <th>Black</th>\n",
       "      <th>Other</th>\n",
       "      <th>White</th>\n",
       "    </tr>\n",
       "  </thead>\n",
       "  <tbody>\n",
       "    <tr>\n",
       "      <th>0</th>\n",
       "      <td>16280</td>\n",
       "      <td>34</td>\n",
       "      <td>0.5</td>\n",
       "      <td>204991</td>\n",
       "      <td>10</td>\n",
       "      <td>0</td>\n",
       "      <td>Exec-managerial</td>\n",
       "      <td>Own-child</td>\n",
       "      <td>0</td>\n",
       "      <td>0</td>\n",
       "      <td>0</td>\n",
       "      <td>44</td>\n",
       "      <td>1</td>\n",
       "      <td>&lt;=50K</td>\n",
       "      <td>0</td>\n",
       "      <td>0</td>\n",
       "      <td>0</td>\n",
       "      <td>0</td>\n",
       "      <td>1</td>\n",
       "    </tr>\n",
       "    <tr>\n",
       "      <th>1</th>\n",
       "      <td>16281</td>\n",
       "      <td>58</td>\n",
       "      <td>0</td>\n",
       "      <td>310085</td>\n",
       "      <td>6</td>\n",
       "      <td>1</td>\n",
       "      <td>Transport-moving</td>\n",
       "      <td>Husband</td>\n",
       "      <td>0</td>\n",
       "      <td>0</td>\n",
       "      <td>0</td>\n",
       "      <td>40</td>\n",
       "      <td>1</td>\n",
       "      <td>&lt;=50K</td>\n",
       "      <td>0</td>\n",
       "      <td>0</td>\n",
       "      <td>0</td>\n",
       "      <td>0</td>\n",
       "      <td>1</td>\n",
       "    </tr>\n",
       "    <tr>\n",
       "      <th>2</th>\n",
       "      <td>16282</td>\n",
       "      <td>25</td>\n",
       "      <td>0.5</td>\n",
       "      <td>146117</td>\n",
       "      <td>10</td>\n",
       "      <td>0.5</td>\n",
       "      <td>Machine-op-inspct</td>\n",
       "      <td>Not-in-family</td>\n",
       "      <td>0</td>\n",
       "      <td>0</td>\n",
       "      <td>0</td>\n",
       "      <td>42</td>\n",
       "      <td>1</td>\n",
       "      <td>&lt;=50K</td>\n",
       "      <td>0</td>\n",
       "      <td>0</td>\n",
       "      <td>0</td>\n",
       "      <td>0</td>\n",
       "      <td>1</td>\n",
       "    </tr>\n",
       "    <tr>\n",
       "      <th>3</th>\n",
       "      <td>16283</td>\n",
       "      <td>24</td>\n",
       "      <td>0.5</td>\n",
       "      <td>138938</td>\n",
       "      <td>10</td>\n",
       "      <td>0</td>\n",
       "      <td>Adm-clerical</td>\n",
       "      <td>Not-in-family</td>\n",
       "      <td>1</td>\n",
       "      <td>0</td>\n",
       "      <td>0</td>\n",
       "      <td>40</td>\n",
       "      <td>1</td>\n",
       "      <td>&lt;=50K</td>\n",
       "      <td>0</td>\n",
       "      <td>0</td>\n",
       "      <td>0</td>\n",
       "      <td>0</td>\n",
       "      <td>1</td>\n",
       "    </tr>\n",
       "    <tr>\n",
       "      <th>4</th>\n",
       "      <td>16284</td>\n",
       "      <td>57</td>\n",
       "      <td>1</td>\n",
       "      <td>258883</td>\n",
       "      <td>9</td>\n",
       "      <td>1</td>\n",
       "      <td>Transport-moving</td>\n",
       "      <td>Husband</td>\n",
       "      <td>0</td>\n",
       "      <td>5178</td>\n",
       "      <td>0</td>\n",
       "      <td>60</td>\n",
       "      <td>0</td>\n",
       "      <td>&gt;50K</td>\n",
       "      <td>0</td>\n",
       "      <td>0</td>\n",
       "      <td>0</td>\n",
       "      <td>0</td>\n",
       "      <td>1</td>\n",
       "    </tr>\n",
       "    <tr>\n",
       "      <th>...</th>\n",
       "      <td>...</td>\n",
       "      <td>...</td>\n",
       "      <td>...</td>\n",
       "      <td>...</td>\n",
       "      <td>...</td>\n",
       "      <td>...</td>\n",
       "      <td>...</td>\n",
       "      <td>...</td>\n",
       "      <td>...</td>\n",
       "      <td>...</td>\n",
       "      <td>...</td>\n",
       "      <td>...</td>\n",
       "      <td>...</td>\n",
       "      <td>...</td>\n",
       "      <td>...</td>\n",
       "      <td>...</td>\n",
       "      <td>...</td>\n",
       "      <td>...</td>\n",
       "      <td>...</td>\n",
       "    </tr>\n",
       "    <tr>\n",
       "      <th>32555</th>\n",
       "      <td>48835</td>\n",
       "      <td>42</td>\n",
       "      <td>0.5</td>\n",
       "      <td>384236</td>\n",
       "      <td>14</td>\n",
       "      <td>1</td>\n",
       "      <td>Prof-specialty</td>\n",
       "      <td>Husband</td>\n",
       "      <td>0</td>\n",
       "      <td>7688</td>\n",
       "      <td>0</td>\n",
       "      <td>40</td>\n",
       "      <td>1</td>\n",
       "      <td>&gt;50K</td>\n",
       "      <td>0</td>\n",
       "      <td>0</td>\n",
       "      <td>0</td>\n",
       "      <td>0</td>\n",
       "      <td>1</td>\n",
       "    </tr>\n",
       "    <tr>\n",
       "      <th>32556</th>\n",
       "      <td>48836</td>\n",
       "      <td>23</td>\n",
       "      <td>0.5</td>\n",
       "      <td>129042</td>\n",
       "      <td>9</td>\n",
       "      <td>0.5</td>\n",
       "      <td>Machine-op-inspct</td>\n",
       "      <td>Unmarried</td>\n",
       "      <td>1</td>\n",
       "      <td>0</td>\n",
       "      <td>0</td>\n",
       "      <td>40</td>\n",
       "      <td>1</td>\n",
       "      <td>&lt;=50K</td>\n",
       "      <td>0</td>\n",
       "      <td>0</td>\n",
       "      <td>1</td>\n",
       "      <td>0</td>\n",
       "      <td>0</td>\n",
       "    </tr>\n",
       "    <tr>\n",
       "      <th>32557</th>\n",
       "      <td>48837</td>\n",
       "      <td>30</td>\n",
       "      <td>0.5</td>\n",
       "      <td>195488</td>\n",
       "      <td>9</td>\n",
       "      <td>0.5</td>\n",
       "      <td>Priv-house-serv</td>\n",
       "      <td>Own-child</td>\n",
       "      <td>1</td>\n",
       "      <td>0</td>\n",
       "      <td>0</td>\n",
       "      <td>40</td>\n",
       "      <td>0</td>\n",
       "      <td>&lt;=50K</td>\n",
       "      <td>0</td>\n",
       "      <td>0</td>\n",
       "      <td>0</td>\n",
       "      <td>0</td>\n",
       "      <td>1</td>\n",
       "    </tr>\n",
       "    <tr>\n",
       "      <th>32558</th>\n",
       "      <td>48838</td>\n",
       "      <td>18</td>\n",
       "      <td>0.5</td>\n",
       "      <td>27620</td>\n",
       "      <td>9</td>\n",
       "      <td>0.5</td>\n",
       "      <td>Adm-clerical</td>\n",
       "      <td>Not-in-family</td>\n",
       "      <td>1</td>\n",
       "      <td>0</td>\n",
       "      <td>0</td>\n",
       "      <td>25</td>\n",
       "      <td>1</td>\n",
       "      <td>&lt;=50K</td>\n",
       "      <td>0</td>\n",
       "      <td>0</td>\n",
       "      <td>0</td>\n",
       "      <td>0</td>\n",
       "      <td>1</td>\n",
       "    </tr>\n",
       "    <tr>\n",
       "      <th>32559</th>\n",
       "      <td>48839</td>\n",
       "      <td>47</td>\n",
       "      <td>0</td>\n",
       "      <td>203067</td>\n",
       "      <td>13</td>\n",
       "      <td>0</td>\n",
       "      <td>Prof-specialty</td>\n",
       "      <td>Not-in-family</td>\n",
       "      <td>0</td>\n",
       "      <td>0</td>\n",
       "      <td>0</td>\n",
       "      <td>50</td>\n",
       "      <td>1</td>\n",
       "      <td>&lt;=50K</td>\n",
       "      <td>0</td>\n",
       "      <td>0</td>\n",
       "      <td>0</td>\n",
       "      <td>0</td>\n",
       "      <td>1</td>\n",
       "    </tr>\n",
       "  </tbody>\n",
       "</table>\n",
       "<p>32560 rows × 19 columns</p>\n",
       "</div>"
      ],
      "text/plain": [
       "          Id  age workclass  fnlwgt  education.num marital.status  \\\n",
       "0      16280   34       0.5  204991             10              0   \n",
       "1      16281   58         0  310085              6              1   \n",
       "2      16282   25       0.5  146117             10            0.5   \n",
       "3      16283   24       0.5  138938             10              0   \n",
       "4      16284   57         1  258883              9              1   \n",
       "...      ...  ...       ...     ...            ...            ...   \n",
       "32555  48835   42       0.5  384236             14              1   \n",
       "32556  48836   23       0.5  129042              9            0.5   \n",
       "32557  48837   30       0.5  195488              9            0.5   \n",
       "32558  48838   18       0.5   27620              9            0.5   \n",
       "32559  48839   47         0  203067             13              0   \n",
       "\n",
       "              occupation   relationship sex  capital.gain  capital.loss  \\\n",
       "0        Exec-managerial      Own-child   0             0             0   \n",
       "1       Transport-moving        Husband   0             0             0   \n",
       "2      Machine-op-inspct  Not-in-family   0             0             0   \n",
       "3           Adm-clerical  Not-in-family   1             0             0   \n",
       "4       Transport-moving        Husband   0          5178             0   \n",
       "...                  ...            ...  ..           ...           ...   \n",
       "32555     Prof-specialty        Husband   0          7688             0   \n",
       "32556  Machine-op-inspct      Unmarried   1             0             0   \n",
       "32557    Priv-house-serv      Own-child   1             0             0   \n",
       "32558       Adm-clerical  Not-in-family   1             0             0   \n",
       "32559     Prof-specialty  Not-in-family   0             0             0   \n",
       "\n",
       "       hours.per.week native.country income  Amer-Indian-Eskimo  \\\n",
       "0                  44              1  <=50K                   0   \n",
       "1                  40              1  <=50K                   0   \n",
       "2                  42              1  <=50K                   0   \n",
       "3                  40              1  <=50K                   0   \n",
       "4                  60              0   >50K                   0   \n",
       "...               ...            ...    ...                 ...   \n",
       "32555              40              1   >50K                   0   \n",
       "32556              40              1  <=50K                   0   \n",
       "32557              40              0  <=50K                   0   \n",
       "32558              25              1  <=50K                   0   \n",
       "32559              50              1  <=50K                   0   \n",
       "\n",
       "       Asian-Pac-Islander  Black  Other  White  \n",
       "0                       0      0      0      1  \n",
       "1                       0      0      0      1  \n",
       "2                       0      0      0      1  \n",
       "3                       0      0      0      1  \n",
       "4                       0      0      0      1  \n",
       "...                   ...    ...    ...    ...  \n",
       "32555                   0      0      0      1  \n",
       "32556                   0      1      0      0  \n",
       "32557                   0      0      0      1  \n",
       "32558                   0      0      0      1  \n",
       "32559                   0      0      0      1  \n",
       "\n",
       "[32560 rows x 19 columns]"
      ]
     },
     "execution_count": 43,
     "metadata": {},
     "output_type": "execute_result"
    }
   ],
   "source": [
    "treino_adult"
   ]
  },
  {
   "cell_type": "code",
   "execution_count": 44,
   "id": "acebb7e4",
   "metadata": {
    "execution": {
     "iopub.execute_input": "2022-12-20T17:23:19.221696Z",
     "iopub.status.busy": "2022-12-20T17:23:19.221049Z",
     "iopub.status.idle": "2022-12-20T17:23:19.244985Z",
     "shell.execute_reply": "2022-12-20T17:23:19.243718Z"
    },
    "papermill": {
     "duration": 0.072223,
     "end_time": "2022-12-20T17:23:19.247702",
     "exception": false,
     "start_time": "2022-12-20T17:23:19.175479",
     "status": "completed"
    },
    "tags": []
   },
   "outputs": [
    {
     "data": {
      "text/html": [
       "<div>\n",
       "<style scoped>\n",
       "    .dataframe tbody tr th:only-of-type {\n",
       "        vertical-align: middle;\n",
       "    }\n",
       "\n",
       "    .dataframe tbody tr th {\n",
       "        vertical-align: top;\n",
       "    }\n",
       "\n",
       "    .dataframe thead th {\n",
       "        text-align: right;\n",
       "    }\n",
       "</style>\n",
       "<table border=\"1\" class=\"dataframe\">\n",
       "  <thead>\n",
       "    <tr style=\"text-align: right;\">\n",
       "      <th></th>\n",
       "      <th>Id</th>\n",
       "      <th>age</th>\n",
       "      <th>workclass</th>\n",
       "      <th>fnlwgt</th>\n",
       "      <th>education.num</th>\n",
       "      <th>marital.status</th>\n",
       "      <th>occupation</th>\n",
       "      <th>relationship</th>\n",
       "      <th>sex</th>\n",
       "      <th>capital.gain</th>\n",
       "      <th>capital.loss</th>\n",
       "      <th>hours.per.week</th>\n",
       "      <th>native.country</th>\n",
       "      <th>Amer-Indian-Eskimo</th>\n",
       "      <th>Asian-Pac-Islander</th>\n",
       "      <th>Black</th>\n",
       "      <th>Other</th>\n",
       "      <th>White</th>\n",
       "    </tr>\n",
       "  </thead>\n",
       "  <tbody>\n",
       "    <tr>\n",
       "      <th>0</th>\n",
       "      <td>0</td>\n",
       "      <td>25</td>\n",
       "      <td>0.5</td>\n",
       "      <td>120596</td>\n",
       "      <td>13</td>\n",
       "      <td>0.5</td>\n",
       "      <td>Prof-specialty</td>\n",
       "      <td>Not-in-family</td>\n",
       "      <td>0</td>\n",
       "      <td>0</td>\n",
       "      <td>0</td>\n",
       "      <td>44</td>\n",
       "      <td>1</td>\n",
       "      <td>0</td>\n",
       "      <td>0</td>\n",
       "      <td>0</td>\n",
       "      <td>0</td>\n",
       "      <td>1</td>\n",
       "    </tr>\n",
       "    <tr>\n",
       "      <th>1</th>\n",
       "      <td>1</td>\n",
       "      <td>64</td>\n",
       "      <td>0</td>\n",
       "      <td>152537</td>\n",
       "      <td>13</td>\n",
       "      <td>1</td>\n",
       "      <td>Exec-managerial</td>\n",
       "      <td>Husband</td>\n",
       "      <td>0</td>\n",
       "      <td>0</td>\n",
       "      <td>0</td>\n",
       "      <td>45</td>\n",
       "      <td>1</td>\n",
       "      <td>0</td>\n",
       "      <td>0</td>\n",
       "      <td>0</td>\n",
       "      <td>0</td>\n",
       "      <td>1</td>\n",
       "    </tr>\n",
       "    <tr>\n",
       "      <th>2</th>\n",
       "      <td>2</td>\n",
       "      <td>31</td>\n",
       "      <td>0.5</td>\n",
       "      <td>100135</td>\n",
       "      <td>14</td>\n",
       "      <td>0</td>\n",
       "      <td>Exec-managerial</td>\n",
       "      <td>Not-in-family</td>\n",
       "      <td>1</td>\n",
       "      <td>0</td>\n",
       "      <td>0</td>\n",
       "      <td>40</td>\n",
       "      <td>1</td>\n",
       "      <td>0</td>\n",
       "      <td>0</td>\n",
       "      <td>0</td>\n",
       "      <td>0</td>\n",
       "      <td>1</td>\n",
       "    </tr>\n",
       "    <tr>\n",
       "      <th>3</th>\n",
       "      <td>3</td>\n",
       "      <td>45</td>\n",
       "      <td>0.5</td>\n",
       "      <td>189123</td>\n",
       "      <td>9</td>\n",
       "      <td>0.5</td>\n",
       "      <td>Machine-op-inspct</td>\n",
       "      <td>Own-child</td>\n",
       "      <td>0</td>\n",
       "      <td>0</td>\n",
       "      <td>0</td>\n",
       "      <td>40</td>\n",
       "      <td>1</td>\n",
       "      <td>0</td>\n",
       "      <td>0</td>\n",
       "      <td>0</td>\n",
       "      <td>0</td>\n",
       "      <td>1</td>\n",
       "    </tr>\n",
       "    <tr>\n",
       "      <th>4</th>\n",
       "      <td>4</td>\n",
       "      <td>64</td>\n",
       "      <td>1</td>\n",
       "      <td>487751</td>\n",
       "      <td>13</td>\n",
       "      <td>1</td>\n",
       "      <td>Exec-managerial</td>\n",
       "      <td>Husband</td>\n",
       "      <td>0</td>\n",
       "      <td>0</td>\n",
       "      <td>0</td>\n",
       "      <td>50</td>\n",
       "      <td>1</td>\n",
       "      <td>0</td>\n",
       "      <td>0</td>\n",
       "      <td>0</td>\n",
       "      <td>0</td>\n",
       "      <td>1</td>\n",
       "    </tr>\n",
       "    <tr>\n",
       "      <th>...</th>\n",
       "      <td>...</td>\n",
       "      <td>...</td>\n",
       "      <td>...</td>\n",
       "      <td>...</td>\n",
       "      <td>...</td>\n",
       "      <td>...</td>\n",
       "      <td>...</td>\n",
       "      <td>...</td>\n",
       "      <td>...</td>\n",
       "      <td>...</td>\n",
       "      <td>...</td>\n",
       "      <td>...</td>\n",
       "      <td>...</td>\n",
       "      <td>...</td>\n",
       "      <td>...</td>\n",
       "      <td>...</td>\n",
       "      <td>...</td>\n",
       "      <td>...</td>\n",
       "    </tr>\n",
       "    <tr>\n",
       "      <th>16275</th>\n",
       "      <td>16275</td>\n",
       "      <td>40</td>\n",
       "      <td>0.5</td>\n",
       "      <td>168113</td>\n",
       "      <td>9</td>\n",
       "      <td>1</td>\n",
       "      <td>Craft-repair</td>\n",
       "      <td>Husband</td>\n",
       "      <td>0</td>\n",
       "      <td>0</td>\n",
       "      <td>0</td>\n",
       "      <td>40</td>\n",
       "      <td>1</td>\n",
       "      <td>0</td>\n",
       "      <td>0</td>\n",
       "      <td>0</td>\n",
       "      <td>0</td>\n",
       "      <td>1</td>\n",
       "    </tr>\n",
       "    <tr>\n",
       "      <th>16276</th>\n",
       "      <td>16276</td>\n",
       "      <td>30</td>\n",
       "      <td>0</td>\n",
       "      <td>327203</td>\n",
       "      <td>9</td>\n",
       "      <td>1</td>\n",
       "      <td>Other-service</td>\n",
       "      <td>Husband</td>\n",
       "      <td>0</td>\n",
       "      <td>0</td>\n",
       "      <td>0</td>\n",
       "      <td>40</td>\n",
       "      <td>1</td>\n",
       "      <td>0</td>\n",
       "      <td>0</td>\n",
       "      <td>0</td>\n",
       "      <td>0</td>\n",
       "      <td>1</td>\n",
       "    </tr>\n",
       "    <tr>\n",
       "      <th>16277</th>\n",
       "      <td>16277</td>\n",
       "      <td>25</td>\n",
       "      <td>0.5</td>\n",
       "      <td>116358</td>\n",
       "      <td>9</td>\n",
       "      <td>0.5</td>\n",
       "      <td>Adm-clerical</td>\n",
       "      <td>Own-child</td>\n",
       "      <td>0</td>\n",
       "      <td>0</td>\n",
       "      <td>0</td>\n",
       "      <td>40</td>\n",
       "      <td>0</td>\n",
       "      <td>0</td>\n",
       "      <td>1</td>\n",
       "      <td>0</td>\n",
       "      <td>0</td>\n",
       "      <td>0</td>\n",
       "    </tr>\n",
       "    <tr>\n",
       "      <th>16278</th>\n",
       "      <td>16278</td>\n",
       "      <td>60</td>\n",
       "      <td>0.5</td>\n",
       "      <td>39263</td>\n",
       "      <td>14</td>\n",
       "      <td>0.5</td>\n",
       "      <td>Exec-managerial</td>\n",
       "      <td>Not-in-family</td>\n",
       "      <td>1</td>\n",
       "      <td>3325</td>\n",
       "      <td>0</td>\n",
       "      <td>35</td>\n",
       "      <td>1</td>\n",
       "      <td>0</td>\n",
       "      <td>0</td>\n",
       "      <td>0</td>\n",
       "      <td>0</td>\n",
       "      <td>1</td>\n",
       "    </tr>\n",
       "    <tr>\n",
       "      <th>16279</th>\n",
       "      <td>16279</td>\n",
       "      <td>49</td>\n",
       "      <td>0.5</td>\n",
       "      <td>182862</td>\n",
       "      <td>10</td>\n",
       "      <td>1</td>\n",
       "      <td>Craft-repair</td>\n",
       "      <td>Husband</td>\n",
       "      <td>0</td>\n",
       "      <td>7688</td>\n",
       "      <td>0</td>\n",
       "      <td>40</td>\n",
       "      <td>1</td>\n",
       "      <td>0</td>\n",
       "      <td>0</td>\n",
       "      <td>0</td>\n",
       "      <td>0</td>\n",
       "      <td>1</td>\n",
       "    </tr>\n",
       "  </tbody>\n",
       "</table>\n",
       "<p>16280 rows × 18 columns</p>\n",
       "</div>"
      ],
      "text/plain": [
       "          Id  age workclass  fnlwgt  education.num marital.status  \\\n",
       "0          0   25       0.5  120596             13            0.5   \n",
       "1          1   64         0  152537             13              1   \n",
       "2          2   31       0.5  100135             14              0   \n",
       "3          3   45       0.5  189123              9            0.5   \n",
       "4          4   64         1  487751             13              1   \n",
       "...      ...  ...       ...     ...            ...            ...   \n",
       "16275  16275   40       0.5  168113              9              1   \n",
       "16276  16276   30         0  327203              9              1   \n",
       "16277  16277   25       0.5  116358              9            0.5   \n",
       "16278  16278   60       0.5   39263             14            0.5   \n",
       "16279  16279   49       0.5  182862             10              1   \n",
       "\n",
       "              occupation   relationship sex  capital.gain  capital.loss  \\\n",
       "0         Prof-specialty  Not-in-family   0             0             0   \n",
       "1        Exec-managerial        Husband   0             0             0   \n",
       "2        Exec-managerial  Not-in-family   1             0             0   \n",
       "3      Machine-op-inspct      Own-child   0             0             0   \n",
       "4        Exec-managerial        Husband   0             0             0   \n",
       "...                  ...            ...  ..           ...           ...   \n",
       "16275       Craft-repair        Husband   0             0             0   \n",
       "16276      Other-service        Husband   0             0             0   \n",
       "16277       Adm-clerical      Own-child   0             0             0   \n",
       "16278    Exec-managerial  Not-in-family   1          3325             0   \n",
       "16279       Craft-repair        Husband   0          7688             0   \n",
       "\n",
       "       hours.per.week native.country  Amer-Indian-Eskimo  Asian-Pac-Islander  \\\n",
       "0                  44              1                   0                   0   \n",
       "1                  45              1                   0                   0   \n",
       "2                  40              1                   0                   0   \n",
       "3                  40              1                   0                   0   \n",
       "4                  50              1                   0                   0   \n",
       "...               ...            ...                 ...                 ...   \n",
       "16275              40              1                   0                   0   \n",
       "16276              40              1                   0                   0   \n",
       "16277              40              0                   0                   1   \n",
       "16278              35              1                   0                   0   \n",
       "16279              40              1                   0                   0   \n",
       "\n",
       "       Black  Other  White  \n",
       "0          0      0      1  \n",
       "1          0      0      1  \n",
       "2          0      0      1  \n",
       "3          0      0      1  \n",
       "4          0      0      1  \n",
       "...      ...    ...    ...  \n",
       "16275      0      0      1  \n",
       "16276      0      0      1  \n",
       "16277      0      0      0  \n",
       "16278      0      0      1  \n",
       "16279      0      0      1  \n",
       "\n",
       "[16280 rows x 18 columns]"
      ]
     },
     "execution_count": 44,
     "metadata": {},
     "output_type": "execute_result"
    }
   ],
   "source": [
    "teste_adult"
   ]
  },
  {
   "cell_type": "markdown",
   "id": "d5cfe884",
   "metadata": {
    "papermill": {
     "duration": 0.04293,
     "end_time": "2022-12-20T17:23:19.333941",
     "exception": false,
     "start_time": "2022-12-20T17:23:19.291011",
     "status": "completed"
    },
    "tags": []
   },
   "source": [
    "Passemos a normalizar os dados, primeiro da base de teste:"
   ]
  },
  {
   "cell_type": "code",
   "execution_count": 45,
   "id": "0de46c8d",
   "metadata": {
    "execution": {
     "iopub.execute_input": "2022-12-20T17:23:19.422333Z",
     "iopub.status.busy": "2022-12-20T17:23:19.421927Z",
     "iopub.status.idle": "2022-12-20T17:23:19.455718Z",
     "shell.execute_reply": "2022-12-20T17:23:19.454323Z"
    },
    "papermill": {
     "duration": 0.081047,
     "end_time": "2022-12-20T17:23:19.458397",
     "exception": false,
     "start_time": "2022-12-20T17:23:19.377350",
     "status": "completed"
    },
    "tags": []
   },
   "outputs": [],
   "source": [
    "teste_adult['age'] = (teste_adult['age'] - min(teste_adult['age'])) / (max(teste_adult['age']) - min(teste_adult['age']))\n",
    "teste_adult['education.num'] = (teste_adult['education.num'] - min(teste_adult['education.num'])) / (max(teste_adult['education.num']) - min(teste_adult['education.num']))\n",
    "teste_adult['fnlwgt'] = (teste_adult['fnlwgt'] - min(teste_adult['fnlwgt'])) / (max(teste_adult['fnlwgt']) - min(teste_adult['fnlwgt']))\n",
    "teste_adult['hours.per.week'] = (teste_adult['hours.per.week'] - min(teste_adult['hours.per.week'])) / (max(teste_adult['hours.per.week']) - min(teste_adult['hours.per.week']))\n"
   ]
  },
  {
   "cell_type": "markdown",
   "id": "6f1436dc",
   "metadata": {
    "papermill": {
     "duration": 0.043198,
     "end_time": "2022-12-20T17:23:19.545033",
     "exception": false,
     "start_time": "2022-12-20T17:23:19.501835",
     "status": "completed"
    },
    "tags": []
   },
   "source": [
    "Depois da base de treino:"
   ]
  },
  {
   "cell_type": "code",
   "execution_count": 46,
   "id": "58f54435",
   "metadata": {
    "execution": {
     "iopub.execute_input": "2022-12-20T17:23:19.633774Z",
     "iopub.status.busy": "2022-12-20T17:23:19.633313Z",
     "iopub.status.idle": "2022-12-20T17:23:19.686742Z",
     "shell.execute_reply": "2022-12-20T17:23:19.685747Z"
    },
    "papermill": {
     "duration": 0.101159,
     "end_time": "2022-12-20T17:23:19.689311",
     "exception": false,
     "start_time": "2022-12-20T17:23:19.588152",
     "status": "completed"
    },
    "tags": []
   },
   "outputs": [],
   "source": [
    "treino_adult['age'] = (treino_adult['age'] - min(treino_adult['age'])) / (max(treino_adult['age']) - min(treino_adult['age']))\n",
    "treino_adult['education.num'] = (treino_adult['education.num'] - min(treino_adult['education.num'])) / (max(treino_adult['education.num']) - min(treino_adult['education.num']))\n",
    "treino_adult['fnlwgt'] = (treino_adult['fnlwgt'] - min(treino_adult['fnlwgt'])) / (max(treino_adult['fnlwgt']) - min(treino_adult['fnlwgt']))\n",
    "treino_adult['hours.per.week'] = (treino_adult['hours.per.week'] - min(treino_adult['hours.per.week'])) / (max(treino_adult['hours.per.week']) - min(treino_adult['hours.per.week']))\n"
   ]
  },
  {
   "cell_type": "code",
   "execution_count": 47,
   "id": "4108652f",
   "metadata": {
    "execution": {
     "iopub.execute_input": "2022-12-20T17:23:19.835430Z",
     "iopub.status.busy": "2022-12-20T17:23:19.834722Z",
     "iopub.status.idle": "2022-12-20T17:23:19.861618Z",
     "shell.execute_reply": "2022-12-20T17:23:19.860611Z"
    },
    "papermill": {
     "duration": 0.074382,
     "end_time": "2022-12-20T17:23:19.864154",
     "exception": false,
     "start_time": "2022-12-20T17:23:19.789772",
     "status": "completed"
    },
    "tags": []
   },
   "outputs": [
    {
     "data": {
      "text/html": [
       "<div>\n",
       "<style scoped>\n",
       "    .dataframe tbody tr th:only-of-type {\n",
       "        vertical-align: middle;\n",
       "    }\n",
       "\n",
       "    .dataframe tbody tr th {\n",
       "        vertical-align: top;\n",
       "    }\n",
       "\n",
       "    .dataframe thead th {\n",
       "        text-align: right;\n",
       "    }\n",
       "</style>\n",
       "<table border=\"1\" class=\"dataframe\">\n",
       "  <thead>\n",
       "    <tr style=\"text-align: right;\">\n",
       "      <th></th>\n",
       "      <th>Id</th>\n",
       "      <th>age</th>\n",
       "      <th>workclass</th>\n",
       "      <th>fnlwgt</th>\n",
       "      <th>education.num</th>\n",
       "      <th>marital.status</th>\n",
       "      <th>occupation</th>\n",
       "      <th>relationship</th>\n",
       "      <th>sex</th>\n",
       "      <th>capital.gain</th>\n",
       "      <th>capital.loss</th>\n",
       "      <th>hours.per.week</th>\n",
       "      <th>native.country</th>\n",
       "      <th>Amer-Indian-Eskimo</th>\n",
       "      <th>Asian-Pac-Islander</th>\n",
       "      <th>Black</th>\n",
       "      <th>Other</th>\n",
       "      <th>White</th>\n",
       "    </tr>\n",
       "  </thead>\n",
       "  <tbody>\n",
       "    <tr>\n",
       "      <th>0</th>\n",
       "      <td>0</td>\n",
       "      <td>0.109589</td>\n",
       "      <td>0.5</td>\n",
       "      <td>0.072519</td>\n",
       "      <td>0.800000</td>\n",
       "      <td>0.5</td>\n",
       "      <td>Prof-specialty</td>\n",
       "      <td>Not-in-family</td>\n",
       "      <td>0</td>\n",
       "      <td>0</td>\n",
       "      <td>0</td>\n",
       "      <td>0.438776</td>\n",
       "      <td>1</td>\n",
       "      <td>0</td>\n",
       "      <td>0</td>\n",
       "      <td>0</td>\n",
       "      <td>0</td>\n",
       "      <td>1</td>\n",
       "    </tr>\n",
       "    <tr>\n",
       "      <th>1</th>\n",
       "      <td>1</td>\n",
       "      <td>0.643836</td>\n",
       "      <td>0</td>\n",
       "      <td>0.094146</td>\n",
       "      <td>0.800000</td>\n",
       "      <td>1</td>\n",
       "      <td>Exec-managerial</td>\n",
       "      <td>Husband</td>\n",
       "      <td>0</td>\n",
       "      <td>0</td>\n",
       "      <td>0</td>\n",
       "      <td>0.448980</td>\n",
       "      <td>1</td>\n",
       "      <td>0</td>\n",
       "      <td>0</td>\n",
       "      <td>0</td>\n",
       "      <td>0</td>\n",
       "      <td>1</td>\n",
       "    </tr>\n",
       "    <tr>\n",
       "      <th>2</th>\n",
       "      <td>2</td>\n",
       "      <td>0.191781</td>\n",
       "      <td>0.5</td>\n",
       "      <td>0.058665</td>\n",
       "      <td>0.866667</td>\n",
       "      <td>0</td>\n",
       "      <td>Exec-managerial</td>\n",
       "      <td>Not-in-family</td>\n",
       "      <td>1</td>\n",
       "      <td>0</td>\n",
       "      <td>0</td>\n",
       "      <td>0.397959</td>\n",
       "      <td>1</td>\n",
       "      <td>0</td>\n",
       "      <td>0</td>\n",
       "      <td>0</td>\n",
       "      <td>0</td>\n",
       "      <td>1</td>\n",
       "    </tr>\n",
       "    <tr>\n",
       "      <th>3</th>\n",
       "      <td>3</td>\n",
       "      <td>0.383562</td>\n",
       "      <td>0.5</td>\n",
       "      <td>0.118918</td>\n",
       "      <td>0.533333</td>\n",
       "      <td>0.5</td>\n",
       "      <td>Machine-op-inspct</td>\n",
       "      <td>Own-child</td>\n",
       "      <td>0</td>\n",
       "      <td>0</td>\n",
       "      <td>0</td>\n",
       "      <td>0.397959</td>\n",
       "      <td>1</td>\n",
       "      <td>0</td>\n",
       "      <td>0</td>\n",
       "      <td>0</td>\n",
       "      <td>0</td>\n",
       "      <td>1</td>\n",
       "    </tr>\n",
       "    <tr>\n",
       "      <th>4</th>\n",
       "      <td>4</td>\n",
       "      <td>0.643836</td>\n",
       "      <td>1</td>\n",
       "      <td>0.321116</td>\n",
       "      <td>0.800000</td>\n",
       "      <td>1</td>\n",
       "      <td>Exec-managerial</td>\n",
       "      <td>Husband</td>\n",
       "      <td>0</td>\n",
       "      <td>0</td>\n",
       "      <td>0</td>\n",
       "      <td>0.500000</td>\n",
       "      <td>1</td>\n",
       "      <td>0</td>\n",
       "      <td>0</td>\n",
       "      <td>0</td>\n",
       "      <td>0</td>\n",
       "      <td>1</td>\n",
       "    </tr>\n",
       "    <tr>\n",
       "      <th>...</th>\n",
       "      <td>...</td>\n",
       "      <td>...</td>\n",
       "      <td>...</td>\n",
       "      <td>...</td>\n",
       "      <td>...</td>\n",
       "      <td>...</td>\n",
       "      <td>...</td>\n",
       "      <td>...</td>\n",
       "      <td>...</td>\n",
       "      <td>...</td>\n",
       "      <td>...</td>\n",
       "      <td>...</td>\n",
       "      <td>...</td>\n",
       "      <td>...</td>\n",
       "      <td>...</td>\n",
       "      <td>...</td>\n",
       "      <td>...</td>\n",
       "      <td>...</td>\n",
       "    </tr>\n",
       "    <tr>\n",
       "      <th>16275</th>\n",
       "      <td>16275</td>\n",
       "      <td>0.315068</td>\n",
       "      <td>0.5</td>\n",
       "      <td>0.104692</td>\n",
       "      <td>0.533333</td>\n",
       "      <td>1</td>\n",
       "      <td>Craft-repair</td>\n",
       "      <td>Husband</td>\n",
       "      <td>0</td>\n",
       "      <td>0</td>\n",
       "      <td>0</td>\n",
       "      <td>0.397959</td>\n",
       "      <td>1</td>\n",
       "      <td>0</td>\n",
       "      <td>0</td>\n",
       "      <td>0</td>\n",
       "      <td>0</td>\n",
       "      <td>1</td>\n",
       "    </tr>\n",
       "    <tr>\n",
       "      <th>16276</th>\n",
       "      <td>16276</td>\n",
       "      <td>0.178082</td>\n",
       "      <td>0</td>\n",
       "      <td>0.212411</td>\n",
       "      <td>0.533333</td>\n",
       "      <td>1</td>\n",
       "      <td>Other-service</td>\n",
       "      <td>Husband</td>\n",
       "      <td>0</td>\n",
       "      <td>0</td>\n",
       "      <td>0</td>\n",
       "      <td>0.397959</td>\n",
       "      <td>1</td>\n",
       "      <td>0</td>\n",
       "      <td>0</td>\n",
       "      <td>0</td>\n",
       "      <td>0</td>\n",
       "      <td>1</td>\n",
       "    </tr>\n",
       "    <tr>\n",
       "      <th>16277</th>\n",
       "      <td>16277</td>\n",
       "      <td>0.109589</td>\n",
       "      <td>0.5</td>\n",
       "      <td>0.069650</td>\n",
       "      <td>0.533333</td>\n",
       "      <td>0.5</td>\n",
       "      <td>Adm-clerical</td>\n",
       "      <td>Own-child</td>\n",
       "      <td>0</td>\n",
       "      <td>0</td>\n",
       "      <td>0</td>\n",
       "      <td>0.397959</td>\n",
       "      <td>0</td>\n",
       "      <td>0</td>\n",
       "      <td>1</td>\n",
       "      <td>0</td>\n",
       "      <td>0</td>\n",
       "      <td>0</td>\n",
       "    </tr>\n",
       "    <tr>\n",
       "      <th>16278</th>\n",
       "      <td>16278</td>\n",
       "      <td>0.589041</td>\n",
       "      <td>0.5</td>\n",
       "      <td>0.017449</td>\n",
       "      <td>0.866667</td>\n",
       "      <td>0.5</td>\n",
       "      <td>Exec-managerial</td>\n",
       "      <td>Not-in-family</td>\n",
       "      <td>1</td>\n",
       "      <td>3325</td>\n",
       "      <td>0</td>\n",
       "      <td>0.346939</td>\n",
       "      <td>1</td>\n",
       "      <td>0</td>\n",
       "      <td>0</td>\n",
       "      <td>0</td>\n",
       "      <td>0</td>\n",
       "      <td>1</td>\n",
       "    </tr>\n",
       "    <tr>\n",
       "      <th>16279</th>\n",
       "      <td>16279</td>\n",
       "      <td>0.438356</td>\n",
       "      <td>0.5</td>\n",
       "      <td>0.114679</td>\n",
       "      <td>0.600000</td>\n",
       "      <td>1</td>\n",
       "      <td>Craft-repair</td>\n",
       "      <td>Husband</td>\n",
       "      <td>0</td>\n",
       "      <td>7688</td>\n",
       "      <td>0</td>\n",
       "      <td>0.397959</td>\n",
       "      <td>1</td>\n",
       "      <td>0</td>\n",
       "      <td>0</td>\n",
       "      <td>0</td>\n",
       "      <td>0</td>\n",
       "      <td>1</td>\n",
       "    </tr>\n",
       "  </tbody>\n",
       "</table>\n",
       "<p>16280 rows × 18 columns</p>\n",
       "</div>"
      ],
      "text/plain": [
       "          Id       age workclass    fnlwgt  education.num marital.status  \\\n",
       "0          0  0.109589       0.5  0.072519       0.800000            0.5   \n",
       "1          1  0.643836         0  0.094146       0.800000              1   \n",
       "2          2  0.191781       0.5  0.058665       0.866667              0   \n",
       "3          3  0.383562       0.5  0.118918       0.533333            0.5   \n",
       "4          4  0.643836         1  0.321116       0.800000              1   \n",
       "...      ...       ...       ...       ...            ...            ...   \n",
       "16275  16275  0.315068       0.5  0.104692       0.533333              1   \n",
       "16276  16276  0.178082         0  0.212411       0.533333              1   \n",
       "16277  16277  0.109589       0.5  0.069650       0.533333            0.5   \n",
       "16278  16278  0.589041       0.5  0.017449       0.866667            0.5   \n",
       "16279  16279  0.438356       0.5  0.114679       0.600000              1   \n",
       "\n",
       "              occupation   relationship sex  capital.gain  capital.loss  \\\n",
       "0         Prof-specialty  Not-in-family   0             0             0   \n",
       "1        Exec-managerial        Husband   0             0             0   \n",
       "2        Exec-managerial  Not-in-family   1             0             0   \n",
       "3      Machine-op-inspct      Own-child   0             0             0   \n",
       "4        Exec-managerial        Husband   0             0             0   \n",
       "...                  ...            ...  ..           ...           ...   \n",
       "16275       Craft-repair        Husband   0             0             0   \n",
       "16276      Other-service        Husband   0             0             0   \n",
       "16277       Adm-clerical      Own-child   0             0             0   \n",
       "16278    Exec-managerial  Not-in-family   1          3325             0   \n",
       "16279       Craft-repair        Husband   0          7688             0   \n",
       "\n",
       "       hours.per.week native.country  Amer-Indian-Eskimo  Asian-Pac-Islander  \\\n",
       "0            0.438776              1                   0                   0   \n",
       "1            0.448980              1                   0                   0   \n",
       "2            0.397959              1                   0                   0   \n",
       "3            0.397959              1                   0                   0   \n",
       "4            0.500000              1                   0                   0   \n",
       "...               ...            ...                 ...                 ...   \n",
       "16275        0.397959              1                   0                   0   \n",
       "16276        0.397959              1                   0                   0   \n",
       "16277        0.397959              0                   0                   1   \n",
       "16278        0.346939              1                   0                   0   \n",
       "16279        0.397959              1                   0                   0   \n",
       "\n",
       "       Black  Other  White  \n",
       "0          0      0      1  \n",
       "1          0      0      1  \n",
       "2          0      0      1  \n",
       "3          0      0      1  \n",
       "4          0      0      1  \n",
       "...      ...    ...    ...  \n",
       "16275      0      0      1  \n",
       "16276      0      0      1  \n",
       "16277      0      0      0  \n",
       "16278      0      0      1  \n",
       "16279      0      0      1  \n",
       "\n",
       "[16280 rows x 18 columns]"
      ]
     },
     "execution_count": 47,
     "metadata": {},
     "output_type": "execute_result"
    }
   ],
   "source": [
    "teste_adult"
   ]
  },
  {
   "cell_type": "markdown",
   "id": "a5e743ed",
   "metadata": {
    "papermill": {
     "duration": 0.043207,
     "end_time": "2022-12-20T17:23:19.951256",
     "exception": false,
     "start_time": "2022-12-20T17:23:19.908049",
     "status": "completed"
    },
    "tags": []
   },
   "source": [
    "Vamos excluir as colunas que não usaremos ou que já tratamos:"
   ]
  },
  {
   "cell_type": "code",
   "execution_count": 48,
   "id": "93e2d8f6",
   "metadata": {
    "execution": {
     "iopub.execute_input": "2022-12-20T17:23:20.042563Z",
     "iopub.status.busy": "2022-12-20T17:23:20.041838Z",
     "iopub.status.idle": "2022-12-20T17:23:20.077334Z",
     "shell.execute_reply": "2022-12-20T17:23:20.076184Z"
    },
    "papermill": {
     "duration": 0.085165,
     "end_time": "2022-12-20T17:23:20.080245",
     "exception": false,
     "start_time": "2022-12-20T17:23:19.995080",
     "status": "completed"
    },
    "tags": []
   },
   "outputs": [],
   "source": [
    "teste_adult.drop('occupation', axis=1, inplace=True)\n",
    "teste_adult.drop('relationship', axis=1, inplace=True)\n",
    "teste_adult.drop('capital.gain', axis=1, inplace=True)\n",
    "teste_adult.drop('capital.loss', axis=1, inplace=True)\n",
    "teste_adult.drop('Id', axis=1, inplace = True)\n",
    "\n",
    "treino_adult.drop('occupation', axis=1, inplace=True)\n",
    "treino_adult.drop('relationship', axis=1, inplace=True)\n",
    "treino_adult.drop('capital.gain', axis=1, inplace=True)\n",
    "treino_adult.drop('capital.loss', axis=1, inplace=True)\n",
    "treino_adult.drop('Id', axis=1, inplace = True)\n"
   ]
  },
  {
   "cell_type": "code",
   "execution_count": 49,
   "id": "5afac0f6",
   "metadata": {
    "execution": {
     "iopub.execute_input": "2022-12-20T17:23:20.170252Z",
     "iopub.status.busy": "2022-12-20T17:23:20.169807Z",
     "iopub.status.idle": "2022-12-20T17:23:20.196533Z",
     "shell.execute_reply": "2022-12-20T17:23:20.195098Z"
    },
    "papermill": {
     "duration": 0.075278,
     "end_time": "2022-12-20T17:23:20.199531",
     "exception": false,
     "start_time": "2022-12-20T17:23:20.124253",
     "status": "completed"
    },
    "tags": []
   },
   "outputs": [
    {
     "data": {
      "text/html": [
       "<div>\n",
       "<style scoped>\n",
       "    .dataframe tbody tr th:only-of-type {\n",
       "        vertical-align: middle;\n",
       "    }\n",
       "\n",
       "    .dataframe tbody tr th {\n",
       "        vertical-align: top;\n",
       "    }\n",
       "\n",
       "    .dataframe thead th {\n",
       "        text-align: right;\n",
       "    }\n",
       "</style>\n",
       "<table border=\"1\" class=\"dataframe\">\n",
       "  <thead>\n",
       "    <tr style=\"text-align: right;\">\n",
       "      <th></th>\n",
       "      <th>age</th>\n",
       "      <th>workclass</th>\n",
       "      <th>fnlwgt</th>\n",
       "      <th>education.num</th>\n",
       "      <th>marital.status</th>\n",
       "      <th>sex</th>\n",
       "      <th>hours.per.week</th>\n",
       "      <th>native.country</th>\n",
       "      <th>income</th>\n",
       "      <th>Amer-Indian-Eskimo</th>\n",
       "      <th>Asian-Pac-Islander</th>\n",
       "      <th>Black</th>\n",
       "      <th>Other</th>\n",
       "      <th>White</th>\n",
       "    </tr>\n",
       "  </thead>\n",
       "  <tbody>\n",
       "    <tr>\n",
       "      <th>0</th>\n",
       "      <td>0.232877</td>\n",
       "      <td>0.5</td>\n",
       "      <td>0.130877</td>\n",
       "      <td>0.600000</td>\n",
       "      <td>0</td>\n",
       "      <td>0</td>\n",
       "      <td>0.438776</td>\n",
       "      <td>1</td>\n",
       "      <td>&lt;=50K</td>\n",
       "      <td>0</td>\n",
       "      <td>0</td>\n",
       "      <td>0</td>\n",
       "      <td>0</td>\n",
       "      <td>1</td>\n",
       "    </tr>\n",
       "    <tr>\n",
       "      <th>1</th>\n",
       "      <td>0.561644</td>\n",
       "      <td>0</td>\n",
       "      <td>0.202252</td>\n",
       "      <td>0.333333</td>\n",
       "      <td>1</td>\n",
       "      <td>0</td>\n",
       "      <td>0.397959</td>\n",
       "      <td>1</td>\n",
       "      <td>&lt;=50K</td>\n",
       "      <td>0</td>\n",
       "      <td>0</td>\n",
       "      <td>0</td>\n",
       "      <td>0</td>\n",
       "      <td>1</td>\n",
       "    </tr>\n",
       "    <tr>\n",
       "      <th>2</th>\n",
       "      <td>0.109589</td>\n",
       "      <td>0.5</td>\n",
       "      <td>0.090893</td>\n",
       "      <td>0.600000</td>\n",
       "      <td>0.5</td>\n",
       "      <td>0</td>\n",
       "      <td>0.418367</td>\n",
       "      <td>1</td>\n",
       "      <td>&lt;=50K</td>\n",
       "      <td>0</td>\n",
       "      <td>0</td>\n",
       "      <td>0</td>\n",
       "      <td>0</td>\n",
       "      <td>1</td>\n",
       "    </tr>\n",
       "    <tr>\n",
       "      <th>3</th>\n",
       "      <td>0.095890</td>\n",
       "      <td>0.5</td>\n",
       "      <td>0.086017</td>\n",
       "      <td>0.600000</td>\n",
       "      <td>0</td>\n",
       "      <td>1</td>\n",
       "      <td>0.397959</td>\n",
       "      <td>1</td>\n",
       "      <td>&lt;=50K</td>\n",
       "      <td>0</td>\n",
       "      <td>0</td>\n",
       "      <td>0</td>\n",
       "      <td>0</td>\n",
       "      <td>1</td>\n",
       "    </tr>\n",
       "    <tr>\n",
       "      <th>4</th>\n",
       "      <td>0.547945</td>\n",
       "      <td>1</td>\n",
       "      <td>0.167478</td>\n",
       "      <td>0.533333</td>\n",
       "      <td>1</td>\n",
       "      <td>0</td>\n",
       "      <td>0.602041</td>\n",
       "      <td>0</td>\n",
       "      <td>&gt;50K</td>\n",
       "      <td>0</td>\n",
       "      <td>0</td>\n",
       "      <td>0</td>\n",
       "      <td>0</td>\n",
       "      <td>1</td>\n",
       "    </tr>\n",
       "    <tr>\n",
       "      <th>...</th>\n",
       "      <td>...</td>\n",
       "      <td>...</td>\n",
       "      <td>...</td>\n",
       "      <td>...</td>\n",
       "      <td>...</td>\n",
       "      <td>...</td>\n",
       "      <td>...</td>\n",
       "      <td>...</td>\n",
       "      <td>...</td>\n",
       "      <td>...</td>\n",
       "      <td>...</td>\n",
       "      <td>...</td>\n",
       "      <td>...</td>\n",
       "      <td>...</td>\n",
       "    </tr>\n",
       "    <tr>\n",
       "      <th>32555</th>\n",
       "      <td>0.342466</td>\n",
       "      <td>0.5</td>\n",
       "      <td>0.252612</td>\n",
       "      <td>0.866667</td>\n",
       "      <td>1</td>\n",
       "      <td>0</td>\n",
       "      <td>0.397959</td>\n",
       "      <td>1</td>\n",
       "      <td>&gt;50K</td>\n",
       "      <td>0</td>\n",
       "      <td>0</td>\n",
       "      <td>0</td>\n",
       "      <td>0</td>\n",
       "      <td>1</td>\n",
       "    </tr>\n",
       "    <tr>\n",
       "      <th>32556</th>\n",
       "      <td>0.082192</td>\n",
       "      <td>0.5</td>\n",
       "      <td>0.079296</td>\n",
       "      <td>0.533333</td>\n",
       "      <td>0.5</td>\n",
       "      <td>1</td>\n",
       "      <td>0.397959</td>\n",
       "      <td>1</td>\n",
       "      <td>&lt;=50K</td>\n",
       "      <td>0</td>\n",
       "      <td>0</td>\n",
       "      <td>1</td>\n",
       "      <td>0</td>\n",
       "      <td>0</td>\n",
       "    </tr>\n",
       "    <tr>\n",
       "      <th>32557</th>\n",
       "      <td>0.178082</td>\n",
       "      <td>0.5</td>\n",
       "      <td>0.124423</td>\n",
       "      <td>0.533333</td>\n",
       "      <td>0.5</td>\n",
       "      <td>1</td>\n",
       "      <td>0.397959</td>\n",
       "      <td>0</td>\n",
       "      <td>&lt;=50K</td>\n",
       "      <td>0</td>\n",
       "      <td>0</td>\n",
       "      <td>0</td>\n",
       "      <td>0</td>\n",
       "      <td>1</td>\n",
       "    </tr>\n",
       "    <tr>\n",
       "      <th>32558</th>\n",
       "      <td>0.013699</td>\n",
       "      <td>0.5</td>\n",
       "      <td>0.010415</td>\n",
       "      <td>0.533333</td>\n",
       "      <td>0.5</td>\n",
       "      <td>1</td>\n",
       "      <td>0.244898</td>\n",
       "      <td>1</td>\n",
       "      <td>&lt;=50K</td>\n",
       "      <td>0</td>\n",
       "      <td>0</td>\n",
       "      <td>0</td>\n",
       "      <td>0</td>\n",
       "      <td>1</td>\n",
       "    </tr>\n",
       "    <tr>\n",
       "      <th>32559</th>\n",
       "      <td>0.410959</td>\n",
       "      <td>0</td>\n",
       "      <td>0.129570</td>\n",
       "      <td>0.800000</td>\n",
       "      <td>0</td>\n",
       "      <td>0</td>\n",
       "      <td>0.500000</td>\n",
       "      <td>1</td>\n",
       "      <td>&lt;=50K</td>\n",
       "      <td>0</td>\n",
       "      <td>0</td>\n",
       "      <td>0</td>\n",
       "      <td>0</td>\n",
       "      <td>1</td>\n",
       "    </tr>\n",
       "  </tbody>\n",
       "</table>\n",
       "<p>32560 rows × 14 columns</p>\n",
       "</div>"
      ],
      "text/plain": [
       "            age workclass    fnlwgt  education.num marital.status sex  \\\n",
       "0      0.232877       0.5  0.130877       0.600000              0   0   \n",
       "1      0.561644         0  0.202252       0.333333              1   0   \n",
       "2      0.109589       0.5  0.090893       0.600000            0.5   0   \n",
       "3      0.095890       0.5  0.086017       0.600000              0   1   \n",
       "4      0.547945         1  0.167478       0.533333              1   0   \n",
       "...         ...       ...       ...            ...            ...  ..   \n",
       "32555  0.342466       0.5  0.252612       0.866667              1   0   \n",
       "32556  0.082192       0.5  0.079296       0.533333            0.5   1   \n",
       "32557  0.178082       0.5  0.124423       0.533333            0.5   1   \n",
       "32558  0.013699       0.5  0.010415       0.533333            0.5   1   \n",
       "32559  0.410959         0  0.129570       0.800000              0   0   \n",
       "\n",
       "       hours.per.week native.country income  Amer-Indian-Eskimo  \\\n",
       "0            0.438776              1  <=50K                   0   \n",
       "1            0.397959              1  <=50K                   0   \n",
       "2            0.418367              1  <=50K                   0   \n",
       "3            0.397959              1  <=50K                   0   \n",
       "4            0.602041              0   >50K                   0   \n",
       "...               ...            ...    ...                 ...   \n",
       "32555        0.397959              1   >50K                   0   \n",
       "32556        0.397959              1  <=50K                   0   \n",
       "32557        0.397959              0  <=50K                   0   \n",
       "32558        0.244898              1  <=50K                   0   \n",
       "32559        0.500000              1  <=50K                   0   \n",
       "\n",
       "       Asian-Pac-Islander  Black  Other  White  \n",
       "0                       0      0      0      1  \n",
       "1                       0      0      0      1  \n",
       "2                       0      0      0      1  \n",
       "3                       0      0      0      1  \n",
       "4                       0      0      0      1  \n",
       "...                   ...    ...    ...    ...  \n",
       "32555                   0      0      0      1  \n",
       "32556                   0      1      0      0  \n",
       "32557                   0      0      0      1  \n",
       "32558                   0      0      0      1  \n",
       "32559                   0      0      0      1  \n",
       "\n",
       "[32560 rows x 14 columns]"
      ]
     },
     "execution_count": 49,
     "metadata": {},
     "output_type": "execute_result"
    }
   ],
   "source": [
    "treino_adult"
   ]
  },
  {
   "cell_type": "code",
   "execution_count": 50,
   "id": "b2d91707",
   "metadata": {
    "execution": {
     "iopub.execute_input": "2022-12-20T17:23:20.291350Z",
     "iopub.status.busy": "2022-12-20T17:23:20.290900Z",
     "iopub.status.idle": "2022-12-20T17:23:20.316381Z",
     "shell.execute_reply": "2022-12-20T17:23:20.315402Z"
    },
    "papermill": {
     "duration": 0.074469,
     "end_time": "2022-12-20T17:23:20.318578",
     "exception": false,
     "start_time": "2022-12-20T17:23:20.244109",
     "status": "completed"
    },
    "tags": []
   },
   "outputs": [
    {
     "data": {
      "text/html": [
       "<div>\n",
       "<style scoped>\n",
       "    .dataframe tbody tr th:only-of-type {\n",
       "        vertical-align: middle;\n",
       "    }\n",
       "\n",
       "    .dataframe tbody tr th {\n",
       "        vertical-align: top;\n",
       "    }\n",
       "\n",
       "    .dataframe thead th {\n",
       "        text-align: right;\n",
       "    }\n",
       "</style>\n",
       "<table border=\"1\" class=\"dataframe\">\n",
       "  <thead>\n",
       "    <tr style=\"text-align: right;\">\n",
       "      <th></th>\n",
       "      <th>age</th>\n",
       "      <th>workclass</th>\n",
       "      <th>fnlwgt</th>\n",
       "      <th>education.num</th>\n",
       "      <th>marital.status</th>\n",
       "      <th>sex</th>\n",
       "      <th>hours.per.week</th>\n",
       "      <th>native.country</th>\n",
       "      <th>Amer-Indian-Eskimo</th>\n",
       "      <th>Asian-Pac-Islander</th>\n",
       "      <th>Black</th>\n",
       "      <th>Other</th>\n",
       "      <th>White</th>\n",
       "    </tr>\n",
       "  </thead>\n",
       "  <tbody>\n",
       "    <tr>\n",
       "      <th>0</th>\n",
       "      <td>0.109589</td>\n",
       "      <td>0.5</td>\n",
       "      <td>0.072519</td>\n",
       "      <td>0.800000</td>\n",
       "      <td>0.5</td>\n",
       "      <td>0</td>\n",
       "      <td>0.438776</td>\n",
       "      <td>1</td>\n",
       "      <td>0</td>\n",
       "      <td>0</td>\n",
       "      <td>0</td>\n",
       "      <td>0</td>\n",
       "      <td>1</td>\n",
       "    </tr>\n",
       "    <tr>\n",
       "      <th>1</th>\n",
       "      <td>0.643836</td>\n",
       "      <td>0</td>\n",
       "      <td>0.094146</td>\n",
       "      <td>0.800000</td>\n",
       "      <td>1</td>\n",
       "      <td>0</td>\n",
       "      <td>0.448980</td>\n",
       "      <td>1</td>\n",
       "      <td>0</td>\n",
       "      <td>0</td>\n",
       "      <td>0</td>\n",
       "      <td>0</td>\n",
       "      <td>1</td>\n",
       "    </tr>\n",
       "    <tr>\n",
       "      <th>2</th>\n",
       "      <td>0.191781</td>\n",
       "      <td>0.5</td>\n",
       "      <td>0.058665</td>\n",
       "      <td>0.866667</td>\n",
       "      <td>0</td>\n",
       "      <td>1</td>\n",
       "      <td>0.397959</td>\n",
       "      <td>1</td>\n",
       "      <td>0</td>\n",
       "      <td>0</td>\n",
       "      <td>0</td>\n",
       "      <td>0</td>\n",
       "      <td>1</td>\n",
       "    </tr>\n",
       "    <tr>\n",
       "      <th>3</th>\n",
       "      <td>0.383562</td>\n",
       "      <td>0.5</td>\n",
       "      <td>0.118918</td>\n",
       "      <td>0.533333</td>\n",
       "      <td>0.5</td>\n",
       "      <td>0</td>\n",
       "      <td>0.397959</td>\n",
       "      <td>1</td>\n",
       "      <td>0</td>\n",
       "      <td>0</td>\n",
       "      <td>0</td>\n",
       "      <td>0</td>\n",
       "      <td>1</td>\n",
       "    </tr>\n",
       "    <tr>\n",
       "      <th>4</th>\n",
       "      <td>0.643836</td>\n",
       "      <td>1</td>\n",
       "      <td>0.321116</td>\n",
       "      <td>0.800000</td>\n",
       "      <td>1</td>\n",
       "      <td>0</td>\n",
       "      <td>0.500000</td>\n",
       "      <td>1</td>\n",
       "      <td>0</td>\n",
       "      <td>0</td>\n",
       "      <td>0</td>\n",
       "      <td>0</td>\n",
       "      <td>1</td>\n",
       "    </tr>\n",
       "    <tr>\n",
       "      <th>...</th>\n",
       "      <td>...</td>\n",
       "      <td>...</td>\n",
       "      <td>...</td>\n",
       "      <td>...</td>\n",
       "      <td>...</td>\n",
       "      <td>...</td>\n",
       "      <td>...</td>\n",
       "      <td>...</td>\n",
       "      <td>...</td>\n",
       "      <td>...</td>\n",
       "      <td>...</td>\n",
       "      <td>...</td>\n",
       "      <td>...</td>\n",
       "    </tr>\n",
       "    <tr>\n",
       "      <th>16275</th>\n",
       "      <td>0.315068</td>\n",
       "      <td>0.5</td>\n",
       "      <td>0.104692</td>\n",
       "      <td>0.533333</td>\n",
       "      <td>1</td>\n",
       "      <td>0</td>\n",
       "      <td>0.397959</td>\n",
       "      <td>1</td>\n",
       "      <td>0</td>\n",
       "      <td>0</td>\n",
       "      <td>0</td>\n",
       "      <td>0</td>\n",
       "      <td>1</td>\n",
       "    </tr>\n",
       "    <tr>\n",
       "      <th>16276</th>\n",
       "      <td>0.178082</td>\n",
       "      <td>0</td>\n",
       "      <td>0.212411</td>\n",
       "      <td>0.533333</td>\n",
       "      <td>1</td>\n",
       "      <td>0</td>\n",
       "      <td>0.397959</td>\n",
       "      <td>1</td>\n",
       "      <td>0</td>\n",
       "      <td>0</td>\n",
       "      <td>0</td>\n",
       "      <td>0</td>\n",
       "      <td>1</td>\n",
       "    </tr>\n",
       "    <tr>\n",
       "      <th>16277</th>\n",
       "      <td>0.109589</td>\n",
       "      <td>0.5</td>\n",
       "      <td>0.069650</td>\n",
       "      <td>0.533333</td>\n",
       "      <td>0.5</td>\n",
       "      <td>0</td>\n",
       "      <td>0.397959</td>\n",
       "      <td>0</td>\n",
       "      <td>0</td>\n",
       "      <td>1</td>\n",
       "      <td>0</td>\n",
       "      <td>0</td>\n",
       "      <td>0</td>\n",
       "    </tr>\n",
       "    <tr>\n",
       "      <th>16278</th>\n",
       "      <td>0.589041</td>\n",
       "      <td>0.5</td>\n",
       "      <td>0.017449</td>\n",
       "      <td>0.866667</td>\n",
       "      <td>0.5</td>\n",
       "      <td>1</td>\n",
       "      <td>0.346939</td>\n",
       "      <td>1</td>\n",
       "      <td>0</td>\n",
       "      <td>0</td>\n",
       "      <td>0</td>\n",
       "      <td>0</td>\n",
       "      <td>1</td>\n",
       "    </tr>\n",
       "    <tr>\n",
       "      <th>16279</th>\n",
       "      <td>0.438356</td>\n",
       "      <td>0.5</td>\n",
       "      <td>0.114679</td>\n",
       "      <td>0.600000</td>\n",
       "      <td>1</td>\n",
       "      <td>0</td>\n",
       "      <td>0.397959</td>\n",
       "      <td>1</td>\n",
       "      <td>0</td>\n",
       "      <td>0</td>\n",
       "      <td>0</td>\n",
       "      <td>0</td>\n",
       "      <td>1</td>\n",
       "    </tr>\n",
       "  </tbody>\n",
       "</table>\n",
       "<p>16280 rows × 13 columns</p>\n",
       "</div>"
      ],
      "text/plain": [
       "            age workclass    fnlwgt  education.num marital.status sex  \\\n",
       "0      0.109589       0.5  0.072519       0.800000            0.5   0   \n",
       "1      0.643836         0  0.094146       0.800000              1   0   \n",
       "2      0.191781       0.5  0.058665       0.866667              0   1   \n",
       "3      0.383562       0.5  0.118918       0.533333            0.5   0   \n",
       "4      0.643836         1  0.321116       0.800000              1   0   \n",
       "...         ...       ...       ...            ...            ...  ..   \n",
       "16275  0.315068       0.5  0.104692       0.533333              1   0   \n",
       "16276  0.178082         0  0.212411       0.533333              1   0   \n",
       "16277  0.109589       0.5  0.069650       0.533333            0.5   0   \n",
       "16278  0.589041       0.5  0.017449       0.866667            0.5   1   \n",
       "16279  0.438356       0.5  0.114679       0.600000              1   0   \n",
       "\n",
       "       hours.per.week native.country  Amer-Indian-Eskimo  Asian-Pac-Islander  \\\n",
       "0            0.438776              1                   0                   0   \n",
       "1            0.448980              1                   0                   0   \n",
       "2            0.397959              1                   0                   0   \n",
       "3            0.397959              1                   0                   0   \n",
       "4            0.500000              1                   0                   0   \n",
       "...               ...            ...                 ...                 ...   \n",
       "16275        0.397959              1                   0                   0   \n",
       "16276        0.397959              1                   0                   0   \n",
       "16277        0.397959              0                   0                   1   \n",
       "16278        0.346939              1                   0                   0   \n",
       "16279        0.397959              1                   0                   0   \n",
       "\n",
       "       Black  Other  White  \n",
       "0          0      0      1  \n",
       "1          0      0      1  \n",
       "2          0      0      1  \n",
       "3          0      0      1  \n",
       "4          0      0      1  \n",
       "...      ...    ...    ...  \n",
       "16275      0      0      1  \n",
       "16276      0      0      1  \n",
       "16277      0      0      0  \n",
       "16278      0      0      1  \n",
       "16279      0      0      1  \n",
       "\n",
       "[16280 rows x 13 columns]"
      ]
     },
     "execution_count": 50,
     "metadata": {},
     "output_type": "execute_result"
    }
   ],
   "source": [
    "teste_adult"
   ]
  },
  {
   "cell_type": "markdown",
   "id": "e0363ea7",
   "metadata": {
    "papermill": {
     "duration": 0.044798,
     "end_time": "2022-12-20T17:23:20.409314",
     "exception": false,
     "start_time": "2022-12-20T17:23:20.364516",
     "status": "completed"
    },
    "tags": []
   },
   "source": [
    "Vamos salvar a variável resposta da base de treino:"
   ]
  },
  {
   "cell_type": "code",
   "execution_count": 51,
   "id": "94c3d664",
   "metadata": {
    "execution": {
     "iopub.execute_input": "2022-12-20T17:23:20.500570Z",
     "iopub.status.busy": "2022-12-20T17:23:20.500153Z",
     "iopub.status.idle": "2022-12-20T17:23:20.505115Z",
     "shell.execute_reply": "2022-12-20T17:23:20.503990Z"
    },
    "papermill": {
     "duration": 0.053512,
     "end_time": "2022-12-20T17:23:20.507470",
     "exception": false,
     "start_time": "2022-12-20T17:23:20.453958",
     "status": "completed"
    },
    "tags": []
   },
   "outputs": [],
   "source": [
    "Y_treino = treino_adult['income']"
   ]
  },
  {
   "cell_type": "code",
   "execution_count": 52,
   "id": "611dff0c",
   "metadata": {
    "execution": {
     "iopub.execute_input": "2022-12-20T17:23:20.601113Z",
     "iopub.status.busy": "2022-12-20T17:23:20.599416Z",
     "iopub.status.idle": "2022-12-20T17:23:20.608772Z",
     "shell.execute_reply": "2022-12-20T17:23:20.607620Z"
    },
    "papermill": {
     "duration": 0.058199,
     "end_time": "2022-12-20T17:23:20.611329",
     "exception": false,
     "start_time": "2022-12-20T17:23:20.553130",
     "status": "completed"
    },
    "tags": []
   },
   "outputs": [
    {
     "data": {
      "text/plain": [
       "0        <=50K\n",
       "1        <=50K\n",
       "2        <=50K\n",
       "3        <=50K\n",
       "4         >50K\n",
       "         ...  \n",
       "32555     >50K\n",
       "32556    <=50K\n",
       "32557    <=50K\n",
       "32558    <=50K\n",
       "32559    <=50K\n",
       "Name: income, Length: 32560, dtype: object"
      ]
     },
     "execution_count": 52,
     "metadata": {},
     "output_type": "execute_result"
    }
   ],
   "source": [
    "Y_treino"
   ]
  },
  {
   "cell_type": "markdown",
   "id": "9b35aa9e",
   "metadata": {
    "papermill": {
     "duration": 0.045066,
     "end_time": "2022-12-20T17:23:20.701809",
     "exception": false,
     "start_time": "2022-12-20T17:23:20.656743",
     "status": "completed"
    },
    "tags": []
   },
   "source": [
    "Vamos retirar a variável income da base de treino:"
   ]
  },
  {
   "cell_type": "code",
   "execution_count": 53,
   "id": "395ee79e",
   "metadata": {
    "execution": {
     "iopub.execute_input": "2022-12-20T17:23:20.793508Z",
     "iopub.status.busy": "2022-12-20T17:23:20.793058Z",
     "iopub.status.idle": "2022-12-20T17:23:20.801414Z",
     "shell.execute_reply": "2022-12-20T17:23:20.800160Z"
    },
    "papermill": {
     "duration": 0.057377,
     "end_time": "2022-12-20T17:23:20.803712",
     "exception": false,
     "start_time": "2022-12-20T17:23:20.746335",
     "status": "completed"
    },
    "tags": []
   },
   "outputs": [],
   "source": [
    "treino_adult.drop('income', axis=1, inplace=True)"
   ]
  },
  {
   "cell_type": "code",
   "execution_count": 54,
   "id": "4c4a140c",
   "metadata": {
    "execution": {
     "iopub.execute_input": "2022-12-20T17:23:20.896534Z",
     "iopub.status.busy": "2022-12-20T17:23:20.896143Z",
     "iopub.status.idle": "2022-12-20T17:23:20.901961Z",
     "shell.execute_reply": "2022-12-20T17:23:20.901135Z"
    },
    "papermill": {
     "duration": 0.055259,
     "end_time": "2022-12-20T17:23:20.904015",
     "exception": false,
     "start_time": "2022-12-20T17:23:20.848756",
     "status": "completed"
    },
    "tags": []
   },
   "outputs": [
    {
     "data": {
      "text/plain": [
       "(32560, 13)"
      ]
     },
     "execution_count": 54,
     "metadata": {},
     "output_type": "execute_result"
    }
   ],
   "source": [
    "treino_adult.shape"
   ]
  },
  {
   "cell_type": "code",
   "execution_count": 55,
   "id": "65bbebfa",
   "metadata": {
    "execution": {
     "iopub.execute_input": "2022-12-20T17:23:20.994908Z",
     "iopub.status.busy": "2022-12-20T17:23:20.994472Z",
     "iopub.status.idle": "2022-12-20T17:23:21.001498Z",
     "shell.execute_reply": "2022-12-20T17:23:21.000321Z"
    },
    "papermill": {
     "duration": 0.055194,
     "end_time": "2022-12-20T17:23:21.003861",
     "exception": false,
     "start_time": "2022-12-20T17:23:20.948667",
     "status": "completed"
    },
    "tags": []
   },
   "outputs": [
    {
     "data": {
      "text/plain": [
       "(16280, 13)"
      ]
     },
     "execution_count": 55,
     "metadata": {},
     "output_type": "execute_result"
    }
   ],
   "source": [
    "teste_adult.shape"
   ]
  },
  {
   "cell_type": "code",
   "execution_count": 56,
   "id": "2c6adb58",
   "metadata": {
    "execution": {
     "iopub.execute_input": "2022-12-20T17:23:21.095900Z",
     "iopub.status.busy": "2022-12-20T17:23:21.095438Z",
     "iopub.status.idle": "2022-12-20T17:23:21.119039Z",
     "shell.execute_reply": "2022-12-20T17:23:21.117729Z"
    },
    "papermill": {
     "duration": 0.072621,
     "end_time": "2022-12-20T17:23:21.121520",
     "exception": false,
     "start_time": "2022-12-20T17:23:21.048899",
     "status": "completed"
    },
    "tags": []
   },
   "outputs": [
    {
     "data": {
      "text/html": [
       "<div>\n",
       "<style scoped>\n",
       "    .dataframe tbody tr th:only-of-type {\n",
       "        vertical-align: middle;\n",
       "    }\n",
       "\n",
       "    .dataframe tbody tr th {\n",
       "        vertical-align: top;\n",
       "    }\n",
       "\n",
       "    .dataframe thead th {\n",
       "        text-align: right;\n",
       "    }\n",
       "</style>\n",
       "<table border=\"1\" class=\"dataframe\">\n",
       "  <thead>\n",
       "    <tr style=\"text-align: right;\">\n",
       "      <th></th>\n",
       "      <th>age</th>\n",
       "      <th>workclass</th>\n",
       "      <th>fnlwgt</th>\n",
       "      <th>education.num</th>\n",
       "      <th>marital.status</th>\n",
       "      <th>sex</th>\n",
       "      <th>hours.per.week</th>\n",
       "      <th>native.country</th>\n",
       "      <th>Amer-Indian-Eskimo</th>\n",
       "      <th>Asian-Pac-Islander</th>\n",
       "      <th>Black</th>\n",
       "      <th>Other</th>\n",
       "      <th>White</th>\n",
       "    </tr>\n",
       "  </thead>\n",
       "  <tbody>\n",
       "    <tr>\n",
       "      <th>0</th>\n",
       "      <td>0.109589</td>\n",
       "      <td>0.5</td>\n",
       "      <td>0.072519</td>\n",
       "      <td>0.800000</td>\n",
       "      <td>0.5</td>\n",
       "      <td>0</td>\n",
       "      <td>0.438776</td>\n",
       "      <td>1</td>\n",
       "      <td>0</td>\n",
       "      <td>0</td>\n",
       "      <td>0</td>\n",
       "      <td>0</td>\n",
       "      <td>1</td>\n",
       "    </tr>\n",
       "    <tr>\n",
       "      <th>1</th>\n",
       "      <td>0.643836</td>\n",
       "      <td>0</td>\n",
       "      <td>0.094146</td>\n",
       "      <td>0.800000</td>\n",
       "      <td>1</td>\n",
       "      <td>0</td>\n",
       "      <td>0.448980</td>\n",
       "      <td>1</td>\n",
       "      <td>0</td>\n",
       "      <td>0</td>\n",
       "      <td>0</td>\n",
       "      <td>0</td>\n",
       "      <td>1</td>\n",
       "    </tr>\n",
       "    <tr>\n",
       "      <th>2</th>\n",
       "      <td>0.191781</td>\n",
       "      <td>0.5</td>\n",
       "      <td>0.058665</td>\n",
       "      <td>0.866667</td>\n",
       "      <td>0</td>\n",
       "      <td>1</td>\n",
       "      <td>0.397959</td>\n",
       "      <td>1</td>\n",
       "      <td>0</td>\n",
       "      <td>0</td>\n",
       "      <td>0</td>\n",
       "      <td>0</td>\n",
       "      <td>1</td>\n",
       "    </tr>\n",
       "    <tr>\n",
       "      <th>3</th>\n",
       "      <td>0.383562</td>\n",
       "      <td>0.5</td>\n",
       "      <td>0.118918</td>\n",
       "      <td>0.533333</td>\n",
       "      <td>0.5</td>\n",
       "      <td>0</td>\n",
       "      <td>0.397959</td>\n",
       "      <td>1</td>\n",
       "      <td>0</td>\n",
       "      <td>0</td>\n",
       "      <td>0</td>\n",
       "      <td>0</td>\n",
       "      <td>1</td>\n",
       "    </tr>\n",
       "    <tr>\n",
       "      <th>4</th>\n",
       "      <td>0.643836</td>\n",
       "      <td>1</td>\n",
       "      <td>0.321116</td>\n",
       "      <td>0.800000</td>\n",
       "      <td>1</td>\n",
       "      <td>0</td>\n",
       "      <td>0.500000</td>\n",
       "      <td>1</td>\n",
       "      <td>0</td>\n",
       "      <td>0</td>\n",
       "      <td>0</td>\n",
       "      <td>0</td>\n",
       "      <td>1</td>\n",
       "    </tr>\n",
       "    <tr>\n",
       "      <th>...</th>\n",
       "      <td>...</td>\n",
       "      <td>...</td>\n",
       "      <td>...</td>\n",
       "      <td>...</td>\n",
       "      <td>...</td>\n",
       "      <td>...</td>\n",
       "      <td>...</td>\n",
       "      <td>...</td>\n",
       "      <td>...</td>\n",
       "      <td>...</td>\n",
       "      <td>...</td>\n",
       "      <td>...</td>\n",
       "      <td>...</td>\n",
       "    </tr>\n",
       "    <tr>\n",
       "      <th>16275</th>\n",
       "      <td>0.315068</td>\n",
       "      <td>0.5</td>\n",
       "      <td>0.104692</td>\n",
       "      <td>0.533333</td>\n",
       "      <td>1</td>\n",
       "      <td>0</td>\n",
       "      <td>0.397959</td>\n",
       "      <td>1</td>\n",
       "      <td>0</td>\n",
       "      <td>0</td>\n",
       "      <td>0</td>\n",
       "      <td>0</td>\n",
       "      <td>1</td>\n",
       "    </tr>\n",
       "    <tr>\n",
       "      <th>16276</th>\n",
       "      <td>0.178082</td>\n",
       "      <td>0</td>\n",
       "      <td>0.212411</td>\n",
       "      <td>0.533333</td>\n",
       "      <td>1</td>\n",
       "      <td>0</td>\n",
       "      <td>0.397959</td>\n",
       "      <td>1</td>\n",
       "      <td>0</td>\n",
       "      <td>0</td>\n",
       "      <td>0</td>\n",
       "      <td>0</td>\n",
       "      <td>1</td>\n",
       "    </tr>\n",
       "    <tr>\n",
       "      <th>16277</th>\n",
       "      <td>0.109589</td>\n",
       "      <td>0.5</td>\n",
       "      <td>0.069650</td>\n",
       "      <td>0.533333</td>\n",
       "      <td>0.5</td>\n",
       "      <td>0</td>\n",
       "      <td>0.397959</td>\n",
       "      <td>0</td>\n",
       "      <td>0</td>\n",
       "      <td>1</td>\n",
       "      <td>0</td>\n",
       "      <td>0</td>\n",
       "      <td>0</td>\n",
       "    </tr>\n",
       "    <tr>\n",
       "      <th>16278</th>\n",
       "      <td>0.589041</td>\n",
       "      <td>0.5</td>\n",
       "      <td>0.017449</td>\n",
       "      <td>0.866667</td>\n",
       "      <td>0.5</td>\n",
       "      <td>1</td>\n",
       "      <td>0.346939</td>\n",
       "      <td>1</td>\n",
       "      <td>0</td>\n",
       "      <td>0</td>\n",
       "      <td>0</td>\n",
       "      <td>0</td>\n",
       "      <td>1</td>\n",
       "    </tr>\n",
       "    <tr>\n",
       "      <th>16279</th>\n",
       "      <td>0.438356</td>\n",
       "      <td>0.5</td>\n",
       "      <td>0.114679</td>\n",
       "      <td>0.600000</td>\n",
       "      <td>1</td>\n",
       "      <td>0</td>\n",
       "      <td>0.397959</td>\n",
       "      <td>1</td>\n",
       "      <td>0</td>\n",
       "      <td>0</td>\n",
       "      <td>0</td>\n",
       "      <td>0</td>\n",
       "      <td>1</td>\n",
       "    </tr>\n",
       "  </tbody>\n",
       "</table>\n",
       "<p>16280 rows × 13 columns</p>\n",
       "</div>"
      ],
      "text/plain": [
       "            age workclass    fnlwgt  education.num marital.status sex  \\\n",
       "0      0.109589       0.5  0.072519       0.800000            0.5   0   \n",
       "1      0.643836         0  0.094146       0.800000              1   0   \n",
       "2      0.191781       0.5  0.058665       0.866667              0   1   \n",
       "3      0.383562       0.5  0.118918       0.533333            0.5   0   \n",
       "4      0.643836         1  0.321116       0.800000              1   0   \n",
       "...         ...       ...       ...            ...            ...  ..   \n",
       "16275  0.315068       0.5  0.104692       0.533333              1   0   \n",
       "16276  0.178082         0  0.212411       0.533333              1   0   \n",
       "16277  0.109589       0.5  0.069650       0.533333            0.5   0   \n",
       "16278  0.589041       0.5  0.017449       0.866667            0.5   1   \n",
       "16279  0.438356       0.5  0.114679       0.600000              1   0   \n",
       "\n",
       "       hours.per.week native.country  Amer-Indian-Eskimo  Asian-Pac-Islander  \\\n",
       "0            0.438776              1                   0                   0   \n",
       "1            0.448980              1                   0                   0   \n",
       "2            0.397959              1                   0                   0   \n",
       "3            0.397959              1                   0                   0   \n",
       "4            0.500000              1                   0                   0   \n",
       "...               ...            ...                 ...                 ...   \n",
       "16275        0.397959              1                   0                   0   \n",
       "16276        0.397959              1                   0                   0   \n",
       "16277        0.397959              0                   0                   1   \n",
       "16278        0.346939              1                   0                   0   \n",
       "16279        0.397959              1                   0                   0   \n",
       "\n",
       "       Black  Other  White  \n",
       "0          0      0      1  \n",
       "1          0      0      1  \n",
       "2          0      0      1  \n",
       "3          0      0      1  \n",
       "4          0      0      1  \n",
       "...      ...    ...    ...  \n",
       "16275      0      0      1  \n",
       "16276      0      0      1  \n",
       "16277      0      0      0  \n",
       "16278      0      0      1  \n",
       "16279      0      0      1  \n",
       "\n",
       "[16280 rows x 13 columns]"
      ]
     },
     "execution_count": 56,
     "metadata": {},
     "output_type": "execute_result"
    }
   ],
   "source": [
    "teste_adult"
   ]
  },
  {
   "cell_type": "code",
   "execution_count": 57,
   "id": "e9c751ad",
   "metadata": {
    "execution": {
     "iopub.execute_input": "2022-12-20T17:23:21.217127Z",
     "iopub.status.busy": "2022-12-20T17:23:21.216301Z",
     "iopub.status.idle": "2022-12-20T17:23:21.227823Z",
     "shell.execute_reply": "2022-12-20T17:23:21.226857Z"
    },
    "papermill": {
     "duration": 0.061734,
     "end_time": "2022-12-20T17:23:21.230206",
     "exception": false,
     "start_time": "2022-12-20T17:23:21.168472",
     "status": "completed"
    },
    "tags": []
   },
   "outputs": [],
   "source": [
    "teste_adult.drop('native.country', axis=1, inplace = True)\n",
    "treino_adult.drop('native.country', axis=1, inplace = True)"
   ]
  },
  {
   "cell_type": "markdown",
   "id": "f3129efc",
   "metadata": {
    "papermill": {
     "duration": 0.045213,
     "end_time": "2022-12-20T17:23:21.322064",
     "exception": false,
     "start_time": "2022-12-20T17:23:21.276851",
     "status": "completed"
    },
    "tags": []
   },
   "source": [
    "# Análise dos Classificadores:"
   ]
  },
  {
   "cell_type": "markdown",
   "id": "fde54f4b",
   "metadata": {
    "papermill": {
     "duration": 0.046063,
     "end_time": "2022-12-20T17:23:21.414717",
     "exception": false,
     "start_time": "2022-12-20T17:23:21.368654",
     "status": "completed"
    },
    "tags": []
   },
   "source": [
    "Em todo caso, na validação cruzada para seleção de parâmetros, usaremos 5 folds, a seguir, quando formos comparar classificadores diferentes, usaremos 10 folds, isso porque o custo computacional na seleção de parâmetros é muito alto, dessa forma, usando menos folds nesse momento, conseguiremos um algoritmo bem mais rápido."
   ]
  },
  {
   "cell_type": "markdown",
   "id": "494030ce",
   "metadata": {
    "papermill": {
     "duration": 0.045447,
     "end_time": "2022-12-20T17:23:21.507096",
     "exception": false,
     "start_time": "2022-12-20T17:23:21.461649",
     "status": "completed"
    },
    "tags": []
   },
   "source": [
    "Vamos começar pela regressão logística, nesse caso, vamos considerar como parâmetro apenas o fator de normalização C, vamos variá-lo no conjunto Y:"
   ]
  },
  {
   "cell_type": "code",
   "execution_count": 58,
   "id": "63efc9b0",
   "metadata": {
    "execution": {
     "iopub.execute_input": "2022-12-20T17:23:21.606153Z",
     "iopub.status.busy": "2022-12-20T17:23:21.605344Z",
     "iopub.status.idle": "2022-12-20T17:23:29.386710Z",
     "shell.execute_reply": "2022-12-20T17:23:29.385351Z"
    },
    "papermill": {
     "duration": 7.837286,
     "end_time": "2022-12-20T17:23:29.390759",
     "exception": false,
     "start_time": "2022-12-20T17:23:21.553473",
     "status": "completed"
    },
    "tags": []
   },
   "outputs": [],
   "source": [
    "Y=[1,2,4,8]\n",
    "scoreslogistic = []\n",
    "for y in Y:    \n",
    "    scoreslogistic.append(cross_val_score(LogisticRegression(random_state=0, C=y), treino_adult, Y_treino, cv=5))"
   ]
  },
  {
   "cell_type": "markdown",
   "id": "30fdb3ae",
   "metadata": {
    "papermill": {
     "duration": 0.048937,
     "end_time": "2022-12-20T17:23:29.521388",
     "exception": false,
     "start_time": "2022-12-20T17:23:29.472451",
     "status": "completed"
    },
    "tags": []
   },
   "source": [
    "Vamos salvar os resultados da validação cruzada na lista Mlogistic:"
   ]
  },
  {
   "cell_type": "code",
   "execution_count": 59,
   "id": "3434a705",
   "metadata": {
    "execution": {
     "iopub.execute_input": "2022-12-20T17:23:29.615962Z",
     "iopub.status.busy": "2022-12-20T17:23:29.615508Z",
     "iopub.status.idle": "2022-12-20T17:23:29.621323Z",
     "shell.execute_reply": "2022-12-20T17:23:29.620055Z"
    },
    "papermill": {
     "duration": 0.056206,
     "end_time": "2022-12-20T17:23:29.624011",
     "exception": false,
     "start_time": "2022-12-20T17:23:29.567805",
     "status": "completed"
    },
    "tags": []
   },
   "outputs": [],
   "source": [
    "Mlogistic=[]\n",
    "for j in scoreslogistic:\n",
    "    Mlogistic.append(mean(j))"
   ]
  },
  {
   "cell_type": "code",
   "execution_count": 60,
   "id": "fbb3c981",
   "metadata": {
    "execution": {
     "iopub.execute_input": "2022-12-20T17:23:29.717781Z",
     "iopub.status.busy": "2022-12-20T17:23:29.717338Z",
     "iopub.status.idle": "2022-12-20T17:23:29.723973Z",
     "shell.execute_reply": "2022-12-20T17:23:29.722956Z"
    },
    "papermill": {
     "duration": 0.056485,
     "end_time": "2022-12-20T17:23:29.726068",
     "exception": false,
     "start_time": "2022-12-20T17:23:29.669583",
     "status": "completed"
    },
    "tags": []
   },
   "outputs": [
    {
     "data": {
      "text/plain": [
       "[0.8161855036855037, 0.8160012285012285, 0.815970515970516, 0.8161855036855037]"
      ]
     },
     "execution_count": 60,
     "metadata": {},
     "output_type": "execute_result"
    }
   ],
   "source": [
    "Mlogistic"
   ]
  },
  {
   "cell_type": "markdown",
   "id": "3e16155a",
   "metadata": {
    "papermill": {
     "duration": 0.0462,
     "end_time": "2022-12-20T17:23:29.817745",
     "exception": false,
     "start_time": "2022-12-20T17:23:29.771545",
     "status": "completed"
    },
    "tags": []
   },
   "source": [
    "Podemos ver que, inicialmente, à medida que aumentamos C, a eficiência do algoritmo nos dados de treino diminui, contudo, esse processo se reverte para C=8, em que a taxa de acerto é maior se comparada ao valor de C=4."
   ]
  },
  {
   "cell_type": "markdown",
   "id": "2c86fab3",
   "metadata": {
    "papermill": {
     "duration": 0.04593,
     "end_time": "2022-12-20T17:23:29.909234",
     "exception": false,
     "start_time": "2022-12-20T17:23:29.863304",
     "status": "completed"
    },
    "tags": []
   },
   "source": [
    "Vamos analisar o valor com maior taxa de acerto:"
   ]
  },
  {
   "cell_type": "code",
   "execution_count": 61,
   "id": "471c7075",
   "metadata": {
    "execution": {
     "iopub.execute_input": "2022-12-20T17:23:30.002575Z",
     "iopub.status.busy": "2022-12-20T17:23:30.001754Z",
     "iopub.status.idle": "2022-12-20T17:23:30.007426Z",
     "shell.execute_reply": "2022-12-20T17:23:30.006478Z"
    },
    "papermill": {
     "duration": 0.054969,
     "end_time": "2022-12-20T17:23:30.009799",
     "exception": false,
     "start_time": "2022-12-20T17:23:29.954830",
     "status": "completed"
    },
    "tags": []
   },
   "outputs": [],
   "source": [
    "n=0\n",
    "for x in range(1,len(Mlogistic)):\n",
    "    if Mlogistic[x] > Mlogistic[n]:\n",
    "        n = x"
   ]
  },
  {
   "cell_type": "code",
   "execution_count": 62,
   "id": "8533de2c",
   "metadata": {
    "execution": {
     "iopub.execute_input": "2022-12-20T17:23:30.104519Z",
     "iopub.status.busy": "2022-12-20T17:23:30.103316Z",
     "iopub.status.idle": "2022-12-20T17:23:30.110243Z",
     "shell.execute_reply": "2022-12-20T17:23:30.109101Z"
    },
    "papermill": {
     "duration": 0.05637,
     "end_time": "2022-12-20T17:23:30.112483",
     "exception": false,
     "start_time": "2022-12-20T17:23:30.056113",
     "status": "completed"
    },
    "tags": []
   },
   "outputs": [
    {
     "data": {
      "text/plain": [
       "0"
      ]
     },
     "execution_count": 62,
     "metadata": {},
     "output_type": "execute_result"
    }
   ],
   "source": [
    "n"
   ]
  },
  {
   "cell_type": "markdown",
   "id": "ba4f6141",
   "metadata": {
    "papermill": {
     "duration": 0.047353,
     "end_time": "2022-12-20T17:23:30.205751",
     "exception": false,
     "start_time": "2022-12-20T17:23:30.158398",
     "status": "completed"
    },
    "tags": []
   },
   "source": [
    "Que corresponde a C = 1, portanto esse parâmetro que utilizaremos para calcular a taxa de acerto em relação a toda base de dados."
   ]
  },
  {
   "cell_type": "markdown",
   "id": "bfc160dd",
   "metadata": {
    "papermill": {
     "duration": 0.045721,
     "end_time": "2022-12-20T17:23:30.297237",
     "exception": false,
     "start_time": "2022-12-20T17:23:30.251516",
     "status": "completed"
    },
    "tags": []
   },
   "source": [
    "Vamos criar o classificador usando SVM:"
   ]
  },
  {
   "cell_type": "markdown",
   "id": "3d7bd296",
   "metadata": {
    "papermill": {
     "duration": 0.047663,
     "end_time": "2022-12-20T17:23:30.392231",
     "exception": false,
     "start_time": "2022-12-20T17:23:30.344568",
     "status": "completed"
    },
    "tags": []
   },
   "source": [
    "Há um hiperparâmetro e uma escolha bastante importante, esses são, respectivamente, o valor de C, que ditará como será a soft margin e é chamado de parâmetro de normalização e como será o kernel utilizado, vamos fazer alguns testes com validação cruzada."
   ]
  },
  {
   "cell_type": "markdown",
   "id": "c5a5c308",
   "metadata": {
    "papermill": {
     "duration": 0.045838,
     "end_time": "2022-12-20T17:23:30.484160",
     "exception": false,
     "start_time": "2022-12-20T17:23:30.438322",
     "status": "completed"
    },
    "tags": []
   },
   "source": [
    "As opções de Kernel que usaremos são:"
   ]
  },
  {
   "cell_type": "code",
   "execution_count": 63,
   "id": "ed35d02d",
   "metadata": {
    "execution": {
     "iopub.execute_input": "2022-12-20T17:23:30.577715Z",
     "iopub.status.busy": "2022-12-20T17:23:30.577273Z",
     "iopub.status.idle": "2022-12-20T17:23:30.582103Z",
     "shell.execute_reply": "2022-12-20T17:23:30.581145Z"
    },
    "papermill": {
     "duration": 0.054345,
     "end_time": "2022-12-20T17:23:30.584454",
     "exception": false,
     "start_time": "2022-12-20T17:23:30.530109",
     "status": "completed"
    },
    "tags": []
   },
   "outputs": [],
   "source": [
    "KERNEL = ['linear', 'poly', 'rbf']"
   ]
  },
  {
   "cell_type": "markdown",
   "id": "af248e5d",
   "metadata": {
    "papermill": {
     "duration": 0.04599,
     "end_time": "2022-12-20T17:23:30.678319",
     "exception": false,
     "start_time": "2022-12-20T17:23:30.632329",
     "status": "completed"
    },
    "tags": []
   },
   "source": [
    "Vamos variar C de 1 até 8 dobrando seu valor a cada elemento da lista, esses valores usaremos para fazer a validação cruzada. Pode-se questionar nossas escolhas, contudo, o fato é que o tempo de execução do algoritmo é bastante elevado, por isso temos que limitar o número de parâmetros analisados."
   ]
  },
  {
   "cell_type": "code",
   "execution_count": 64,
   "id": "f624a5eb",
   "metadata": {
    "execution": {
     "iopub.execute_input": "2022-12-20T17:23:30.772568Z",
     "iopub.status.busy": "2022-12-20T17:23:30.771881Z",
     "iopub.status.idle": "2022-12-20T17:23:30.776808Z",
     "shell.execute_reply": "2022-12-20T17:23:30.775859Z"
    },
    "papermill": {
     "duration": 0.055002,
     "end_time": "2022-12-20T17:23:30.779324",
     "exception": false,
     "start_time": "2022-12-20T17:23:30.724322",
     "status": "completed"
    },
    "tags": []
   },
   "outputs": [],
   "source": [
    "V = [1,2,4,8]"
   ]
  },
  {
   "cell_type": "code",
   "execution_count": 65,
   "id": "58530e88",
   "metadata": {
    "execution": {
     "iopub.execute_input": "2022-12-20T17:23:30.875988Z",
     "iopub.status.busy": "2022-12-20T17:23:30.875252Z",
     "iopub.status.idle": "2022-12-20T17:43:41.267370Z",
     "shell.execute_reply": "2022-12-20T17:43:41.265989Z"
    },
    "papermill": {
     "duration": 1210.489668,
     "end_time": "2022-12-20T17:43:41.317239",
     "exception": false,
     "start_time": "2022-12-20T17:23:30.827571",
     "status": "completed"
    },
    "tags": []
   },
   "outputs": [
    {
     "name": "stdout",
     "output_type": "stream",
     "text": [
      "       Interação |       Valor de C |           Kernel\n",
      "               0 |                1 |           linear\n",
      "               1 |                2 |           linear\n",
      "               2 |                4 |           linear\n",
      "               3 |                8 |           linear\n",
      "               4 |                1 |       polinomial\n",
      "               5 |                2 |       polinomial\n",
      "               6 |                4 |       polinomial\n",
      "               7 |                8 |       polinomial\n",
      "               8 |                1 | radial basis function\n",
      "               9 |                2 | radial basis function\n",
      "              10 |                4 | radial basis function\n",
      "              11 |                8 | radial basis function\n"
     ]
    }
   ],
   "source": [
    "h=0\n",
    "print('{0:>16} | {1:>16} | {2:>16}'.format('Interação', 'Valor de C', 'Kernel'))\n",
    "scores = []\n",
    "for x in KERNEL:\n",
    "    for y in V:\n",
    "        scores.append(cross_val_score(SVC(C = y, kernel = x), treino_adult, Y_treino, cv=5))\n",
    "        if x == 'poly':\n",
    "            m = 'polinomial'\n",
    "        elif x == 'rbf':\n",
    "            m = 'radial basis function'\n",
    "        else:\n",
    "            m = x\n",
    "        print('{0:>16} | {1:>16} | {2:>16}'.format(h, y, m))\n",
    "        h = h+1"
   ]
  },
  {
   "cell_type": "code",
   "execution_count": 66,
   "id": "64773179",
   "metadata": {
    "execution": {
     "iopub.execute_input": "2022-12-20T17:43:41.414283Z",
     "iopub.status.busy": "2022-12-20T17:43:41.413856Z",
     "iopub.status.idle": "2022-12-20T17:43:41.422019Z",
     "shell.execute_reply": "2022-12-20T17:43:41.421120Z"
    },
    "papermill": {
     "duration": 0.058719,
     "end_time": "2022-12-20T17:43:41.424098",
     "exception": false,
     "start_time": "2022-12-20T17:43:41.365379",
     "status": "completed"
    },
    "tags": []
   },
   "outputs": [
    {
     "data": {
      "text/plain": [
       "[array([0.81894963, 0.81726044, 0.81710688, 0.81925676, 0.81987101]),\n",
       " array([0.81894963, 0.81710688, 0.81695332, 0.81956388, 0.81987101]),\n",
       " array([0.81910319, 0.81695332, 0.81695332, 0.81941032, 0.81987101]),\n",
       " array([0.81910319, 0.81710688, 0.81695332, 0.81941032, 0.81987101]),\n",
       " array([0.82724201, 0.82063882, 0.82263514, 0.82248157, 0.82079238]),\n",
       " array([0.82785627, 0.8203317 , 0.82263514, 0.82248157, 0.82202088]),\n",
       " array([0.8289312 , 0.82002457, 0.8227887 , 0.82186732, 0.82202088]),\n",
       " array([0.82862408, 0.81971744, 0.82340295, 0.82217445, 0.82140663]),\n",
       " array([0.82570639, 0.82140663, 0.82217445, 0.82048526, 0.8203317 ]),\n",
       " array([0.82724201, 0.82109951, 0.82355651, 0.82079238, 0.82002457]),\n",
       " array([0.82816339, 0.82109951, 0.82340295, 0.82017813, 0.8203317 ]),\n",
       " array([0.82800983, 0.82079238, 0.82432432, 0.82109951, 0.82002457])]"
      ]
     },
     "execution_count": 66,
     "metadata": {},
     "output_type": "execute_result"
    }
   ],
   "source": [
    "scores"
   ]
  },
  {
   "cell_type": "markdown",
   "id": "d6906009",
   "metadata": {
    "papermill": {
     "duration": 0.047012,
     "end_time": "2022-12-20T17:43:41.518043",
     "exception": false,
     "start_time": "2022-12-20T17:43:41.471031",
     "status": "completed"
    },
    "tags": []
   },
   "source": [
    "Vamos calcular o erro empírico através da média dos erros em cada fold:"
   ]
  },
  {
   "cell_type": "code",
   "execution_count": 67,
   "id": "7fea5374",
   "metadata": {
    "execution": {
     "iopub.execute_input": "2022-12-20T17:43:41.614204Z",
     "iopub.status.busy": "2022-12-20T17:43:41.613698Z",
     "iopub.status.idle": "2022-12-20T17:43:41.618966Z",
     "shell.execute_reply": "2022-12-20T17:43:41.618072Z"
    },
    "papermill": {
     "duration": 0.055856,
     "end_time": "2022-12-20T17:43:41.621151",
     "exception": false,
     "start_time": "2022-12-20T17:43:41.565295",
     "status": "completed"
    },
    "tags": []
   },
   "outputs": [],
   "source": [
    "M=[]\n",
    "for j in scores:\n",
    "    M.append(mean(j))"
   ]
  },
  {
   "cell_type": "code",
   "execution_count": 68,
   "id": "02dd2e47",
   "metadata": {
    "execution": {
     "iopub.execute_input": "2022-12-20T17:43:41.719406Z",
     "iopub.status.busy": "2022-12-20T17:43:41.718516Z",
     "iopub.status.idle": "2022-12-20T17:43:41.725067Z",
     "shell.execute_reply": "2022-12-20T17:43:41.723963Z"
    },
    "papermill": {
     "duration": 0.058036,
     "end_time": "2022-12-20T17:43:41.727500",
     "exception": false,
     "start_time": "2022-12-20T17:43:41.669464",
     "status": "completed"
    },
    "tags": []
   },
   "outputs": [
    {
     "data": {
      "text/plain": [
       "[0.8184889434889435,\n",
       " 0.8184889434889435,\n",
       " 0.818458230958231,\n",
       " 0.8184889434889435,\n",
       " 0.8227579852579853,\n",
       " 0.8230651105651106,\n",
       " 0.8231265356265356,\n",
       " 0.8230651105651106,\n",
       " 0.8220208845208845,\n",
       " 0.8225429975429975,\n",
       " 0.8226351351351351,\n",
       " 0.8228501228501228]"
      ]
     },
     "execution_count": 68,
     "metadata": {},
     "output_type": "execute_result"
    }
   ],
   "source": [
    "M"
   ]
  },
  {
   "cell_type": "markdown",
   "id": "1e9a106a",
   "metadata": {
    "papermill": {
     "duration": 0.047323,
     "end_time": "2022-12-20T17:43:41.822649",
     "exception": false,
     "start_time": "2022-12-20T17:43:41.775326",
     "status": "completed"
    },
    "tags": []
   },
   "source": [
    "Podemos ver que o desempenho do kernel linear é menor que os outros, via de regra, o kernel polinomial se saiu um pouco melhor que os outros dois, por fim, o fator de normalização altera o desempenho dos diferentes kernels de formas distintas, mas sem um padrão claro, a priorí."
   ]
  },
  {
   "cell_type": "markdown",
   "id": "afbd5d56",
   "metadata": {
    "papermill": {
     "duration": 0.046353,
     "end_time": "2022-12-20T17:43:41.916318",
     "exception": false,
     "start_time": "2022-12-20T17:43:41.869965",
     "status": "completed"
    },
    "tags": []
   },
   "source": [
    "Vamos selecionar o kernel e parâmetro de normalização que fornecem maior acerto:"
   ]
  },
  {
   "cell_type": "code",
   "execution_count": 69,
   "id": "d6620abd",
   "metadata": {
    "execution": {
     "iopub.execute_input": "2022-12-20T17:43:42.011679Z",
     "iopub.status.busy": "2022-12-20T17:43:42.011268Z",
     "iopub.status.idle": "2022-12-20T17:43:42.017051Z",
     "shell.execute_reply": "2022-12-20T17:43:42.015944Z"
    },
    "papermill": {
     "duration": 0.056175,
     "end_time": "2022-12-20T17:43:42.019365",
     "exception": false,
     "start_time": "2022-12-20T17:43:41.963190",
     "status": "completed"
    },
    "tags": []
   },
   "outputs": [],
   "source": [
    "n=0\n",
    "for x in range(1,len(M)):\n",
    "    if M[x] > M[n]:\n",
    "        n = x"
   ]
  },
  {
   "cell_type": "markdown",
   "id": "658b9f39",
   "metadata": {
    "papermill": {
     "duration": 0.046531,
     "end_time": "2022-12-20T17:43:42.168037",
     "exception": false,
     "start_time": "2022-12-20T17:43:42.121506",
     "status": "completed"
    },
    "tags": []
   },
   "source": [
    "Vamos analisar o valor de n:"
   ]
  },
  {
   "cell_type": "code",
   "execution_count": 70,
   "id": "353257a3",
   "metadata": {
    "execution": {
     "iopub.execute_input": "2022-12-20T17:43:42.264466Z",
     "iopub.status.busy": "2022-12-20T17:43:42.264037Z",
     "iopub.status.idle": "2022-12-20T17:43:42.270631Z",
     "shell.execute_reply": "2022-12-20T17:43:42.269520Z"
    },
    "papermill": {
     "duration": 0.057728,
     "end_time": "2022-12-20T17:43:42.272941",
     "exception": false,
     "start_time": "2022-12-20T17:43:42.215213",
     "status": "completed"
    },
    "tags": []
   },
   "outputs": [
    {
     "data": {
      "text/plain": [
       "6"
      ]
     },
     "execution_count": 70,
     "metadata": {},
     "output_type": "execute_result"
    }
   ],
   "source": [
    "n"
   ]
  },
  {
   "cell_type": "markdown",
   "id": "e86acfdf",
   "metadata": {
    "papermill": {
     "duration": 0.04652,
     "end_time": "2022-12-20T17:43:42.366840",
     "exception": false,
     "start_time": "2022-12-20T17:43:42.320320",
     "status": "completed"
    },
    "tags": []
   },
   "source": [
    "Para esse valor temos kernel do tipo polinomial e C = 4, esse valor que usaremos para calcular o erro empírico para toda base de dados."
   ]
  },
  {
   "cell_type": "markdown",
   "id": "6350835f",
   "metadata": {
    "papermill": {
     "duration": 0.04643,
     "end_time": "2022-12-20T17:43:42.460122",
     "exception": false,
     "start_time": "2022-12-20T17:43:42.413692",
     "status": "completed"
    },
    "tags": []
   },
   "source": [
    "Agora vamos construir o classificador de boosting:"
   ]
  },
  {
   "cell_type": "markdown",
   "id": "34e9697c",
   "metadata": {
    "papermill": {
     "duration": 0.04728,
     "end_time": "2022-12-20T17:43:42.554170",
     "exception": false,
     "start_time": "2022-12-20T17:43:42.506890",
     "status": "completed"
    },
    "tags": []
   },
   "source": [
    "Primeiro vamos determinar a taxa de aprendizado:"
   ]
  },
  {
   "cell_type": "code",
   "execution_count": 71,
   "id": "59e31acb",
   "metadata": {
    "execution": {
     "iopub.execute_input": "2022-12-20T17:43:42.650133Z",
     "iopub.status.busy": "2022-12-20T17:43:42.649124Z",
     "iopub.status.idle": "2022-12-20T17:43:42.653636Z",
     "shell.execute_reply": "2022-12-20T17:43:42.652847Z"
    },
    "papermill": {
     "duration": 0.054657,
     "end_time": "2022-12-20T17:43:42.655789",
     "exception": false,
     "start_time": "2022-12-20T17:43:42.601132",
     "status": "completed"
    },
    "tags": []
   },
   "outputs": [],
   "source": [
    "learning = [0.05,0.1]"
   ]
  },
  {
   "cell_type": "markdown",
   "id": "0f36c04a",
   "metadata": {
    "papermill": {
     "duration": 0.046641,
     "end_time": "2022-12-20T17:43:42.750069",
     "exception": false,
     "start_time": "2022-12-20T17:43:42.703428",
     "status": "completed"
    },
    "tags": []
   },
   "source": [
    "A seguir, vamos escolher o número de árvores de nossa floresta ou o número de classificadores fracos, no caso de boosting:"
   ]
  },
  {
   "cell_type": "code",
   "execution_count": 72,
   "id": "42c878c0",
   "metadata": {
    "execution": {
     "iopub.execute_input": "2022-12-20T17:43:42.845892Z",
     "iopub.status.busy": "2022-12-20T17:43:42.845096Z",
     "iopub.status.idle": "2022-12-20T17:43:42.850100Z",
     "shell.execute_reply": "2022-12-20T17:43:42.849072Z"
    },
    "papermill": {
     "duration": 0.055498,
     "end_time": "2022-12-20T17:43:42.852341",
     "exception": false,
     "start_time": "2022-12-20T17:43:42.796843",
     "status": "completed"
    },
    "tags": []
   },
   "outputs": [],
   "source": [
    "N = [10,100,500]"
   ]
  },
  {
   "cell_type": "markdown",
   "id": "04cf75b0",
   "metadata": {
    "papermill": {
     "duration": 0.047023,
     "end_time": "2022-12-20T17:43:42.946382",
     "exception": false,
     "start_time": "2022-12-20T17:43:42.899359",
     "status": "completed"
    },
    "tags": []
   },
   "source": [
    "Seguimos pelo tamanho das árvores de nossa floresta, ou o tamanho dos classificadores fracos:"
   ]
  },
  {
   "cell_type": "code",
   "execution_count": 73,
   "id": "4529df19",
   "metadata": {
    "execution": {
     "iopub.execute_input": "2022-12-20T17:43:43.042381Z",
     "iopub.status.busy": "2022-12-20T17:43:43.041955Z",
     "iopub.status.idle": "2022-12-20T17:43:43.047203Z",
     "shell.execute_reply": "2022-12-20T17:43:43.046045Z"
    },
    "papermill": {
     "duration": 0.055737,
     "end_time": "2022-12-20T17:43:43.049296",
     "exception": false,
     "start_time": "2022-12-20T17:43:42.993559",
     "status": "completed"
    },
    "tags": []
   },
   "outputs": [],
   "source": [
    "dept = [1,2,4, None]"
   ]
  },
  {
   "cell_type": "code",
   "execution_count": 74,
   "id": "d51dc7e1",
   "metadata": {
    "execution": {
     "iopub.execute_input": "2022-12-20T17:43:43.144910Z",
     "iopub.status.busy": "2022-12-20T17:43:43.144463Z",
     "iopub.status.idle": "2022-12-20T17:44:45.376790Z",
     "shell.execute_reply": "2022-12-20T17:44:45.375142Z"
    },
    "papermill": {
     "duration": 62.283109,
     "end_time": "2022-12-20T17:44:45.379170",
     "exception": false,
     "start_time": "2022-12-20T17:43:43.096061",
     "status": "completed"
    },
    "tags": []
   },
   "outputs": [
    {
     "name": "stdout",
     "output_type": "stream",
     "text": [
      "       Interação |    Nº de árvores |     Profundidade |      Aprendizado\n",
      "               0 |               10 |                1 |             0.05\n",
      "               1 |               10 |                1 |              0.1\n",
      "               2 |               10 |                2 |             0.05\n",
      "               3 |               10 |                2 |              0.1\n",
      "               4 |               10 |                4 |             0.05\n",
      "               5 |               10 |                4 |              0.1\n",
      "               6 |               10 |        ilimitada |             0.05\n",
      "               7 |               10 |        ilimitada |              0.1\n",
      "               8 |              100 |                1 |             0.05\n",
      "               9 |              100 |                1 |              0.1\n",
      "              10 |              100 |                2 |             0.05\n",
      "              11 |              100 |                2 |              0.1\n",
      "              12 |              100 |                4 |             0.05\n",
      "              13 |              100 |                4 |              0.1\n",
      "              14 |              100 |        ilimitada |             0.05\n",
      "              15 |              100 |        ilimitada |              0.1\n",
      "              16 |              500 |                1 |             0.05\n",
      "              17 |              500 |                1 |              0.1\n",
      "              18 |              500 |                2 |             0.05\n",
      "              19 |              500 |                2 |              0.1\n",
      "              20 |              500 |                4 |             0.05\n",
      "              21 |              500 |                4 |              0.1\n",
      "              22 |              500 |        ilimitada |             0.05\n",
      "              23 |              500 |        ilimitada |              0.1\n"
     ]
    }
   ],
   "source": [
    "n=0\n",
    "Scoreboosting= []\n",
    "h = ''\n",
    "print('{0:>16} | {1:>16} | {2:>16} | {3:>16}'.format('Interação', 'Nº de árvores','Profundidade','Aprendizado'))\n",
    "for y in N:\n",
    "    for z in dept:\n",
    "        for k in learning:\n",
    "                Scoreboosting.append(cross_val_score(HistGradientBoostingClassifier(random_state = 0,max_depth=z,max_iter = y,learning_rate = k), treino_adult, Y_treino, cv=5))\n",
    "                if z == None:\n",
    "                    h = 'ilimitada'\n",
    "                else:\n",
    "                    h = z\n",
    "                print('{0:16} | {1:16} | {2:>16} | {3:16}'.format(n,y,h,k))\n",
    "                n=n+1"
   ]
  },
  {
   "cell_type": "markdown",
   "id": "f06d1797",
   "metadata": {
    "papermill": {
     "duration": 0.047571,
     "end_time": "2022-12-20T17:44:45.475099",
     "exception": false,
     "start_time": "2022-12-20T17:44:45.427528",
     "status": "completed"
    },
    "tags": []
   },
   "source": [
    "Vamos determinar o valor de n, a partir dos dados com maior taxa de acerto, para isso calculemos o índice de acerto pela média entre os acertos de um mesmo fold:"
   ]
  },
  {
   "cell_type": "code",
   "execution_count": 75,
   "id": "73be82a9",
   "metadata": {
    "execution": {
     "iopub.execute_input": "2022-12-20T17:44:45.574221Z",
     "iopub.status.busy": "2022-12-20T17:44:45.573413Z",
     "iopub.status.idle": "2022-12-20T17:44:45.579577Z",
     "shell.execute_reply": "2022-12-20T17:44:45.578332Z"
    },
    "papermill": {
     "duration": 0.058902,
     "end_time": "2022-12-20T17:44:45.582256",
     "exception": false,
     "start_time": "2022-12-20T17:44:45.523354",
     "status": "completed"
    },
    "tags": []
   },
   "outputs": [],
   "source": [
    "Meanboosting=[]\n",
    "for j in Scoreboosting:\n",
    "    Meanboosting.append(mean(j))"
   ]
  },
  {
   "cell_type": "code",
   "execution_count": 76,
   "id": "fdd7b78e",
   "metadata": {
    "execution": {
     "iopub.execute_input": "2022-12-20T17:44:45.682507Z",
     "iopub.status.busy": "2022-12-20T17:44:45.682115Z",
     "iopub.status.idle": "2022-12-20T17:44:45.689794Z",
     "shell.execute_reply": "2022-12-20T17:44:45.688562Z"
    },
    "papermill": {
     "duration": 0.059582,
     "end_time": "2022-12-20T17:44:45.692151",
     "exception": false,
     "start_time": "2022-12-20T17:44:45.632569",
     "status": "completed"
    },
    "tags": []
   },
   "outputs": [
    {
     "data": {
      "text/plain": [
       "[0.7591830466830467,\n",
       " 0.7591830466830467,\n",
       " 0.7591830466830467,\n",
       " 0.8162162162162162,\n",
       " 0.7591830466830467,\n",
       " 0.8193181818181818,\n",
       " 0.7591830466830467,\n",
       " 0.8185810810810811,\n",
       " 0.8198710073710074,\n",
       " 0.8246007371007371,\n",
       " 0.8258599508599509,\n",
       " 0.8289004914004914,\n",
       " 0.8303439803439804,\n",
       " 0.8317260442260442,\n",
       " 0.8312960687960688,\n",
       " 0.8309889434889435,\n",
       " 0.8261977886977887,\n",
       " 0.8269963144963145,\n",
       " 0.8302518427518427,\n",
       " 0.8297297297297297,\n",
       " 0.8315724815724815,\n",
       " 0.8317260442260442,\n",
       " 0.8305282555282556,\n",
       " 0.8309889434889435]"
      ]
     },
     "execution_count": 76,
     "metadata": {},
     "output_type": "execute_result"
    }
   ],
   "source": [
    "Meanboosting"
   ]
  },
  {
   "cell_type": "markdown",
   "id": "858effb7",
   "metadata": {
    "papermill": {
     "duration": 0.047843,
     "end_time": "2022-12-20T17:44:45.788509",
     "exception": false,
     "start_time": "2022-12-20T17:44:45.740666",
     "status": "completed"
    },
    "tags": []
   },
   "source": [
    "Podemos ver que a taxa de aprendizado é um parâmetro importante, como os primeiros dados sugerem, provavelmente uma taxa um pouco maior evita que o sistema caia em um mínimo local. O desempenho, independente da taxa de aprendizado, parece aumentar com o número de árvores. A profundidade da árvore não parece ser um fator muito preponderante para melhora da taxa de acerto, a não ser no caso de poucas árvores e pouca profundidade."
   ]
  },
  {
   "cell_type": "markdown",
   "id": "2a344259",
   "metadata": {
    "papermill": {
     "duration": 0.04789,
     "end_time": "2022-12-20T17:44:45.884518",
     "exception": false,
     "start_time": "2022-12-20T17:44:45.836628",
     "status": "completed"
    },
    "tags": []
   },
   "source": [
    "A seguir, selecionemos a configuração cujo valor tem maior taxa de acerto:"
   ]
  },
  {
   "cell_type": "code",
   "execution_count": 77,
   "id": "71288b09",
   "metadata": {
    "execution": {
     "iopub.execute_input": "2022-12-20T17:44:45.982879Z",
     "iopub.status.busy": "2022-12-20T17:44:45.982225Z",
     "iopub.status.idle": "2022-12-20T17:44:45.987904Z",
     "shell.execute_reply": "2022-12-20T17:44:45.986961Z"
    },
    "papermill": {
     "duration": 0.057481,
     "end_time": "2022-12-20T17:44:45.990218",
     "exception": false,
     "start_time": "2022-12-20T17:44:45.932737",
     "status": "completed"
    },
    "tags": []
   },
   "outputs": [],
   "source": [
    "n=0\n",
    "for j in range(1,len(Meanboosting)):\n",
    "    if Meanboosting[j] > Meanboosting[n]:\n",
    "        n=j"
   ]
  },
  {
   "cell_type": "markdown",
   "id": "d4be3e8f",
   "metadata": {
    "papermill": {
     "duration": 0.04799,
     "end_time": "2022-12-20T17:44:46.086128",
     "exception": false,
     "start_time": "2022-12-20T17:44:46.038138",
     "status": "completed"
    },
    "tags": []
   },
   "source": [
    "Esse valor é:"
   ]
  },
  {
   "cell_type": "code",
   "execution_count": 78,
   "id": "abb6360b",
   "metadata": {
    "execution": {
     "iopub.execute_input": "2022-12-20T17:44:46.183968Z",
     "iopub.status.busy": "2022-12-20T17:44:46.183286Z",
     "iopub.status.idle": "2022-12-20T17:44:46.189772Z",
     "shell.execute_reply": "2022-12-20T17:44:46.188913Z"
    },
    "papermill": {
     "duration": 0.057953,
     "end_time": "2022-12-20T17:44:46.191846",
     "exception": false,
     "start_time": "2022-12-20T17:44:46.133893",
     "status": "completed"
    },
    "tags": []
   },
   "outputs": [
    {
     "data": {
      "text/plain": [
       "13"
      ]
     },
     "execution_count": 78,
     "metadata": {},
     "output_type": "execute_result"
    }
   ],
   "source": [
    "n"
   ]
  },
  {
   "cell_type": "markdown",
   "id": "dac7bfcc",
   "metadata": {
    "papermill": {
     "duration": 0.048791,
     "end_time": "2022-12-20T17:44:46.288635",
     "exception": false,
     "start_time": "2022-12-20T17:44:46.239844",
     "status": "completed"
    },
    "tags": []
   },
   "source": [
    "Esse valor corresponde à 100 classificadores fracos, com limite de profundidade da árvore igual a 4 e taxa de aprendizado de 0.1, o que provoca um questionamento sobre se mais árvores implicam em melhor desempenho do classificador."
   ]
  },
  {
   "cell_type": "markdown",
   "id": "6192acbf",
   "metadata": {
    "papermill": {
     "duration": 0.050747,
     "end_time": "2022-12-20T17:44:46.388142",
     "exception": false,
     "start_time": "2022-12-20T17:44:46.337395",
     "status": "completed"
    },
    "tags": []
   },
   "source": [
    "Agora vamos trabalhar com Florestas Aleatórias:"
   ]
  },
  {
   "cell_type": "markdown",
   "id": "12b74a42",
   "metadata": {
    "papermill": {
     "duration": 0.04771,
     "end_time": "2022-12-20T17:44:46.484519",
     "exception": false,
     "start_time": "2022-12-20T17:44:46.436809",
     "status": "completed"
    },
    "tags": []
   },
   "source": [
    "Existe uma série de parâmetros que podemos escolher para as florestas aleatórias, vamos começar pelo critério de criação de nó:"
   ]
  },
  {
   "cell_type": "code",
   "execution_count": 79,
   "id": "2d17989e",
   "metadata": {
    "execution": {
     "iopub.execute_input": "2022-12-20T17:44:46.583194Z",
     "iopub.status.busy": "2022-12-20T17:44:46.582765Z",
     "iopub.status.idle": "2022-12-20T17:44:46.587884Z",
     "shell.execute_reply": "2022-12-20T17:44:46.586763Z"
    },
    "papermill": {
     "duration": 0.057702,
     "end_time": "2022-12-20T17:44:46.590316",
     "exception": false,
     "start_time": "2022-12-20T17:44:46.532614",
     "status": "completed"
    },
    "tags": []
   },
   "outputs": [],
   "source": [
    "cri = ['gini', 'entropy']"
   ]
  },
  {
   "cell_type": "markdown",
   "id": "77a82d48",
   "metadata": {
    "papermill": {
     "duration": 0.047998,
     "end_time": "2022-12-20T17:44:46.686659",
     "exception": false,
     "start_time": "2022-12-20T17:44:46.638661",
     "status": "completed"
    },
    "tags": []
   },
   "source": [
    "A seguir, podemos escolher o número de árvores de nossa floresta e a profundidade delas, nesse caso usaremos os mesmos parâmetros usados no boosting, primeiro para o número das mesmas:"
   ]
  },
  {
   "cell_type": "code",
   "execution_count": 80,
   "id": "f43d7326",
   "metadata": {
    "execution": {
     "iopub.execute_input": "2022-12-20T17:44:46.784913Z",
     "iopub.status.busy": "2022-12-20T17:44:46.784498Z",
     "iopub.status.idle": "2022-12-20T17:44:46.789542Z",
     "shell.execute_reply": "2022-12-20T17:44:46.788294Z"
    },
    "papermill": {
     "duration": 0.056939,
     "end_time": "2022-12-20T17:44:46.791957",
     "exception": false,
     "start_time": "2022-12-20T17:44:46.735018",
     "status": "completed"
    },
    "tags": []
   },
   "outputs": [],
   "source": [
    "N=[10,100,500]"
   ]
  },
  {
   "cell_type": "markdown",
   "id": "7d997ef9",
   "metadata": {
    "papermill": {
     "duration": 0.047763,
     "end_time": "2022-12-20T17:44:46.887771",
     "exception": false,
     "start_time": "2022-12-20T17:44:46.840008",
     "status": "completed"
    },
    "tags": []
   },
   "source": [
    "Seguimos pelo tamanho das árvores de nossa floresta:"
   ]
  },
  {
   "cell_type": "code",
   "execution_count": 81,
   "id": "6a7eab0d",
   "metadata": {
    "execution": {
     "iopub.execute_input": "2022-12-20T17:44:46.985946Z",
     "iopub.status.busy": "2022-12-20T17:44:46.984826Z",
     "iopub.status.idle": "2022-12-20T17:44:46.990230Z",
     "shell.execute_reply": "2022-12-20T17:44:46.989009Z"
    },
    "papermill": {
     "duration": 0.056756,
     "end_time": "2022-12-20T17:44:46.992410",
     "exception": false,
     "start_time": "2022-12-20T17:44:46.935654",
     "status": "completed"
    },
    "tags": []
   },
   "outputs": [],
   "source": [
    "dept = [1,2,4, None]"
   ]
  },
  {
   "cell_type": "markdown",
   "id": "3cf37072",
   "metadata": {
    "papermill": {
     "duration": 0.047969,
     "end_time": "2022-12-20T17:44:47.088813",
     "exception": false,
     "start_time": "2022-12-20T17:44:47.040844",
     "status": "completed"
    },
    "tags": []
   },
   "source": [
    "Por fim, escolhemos o máximo de features por split, vamos permitir apenas a opção raiz quadrada, que significa que em cada split consideraremos aproximadamente um número de variáveis que corresponde à raiz quadrada do número total de features possíveis:"
   ]
  },
  {
   "cell_type": "code",
   "execution_count": 82,
   "id": "765a2c7b",
   "metadata": {
    "execution": {
     "iopub.execute_input": "2022-12-20T17:44:47.189154Z",
     "iopub.status.busy": "2022-12-20T17:44:47.187798Z",
     "iopub.status.idle": "2022-12-20T17:44:47.193683Z",
     "shell.execute_reply": "2022-12-20T17:44:47.192650Z"
    },
    "papermill": {
     "duration": 0.058886,
     "end_time": "2022-12-20T17:44:47.196227",
     "exception": false,
     "start_time": "2022-12-20T17:44:47.137341",
     "status": "completed"
    },
    "tags": []
   },
   "outputs": [],
   "source": [
    "Features = ['sqrt']"
   ]
  },
  {
   "cell_type": "code",
   "execution_count": 83,
   "id": "9659ea7e",
   "metadata": {
    "execution": {
     "iopub.execute_input": "2022-12-20T17:44:47.294838Z",
     "iopub.status.busy": "2022-12-20T17:44:47.294461Z",
     "iopub.status.idle": "2022-12-20T17:51:07.586070Z",
     "shell.execute_reply": "2022-12-20T17:51:07.584674Z"
    },
    "papermill": {
     "duration": 380.392706,
     "end_time": "2022-12-20T17:51:07.637545",
     "exception": false,
     "start_time": "2022-12-20T17:44:47.244839",
     "status": "completed"
    },
    "scrolled": true,
    "tags": []
   },
   "outputs": [
    {
     "name": "stdout",
     "output_type": "stream",
     "text": [
      "       Interação |    Nº de árvores |     Profundidade |         Critério\n",
      "               0 |               10 |                1 |             gini\n",
      "               1 |               10 |                2 |             gini\n",
      "               2 |               10 |                4 |             gini\n",
      "               3 |               10 |        ilimitada |             gini\n",
      "               4 |              100 |                1 |             gini\n",
      "               5 |              100 |                2 |             gini\n",
      "               6 |              100 |                4 |             gini\n",
      "               7 |              100 |        ilimitada |             gini\n",
      "               8 |              500 |                1 |             gini\n",
      "               9 |              500 |                2 |             gini\n",
      "              10 |              500 |                4 |             gini\n",
      "              11 |              500 |        ilimitada |             gini\n",
      "              12 |               10 |                1 |          entropy\n",
      "              13 |               10 |                2 |          entropy\n",
      "              14 |               10 |                4 |          entropy\n",
      "              15 |               10 |        ilimitada |          entropy\n",
      "              16 |              100 |                1 |          entropy\n",
      "              17 |              100 |                2 |          entropy\n",
      "              18 |              100 |                4 |          entropy\n",
      "              19 |              100 |        ilimitada |          entropy\n",
      "              20 |              500 |                1 |          entropy\n",
      "              21 |              500 |                2 |          entropy\n",
      "              22 |              500 |                4 |          entropy\n",
      "              23 |              500 |        ilimitada |          entropy\n"
     ]
    }
   ],
   "source": [
    "Scoreforest = []\n",
    "n=0\n",
    "print('{0:>16} | {1:>16} | {2:>16} | {3:>16}'.format('Interação', 'Nº de árvores','Profundidade','Critério'))\n",
    "for x in cri:\n",
    "    for y in N:\n",
    "        for z in dept:\n",
    "            for k in Features:\n",
    "                Scoreforest.append(cross_val_score(RandomForestClassifier(random_state=0,max_depth=z,n_estimators= y,criterion= x,max_features = k), treino_adult, Y_treino, cv=5))\n",
    "                if z == None:\n",
    "                    h = 'ilimitada'\n",
    "                else:\n",
    "                    h = z\n",
    "                print('{0:16} | {1:16} | {2:>16} | {3:>16}'.format(n,y,h,x))\n",
    "                n=n+1"
   ]
  },
  {
   "cell_type": "markdown",
   "id": "27290cd2",
   "metadata": {
    "papermill": {
     "duration": 0.049535,
     "end_time": "2022-12-20T17:51:07.736577",
     "exception": false,
     "start_time": "2022-12-20T17:51:07.687042",
     "status": "completed"
    },
    "tags": []
   },
   "source": [
    "Vamos calcular a taxa de acerto através da média entre os folds com mesmos parâmetros:"
   ]
  },
  {
   "cell_type": "code",
   "execution_count": 84,
   "id": "808f9aad",
   "metadata": {
    "execution": {
     "iopub.execute_input": "2022-12-20T17:51:07.839592Z",
     "iopub.status.busy": "2022-12-20T17:51:07.839196Z",
     "iopub.status.idle": "2022-12-20T17:51:07.845416Z",
     "shell.execute_reply": "2022-12-20T17:51:07.844064Z"
    },
    "papermill": {
     "duration": 0.061153,
     "end_time": "2022-12-20T17:51:07.847810",
     "exception": false,
     "start_time": "2022-12-20T17:51:07.786657",
     "status": "completed"
    },
    "tags": []
   },
   "outputs": [],
   "source": [
    "Meanforest=[]\n",
    "for j in Scoreforest:\n",
    "    Meanforest.append(mean(j))"
   ]
  },
  {
   "cell_type": "code",
   "execution_count": 85,
   "id": "5793e14c",
   "metadata": {
    "execution": {
     "iopub.execute_input": "2022-12-20T17:51:07.950254Z",
     "iopub.status.busy": "2022-12-20T17:51:07.949817Z",
     "iopub.status.idle": "2022-12-20T17:51:07.957308Z",
     "shell.execute_reply": "2022-12-20T17:51:07.956157Z"
    },
    "papermill": {
     "duration": 0.061585,
     "end_time": "2022-12-20T17:51:07.959769",
     "exception": false,
     "start_time": "2022-12-20T17:51:07.898184",
     "status": "completed"
    },
    "tags": []
   },
   "outputs": [
    {
     "data": {
      "text/plain": [
       "[0.7591830466830467,\n",
       " 0.8037162162162163,\n",
       " 0.8191339066339066,\n",
       " 0.8010135135135136,\n",
       " 0.7591830466830467,\n",
       " 0.7591830466830467,\n",
       " 0.8161855036855037,\n",
       " 0.8088759213759213,\n",
       " 0.7591830466830467,\n",
       " 0.7591830466830467,\n",
       " 0.8163083538083538,\n",
       " 0.809490171990172,\n",
       " 0.7591830466830467,\n",
       " 0.7816339066339066,\n",
       " 0.818980343980344,\n",
       " 0.8012592137592137,\n",
       " 0.7591830466830467,\n",
       " 0.7591830466830467,\n",
       " 0.8163083538083538,\n",
       " 0.8086609336609336,\n",
       " 0.7591830466830467,\n",
       " 0.7591830466830467,\n",
       " 0.8165233415233415,\n",
       " 0.807923832923833]"
      ]
     },
     "execution_count": 85,
     "metadata": {},
     "output_type": "execute_result"
    }
   ],
   "source": [
    "Meanforest"
   ]
  },
  {
   "cell_type": "markdown",
   "id": "63f66f04",
   "metadata": {
    "papermill": {
     "duration": 0.051051,
     "end_time": "2022-12-20T17:51:08.062016",
     "exception": false,
     "start_time": "2022-12-20T17:51:08.010965",
     "status": "completed"
    },
    "tags": []
   },
   "source": [
    "Como podemos ver, parece que, sistematicamente, os melhores resultados são obtidos para árvores de profundidade 4, para árvores com profundidade 1 ou 2, a taxa de acerto é sistematicamente menor, isso pode ser algum tipo de underfitting, todavia, para tamanho ilimitado, a taxa de acerto diminui, isso pode ser uma indicação de overfitting. Não parece haver um ganho considerável ao se trocar o tipo de critério de seleção de nós."
   ]
  },
  {
   "cell_type": "markdown",
   "id": "98f53759",
   "metadata": {
    "papermill": {
     "duration": 0.05083,
     "end_time": "2022-12-20T17:51:08.164807",
     "exception": false,
     "start_time": "2022-12-20T17:51:08.113977",
     "status": "completed"
    },
    "tags": []
   },
   "source": [
    "Vamos extrair os parâmetros que propiciam maior taxa de acerto:"
   ]
  },
  {
   "cell_type": "code",
   "execution_count": 86,
   "id": "ff881b2a",
   "metadata": {
    "execution": {
     "iopub.execute_input": "2022-12-20T17:51:08.268760Z",
     "iopub.status.busy": "2022-12-20T17:51:08.268369Z",
     "iopub.status.idle": "2022-12-20T17:51:08.273945Z",
     "shell.execute_reply": "2022-12-20T17:51:08.272601Z"
    },
    "papermill": {
     "duration": 0.061486,
     "end_time": "2022-12-20T17:51:08.276523",
     "exception": false,
     "start_time": "2022-12-20T17:51:08.215037",
     "status": "completed"
    },
    "tags": []
   },
   "outputs": [],
   "source": [
    "n=0\n",
    "for x in range(1,len(Meanforest)):\n",
    "    if Meanforest[x] > Meanforest[n]:\n",
    "        n = x"
   ]
  },
  {
   "cell_type": "code",
   "execution_count": 87,
   "id": "32c26f96",
   "metadata": {
    "execution": {
     "iopub.execute_input": "2022-12-20T17:51:08.380221Z",
     "iopub.status.busy": "2022-12-20T17:51:08.379798Z",
     "iopub.status.idle": "2022-12-20T17:51:08.385430Z",
     "shell.execute_reply": "2022-12-20T17:51:08.384527Z"
    },
    "papermill": {
     "duration": 0.060035,
     "end_time": "2022-12-20T17:51:08.387425",
     "exception": false,
     "start_time": "2022-12-20T17:51:08.327390",
     "status": "completed"
    },
    "tags": []
   },
   "outputs": [
    {
     "data": {
      "text/plain": [
       "2"
      ]
     },
     "execution_count": 87,
     "metadata": {},
     "output_type": "execute_result"
    }
   ],
   "source": [
    "n"
   ]
  },
  {
   "cell_type": "markdown",
   "id": "b7972315",
   "metadata": {
    "papermill": {
     "duration": 0.050538,
     "end_time": "2022-12-20T17:51:08.489028",
     "exception": false,
     "start_time": "2022-12-20T17:51:08.438490",
     "status": "completed"
    },
    "tags": []
   },
   "source": [
    "Que corresponde à criterio de Gini, número de árvores igual a 10, profundidade das mesmas igual a 4 e critério de seleção de features como sqrt."
   ]
  },
  {
   "cell_type": "markdown",
   "id": "5942b43c",
   "metadata": {
    "papermill": {
     "duration": 0.05045,
     "end_time": "2022-12-20T17:51:08.590219",
     "exception": false,
     "start_time": "2022-12-20T17:51:08.539769",
     "status": "completed"
    },
    "tags": []
   },
   "source": [
    "Agora sabemos os melhores parâmetros para cada classificador, vamos aplicar validação cruzada em cada um deles, o que apresentar maior taxa de acerto será escolhido como aquele para o qual calcularemos o erro empírico, vamos utilizar mais folds nesse caso, pois dessa vez não variaremos os parâmetros, o que permite que o gasto computacional seja menor."
   ]
  },
  {
   "cell_type": "markdown",
   "id": "ecacdf2d",
   "metadata": {
    "papermill": {
     "duration": 0.050183,
     "end_time": "2022-12-20T17:51:08.691934",
     "exception": false,
     "start_time": "2022-12-20T17:51:08.641751",
     "status": "completed"
    },
    "tags": []
   },
   "source": [
    "Primeiro para a regressão logística, como discutimos, nesse caso o parâmetro de normalização será C=1:"
   ]
  },
  {
   "cell_type": "code",
   "execution_count": 88,
   "id": "ae40570c",
   "metadata": {
    "execution": {
     "iopub.execute_input": "2022-12-20T17:51:08.794398Z",
     "iopub.status.busy": "2022-12-20T17:51:08.793991Z",
     "iopub.status.idle": "2022-12-20T17:51:13.063076Z",
     "shell.execute_reply": "2022-12-20T17:51:13.061757Z"
    },
    "papermill": {
     "duration": 4.324632,
     "end_time": "2022-12-20T17:51:13.066792",
     "exception": false,
     "start_time": "2022-12-20T17:51:08.742160",
     "status": "completed"
    },
    "tags": []
   },
   "outputs": [],
   "source": [
    "score1=[]\n",
    "score1.append(cross_val_score(LogisticRegression(random_state=0, C=1), treino_adult, Y_treino, cv=10))"
   ]
  },
  {
   "cell_type": "markdown",
   "id": "b003ada3",
   "metadata": {
    "papermill": {
     "duration": 0.061321,
     "end_time": "2022-12-20T17:51:13.214148",
     "exception": false,
     "start_time": "2022-12-20T17:51:13.152827",
     "status": "completed"
    },
    "tags": []
   },
   "source": [
    "A taxa de acerto será:"
   ]
  },
  {
   "cell_type": "code",
   "execution_count": 89,
   "id": "df2d6574",
   "metadata": {
    "execution": {
     "iopub.execute_input": "2022-12-20T17:51:13.319571Z",
     "iopub.status.busy": "2022-12-20T17:51:13.319137Z",
     "iopub.status.idle": "2022-12-20T17:51:13.324525Z",
     "shell.execute_reply": "2022-12-20T17:51:13.323254Z"
    },
    "papermill": {
     "duration": 0.061557,
     "end_time": "2022-12-20T17:51:13.326995",
     "exception": false,
     "start_time": "2022-12-20T17:51:13.265438",
     "status": "completed"
    },
    "tags": []
   },
   "outputs": [],
   "source": [
    "errologistic = mean(score1[0])"
   ]
  },
  {
   "cell_type": "markdown",
   "id": "6c1c6f24",
   "metadata": {
    "papermill": {
     "duration": 0.050229,
     "end_time": "2022-12-20T17:51:13.428423",
     "exception": false,
     "start_time": "2022-12-20T17:51:13.378194",
     "status": "completed"
    },
    "tags": []
   },
   "source": [
    "A seguir para SVM, nesse caso teremos:"
   ]
  },
  {
   "cell_type": "code",
   "execution_count": 90,
   "id": "f6ef7cc7",
   "metadata": {
    "execution": {
     "iopub.execute_input": "2022-12-20T17:51:13.531438Z",
     "iopub.status.busy": "2022-12-20T17:51:13.531036Z",
     "iopub.status.idle": "2022-12-20T17:55:15.699652Z",
     "shell.execute_reply": "2022-12-20T17:55:15.698453Z"
    },
    "papermill": {
     "duration": 242.223906,
     "end_time": "2022-12-20T17:55:15.702444",
     "exception": false,
     "start_time": "2022-12-20T17:51:13.478538",
     "status": "completed"
    },
    "tags": []
   },
   "outputs": [],
   "source": [
    "score2=[]\n",
    "score2.append(cross_val_score(SVC(C = 4, kernel = 'poly'), treino_adult, Y_treino, cv=10))"
   ]
  },
  {
   "cell_type": "code",
   "execution_count": 91,
   "id": "2902c008",
   "metadata": {
    "execution": {
     "iopub.execute_input": "2022-12-20T17:55:15.806994Z",
     "iopub.status.busy": "2022-12-20T17:55:15.806543Z",
     "iopub.status.idle": "2022-12-20T17:55:15.812075Z",
     "shell.execute_reply": "2022-12-20T17:55:15.810857Z"
    },
    "papermill": {
     "duration": 0.0605,
     "end_time": "2022-12-20T17:55:15.814472",
     "exception": false,
     "start_time": "2022-12-20T17:55:15.753972",
     "status": "completed"
    },
    "tags": []
   },
   "outputs": [],
   "source": [
    "erroSVM = mean(score2[0])"
   ]
  },
  {
   "cell_type": "markdown",
   "id": "e161dbe9",
   "metadata": {
    "papermill": {
     "duration": 0.050103,
     "end_time": "2022-12-20T17:55:15.915452",
     "exception": false,
     "start_time": "2022-12-20T17:55:15.865349",
     "status": "completed"
    },
    "tags": []
   },
   "source": [
    "Prosseguimos para o classificador que utiliza boosting, nesse caso tomaremos o tamanho máximo de cada árvore como 4, 100 classificadores fracos e taxa de aprenzidagem de 0.1:"
   ]
  },
  {
   "cell_type": "code",
   "execution_count": 92,
   "id": "7d9a49ea",
   "metadata": {
    "execution": {
     "iopub.execute_input": "2022-12-20T17:55:16.020576Z",
     "iopub.status.busy": "2022-12-20T17:55:16.019765Z",
     "iopub.status.idle": "2022-12-20T17:55:22.646670Z",
     "shell.execute_reply": "2022-12-20T17:55:22.645303Z"
    },
    "papermill": {
     "duration": 6.68238,
     "end_time": "2022-12-20T17:55:22.649443",
     "exception": false,
     "start_time": "2022-12-20T17:55:15.967063",
     "status": "completed"
    },
    "tags": []
   },
   "outputs": [],
   "source": [
    "score3=[]\n",
    "score3.append(cross_val_score(HistGradientBoostingClassifier(random_state = 0,max_depth= 4,max_iter =  100,learning_rate = 0.1), treino_adult, Y_treino, cv=10))\n"
   ]
  },
  {
   "cell_type": "code",
   "execution_count": 93,
   "id": "d7dd1cdc",
   "metadata": {
    "execution": {
     "iopub.execute_input": "2022-12-20T17:55:22.752421Z",
     "iopub.status.busy": "2022-12-20T17:55:22.752039Z",
     "iopub.status.idle": "2022-12-20T17:55:22.757135Z",
     "shell.execute_reply": "2022-12-20T17:55:22.755709Z"
    },
    "papermill": {
     "duration": 0.05934,
     "end_time": "2022-12-20T17:55:22.759534",
     "exception": false,
     "start_time": "2022-12-20T17:55:22.700194",
     "status": "completed"
    },
    "tags": []
   },
   "outputs": [],
   "source": [
    "erroboosting = mean(score3[0])"
   ]
  },
  {
   "cell_type": "code",
   "execution_count": 94,
   "id": "797cc504",
   "metadata": {
    "execution": {
     "iopub.execute_input": "2022-12-20T17:55:22.863380Z",
     "iopub.status.busy": "2022-12-20T17:55:22.862976Z",
     "iopub.status.idle": "2022-12-20T17:55:22.869890Z",
     "shell.execute_reply": "2022-12-20T17:55:22.868959Z"
    },
    "papermill": {
     "duration": 0.061895,
     "end_time": "2022-12-20T17:55:22.872012",
     "exception": false,
     "start_time": "2022-12-20T17:55:22.810117",
     "status": "completed"
    },
    "tags": []
   },
   "outputs": [
    {
     "data": {
      "text/plain": [
       "0.8318488943488943"
      ]
     },
     "execution_count": 94,
     "metadata": {},
     "output_type": "execute_result"
    }
   ],
   "source": [
    "erroboosting"
   ]
  },
  {
   "cell_type": "markdown",
   "id": "24ae79e1",
   "metadata": {
    "papermill": {
     "duration": 0.051772,
     "end_time": "2022-12-20T17:55:22.975158",
     "exception": false,
     "start_time": "2022-12-20T17:55:22.923386",
     "status": "completed"
    },
    "tags": []
   },
   "source": [
    "Por fim, vamos criar o classificador com florestas aleatórias, nesse caso os parâmetros são: tamanho máximo da árvore igual a 4, número de árvores igual a 10, critério de Gini e número máximo de splits como raiz quadrada."
   ]
  },
  {
   "cell_type": "code",
   "execution_count": 95,
   "id": "fb1de66f",
   "metadata": {
    "execution": {
     "iopub.execute_input": "2022-12-20T17:55:23.081693Z",
     "iopub.status.busy": "2022-12-20T17:55:23.081016Z",
     "iopub.status.idle": "2022-12-20T17:55:25.101217Z",
     "shell.execute_reply": "2022-12-20T17:55:25.099883Z"
    },
    "papermill": {
     "duration": 2.075903,
     "end_time": "2022-12-20T17:55:25.103884",
     "exception": false,
     "start_time": "2022-12-20T17:55:23.027981",
     "status": "completed"
    },
    "tags": []
   },
   "outputs": [],
   "source": [
    "score4=[]\n",
    "score4.append(cross_val_score(RandomForestClassifier(random_state=0,max_depth= 4,n_estimators= 10,criterion= 'gini',max_features = 'sqrt'), treino_adult, Y_treino, cv=10))"
   ]
  },
  {
   "cell_type": "code",
   "execution_count": 96,
   "id": "e91593b8",
   "metadata": {
    "execution": {
     "iopub.execute_input": "2022-12-20T17:55:25.207624Z",
     "iopub.status.busy": "2022-12-20T17:55:25.207207Z",
     "iopub.status.idle": "2022-12-20T17:55:25.212525Z",
     "shell.execute_reply": "2022-12-20T17:55:25.211308Z"
    },
    "papermill": {
     "duration": 0.060357,
     "end_time": "2022-12-20T17:55:25.214628",
     "exception": false,
     "start_time": "2022-12-20T17:55:25.154271",
     "status": "completed"
    },
    "tags": []
   },
   "outputs": [],
   "source": [
    "errorandom = mean(score4[0])"
   ]
  },
  {
   "cell_type": "markdown",
   "id": "d612a240",
   "metadata": {
    "papermill": {
     "duration": 0.049902,
     "end_time": "2022-12-20T17:55:25.314898",
     "exception": false,
     "start_time": "2022-12-20T17:55:25.264996",
     "status": "completed"
    },
    "tags": []
   },
   "source": [
    "Agora façamos a seleção do algoritmo com menor erro:"
   ]
  },
  {
   "cell_type": "code",
   "execution_count": 97,
   "id": "e4a84fe1",
   "metadata": {
    "execution": {
     "iopub.execute_input": "2022-12-20T17:55:25.418236Z",
     "iopub.status.busy": "2022-12-20T17:55:25.417622Z",
     "iopub.status.idle": "2022-12-20T17:55:25.422462Z",
     "shell.execute_reply": "2022-12-20T17:55:25.421660Z"
    },
    "papermill": {
     "duration": 0.058924,
     "end_time": "2022-12-20T17:55:25.424575",
     "exception": false,
     "start_time": "2022-12-20T17:55:25.365651",
     "status": "completed"
    },
    "tags": []
   },
   "outputs": [],
   "source": [
    "n=0\n",
    "erro=[errologistic,erroSVM,erroboosting,errorandom]\n",
    "for j in range(1,len(erro)):\n",
    "    if erro[j]> erro[n]:\n",
    "        n = j"
   ]
  },
  {
   "cell_type": "code",
   "execution_count": 98,
   "id": "c20ae49c",
   "metadata": {
    "execution": {
     "iopub.execute_input": "2022-12-20T17:55:25.527225Z",
     "iopub.status.busy": "2022-12-20T17:55:25.526798Z",
     "iopub.status.idle": "2022-12-20T17:55:25.533442Z",
     "shell.execute_reply": "2022-12-20T17:55:25.532251Z"
    },
    "papermill": {
     "duration": 0.060625,
     "end_time": "2022-12-20T17:55:25.535591",
     "exception": false,
     "start_time": "2022-12-20T17:55:25.474966",
     "status": "completed"
    },
    "tags": []
   },
   "outputs": [
    {
     "data": {
      "text/plain": [
       "2"
      ]
     },
     "execution_count": 98,
     "metadata": {},
     "output_type": "execute_result"
    }
   ],
   "source": [
    "n"
   ]
  },
  {
   "cell_type": "markdown",
   "id": "a8aed5a5",
   "metadata": {
    "papermill": {
     "duration": 0.050073,
     "end_time": "2022-12-20T17:55:25.635919",
     "exception": false,
     "start_time": "2022-12-20T17:55:25.585846",
     "status": "completed"
    },
    "tags": []
   },
   "source": [
    "Que corresponde ao classificador de boosting. Portanto, para essa base de dados, utilizando-se o critério de validação cruzada, podemos dizer que, entre os classificadores analisados, o de boosting é o mais eficiente."
   ]
  },
  {
   "cell_type": "markdown",
   "id": "173fe632",
   "metadata": {
    "papermill": {
     "duration": 0.049938,
     "end_time": "2022-12-20T17:55:25.736015",
     "exception": false,
     "start_time": "2022-12-20T17:55:25.686077",
     "status": "completed"
    },
    "tags": []
   },
   "source": [
    "Vamos treinar o classificador escolhido com todos os dados e utilizando os parâmetros que encontramos como os mais eficientes:"
   ]
  },
  {
   "cell_type": "code",
   "execution_count": 99,
   "id": "c9985f1a",
   "metadata": {
    "execution": {
     "iopub.execute_input": "2022-12-20T17:55:25.838848Z",
     "iopub.status.busy": "2022-12-20T17:55:25.837723Z",
     "iopub.status.idle": "2022-12-20T17:55:26.409660Z",
     "shell.execute_reply": "2022-12-20T17:55:26.408587Z"
    },
    "papermill": {
     "duration": 0.625711,
     "end_time": "2022-12-20T17:55:26.411849",
     "exception": false,
     "start_time": "2022-12-20T17:55:25.786138",
     "status": "completed"
    },
    "tags": []
   },
   "outputs": [
    {
     "data": {
      "text/plain": [
       "HistGradientBoostingClassifier(max_depth=4, random_state=0)"
      ]
     },
     "execution_count": 99,
     "metadata": {},
     "output_type": "execute_result"
    }
   ],
   "source": [
    "Boosting = HistGradientBoostingClassifier(random_state = 0,max_depth= 4,max_iter =  100,learning_rate = 0.1)\n",
    "Boosting.fit(treino_adult, Y_treino)"
   ]
  },
  {
   "cell_type": "markdown",
   "id": "32fa04fb",
   "metadata": {
    "papermill": {
     "duration": 0.050104,
     "end_time": "2022-12-20T17:55:26.512161",
     "exception": false,
     "start_time": "2022-12-20T17:55:26.462057",
     "status": "completed"
    },
    "tags": []
   },
   "source": [
    "Agora vamos produzir a saída como requerida:"
   ]
  },
  {
   "cell_type": "code",
   "execution_count": 100,
   "id": "06edcfd0",
   "metadata": {
    "execution": {
     "iopub.execute_input": "2022-12-20T17:55:26.614817Z",
     "iopub.status.busy": "2022-12-20T17:55:26.614091Z",
     "iopub.status.idle": "2022-12-20T17:55:26.671650Z",
     "shell.execute_reply": "2022-12-20T17:55:26.670696Z"
    },
    "papermill": {
     "duration": 0.111947,
     "end_time": "2022-12-20T17:55:26.674252",
     "exception": false,
     "start_time": "2022-12-20T17:55:26.562305",
     "status": "completed"
    },
    "tags": []
   },
   "outputs": [],
   "source": [
    "YtestPred = Boosting.predict(teste_adult)"
   ]
  },
  {
   "cell_type": "markdown",
   "id": "3ea368bf",
   "metadata": {
    "papermill": {
     "duration": 0.049916,
     "end_time": "2022-12-20T17:55:26.774579",
     "exception": false,
     "start_time": "2022-12-20T17:55:26.724663",
     "status": "completed"
    },
    "tags": []
   },
   "source": [
    "Vamos criar a saída padrão requisitada no desafio:"
   ]
  },
  {
   "cell_type": "code",
   "execution_count": 101,
   "id": "3d3ed0d9",
   "metadata": {
    "execution": {
     "iopub.execute_input": "2022-12-20T17:55:26.877832Z",
     "iopub.status.busy": "2022-12-20T17:55:26.876538Z",
     "iopub.status.idle": "2022-12-20T17:55:26.913346Z",
     "shell.execute_reply": "2022-12-20T17:55:26.912167Z"
    },
    "papermill": {
     "duration": 0.091046,
     "end_time": "2022-12-20T17:55:26.915904",
     "exception": false,
     "start_time": "2022-12-20T17:55:26.824858",
     "status": "completed"
    },
    "tags": []
   },
   "outputs": [
    {
     "data": {
      "text/html": [
       "<div>\n",
       "<style scoped>\n",
       "    .dataframe tbody tr th:only-of-type {\n",
       "        vertical-align: middle;\n",
       "    }\n",
       "\n",
       "    .dataframe tbody tr th {\n",
       "        vertical-align: top;\n",
       "    }\n",
       "\n",
       "    .dataframe thead th {\n",
       "        text-align: right;\n",
       "    }\n",
       "</style>\n",
       "<table border=\"1\" class=\"dataframe\">\n",
       "  <thead>\n",
       "    <tr style=\"text-align: right;\">\n",
       "      <th></th>\n",
       "      <th>income</th>\n",
       "    </tr>\n",
       "    <tr>\n",
       "      <th>id</th>\n",
       "      <th></th>\n",
       "    </tr>\n",
       "  </thead>\n",
       "  <tbody>\n",
       "    <tr>\n",
       "      <th>0</th>\n",
       "      <td>&lt;=50K</td>\n",
       "    </tr>\n",
       "    <tr>\n",
       "      <th>1</th>\n",
       "      <td>&gt;50K</td>\n",
       "    </tr>\n",
       "    <tr>\n",
       "      <th>2</th>\n",
       "      <td>&lt;=50K</td>\n",
       "    </tr>\n",
       "    <tr>\n",
       "      <th>3</th>\n",
       "      <td>&lt;=50K</td>\n",
       "    </tr>\n",
       "    <tr>\n",
       "      <th>4</th>\n",
       "      <td>&gt;50K</td>\n",
       "    </tr>\n",
       "    <tr>\n",
       "      <th>...</th>\n",
       "      <td>...</td>\n",
       "    </tr>\n",
       "    <tr>\n",
       "      <th>16275</th>\n",
       "      <td>&lt;=50K</td>\n",
       "    </tr>\n",
       "    <tr>\n",
       "      <th>16276</th>\n",
       "      <td>&lt;=50K</td>\n",
       "    </tr>\n",
       "    <tr>\n",
       "      <th>16277</th>\n",
       "      <td>&lt;=50K</td>\n",
       "    </tr>\n",
       "    <tr>\n",
       "      <th>16278</th>\n",
       "      <td>&lt;=50K</td>\n",
       "    </tr>\n",
       "    <tr>\n",
       "      <th>16279</th>\n",
       "      <td>&gt;50K</td>\n",
       "    </tr>\n",
       "  </tbody>\n",
       "</table>\n",
       "<p>16280 rows × 1 columns</p>\n",
       "</div>"
      ],
      "text/plain": [
       "      income\n",
       "id          \n",
       "0      <=50K\n",
       "1       >50K\n",
       "2      <=50K\n",
       "3      <=50K\n",
       "4       >50K\n",
       "...      ...\n",
       "16275  <=50K\n",
       "16276  <=50K\n",
       "16277  <=50K\n",
       "16278  <=50K\n",
       "16279   >50K\n",
       "\n",
       "[16280 rows x 1 columns]"
      ]
     },
     "execution_count": 101,
     "metadata": {},
     "output_type": "execute_result"
    }
   ],
   "source": [
    "resultado = pd.DataFrame(YtestPred,columns = ['income'])\n",
    "resultado.index.name = 'id'\n",
    "resultado.to_csv('submission.csv')\n",
    "resultado"
   ]
  }
 ],
 "metadata": {
  "kernelspec": {
   "display_name": "Python 3",
   "language": "python",
   "name": "python3"
  },
  "language_info": {
   "codemirror_mode": {
    "name": "ipython",
    "version": 3
   },
   "file_extension": ".py",
   "mimetype": "text/x-python",
   "name": "python",
   "nbconvert_exporter": "python",
   "pygments_lexer": "ipython3",
   "version": "3.7.12"
  },
  "papermill": {
   "default_parameters": {},
   "duration": 2021.440851,
   "end_time": "2022-12-20T17:55:27.794302",
   "environment_variables": {},
   "exception": null,
   "input_path": "__notebook__.ipynb",
   "output_path": "__notebook__.ipynb",
   "parameters": {},
   "start_time": "2022-12-20T17:21:46.353451",
   "version": "2.3.4"
  }
 },
 "nbformat": 4,
 "nbformat_minor": 5
}
